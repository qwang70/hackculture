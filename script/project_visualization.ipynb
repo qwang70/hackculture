{
 "cells": [
  {
   "cell_type": "markdown",
   "metadata": {},
   "source": [
    "## Q1: What is the salary distribution of one department?\n",
    "1. createSalaryCompareHist with one department\n",
    "\n",
    "## Q2: What is the salary distribution across several department?\n",
    "1. createSalaryCompareHist with more than one department\n",
    "\n",
    "## Q3: What is the size of the department across several department?\n",
    "1. createFigDiffDepAndCampus\n",
    "\n",
    "## Q4: List the median salary of all department/all job in a campus\n",
    "1. createFigListAllDepSalary"
   ]
  },
  {
   "cell_type": "code",
   "execution_count": 1,
   "metadata": {},
   "outputs": [
    {
     "data": {
      "application/javascript": [
       "window.genUID = function() {\n",
       "    return 'xxxxxxxx-xxxx-4xxx-yxxx-xxxxxxxxxxxx'.replace(/[xy]/g, function(c) {\n",
       "        var r = Math.random()*16|0, v = c == 'x' ? r : (r&0x3|0x8);\n",
       "        return v.toString(16);\n",
       "    });\n",
       "};\n",
       "\n",
       "\n",
       "define('graphWidget', [\"@jupyter-widgets/base\"], function (widget) {\n",
       "\n",
       "    var GraphView = widget.DOMWidgetView.extend({\n",
       "        render: function(){\n",
       "            var that = this;\n",
       "\n",
       "            var graphId = window.genUID();\n",
       "            var loadingId = 'loading-'+graphId;\n",
       "\n",
       "\n",
       "            var _graph_url = that.model.get('_graph_url');\n",
       "\n",
       "            // variable plotlyDomain in the case of enterprise\n",
       "            var url_parts = _graph_url.split('/');\n",
       "            var plotlyDomain = url_parts[0] + '//' + url_parts[2];\n",
       "\n",
       "            if(!('plotlyDomains' in window)){\n",
       "                window.plotlyDomains = {};\n",
       "            }\n",
       "            window.plotlyDomains[graphId] = plotlyDomain;\n",
       "\n",
       "            // Place IFrame in output cell div `$el`\n",
       "            that.$el.css('width', '100%');\n",
       "            that.$graph = $(['<iframe id=\"'+graphId+'\"',\n",
       "                             'src=\"'+_graph_url+'.embed\"',\n",
       "                             'seamless',\n",
       "                             'style=\"border: none;\"',\n",
       "                             'width=\"100%\"',\n",
       "                             'height=\"600\">',\n",
       "                             '</iframe>'].join(' '));\n",
       "            that.$graph.appendTo(that.$el);\n",
       "\n",
       "            that.$loading = $('<div id=\"'+loadingId+'\">Initializing...</div>')\n",
       "                            .appendTo(that.$el);\n",
       "\n",
       "            // for some reason the 'width' is being changed in IPython 3.0.0\n",
       "            // for the containing `div` element. There's a flicker here, but\n",
       "            // I was unable to fix it otherwise.\n",
       "            setTimeout(function ()  {\n",
       "                if (IPYTHON_VERSION === '3') {\n",
       "                    $('#' + graphId)[0].parentElement.style.width = '100%';\n",
       "                }\n",
       "            }, 500);\n",
       "\n",
       "            // initialize communication with the iframe\n",
       "            if(!('pingers' in window)){\n",
       "                window.pingers = {};\n",
       "            }\n",
       "\n",
       "            window.pingers[graphId] = setInterval(function() {\n",
       "                that.graphContentWindow = $('#'+graphId)[0].contentWindow;\n",
       "                that.graphContentWindow.postMessage({task: 'ping'}, plotlyDomain);\n",
       "            }, 200);\n",
       "\n",
       "            // Assign a message listener to the 'message' events\n",
       "            // from iframe's postMessage protocol.\n",
       "            // Filter the messages by iframe src so that the right message\n",
       "            // gets passed to the right widget\n",
       "            if(!('messageListeners' in window)){\n",
       "                 window.messageListeners = {};\n",
       "            }\n",
       "\n",
       "            window.messageListeners[graphId] = function(e) {\n",
       "                if(_graph_url.indexOf(e.origin)>-1) {\n",
       "                    var frame = document.getElementById(graphId);\n",
       "\n",
       "                    if(frame === null){\n",
       "                        // frame doesn't exist in the dom anymore, clean up it's old event listener\n",
       "                        window.removeEventListener('message', window.messageListeners[graphId]);\n",
       "                        clearInterval(window.pingers[graphId]);\n",
       "                    } else if(frame.contentWindow === e.source) {\n",
       "                        // TODO: Stop event propagation, so each frame doesn't listen and filter\n",
       "                        var frameContentWindow = $('#'+graphId)[0].contentWindow;\n",
       "                        var message = e.data;\n",
       "\n",
       "                        if('pong' in message && message.pong) {\n",
       "                            $('#loading-'+graphId).hide();\n",
       "                            clearInterval(window.pingers[graphId]);\n",
       "                            that.send({event: 'pong', graphId: graphId});\n",
       "                        } else if (message.type==='hover' ||\n",
       "                                   message.type==='zoom'  ||\n",
       "                                   message.type==='click' ||\n",
       "                                   message.type==='unhover') {\n",
       "\n",
       "                            // click and hover events contain all of the data in the traces,\n",
       "                            // which can be a very large object and may take a ton of time\n",
       "                            // to pass to the python backend. Strip out the data, and require\n",
       "                            // the user to call get_figure if they need trace information\n",
       "                            if(message.type !== 'zoom') {\n",
       "                                for(var i in message.points) {\n",
       "                                    delete message.points[i].data;\n",
       "                                    delete message.points[i].fullData;\n",
       "                                }\n",
       "                            }\n",
       "                            that.send({event: message.type, message: message, graphId: graphId});\n",
       "                        } else if (message.task === 'getAttributes') {\n",
       "                            that.send({event: 'getAttributes', response: message.response});\n",
       "                        }\n",
       "                    }\n",
       "                }\n",
       "            };\n",
       "\n",
       "            window.removeEventListener('message', window.messageListeners[graphId]);\n",
       "            window.addEventListener('message', window.messageListeners[graphId]);\n",
       "\n",
       "        },\n",
       "\n",
       "        update: function() {\n",
       "            // Listen for messages from the graph widget in python\n",
       "            var jmessage = this.model.get('_message');\n",
       "            var message = JSON.parse(jmessage);\n",
       "\n",
       "            // check for duplicate messages\n",
       "            if(!('messageIds' in window)){\n",
       "                window.messageIds = {};\n",
       "            }\n",
       "\n",
       "            if(!(message.uid in window.messageIds)){\n",
       "                // message hasn't been received yet, do stuff\n",
       "                window.messageIds[message.uid] = true;\n",
       "\n",
       "                if (message.fadeTo) {\n",
       "                    this.fadeTo(message);\n",
       "                } else {\n",
       "                    var plot = $('#' + message.graphId)[0].contentWindow;\n",
       "                    plot.postMessage(message, window.plotlyDomains[message.graphId]);\n",
       "                }\n",
       "            }\n",
       "\n",
       "            return GraphView.__super__.update.apply(this);\n",
       "        },\n",
       "\n",
       "        /**\n",
       "         * Wrapper for jquery's `fadeTo` function.\n",
       "         *\n",
       "         * @param message Contains the id we need to find the element.\n",
       "         */\n",
       "        fadeTo: function (message) {\n",
       "            var plot = $('#' + message.graphId);\n",
       "            plot.fadeTo(message.duration, message.opacity);\n",
       "        }\n",
       "    });\n",
       "\n",
       "    // Register the GraphView with the widget manager.\n",
       "    return {\n",
       "        GraphView: GraphView\n",
       "    }\n",
       "\n",
       "});\n",
       "\n",
       "//@ sourceURL=graphWidget.js\n"
      ],
      "text/plain": [
       "<IPython.core.display.Javascript object>"
      ]
     },
     "metadata": {},
     "output_type": "display_data"
    }
   ],
   "source": [
    "import numpy as np\n",
    "import pandas as pd\n",
    "import plotly\n",
    "import plotly.plotly as py\n",
    "from plotly.graph_objs import *\n",
    "import plotly.tools as tls\n",
    "\n",
    "from ipywidgets import widgets \n",
    "\n",
    "from IPython.display import display, clear_output, Image\n",
    "from plotly.widgets import GraphWidget\n",
    "\n",
    "plotly.tools.set_credentials_file(username='wangqiwen', api_key='8r40jKGvIemGyOP1PEZ1')"
   ]
  },
  {
   "cell_type": "code",
   "execution_count": 2,
   "metadata": {},
   "outputs": [
    {
     "name": "stdout",
     "output_type": "stream",
     "text": [
      "                             College            Campus  \\\n",
      "0      Agr, Consumer, & Env Sciences  Urbana-Champaign   \n",
      "1      Agr, Consumer, & Env Sciences  Urbana-Champaign   \n",
      "2      Agr, Consumer, & Env Sciences  Urbana-Champaign   \n",
      "3      Agr, Consumer, & Env Sciences  Urbana-Champaign   \n",
      "4      Agr, Consumer, & Env Sciences  Urbana-Champaign   \n",
      "5      Agr, Consumer, & Env Sciences  Urbana-Champaign   \n",
      "6      Agr, Consumer, & Env Sciences  Urbana-Champaign   \n",
      "7      Agr, Consumer, & Env Sciences  Urbana-Champaign   \n",
      "8      Agr, Consumer, & Env Sciences  Urbana-Champaign   \n",
      "9      Agr, Consumer, & Env Sciences  Urbana-Champaign   \n",
      "10     Agr, Consumer, & Env Sciences  Urbana-Champaign   \n",
      "11     Agr, Consumer, & Env Sciences  Urbana-Champaign   \n",
      "12     Agr, Consumer, & Env Sciences  Urbana-Champaign   \n",
      "13     Agr, Consumer, & Env Sciences  Urbana-Champaign   \n",
      "14     Agr, Consumer, & Env Sciences  Urbana-Champaign   \n",
      "15     Agr, Consumer, & Env Sciences  Urbana-Champaign   \n",
      "16     Agr, Consumer, & Env Sciences  Urbana-Champaign   \n",
      "17     Agr, Consumer, & Env Sciences  Urbana-Champaign   \n",
      "18     Agr, Consumer, & Env Sciences  Urbana-Champaign   \n",
      "19     Agr, Consumer, & Env Sciences  Urbana-Champaign   \n",
      "20     Agr, Consumer, & Env Sciences  Urbana-Champaign   \n",
      "21     Agr, Consumer, & Env Sciences  Urbana-Champaign   \n",
      "22     Agr, Consumer, & Env Sciences  Urbana-Champaign   \n",
      "23     Agr, Consumer, & Env Sciences  Urbana-Champaign   \n",
      "24     Agr, Consumer, & Env Sciences  Urbana-Champaign   \n",
      "25     Agr, Consumer, & Env Sciences  Urbana-Champaign   \n",
      "26     Agr, Consumer, & Env Sciences  Urbana-Champaign   \n",
      "27     Agr, Consumer, & Env Sciences  Urbana-Champaign   \n",
      "28     Agr, Consumer, & Env Sciences  Urbana-Champaign   \n",
      "29     Agr, Consumer, & Env Sciences  Urbana-Champaign   \n",
      "...                              ...               ...   \n",
      "5631  Vice Chanc for Student Affairs           Chicago   \n",
      "5632  Vice Chanc for Student Affairs           Chicago   \n",
      "5633  Vice Chanc for Student Affairs           Chicago   \n",
      "5634  Vice Chanc for Student Affairs           Chicago   \n",
      "5635  Vice Chanc for Student Affairs           Chicago   \n",
      "5636  Vice Chanc for Student Affairs           Chicago   \n",
      "5637  Vice Chanc for Student Affairs           Chicago   \n",
      "5638  Vice Chanc for Student Affairs           Chicago   \n",
      "5639  Vice Chanc for Student Affairs           Chicago   \n",
      "5640  Vice Chanc for Student Affairs           Chicago   \n",
      "5641  Vice Chanc for Student Affairs           Chicago   \n",
      "5642  Vice Chanc for Student Affairs           Chicago   \n",
      "5643  Vice Chanc for Student Affairs           Chicago   \n",
      "5644    Vice Chancellor for Research           Chicago   \n",
      "5645    Vice Chancellor for Research           Chicago   \n",
      "5646    Vice Chancellor for Research           Chicago   \n",
      "5647    Vice Chancellor for Research           Chicago   \n",
      "5648    Vice Chancellor for Research           Chicago   \n",
      "5649    Vice Chancellor for Research           Chicago   \n",
      "5650    Vice Chancellor for Research           Chicago   \n",
      "5651    Vice Chancellor for Research           Chicago   \n",
      "5652    Vice Chancellor for Research           Chicago   \n",
      "5653    Vice Chancellor for Research           Chicago   \n",
      "5654    Vice Chancellor for Research           Chicago   \n",
      "5655    Vice Chancellor for Research  Urbana-Champaign   \n",
      "5656    Vice Chancellor for Research  Urbana-Champaign   \n",
      "5657    Vice Chancellor for Research  Urbana-Champaign   \n",
      "5658    Vice Chancellor for Research  Urbana-Champaign   \n",
      "5659    Vice Chancellor for Research  Urbana-Champaign   \n",
      "5660    Vice Chancellor for Research  Urbana-Champaign   \n",
      "\n",
      "                          Department                  EmployeeName  \\\n",
      "0              ADM Institute for PHL                 Kumar, Deepak   \n",
      "1           Agr & Consumer Economics          Allen-Smith, Joyce E   \n",
      "2           Agr & Consumer Economics                   Ando, Amy W   \n",
      "3           Agr & Consumer Economics   Arends-Kuenning, Mary Paula   \n",
      "4           Agr & Consumer Economics           Baylis, Katherine R   \n",
      "5           Agr & Consumer Economics            Brozovic, Nicholas   \n",
      "6           Agr & Consumer Economics              Bullock, David S   \n",
      "7           Agr & Consumer Economics            Christensen, Peter   \n",
      "8           Agr & Consumer Economics               Crost, Benjamin   \n",
      "9           Agr & Consumer Economics              Dall'Erba, Sandy   \n",
      "10          Agr & Consumer Economics              Ellinger, Paul N   \n",
      "11          Agr & Consumer Economics               Ellison, Brenna   \n",
      "12          Agr & Consumer Economics               Endres, A Bryan   \n",
      "13          Agr & Consumer Economics              Fox, John Andrew   \n",
      "14          Agr & Consumer Economics                Garcia, Philip   \n",
      "15          Agr & Consumer Economics            Goldsmith, Peter D   \n",
      "16          Agr & Consumer Economics              Gramig, Benjamin   \n",
      "17          Agr & Consumer Economics              Gundersen, Craig   \n",
      "18          Agr & Consumer Economics           Hornbaker, Robert H   \n",
      "19          Agr & Consumer Economics                Irwin, Scott H   \n",
      "20          Agr & Consumer Economics                 Khanna, Madhu   \n",
      "21          Agr & Consumer Economics             Kirwan, Barrett E   \n",
      "22          Agr & Consumer Economics       Lyons, Angela Christine   \n",
      "23          Agr & Consumer Economics              Mallory, Mindy L   \n",
      "24          Agr & Consumer Economics              McNamara, Paul E   \n",
      "25          Agr & Consumer Economics             Michelson, Hope C   \n",
      "26          Agr & Consumer Economics                  Myers, Erica   \n",
      "27          Agr & Consumer Economics             Nelson, Charles H   \n",
      "28          Agr & Consumer Economics                   Onal, Hayri   \n",
      "29          Agr & Consumer Economics           Paulson, Nicholas D   \n",
      "...                              ...                           ...   \n",
      "5631          International Services                Ulrich, Travis   \n",
      "5632       Student Aff-Counseling Sv        Bratney, Caroline Rose   \n",
      "5633       Student Aff-Counseling Sv              Doshi, Rachana D   \n",
      "5634       Student Aff-Counseling Sv  Frank, Heather Leah Michelle   \n",
      "5635       Student Aff-Counseling Sv                Kramer, Brooke   \n",
      "5636       Student Aff-Counseling Sv             Neale, Benjamin H   \n",
      "5637       Student Aff-Counseling Sv       Niebes-Davis, Allison J   \n",
      "5638    Student Development Services               Little, Bernard   \n",
      "5639    Student Development Services                 Long, Spencer   \n",
      "5640    Student Development Services        O'Neill, Keith Brendan   \n",
      "5641    Student Development Services          Petersen, Carol Anne   \n",
      "5642    Student Development Services        Stewart, Jessica Elena   \n",
      "5643    Student Development Services             Vasquez, Philip L   \n",
      "5644   Biologic Resources Laboratory           Adams, Cynthia Rose   \n",
      "5645   Biologic Resources Laboratory            Coda, Kathleen Ann   \n",
      "5646   Biologic Resources Laboratory                  Dutton, John   \n",
      "5647   Biologic Resources Laboratory                Goldman, Julia   \n",
      "5648   Biologic Resources Laboratory      Greenstein, Abigail Wolf   \n",
      "5649   Biologic Resources Laboratory        Szilagyi, Keely Laurie   \n",
      "5650   Biologic Resources Laboratory             Thiede, Allison J   \n",
      "5651   Biologic Resources Laboratory                 Wolf, Abigail   \n",
      "5652   Inst/Environmntl Sci & Policy              Chopra, Shauhrat   \n",
      "5653  Office for the Pro of Res Subj           Joaquin, Jennifer V   \n",
      "5654                         Softech               Talandis, Jonas   \n",
      "5655   Agr Animal Care & Use Program           Shipley, Clifford F   \n",
      "5656     Division of Research Safety              Miller, Monica A   \n",
      "5657     Division of Research Safety              Scherer, David J   \n",
      "5658   Office of Corporate Relations                Puzey, Megan L   \n",
      "5659   Office of Corporate Relations          Rehberg, Katheryne J   \n",
      "5660   Office of Corporate Relations           Westerstahl, Olof P   \n",
      "\n",
      "               JobTitle             Tenure  Salary2013  Salary2014  \\\n",
      "0     POSTDOC RES ASSOC            No Info         NaN         NaN   \n",
      "1            ASSOC PROF  Indefinite Tenure    91479.00         NaN   \n",
      "2                  PROF  Indefinite Tenure    98403.00   112355.00   \n",
      "3            ASSOC PROF  Indefinite Tenure    90842.16    93059.16   \n",
      "4            ASSOC PROF  Indefinite Tenure    98025.00   101211.00   \n",
      "5            ASSOC PROF  Indefinite Tenure    92163.12         NaN   \n",
      "6                  PROF  Indefinite Tenure   110025.08   115611.08   \n",
      "7             ASST PROF  Probationary Term         NaN         NaN   \n",
      "8             ASST PROF  Probationary Term         NaN   112000.00   \n",
      "9            ASSOC PROF  Indefinite Tenure         NaN         NaN   \n",
      "10                 PROF  Indefinite Tenure   138234.00   143470.00   \n",
      "11            ASST PROF  Probationary Term    82000.00    84665.00   \n",
      "12                 PROF  Indefinite Tenure    96750.00   102703.00   \n",
      "13                 PROF  Indefinite Tenure         NaN         NaN   \n",
      "14                 PROF  Indefinite Tenure   133145.00   137797.00   \n",
      "15                 PROF  Indefinite Tenure    96171.08   100816.08   \n",
      "16           ASSOC PROF  Indefinite Tenure         NaN         NaN   \n",
      "17                 PROF  Indefinite Tenure   132800.00   142846.00   \n",
      "18           ASSOC PROF  Indefinite Tenure    74683.08         NaN   \n",
      "19                 PROF  Indefinite Tenure   184000.00   185020.00   \n",
      "20                 PROF  Indefinite Tenure   122524.07   131025.07   \n",
      "21            ASST PROF  Terminal Contract   102500.00   104294.00   \n",
      "22           ASSOC PROF  Indefinite Tenure    99088.00   100822.00   \n",
      "23           ASSOC PROF  Indefinite Tenure    88050.00    94208.00   \n",
      "24           ASSOC PROF  Indefinite Tenure   107500.00   111025.00   \n",
      "25            ASST PROF  Probationary Term         NaN    95000.00   \n",
      "26            ASST PROF  Probationary Term         NaN         NaN   \n",
      "27           ASSOC PROF  Indefinite Tenure    92656.08    95509.08   \n",
      "28                 PROF  Indefinite Tenure   110125.00   116153.00   \n",
      "29           ASSOC PROF  Indefinite Tenure    93605.00   103413.00   \n",
      "...                 ...                ...         ...         ...   \n",
      "5631          ASSOC DIR            No Info    62000.00    63550.00   \n",
      "5632  POSTDOC RES ASSOC            No Info         NaN         NaN   \n",
      "5633  POSTDOC RES ASSOC            No Info         NaN         NaN   \n",
      "5634  POSTDOC RES ASSOC            No Info    30000.00         NaN   \n",
      "5635  POSTDOC RES ASSOC            No Info         NaN         NaN   \n",
      "5636  POSTDOC RES ASSOC            No Info    30000.00         NaN   \n",
      "5637  POSTDOC RES ASSOC            No Info    30000.00         NaN   \n",
      "5638          ASSOC DIR            No Info         NaN         NaN   \n",
      "5639          ASSOC DIR            No Info         NaN         NaN   \n",
      "5640          ASSOC DIR            No Info    50000.00         NaN   \n",
      "5641          ASSOC DIR            No Info    51452.19    52867.13   \n",
      "5642          ASSOC DIR            No Info    51572.06    52990.29   \n",
      "5643          ASSOC DIR            No Info    52750.32    54200.95   \n",
      "5644  POSTDOC RES ASSOC            No Info    41233.00         NaN   \n",
      "5645  POSTDOC RES ASSOC            No Info         NaN         NaN   \n",
      "5646  POSTDOC RES ASSOC            No Info    41233.00    42470.00   \n",
      "5647  POSTDOC RES ASSOC            No Info    41233.00         NaN   \n",
      "5648  POSTDOC RES ASSOC            No Info         NaN         NaN   \n",
      "5649  POSTDOC RES ASSOC            No Info    41233.00    42470.00   \n",
      "5650  POSTDOC RES ASSOC            No Info    41233.00    42470.00   \n",
      "5651  POSTDOC RES ASSOC            No Info    41233.00    42470.00   \n",
      "5652  POSTDOC RES ASSOC            No Info         NaN         NaN   \n",
      "5653          ASSOC DIR            No Info         NaN         NaN   \n",
      "5654         SR RES SCI            No Info   121702.13         NaN   \n",
      "5655    CLIN ASSOC PROF            No Info   113100.00   115928.00   \n",
      "5656          ASSOC DIR            No Info   104274.00   107141.54   \n",
      "5657          ASSOC DIR            No Info   110973.00   114024.76   \n",
      "5658          ASSOC DIR            No Info         NaN         NaN   \n",
      "5659          ASSOC DIR            No Info         NaN         NaN   \n",
      "5660          ASSOC DIR            No Info         NaN    87864.00   \n",
      "\n",
      "      Salary2015  Salary2016  Salary2017  \n",
      "0            NaN    41683.00         NaN  \n",
      "1            NaN         NaN         NaN  \n",
      "2      115726.00   115726.00   134235.00  \n",
      "3       94920.16    94920.16    96534.16  \n",
      "4      111045.00   111045.00   117311.00  \n",
      "5            NaN         NaN         NaN  \n",
      "6      118617.08   118617.08   120705.08  \n",
      "7      104000.00   104000.00   105560.00  \n",
      "8      112000.00   112000.00   114016.00  \n",
      "9      110000.00   110000.00   112750.00  \n",
      "10     147337.00         NaN         NaN  \n",
      "11      90548.00    90548.00    95075.00  \n",
      "12     105784.00   105784.00   118886.00  \n",
      "13           NaN         NaN   155000.00  \n",
      "14     142083.00   142083.00   144640.00  \n",
      "15     103840.08   103840.08   106436.08  \n",
      "16           NaN         NaN   140000.00  \n",
      "17     147203.00   147203.00   167203.00  \n",
      "18           NaN         NaN         NaN  \n",
      "19     190966.00   190966.00   194785.00  \n",
      "20     163951.00   163951.00   167263.00  \n",
      "21     106901.00   106901.00         NaN  \n",
      "22     102082.00   102082.00   102848.00  \n",
      "23      99973.00    99973.00   109647.00  \n",
      "24     114353.00   114353.00   117212.00  \n",
      "25      97755.00    97755.00    99515.00  \n",
      "26     104000.00   104000.00   105560.00  \n",
      "27      97180.08    97180.08    98929.08  \n",
      "28     119347.00   119347.00   121495.00  \n",
      "29     107515.00   109515.00   112910.00  \n",
      "...          ...         ...         ...  \n",
      "5631    67998.50         NaN         NaN  \n",
      "5632         NaN         NaN    31000.00  \n",
      "5633    31000.00         NaN         NaN  \n",
      "5634         NaN         NaN         NaN  \n",
      "5635         NaN    31000.00         NaN  \n",
      "5636         NaN         NaN         NaN  \n",
      "5637         NaN         NaN         NaN  \n",
      "5638    55000.00         NaN         NaN  \n",
      "5639    55000.00    55000.00    56237.50  \n",
      "5640         NaN         NaN         NaN  \n",
      "5641    56567.83    56567.83    57840.61  \n",
      "5642    56699.61         NaN         NaN  \n",
      "5643    55555.97    55555.97    56667.09  \n",
      "5644         NaN         NaN         NaN  \n",
      "5645         NaN         NaN    47476.00  \n",
      "5646    43744.00         NaN         NaN  \n",
      "5647         NaN         NaN         NaN  \n",
      "5648    43744.00         NaN         NaN  \n",
      "5649         NaN         NaN         NaN  \n",
      "5650         NaN         NaN         NaN  \n",
      "5651         NaN         NaN         NaN  \n",
      "5652         NaN    50000.00    51000.00  \n",
      "5653         NaN         NaN    78000.00  \n",
      "5654         NaN         NaN         NaN  \n",
      "5655   115928.00         NaN         NaN  \n",
      "5656         NaN         NaN         NaN  \n",
      "5657   116875.38   116875.38   119212.89  \n",
      "5658         NaN         NaN    82000.00  \n",
      "5659         NaN    90000.00    91800.00  \n",
      "5660    90060.60    90060.60         NaN  \n",
      "\n",
      "[5661 rows x 11 columns]\n"
     ]
    }
   ],
   "source": [
    "# import csv data\n",
    "SalaryOverYears = pd.read_csv(\"https://raw.githubusercontent.com/qwang70/hackculture/master/csv/SalaryOverYears.csv\")\n",
    "print(SalaryOverYears)"
   ]
  },
  {
   "cell_type": "code",
   "execution_count": 5,
   "metadata": {},
   "outputs": [],
   "source": [
    "def getSalary(department, campus, year_col):\n",
    "    salary = SalaryOverYears.loc[\\\n",
    "                (SalaryOverYears['Department'] == department) \\\n",
    "                & (SalaryOverYears['Campus'] == campus), year_col].dropna()\n",
    "    return salary\n",
    "\n",
    "\n",
    "def createFigHist(departments, campus, year = 2017):\n",
    "    assert len(departments) == len(campus)\n",
    "    \n",
    "    # if year is a int, cast to a list\n",
    "    if type(year) is int:\n",
    "        year = [year]*len(campus)\n",
    "    else:\n",
    "        assert type(year) is list\n",
    "        assert len(year) == len(campus)\n",
    "        \n",
    "    # get the salary\n",
    "    data = []\n",
    "    for idx in range(len(departments)):\n",
    "        year_col = \"Salary\" + str(year[idx])\n",
    "        salary = getSalary(departments[idx], campus[idx], year_col)\n",
    "        data.append(Histogram(\n",
    "            x=salary,\n",
    "            histnorm='percent',\n",
    "            name=departments[idx],\n",
    "            opacity=0.75\n",
    "        ))\n",
    "\n",
    "    layout = Layout(\n",
    "        title='Salary Range of Faculty in {}'.format(' & '.join(departments)),\n",
    "        xaxis=dict(\n",
    "            title='Salary'\n",
    "        ),\n",
    "        yaxis=dict(\n",
    "            title='Percentage of Faculty'\n",
    "        ),\n",
    "        bargap=0.2,\n",
    "        bargroupgap=0.1\n",
    "    )\n",
    "    fig = Figure(data=data, layout=layout)\n",
    "    return fig\n",
    "\n",
    "def createFigDiffDepAndCampus(departments, campus, year=2017):\n",
    "    assert len(departments) == len(campus)\n",
    "    \n",
    "    # if year is a int, cast to a list\n",
    "    if type(year) is int:\n",
    "        year = [year]*len(campus)\n",
    "    else:\n",
    "        assert type(year) is list\n",
    "        assert len(year) == len(campus)\n",
    "        \n",
    "    # get the salary\n",
    "    populationSize = []\n",
    "    labels = []\n",
    "    medians = []\n",
    "    for idx in range(len(departments)):\n",
    "        year_col = \"Salary\" + str(year[idx])\n",
    "        salary = getSalary(departments[idx], campus[idx], year_col)\n",
    "        populationSize.append(len(salary))\n",
    "        median = salary.median()\n",
    "        medians.append(int(median))\n",
    "        labels.append('{} - {}'.format(campus[idx], departments[idx]))\n",
    "    # parameters used to create graph\n",
    "        \n",
    "    population_bar = Bar(\n",
    "            x = labels,\n",
    "            y = populationSize,  \n",
    "            name=\"population size\",       \n",
    "            opacity=0.75,    \n",
    "           )\n",
    "    salary_scatter = Scatter(\n",
    "            x = labels,\n",
    "            y = medians,\n",
    "            name=\"median salary\",\n",
    "            # marker + lines\n",
    "            mode = 'lines+markers',\n",
    "            line = dict(\n",
    "                width = 4,),\n",
    "            yaxis='y2',           \n",
    "            opacity=0.75\n",
    ")\n",
    "    layout = Layout(\n",
    "        title= \"Number of Faculty and Median Salary in the Dataset\",\n",
    "        xaxis=dict(\n",
    "            title='Department',\n",
    "        ),\n",
    "        yaxis=dict(\n",
    "            title='Number of Faculty'\n",
    "        ),\n",
    "        yaxis2=dict(\n",
    "            title='Median Salary',\n",
    "            overlaying='y',\n",
    "            side='right',\n",
    "            \n",
    "            # label color\n",
    "            titlefont=dict(\n",
    "                color='#ff7f0e'\n",
    "            ),\n",
    "            tickfont=dict(\n",
    "                color='#ff7f0e'\n",
    "            ),\n",
    "        ),\n",
    "        margin=Margin(\n",
    "         b=160,\n",
    "        ),\n",
    "    )\n",
    "    fig = Figure(data=[population_bar, salary_scatter], layout=layout)\n",
    "    return fig\n",
    "    \n",
    "def createAllDepSalaryTrace(campus = \"Urbana-Champaign\", year = 2017, top = None):\n",
    "    year_col = \"Salary\" + str(year)\n",
    "    \n",
    "    \n",
    "    # get the median salary of each department\n",
    "    gb = SalaryOverYears.loc[SalaryOverYears['Campus'] == campus, [\"Department\", year_col]].dropna()\\\n",
    "                .groupby(['Department'])\n",
    "    agg_df = gb.agg(['median', 'count'])\n",
    "    agg_df = agg_df[agg_df[(year_col, 'count')] > 5]\n",
    "    sorted_depMedian = agg_df.sort_values((year_col, 'median'), ascending = False)\n",
    "    x = sorted_depMedian[(year_col, 'median')].tolist()\n",
    "    y = sorted_depMedian.index.tolist()\n",
    "        \n",
    "    # select top subset elements\n",
    "    if top:\n",
    "        x = x[:top]\n",
    "        y = y[:top]\n",
    "\n",
    "    x.reverse()\n",
    "    y.reverse()\n",
    "    return Bar(\n",
    "        y=y,\n",
    "        x=x,\n",
    "        name='Median Salary',\n",
    "        orientation = 'h',\n",
    "        opacity=0.75\n",
    "    )\n",
    "\n",
    "def createFigListAllDepSalary(campus = \"Urbana-Champaign\", year = 2017, top = None):\n",
    "    assert year >= 2013 and year <= 2017\n",
    "    \n",
    "    trace1 = createAllDepSalaryTrace(top=top)\n",
    "    trace2 = createAllDepSalaryTrace(\"Chicago\", year, top=top)\n",
    "    trace3 = createAllDepSalaryTrace(\"Springfield\", year, top=top)\n",
    "\n",
    "    fig = tls.make_subplots(rows=3, cols=1, shared_xaxes=True, vertical_spacing = 0.05,\\\n",
    "              subplot_titles=('{} Median Salary of Faculty Members in Urbana-Champaign'.format(year), \\\n",
    "                              '{} Median Salary of Faculty Members in Chicago'.format(year), \\\n",
    "                              '{} Median Salary of Faculty Members in Springfield'.format(year)))\n",
    "\n",
    "    fig.append_trace(trace1, 1, 1)\n",
    "    fig.append_trace(trace2, 2, 1)\n",
    "    fig.append_trace(trace3, 3, 1)\n",
    "\n",
    "    fig['layout'].update( \\\n",
    "        height=1200, width=600,\n",
    "        margin=Margin(\\\n",
    "            l=180, \\\n",
    "            pad=5,\n",
    "            ),\\\n",
    "        showlegend=False,)\n",
    "    return fig\n",
    "        \n",
    "def createAllDepJobSalaryTrace(campus = \"Urbana-Champaign\", year = 2017, job = \"ASST PROF\", top = None):\n",
    "    year_col = \"Salary\" + str(year)\n",
    "    \n",
    "    # get the median salary of each job & departmentdepartment\n",
    "    gb = SalaryOverYears.loc[\\\n",
    "             (SalaryOverYears['Campus'] == campus) & (SalaryOverYears['JobTitle'] == job), \\\n",
    "             [\"Department\",year_col]].dropna()\\\n",
    "            .groupby(['Department'])\n",
    "    agg_df = gb.agg(['median', 'count'])\n",
    "    agg_df = agg_df[agg_df[(year_col, 'count')] > 2]\n",
    "    sorted_depMedian = agg_df.sort_values((year_col, 'median'), ascending = False)\n",
    "    x = sorted_depMedian[(year_col, 'median')].tolist()\n",
    "    y = sorted_depMedian.index.tolist()\n",
    "\n",
    "    # select top subset elements\n",
    "    if top:\n",
    "        x = x[:top]\n",
    "        y = y[:top]\n",
    "\n",
    "    x.reverse()\n",
    "    y.reverse()\n",
    "    return Bar(\n",
    "        y=y,\n",
    "        x=x,\n",
    "        name='Median Salary',\n",
    "        orientation = 'h',\n",
    "\n",
    "        marker=dict(\n",
    "            color='rgba(50, 171, 96, 0.7)',\n",
    "            line=dict(\n",
    "                color='rgba(50, 171, 96, 1.0)',\n",
    "            )\n",
    "        ),\n",
    "        opacity=0.75\n",
    "    )\n",
    "\n",
    "def createFigListAllDepJobSalary(year = 2017, job = \"ASST PROF\", top = None):\n",
    "    trace1 = createAllDepJobSalaryTrace(top=top)\n",
    "    trace2 = createAllDepJobSalaryTrace(\"Chicago\", year, job, top=top)\n",
    "    trace3 = createAllDepJobSalaryTrace(\"Springfield\", year, job, top=top)\n",
    "\n",
    "    fig = tls.make_subplots(rows=3, cols=1, shared_xaxes=True, vertical_spacing = 0.05, \\\n",
    "                          subplot_titles=('{} Median Salary of {} in Urbana-Champaign'.format(year, job), \\\n",
    "                                          '{} Median Salary of {} in Chicago'.format(year, job), \\\n",
    "                                          '{} Median Salary of {} in Springfield'.format(year, job)))\n",
    "\n",
    "    fig.append_trace(trace1, 1, 1)\n",
    "    fig.append_trace(trace2, 2, 1)\n",
    "    fig.append_trace(trace3, 3, 1)\n",
    "\n",
    "    fig['layout'].update( \\\n",
    "        height=1200, width=600,\n",
    "        margin=Margin(\\\n",
    "            l=180, \\\n",
    "            pad=5,\n",
    "            ),\\\n",
    "        showlegend=False,\n",
    "        )\n",
    "    return fig\n"
   ]
  },
  {
   "cell_type": "code",
   "execution_count": 6,
   "metadata": {},
   "outputs": [],
   "source": [
    "# define widgets\n",
    "def createIntSliderForYear():\n",
    "    return widgets.IntSlider(\n",
    "        value=2017,\n",
    "        min=2013,\n",
    "        max=2017,\n",
    "        step=1,\n",
    "        description='Year:',\n",
    "        continuous_update = False\n",
    "    )\n",
    "\n",
    "def createTextBoxForDep(v=\"Mathematics\"):\n",
    "    return widgets.Text(\n",
    "        description='Department:   ',\n",
    "        value=v,\n",
    "    )\n",
    "\n",
    "def createDropDownForCampus():\n",
    "    return widgets.Dropdown(\n",
    "        options=[\"Chicago\", \"Springfield\", \"Urbana-Champaign\"],\n",
    "        value='Urbana-Champaign',\n",
    "        description='Campus:',\n",
    "    )\n",
    "\n",
    "def createBundle(v=\"Mathematics\"):\n",
    "    return [ createDropDownForCampus(), createTextBoxForDep(v), createIntSliderForYear()]\n",
    "\n",
    "\n",
    "# for job select widget\n",
    "def createDropDownForJobs():\n",
    "    jobs = ['PROF', 'ASSOC PROF', 'ASST PROF', 'LECTURER', 'ASSOC DIR',\n",
    "       'CLIN ASST PROF', 'SR LECTURER', 'RES SCI', 'RES ASST PROF',\n",
    "       'SR RES SCI', 'POSTDOC RES ASSOC', 'CLIN PROF',\n",
    "       'ASSOC PROF UNIV LIBRARY', 'ASST PROF UNIV LIBRARY', 'DEAN',\n",
    "       'JL DOOB RES ASST PROF', 'CLIN ASSOC PROF', 'VST ASST PROF',\n",
    "       'RES ASSOC PROF', 'ASST DEAN', 'RES PROF', 'PROF (RT)']\n",
    "    return widgets.Dropdown(\n",
    "        options=jobs,\n",
    "        value='ASST PROF',\n",
    "        description='Job Title:',\n",
    "    )\n",
    "\n",
    "\n",
    "def createIntTop():\n",
    "    return widgets.IntText(\n",
    "        value=10,\n",
    "        description='Top X:',\n",
    "        disabled=False\n",
    "    )"
   ]
  },
  {
   "cell_type": "code",
   "execution_count": 5,
   "metadata": {},
   "outputs": [
    {
     "data": {
      "application/vnd.jupyter.widget-view+json": {
       "model_id": "68f1c1e0a8654f6fbdc9dccbc7fe54f3",
       "version_major": 2,
       "version_minor": 0
      },
      "text/plain": [
       "HBox(children=(Dropdown(description='Campus:', index=2, options=('Chicago', 'Springfield', 'Urbana-Champaign')…"
      ]
     },
     "metadata": {},
     "output_type": "display_data"
    },
    {
     "data": {
      "application/vnd.jupyter.widget-view+json": {
       "model_id": "405db47350734250877f24191481066d",
       "version_major": 2,
       "version_minor": 0
      },
      "text/plain": [
       "GraphWidget()"
      ]
     },
     "metadata": {},
     "output_type": "display_data"
    }
   ],
   "source": [
    "# fig = createFigHist(['Information Sciences'], year = 2017)\n",
    "# salaryHist = py.iplot(fig, filename='salaryHist')\n",
    "# salaryHist_url = salaryHist.resource\n",
    "\n",
    "# import fig\n",
    "salaryHist_url = \"https://plot.ly/~wangqiwen/22/salary-range-of-faculty-in-information-sciences/\"\n",
    "# Assign an emptry graph widget with two traces\n",
    "g_salary_dist = GraphWidget(salaryHist_url)\n",
    "\n",
    "# the widget for the distribution of the salary\n",
    "salary_dist_year_container = createIntSliderForYear()\n",
    "\n",
    "salary_dist_department_one_textbox = createTextBoxForDep()\n",
    "\n",
    "salary_dist_campus_dropdown = createDropDownForCampus()\n",
    "\n",
    "\n",
    "def response_salary_dist(change):\n",
    "    year = salary_dist_year_container.value\n",
    "    department = [salary_dist_department_one_textbox.value]\n",
    "    campus = [salary_dist_campus_dropdown.value]\n",
    "    fig = createFigHist(department, campus=campus, year=year)\n",
    "    if len(fig.data[0].x) > 0:\n",
    "        g_salary_dist.restyle({'x': [list(fig.data[0].x)], \"name\": fig.data[0].name})\n",
    "        g_salary_dist.relayout(fig.layout)\n",
    "\n",
    "# invoke changes\n",
    "salary_dist_year_container.observe(response_salary_dist, names=\"value\")\n",
    "salary_dist_department_one_textbox.observe(response_salary_dist, names=\"value\")\n",
    "salary_dist_campus_dropdown.observe(response_salary_dist, names=\"value\")\n",
    "\n",
    "# define layout container\n",
    "salary_dist_container = widgets.HBox([salary_dist_campus_dropdown, salary_dist_department_one_textbox, salary_dist_year_container])\n",
    "display(salary_dist_container)\n",
    "display(g_salary_dist)"
   ]
  },
  {
   "cell_type": "code",
   "execution_count": 6,
   "metadata": {},
   "outputs": [
    {
     "data": {
      "application/vnd.jupyter.widget-view+json": {
       "model_id": "ae80962914474f6ab908deb9aff7dab5",
       "version_major": 2,
       "version_minor": 0
      },
      "text/plain": [
       "Tab(children=(HBox(children=(Dropdown(description='Campus:', index=2, options=('Chicago', 'Springfield', 'Urba…"
      ]
     },
     "metadata": {},
     "output_type": "display_data"
    },
    {
     "data": {
      "application/vnd.jupyter.widget-view+json": {
       "model_id": "cc4f926e947e454a8fa2c955450aadb4",
       "version_major": 2,
       "version_minor": 0
      },
      "text/plain": [
       "GraphWidget()"
      ]
     },
     "metadata": {},
     "output_type": "display_data"
    }
   ],
   "source": [
    "# call the create fig function\n",
    "# fig = createFigHist(['Information Sciences', 'Computer Science'])\n",
    "# py.iplot(fig, filename='salaryHist3')\n",
    "\n",
    "# import graph\n",
    "salary_compare_url = \"https://plot.ly/~wangqiwen/8/salary-range-of-faculty-in-mathematics-information-sciences/\"\n",
    "g_salary_compare = GraphWidget(salary_compare_url)\n",
    "\n",
    "# create widget\n",
    "tab_contents = ['Department 1', 'Department 2']\n",
    "\n",
    "bundleList = [createBundle(\"Mathematics\"), createBundle(\"Information Sciences\")]\n",
    "children = [widgets.HBox(b) for b in bundleList]\n",
    "tab = widgets.Tab()\n",
    "tab.children = children\n",
    "for i in range(len(children)):\n",
    "    tab.set_title(i, tab_contents[i])\n",
    "\n",
    "def response_salary_compare(change):\n",
    "    # initialize\n",
    "    campus = []\n",
    "    departments = []\n",
    "    years = []\n",
    "\n",
    "    for bundle in bundleList:\n",
    "        if(len(bundle[1].value)):\n",
    "            campus.append(bundle[0].value)\n",
    "            departments.append(bundle[1].value)\n",
    "            years.append(bundle[2].value)\n",
    "    fig = createFigHist(departments, campus=campus, year=years)\n",
    "    if len(fig.data) == 2 and len(fig.data[0].x) > 0 and len(fig.data[1].x) > 0:\n",
    "        for idx in range(len(fig.data)):\n",
    "            g_salary_compare.restyle({'x': [list(fig.data[idx].x)], \"name\": fig.data[idx].name}, indices = idx)\n",
    "        g_salary_compare.relayout(fig.layout)\n",
    "\n",
    "# invoke changes\n",
    "for bundle in bundleList:\n",
    "    for ele in bundle:\n",
    "        ele.observe(response_salary_compare, names=\"value\")\n",
    "\n",
    "# display\n",
    "display(tab)\n",
    "\n",
    "display(g_salary_compare)"
   ]
  },
  {
   "cell_type": "code",
   "execution_count": 7,
   "metadata": {},
   "outputs": [
    {
     "data": {
      "application/vnd.jupyter.widget-view+json": {
       "model_id": "f0cae3cb7c524bfe92d68dd9a9be68b2",
       "version_major": 2,
       "version_minor": 0
      },
      "text/plain": [
       "GraphWidget()"
      ]
     },
     "metadata": {},
     "output_type": "display_data"
    }
   ],
   "source": [
    "# Q3: What is the size of Computer Science Science department across UIC, UIS, UIUC?\n",
    "# fig = createFigDiffDepAndCampus(['History']*3, \\\n",
    "#                          [\"Chicago\", \"Springfield\", \"Urbana-Champaign\"], year=2017)\n",
    "# py.iplot(fig, filename='salaryCampus')\n",
    "\n",
    "# import graph\n",
    "salary_population_history = \"https://plot.ly/~wangqiwen/14\"\n",
    "g_salary_population_history = GraphWidget(salary_population_history)\n",
    "display(g_salary_population_history)"
   ]
  },
  {
   "cell_type": "code",
   "execution_count": 4,
   "metadata": {},
   "outputs": [
    {
     "data": {
      "text/html": [
       "<iframe id=\"igraph\" scrolling=\"no\" style=\"border:none;\" seamless=\"seamless\" src=\"https://plot.ly/~wangqiwen/24.embed\" height=\"525px\" width=\"100%\"></iframe>"
      ],
      "text/plain": [
       "<plotly.tools.PlotlyDisplay object>"
      ]
     },
     "execution_count": 4,
     "metadata": {},
     "output_type": "execute_result"
    }
   ],
   "source": [
    "# Q3: What is the size of Information Science department across UIC, UIS, UIUC?\n",
    "#fig = createFigDiffDepAndCampus(\\\n",
    "#        [\"Management Information Systems\", \"Information/Decision Sciences\", \"Information Sciences\"], \\\n",
    "#        [\"Springfield\", \"Chicago\", \"Urbana-Champaign\"], year=2017)\n",
    "#py.iplot(fig, filename='salaryCampus')\n",
    "\n",
    "# import graph\n",
    "salary_population_is = \"https://plot.ly/~wangqiwen/24\"\n",
    "g_salary_population_is = GraphWidget(salary_population_is)\n",
    "display(g_salary_population_is)"
   ]
  },
  {
   "cell_type": "code",
   "execution_count": 7,
   "metadata": {
    "scrolled": true
   },
   "outputs": [
    {
     "data": {
      "application/vnd.jupyter.widget-view+json": {
       "model_id": "02e5933ce1ee4f24bff1a03ae2500d90",
       "version_major": 2,
       "version_minor": 0
      },
      "text/plain": [
       "GraphWidget()"
      ]
     },
     "metadata": {},
     "output_type": "display_data"
    }
   ],
   "source": [
    "# fig = createFigListAllDepSalary(top = 10)\n",
    "# py.iplot(fig, filename='listSalaryBar')\n",
    "\n",
    "# import graph\n",
    "list_dep_salary = \"https://plot.ly/~wangqiwen/18/median-salary-median-salary-median-salary/\"\n",
    "g_list_dep_salary = GraphWidget(list_dep_salary)\n",
    "display(g_list_dep_salary)"
   ]
  },
  {
   "cell_type": "code",
   "execution_count": 8,
   "metadata": {
    "scrolled": true
   },
   "outputs": [
    {
     "data": {
      "application/vnd.jupyter.widget-view+json": {
       "model_id": "67208dbed2a248d79afe7a57bba014e7",
       "version_major": 2,
       "version_minor": 0
      },
      "text/plain": [
       "HBox(children=(Dropdown(description='Job Title:', index=2, options=('PROF', 'ASSOC PROF', 'ASST PROF', 'LECTUR…"
      ]
     },
     "metadata": {},
     "output_type": "display_data"
    },
    {
     "data": {
      "application/vnd.jupyter.widget-view+json": {
       "model_id": "90903aeeca564c44a8308af33715e360",
       "version_major": 2,
       "version_minor": 0
      },
      "text/plain": [
       "GraphWidget()"
      ]
     },
     "metadata": {},
     "output_type": "display_data"
    }
   ],
   "source": [
    "#fig = createFigListAllDepJobSalary(top = 10)\n",
    "#py.iplot(fig, filename='listSalaryBarJob')\n",
    "\n",
    "\n",
    "# import graph\n",
    "list_dep_job_salary = \"https://plot.ly/~wangqiwen/20/median-salary-median-salary-median-salary/\"\n",
    "g_list_dep_job_salary = GraphWidget(list_dep_job_salary)\n",
    "\n",
    "def response_job(change):\n",
    "    year = salary_job_year_slider.value\n",
    "    job = salary_job_dropdown.value\n",
    "    top = salary_job_top.value\n",
    "    \n",
    "    # traces\n",
    "    trace1 = createAllDepJobSalaryTrace(year=year, job=job, top=top)\n",
    "    trace2 = createAllDepJobSalaryTrace(\"Chicago\", year=year, job=job, top=top)\n",
    "    trace3 = createAllDepJobSalaryTrace(\"Springfield\", year=year, job=job, top=top)\n",
    "    \n",
    "    # update subplot titles\n",
    "    subplot_titles=('{} Median Salary of {} in Urbana-Champaign'.format(year, job), \\\n",
    "                  '{} Median Salary of {} in Chicago'.format(year, job), \\\n",
    "                  '{} Median Salary of {} in Springfield'.format(year, job))\n",
    "    \n",
    "    # update style and layout\n",
    "    g_list_dep_job_salary.restyle({'x': [list(trace1.x)], 'y': [list(trace1.y)]}, indices = [0])\n",
    "    g_list_dep_job_salary.restyle({'x': [list(trace2.x)], 'y': [list(trace2.y)]}, indices = [1])\n",
    "    g_list_dep_job_salary.restyle({'x': [list(trace3.x)], 'y': [list(trace3.y)]}, indices = [2])\n",
    "    g_list_dep_job_salary.relayout({'annotations[0].text': subplot_titles[0], \\\n",
    "                                    'annotations[1].text': subplot_titles[1], \\\n",
    "                                    'annotations[2].text': subplot_titles[2],})\n",
    "\n",
    "# define layout container\n",
    "salary_job_dropdown = createDropDownForJobs()\n",
    "salary_job_year_slider = createIntSliderForYear()\n",
    "salary_job_top = createIntTop()\n",
    "salary_job_container = widgets.HBox([salary_job_dropdown, salary_job_year_slider, salary_job_top])\n",
    "\n",
    "# invoke changes\n",
    "salary_job_dropdown.observe(response_job, names=\"value\")\n",
    "salary_job_year_slider.observe(response_job, names=\"value\")\n",
    "salary_job_top.observe(response_job, names=\"value\")\n",
    "\n",
    "\n",
    "display(salary_job_container)\n",
    "display(g_list_dep_job_salary)\n"
   ]
  },
  {
   "cell_type": "code",
   "execution_count": null,
   "metadata": {},
   "outputs": [],
   "source": []
  }
 ],
 "metadata": {
  "kernelspec": {
   "display_name": "Python 3",
   "language": "python",
   "name": "python3"
  },
  "language_info": {
   "codemirror_mode": {
    "name": "ipython",
    "version": 3
   },
   "file_extension": ".py",
   "mimetype": "text/x-python",
   "name": "python",
   "nbconvert_exporter": "python",
   "pygments_lexer": "ipython3",
   "version": "3.6.4"
  },
  "widgets": {
   "application/vnd.jupyter.widget-state+json": {
    "state": {
     "000696a67f19423ca2daa5f02b492435": {
      "model_module": "@jupyter-widgets/base",
      "model_module_version": "1.0.0",
      "model_name": "LayoutModel",
      "state": {}
     },
     "003729c889ab4b2d8685e0a35b00bf2e": {
      "model_module": "@jupyter-widgets/base",
      "model_module_version": "1.0.0",
      "model_name": "LayoutModel",
      "state": {}
     },
     "0058f2f6bcee4d9584d5913433e57c13": {
      "model_module": "@jupyter-widgets/base",
      "model_module_version": "1.0.0",
      "model_name": "LayoutModel",
      "state": {}
     },
     "005a3a2031444b3ebead7261098a8352": {
      "model_module": "@jupyter-widgets/base",
      "model_module_version": "1.0.0",
      "model_name": "LayoutModel",
      "state": {}
     },
     "005e433d12f5486686c520f95eae6c02": {
      "model_module": "@jupyter-widgets/base",
      "model_module_version": "1.0.0",
      "model_name": "LayoutModel",
      "state": {}
     },
     "0082ef222a4a49caa106fe856cb523ba": {
      "model_module": "@jupyter-widgets/controls",
      "model_module_version": "1.2.0",
      "model_name": "DescriptionStyleModel",
      "state": {
       "description_width": ""
      }
     },
     "009421578f074c3f9f2dce7ecfff3aa1": {
      "model_module": "@jupyter-widgets/base",
      "model_module_version": "1.0.0",
      "model_name": "LayoutModel",
      "state": {}
     },
     "009791e43abf4f048ef5e7dd55c1ea6a": {
      "model_module": "@jupyter-widgets/controls",
      "model_module_version": "1.2.0",
      "model_name": "IntSliderModel",
      "state": {
       "continuous_update": false,
       "description": "Year:",
       "layout": "IPY_MODEL_ea0f8c52a37e4e1ca802ceba7f9e740f",
       "max": 2017,
       "min": 2013,
       "style": "IPY_MODEL_a91040c1080d4c41a7174dcef4f97037",
       "value": 2017
      }
     },
     "01002ea9ed2d4334836ffa54361f6435": {
      "model_module": "@jupyter-widgets/controls",
      "model_module_version": "1.2.0",
      "model_name": "SliderStyleModel",
      "state": {
       "description_width": ""
      }
     },
     "013e9792d0394688863e07681ed3e57e": {
      "model_module": "@jupyter-widgets/controls",
      "model_module_version": "1.2.0",
      "model_name": "DescriptionStyleModel",
      "state": {
       "description_width": ""
      }
     },
     "0152aecec290489a93bcb2d6fa321ff1": {
      "model_module": "@jupyter-widgets/controls",
      "model_module_version": "1.2.0",
      "model_name": "DropdownModel",
      "state": {
       "_options_labels": [
        "Chicago",
        "Springfield",
        "Urbana-Champaign"
       ],
       "description": "Campus:",
       "index": 2,
       "layout": "IPY_MODEL_e1dba3d94f1f40a8ab8ccfe0e2c29104",
       "style": "IPY_MODEL_3089ce9f3c1d4edc8fc55a7518102bb8"
      }
     },
     "015aef1c2a4442ba81b0e6bb068f1214": {
      "model_module": "@jupyter-widgets/controls",
      "model_module_version": "1.2.0",
      "model_name": "DescriptionStyleModel",
      "state": {
       "description_width": ""
      }
     },
     "015fd2d8d60243b0911eb7c9fd865c61": {
      "model_module": "@jupyter-widgets/controls",
      "model_module_version": "1.2.0",
      "model_name": "HBoxModel",
      "state": {
       "children": [
        "IPY_MODEL_955d4d8457de4c6c96eda22680d26749",
        "IPY_MODEL_18becb5ebb69410a8e0e6f41b5346a66",
        "IPY_MODEL_6ebce692773d4172aae7c9cdc4aa9616"
       ],
       "layout": "IPY_MODEL_06c9044dfdb04e99b00bc0c7ddab1ad1"
      }
     },
     "016d376314e34c3e90f46884726a96ee": {
      "model_module": "@jupyter-widgets/controls",
      "model_module_version": "1.2.0",
      "model_name": "IntSliderModel",
      "state": {
       "continuous_update": false,
       "description": "Year:",
       "layout": "IPY_MODEL_c7ecd6a893e24d77b56b6be30facf8ce",
       "max": 2017,
       "min": 2013,
       "style": "IPY_MODEL_3c528128d4c0453284551a0b755152e5",
       "value": 2015
      }
     },
     "017b446fc7ad47ccb96eddd0e7a95b60": {
      "model_module": "@jupyter-widgets/base",
      "model_module_version": "1.0.0",
      "model_name": "LayoutModel",
      "state": {}
     },
     "017b67dacf3247a4bd639a6958f1ea1a": {
      "model_module": "@jupyter-widgets/controls",
      "model_module_version": "1.2.0",
      "model_name": "IntSliderModel",
      "state": {
       "continuous_update": false,
       "description": "Year:",
       "layout": "IPY_MODEL_f7999688f5814af7839ff58adbc94b2c",
       "max": 2017,
       "min": 2013,
       "style": "IPY_MODEL_0bab3a1ddf7a49dd9761b6aa4a1af200",
       "value": 2017
      }
     },
     "0182d666593c41d7b9c54aa2e91727e3": {
      "model_module": "@jupyter-widgets/base",
      "model_module_version": "1.0.0",
      "model_name": "LayoutModel",
      "state": {}
     },
     "0197d651b29b432cbce7f970258adfab": {
      "model_module": "@jupyter-widgets/controls",
      "model_module_version": "1.2.0",
      "model_name": "DescriptionStyleModel",
      "state": {
       "description_width": ""
      }
     },
     "01a1099ea889496e808f6d2086ad67ab": {
      "model_module": "@jupyter-widgets/base",
      "model_module_version": "1.0.0",
      "model_name": "LayoutModel",
      "state": {}
     },
     "01c4a423a75b4e92965dfd75079e55d0": {
      "model_module": "@jupyter-widgets/controls",
      "model_module_version": "1.2.0",
      "model_name": "DescriptionStyleModel",
      "state": {
       "description_width": ""
      }
     },
     "01fa03ff54804e0b8d59670842fb336d": {
      "model_module": "@jupyter-widgets/base",
      "model_module_version": "1.0.0",
      "model_name": "LayoutModel",
      "state": {}
     },
     "0218e5757b72421f821acf8889f63615": {
      "model_module": "@jupyter-widgets/base",
      "model_module_version": "1.0.0",
      "model_name": "LayoutModel",
      "state": {}
     },
     "022a8af9d3c844c3995ec24d501f5ae7": {
      "model_module": "@jupyter-widgets/controls",
      "model_module_version": "1.2.0",
      "model_name": "DescriptionStyleModel",
      "state": {
       "description_width": ""
      }
     },
     "0261ede2cc46402090d0a6073a04b9e7": {
      "model_module": "@jupyter-widgets/base",
      "model_module_version": "1.0.0",
      "model_name": "LayoutModel",
      "state": {}
     },
     "02a754c9bbe34cbbb8bdc630017219c1": {
      "model_module": "@jupyter-widgets/controls",
      "model_module_version": "1.2.0",
      "model_name": "DropdownModel",
      "state": {
       "_options_labels": [
        "PROF",
        "ASSOC PROF",
        "ASST PROF",
        "LECTURER",
        "ASSOC DIR",
        "CLIN ASST PROF",
        "SR LECTURER",
        "RES SCI",
        "RES ASST PROF",
        "SR RES SCI",
        "POSTDOC RES ASSOC",
        "CLIN PROF",
        "ASSOC PROF UNIV LIBRARY",
        "ASST PROF UNIV LIBRARY",
        "DEAN",
        "JL DOOB RES ASST PROF",
        "CLIN ASSOC PROF",
        "VST ASST PROF",
        "RES ASSOC PROF",
        "ASST DEAN",
        "RES PROF",
        "PROF (RT)"
       ],
       "description": "Job Title:",
       "index": 2,
       "layout": "IPY_MODEL_9f1a442a75054258abf39b8bdee46867",
       "style": "IPY_MODEL_4834cdd1a2494826b1cd975f802d00d4"
      }
     },
     "02ed0c9f46904e31ae1cb2fbd224cf3a": {
      "model_module": "@jupyter-widgets/base",
      "model_module_version": "1.0.0",
      "model_name": "LayoutModel",
      "state": {}
     },
     "03242477b6a14624b1bbfb1bbea6bbd7": {
      "model_module": "@jupyter-widgets/controls",
      "model_module_version": "1.2.0",
      "model_name": "DescriptionStyleModel",
      "state": {
       "description_width": ""
      }
     },
     "03412b0ff48a40c093f4850e4438a4df": {
      "model_module": "@jupyter-widgets/controls",
      "model_module_version": "1.2.0",
      "model_name": "SliderStyleModel",
      "state": {
       "description_width": ""
      }
     },
     "034167328fb04de98a01d43ae7abc51f": {
      "model_module": "@jupyter-widgets/controls",
      "model_module_version": "1.2.0",
      "model_name": "HBoxModel",
      "state": {
       "children": [
        "IPY_MODEL_0fd14e39484141ab89765d14fb4c9614",
        "IPY_MODEL_46c6b277efa041a99fa796d40d4547f3",
        "IPY_MODEL_cb0160ca0aa84b4589b13d0df00f0ff7"
       ],
       "layout": "IPY_MODEL_69ebbcbe27db4e2f9b1f1e52369da595"
      }
     },
     "03b066c42a8a4472bc5a0241f2fd638c": {
      "model_module": "@jupyter-widgets/base",
      "model_module_version": "1.0.0",
      "model_name": "LayoutModel",
      "state": {}
     },
     "03bda78c40e14871a29b62ac11c7e128": {
      "model_module": "@jupyter-widgets/controls",
      "model_module_version": "1.2.0",
      "model_name": "DescriptionStyleModel",
      "state": {
       "description_width": ""
      }
     },
     "03def2128494421988cd77be8b2d9ee6": {
      "model_module": "@jupyter-widgets/base",
      "model_module_version": "1.0.0",
      "model_name": "LayoutModel",
      "state": {}
     },
     "0400b0109af44519ad9a391b4174e308": {
      "model_module": "@jupyter-widgets/base",
      "model_module_version": "1.0.0",
      "model_name": "LayoutModel",
      "state": {}
     },
     "041df16093904e1abd1a6d8ef0b25474": {
      "model_module": "@jupyter-widgets/base",
      "model_module_version": "1.0.0",
      "model_name": "LayoutModel",
      "state": {}
     },
     "04238025dac34af0860f8b66fa104ad9": {
      "model_module": "@jupyter-widgets/base",
      "model_module_version": "1.0.0",
      "model_name": "LayoutModel",
      "state": {}
     },
     "043d54277a87400eb082b9917c211ab6": {
      "model_module": "@jupyter-widgets/base",
      "model_module_version": "1.0.0",
      "model_name": "LayoutModel",
      "state": {}
     },
     "0462219fe44c4be0a93fffc8ef93505d": {
      "model_module": "@jupyter-widgets/base",
      "model_module_version": "1.0.0",
      "model_name": "LayoutModel",
      "state": {}
     },
     "0492af713e824328bbc2b08b4cc58439": {
      "model_module": "@jupyter-widgets/base",
      "model_module_version": "1.0.0",
      "model_name": "LayoutModel",
      "state": {}
     },
     "04b11d48aeb74aada1775ae08bae6146": {
      "model_module": "@jupyter-widgets/controls",
      "model_module_version": "1.2.0",
      "model_name": "HBoxModel",
      "state": {
       "children": [
        "IPY_MODEL_801f5d1c88f64a36aec12351adbb9de5",
        "IPY_MODEL_e54db7f22f5e44eba569ea3fbded966e",
        "IPY_MODEL_7a082015971e46518856403d3232072f"
       ],
       "layout": "IPY_MODEL_e2dfa2a8ed8f4ba494220340a54e5302"
      }
     },
     "05979bb795bb441dbef756dbc80d235e": {
      "model_module": "@jupyter-widgets/base",
      "model_module_version": "1.0.0",
      "model_name": "LayoutModel",
      "state": {}
     },
     "059b91af16c84d7f961f3985ef0b465c": {
      "model_module": "@jupyter-widgets/base",
      "model_module_version": "1.0.0",
      "model_name": "LayoutModel",
      "state": {}
     },
     "05cba47441874bde82ca3212b3178a17": {
      "model_module": "@jupyter-widgets/base",
      "model_module_version": "1.0.0",
      "model_name": "LayoutModel",
      "state": {}
     },
     "05cff27d00284193b29103a0932154ed": {
      "model_module": "@jupyter-widgets/base",
      "model_module_version": "1.0.0",
      "model_name": "LayoutModel",
      "state": {}
     },
     "05d3a92cbd414caab86208ee660be45f": {
      "model_module": "@jupyter-widgets/controls",
      "model_module_version": "1.2.0",
      "model_name": "HBoxModel",
      "state": {
       "children": [
        "IPY_MODEL_e81906ba9ef248e99cc15359fcac0456",
        "IPY_MODEL_2b39edb5882d4d42bc294683ec0d53ee",
        "IPY_MODEL_1114a569576a4ff2a10722c7a382152c"
       ],
       "layout": "IPY_MODEL_fb024adeedca42ba9228a37e36a5e74f"
      }
     },
     "0631688bb4da4fc88636c2804af593d5": {
      "model_module": "@jupyter-widgets/controls",
      "model_module_version": "1.2.0",
      "model_name": "DescriptionStyleModel",
      "state": {
       "description_width": ""
      }
     },
     "0653d98da9f24546b54afc21919187b7": {
      "model_module": "@jupyter-widgets/base",
      "model_module_version": "1.0.0",
      "model_name": "LayoutModel",
      "state": {}
     },
     "06564af1e29446a184e4c0118a7bac6f": {
      "model_module": "@jupyter-widgets/controls",
      "model_module_version": "1.2.0",
      "model_name": "IntTextModel",
      "state": {
       "description": "Top X:",
       "layout": "IPY_MODEL_e4401d62de1b462fa29ee48bb94f00a3",
       "step": 1,
       "style": "IPY_MODEL_8e4c12939f1f4d49b2c62eedc7f09d00",
       "value": 10
      }
     },
     "066c10dcd57b4864b42f4672685371c0": {
      "model_module": "@jupyter-widgets/controls",
      "model_module_version": "1.2.0",
      "model_name": "SliderStyleModel",
      "state": {
       "description_width": ""
      }
     },
     "069fb2136a344d6191b4a69debfc35bf": {
      "model_module": "@jupyter-widgets/controls",
      "model_module_version": "1.2.0",
      "model_name": "IntTextModel",
      "state": {
       "description": "Top X:",
       "layout": "IPY_MODEL_e36ce9b9ac2540fd828328763c92a0ce",
       "step": 1,
       "style": "IPY_MODEL_5a4603b8189d4a0d8735bcd9a6e7433a",
       "value": 10
      }
     },
     "06b45793819f4989a92fda9d5b7e6da1": {
      "model_module": "@jupyter-widgets/controls",
      "model_module_version": "1.2.0",
      "model_name": "IntSliderModel",
      "state": {
       "continuous_update": false,
       "description": "Year:",
       "layout": "IPY_MODEL_e0c65c67928d4260ad552bba6dcf5229",
       "max": 2017,
       "min": 2013,
       "style": "IPY_MODEL_2d6f961904c44636b588f78fe7f8c338",
       "value": 2017
      }
     },
     "06b82ce1e6064c7f994e2d81adbd04d9": {
      "model_module": "@jupyter-widgets/controls",
      "model_module_version": "1.2.0",
      "model_name": "TextModel",
      "state": {
       "description": "Department:   ",
       "layout": "IPY_MODEL_fa41b1b5339e4737b70a267ab6043e26",
       "style": "IPY_MODEL_b0acdc3d5d484652b478515f0357a506",
       "value": "Mathematics"
      }
     },
     "06c9044dfdb04e99b00bc0c7ddab1ad1": {
      "model_module": "@jupyter-widgets/base",
      "model_module_version": "1.0.0",
      "model_name": "LayoutModel",
      "state": {}
     },
     "0714e6d1d4a642328a5cfa38eeddc6a3": {
      "model_module": "@jupyter-widgets/controls",
      "model_module_version": "1.2.0",
      "model_name": "DescriptionStyleModel",
      "state": {
       "description_width": ""
      }
     },
     "07180dab77e54c148b85cb8b50db43ce": {
      "model_module": "@jupyter-widgets/base",
      "model_module_version": "1.0.0",
      "model_name": "LayoutModel",
      "state": {}
     },
     "0789d0cc066541259664fe3d7da16062": {
      "model_module": "@jupyter-widgets/controls",
      "model_module_version": "1.2.0",
      "model_name": "TextModel",
      "state": {
       "description": "Department:   ",
       "layout": "IPY_MODEL_a69c7a3682b54a72a3bdc1f3d10ecb14",
       "style": "IPY_MODEL_bc13b4784d5345a6a557e7def2fe9cda",
       "value": "Mathematics"
      }
     },
     "07d3f75473ba44c795ecb8f28634f286": {
      "model_module": "@jupyter-widgets/controls",
      "model_module_version": "1.2.0",
      "model_name": "TextModel",
      "state": {
       "description": "Department 2",
       "layout": "IPY_MODEL_349849ed899443ab9fb30dceb0da271c",
       "style": "IPY_MODEL_7ff37d24c3744e5da39e25a0a02f3bee"
      }
     },
     "081b18a80ab44fcf9110bb47de5308bc": {
      "model_module": "@jupyter-widgets/base",
      "model_module_version": "1.0.0",
      "model_name": "LayoutModel",
      "state": {}
     },
     "081ff17bc8df4c9b8612359eaf5cbe05": {
      "model_module": "@jupyter-widgets/base",
      "model_module_version": "1.0.0",
      "model_name": "LayoutModel",
      "state": {}
     },
     "082c038abb8f4568b9f385282bedf425": {
      "model_module": "@jupyter-widgets/controls",
      "model_module_version": "1.2.0",
      "model_name": "IntSliderModel",
      "state": {
       "continuous_update": false,
       "description": "Year:",
       "layout": "IPY_MODEL_4a78105f85ab403196107e10d6e7016a",
       "max": 2017,
       "min": 2013,
       "style": "IPY_MODEL_b93d7b4845bc4aa3986540c7c346b1ab",
       "value": 2017
      }
     },
     "085af37f02e849ae95efe35ee81757cc": {
      "model_module": "@jupyter-widgets/base",
      "model_module_version": "1.0.0",
      "model_name": "DOMWidgetModel",
      "state": {
       "_graph_url": "https://plot.ly/~wangqiwen/16",
       "_message": "",
       "_model_name": "DOMWidgetModel",
       "_new_url": "",
       "_view_module": "graphWidget",
       "_view_module_version": "",
       "_view_name": "GraphView",
       "layout": "IPY_MODEL_4dfbfafa8886468db612c99e0cf7fe28"
      }
     },
     "086275d6ef8041cf9619e94380febcb0": {
      "model_module": "@jupyter-widgets/base",
      "model_module_version": "1.0.0",
      "model_name": "LayoutModel",
      "state": {}
     },
     "08686ba9d9b24f6a8ac26a0b12c749c5": {
      "model_module": "@jupyter-widgets/base",
      "model_module_version": "1.0.0",
      "model_name": "LayoutModel",
      "state": {}
     },
     "08995663b82c403f976d37d96586ba31": {
      "model_module": "@jupyter-widgets/controls",
      "model_module_version": "1.2.0",
      "model_name": "HBoxModel",
      "state": {
       "children": [
        "IPY_MODEL_76bf1c59a8714918bbbf0aa23e32a4ba",
        "IPY_MODEL_d7391d6bd1da4efea1a7e11614d687ee",
        "IPY_MODEL_183c2e1366d143058a64798016adc2c4"
       ],
       "layout": "IPY_MODEL_f9ff668c98034a339eef6d02953c16e8"
      }
     },
     "09a07a7d23ec41d0bc3988e45d0710b6": {
      "model_module": "@jupyter-widgets/base",
      "model_module_version": "1.0.0",
      "model_name": "LayoutModel",
      "state": {}
     },
     "09f1676dce7c4a518280b9ab9bbdfe3d": {
      "model_module": "@jupyter-widgets/controls",
      "model_module_version": "1.2.0",
      "model_name": "DescriptionStyleModel",
      "state": {
       "description_width": ""
      }
     },
     "0a3c98f02cf84f51bd2e95ed61145d9c": {
      "model_module": "@jupyter-widgets/controls",
      "model_module_version": "1.2.0",
      "model_name": "SliderStyleModel",
      "state": {
       "description_width": ""
      }
     },
     "0a871c369e974152b60e4e80cb638f28": {
      "model_module": "@jupyter-widgets/base",
      "model_module_version": "1.0.0",
      "model_name": "LayoutModel",
      "state": {}
     },
     "0ab08f7563c645098b0c7761ca508ab5": {
      "model_module": "@jupyter-widgets/controls",
      "model_module_version": "1.2.0",
      "model_name": "IntSliderModel",
      "state": {
       "continuous_update": false,
       "description": "Year:",
       "layout": "IPY_MODEL_8b50b9b9be0a4c8bae7697e74c7f5c9f",
       "max": 2017,
       "min": 2013,
       "style": "IPY_MODEL_acafdb72971043f49eb4946a298741cd",
       "value": 2017
      }
     },
     "0ad71a8ac28d47b6b77a3f8baa10a130": {
      "model_module": "@jupyter-widgets/base",
      "model_module_version": "1.0.0",
      "model_name": "LayoutModel",
      "state": {}
     },
     "0ae9f2ac6175468ba43b3b0b8eb07293": {
      "model_module": "@jupyter-widgets/controls",
      "model_module_version": "1.2.0",
      "model_name": "DescriptionStyleModel",
      "state": {
       "description_width": ""
      }
     },
     "0b056ed317f94623a0768e9cc212a706": {
      "model_module": "@jupyter-widgets/base",
      "model_module_version": "1.0.0",
      "model_name": "LayoutModel",
      "state": {}
     },
     "0bab3a1ddf7a49dd9761b6aa4a1af200": {
      "model_module": "@jupyter-widgets/controls",
      "model_module_version": "1.2.0",
      "model_name": "SliderStyleModel",
      "state": {
       "description_width": ""
      }
     },
     "0bccef6a36944ff1bc4386d65c6ff3e4": {
      "model_module": "@jupyter-widgets/controls",
      "model_module_version": "1.2.0",
      "model_name": "DropdownModel",
      "state": {
       "_options_labels": [
        "PROF",
        "ASSOC PROF",
        "ASST PROF",
        "LECTURER",
        "ASSOC DIR",
        "CLIN ASST PROF",
        "SR LECTURER",
        "RES SCI",
        "RES ASST PROF",
        "SR RES SCI",
        "POSTDOC RES ASSOC",
        "CLIN PROF",
        "ASSOC PROF UNIV LIBRARY",
        "ASST PROF UNIV LIBRARY",
        "DEAN",
        "JL DOOB RES ASST PROF",
        "CLIN ASSOC PROF",
        "VST ASST PROF",
        "RES ASSOC PROF",
        "ASST DEAN",
        "RES PROF",
        "PROF (RT)"
       ],
       "description": "Job Title:",
       "index": 2,
       "layout": "IPY_MODEL_a992865503f34c57b0fb59e0460e894a",
       "style": "IPY_MODEL_9a10e017d7dc47529795dbb93088bfa9"
      }
     },
     "0c26afb265684ed59f455c2ec669a9b5": {
      "model_module": "@jupyter-widgets/base",
      "model_module_version": "1.0.0",
      "model_name": "LayoutModel",
      "state": {}
     },
     "0c283727ecdf47258afe662453a67187": {
      "model_module": "@jupyter-widgets/base",
      "model_module_version": "1.0.0",
      "model_name": "LayoutModel",
      "state": {}
     },
     "0c73186c55594c83b838870443e00e40": {
      "model_module": "@jupyter-widgets/base",
      "model_module_version": "1.0.0",
      "model_name": "LayoutModel",
      "state": {}
     },
     "0c746b33d5fa430eaf840864fbd48d11": {
      "model_module": "@jupyter-widgets/controls",
      "model_module_version": "1.2.0",
      "model_name": "SliderStyleModel",
      "state": {
       "description_width": ""
      }
     },
     "0c7861b7a58f433a857415c05266d008": {
      "model_module": "@jupyter-widgets/controls",
      "model_module_version": "1.2.0",
      "model_name": "DescriptionStyleModel",
      "state": {
       "description_width": ""
      }
     },
     "0c83578efdbb48128adbacfdceb14972": {
      "model_module": "@jupyter-widgets/controls",
      "model_module_version": "1.2.0",
      "model_name": "DescriptionStyleModel",
      "state": {
       "description_width": ""
      }
     },
     "0c869b61835f4b64adb02f7d3da9138d": {
      "model_module": "@jupyter-widgets/controls",
      "model_module_version": "1.2.0",
      "model_name": "DescriptionStyleModel",
      "state": {
       "description_width": ""
      }
     },
     "0cc2faf8124b440b9768ed4344857d1b": {
      "model_module": "@jupyter-widgets/controls",
      "model_module_version": "1.2.0",
      "model_name": "TextModel",
      "state": {
       "description": "Department:   ",
       "layout": "IPY_MODEL_04238025dac34af0860f8b66fa104ad9",
       "style": "IPY_MODEL_ee8c2755bb034c17a0492f1ab4ce5c03",
       "value": "History"
      }
     },
     "0cde3587144441beb96c450b0a77de84": {
      "model_module": "@jupyter-widgets/base",
      "model_module_version": "1.0.0",
      "model_name": "LayoutModel",
      "state": {}
     },
     "0d68c125e0664f48a589030eac46fb08": {
      "model_module": "@jupyter-widgets/base",
      "model_module_version": "1.0.0",
      "model_name": "LayoutModel",
      "state": {}
     },
     "0d8d800dc15e49c98bb8fd9249b613df": {
      "model_module": "@jupyter-widgets/base",
      "model_module_version": "1.0.0",
      "model_name": "DOMWidgetModel",
      "state": {
       "_graph_url": "https://plot.ly/~wangqiwen/8/salary-range-of-faculty-in-information-sciences-computer-science/",
       "_message": "",
       "_model_name": "DOMWidgetModel",
       "_new_url": "",
       "_view_module": "graphWidget",
       "_view_module_version": "",
       "_view_name": "GraphView",
       "layout": "IPY_MODEL_3272e70cbfdb4271b8517f054e1d5cd7"
      }
     },
     "0dadc168d18040ebab2f4c45315c01ec": {
      "model_module": "@jupyter-widgets/base",
      "model_module_version": "1.0.0",
      "model_name": "DOMWidgetModel",
      "state": {
       "_graph_url": "https://plot.ly/~wangqiwen/22/salary-range-of-faculty-in-information-sciences/",
       "_message": "{\"task\": \"relayout\", \"update\": {\"title\": \"Salary Range of Faculty in Mathematics\", \"xaxis\": {\"title\": \"Salary\"}, \"yaxis\": {\"title\": \"Percentage of Faculty\"}, \"bargroupgap\": 0.1}, \"graphId\": \"f3dd2030-2de6-40b8-b444-e39308d872df\", \"uid\": \"7698cd0c-e46c-4635-9a61-aeab4aa4c772\"}",
       "_model_name": "DOMWidgetModel",
       "_new_url": "",
       "_view_module": "graphWidget",
       "_view_module_version": "",
       "_view_name": "GraphView",
       "layout": "IPY_MODEL_7c774d3a14c145d9b8a5bf574a5f64a1"
      }
     },
     "0df9f6a7b98c42b8b821ca3ba12b8c39": {
      "model_module": "@jupyter-widgets/base",
      "model_module_version": "1.0.0",
      "model_name": "DOMWidgetModel",
      "state": {
       "_graph_url": "https://plot.ly/~wangqiwen/20/median-salary-median-salary-median-salary/",
       "_message": "{\"task\": \"relayout\", \"update\": [\"2014 Median Salary of ASST PROF in Urbana-Champaign\", \"2014 Median Salary of ASST PROF in Chicago\", \"2014 Median Salary of ASST PROF in Springfield\"], \"graphId\": \"e5df2e80-42b4-4f4b-96b4-c45f6fd3d62e\", \"uid\": \"80b92993-eb99-4d5e-ae80-ef12df6119a5\"}",
       "_model_name": "DOMWidgetModel",
       "_new_url": "",
       "_view_module": "graphWidget",
       "_view_module_version": "",
       "_view_name": "GraphView",
       "layout": "IPY_MODEL_b14f5fa88f1f40928be943e591572fff"
      }
     },
     "0e08322a4ea14012bc24d5a80debfde2": {
      "model_module": "@jupyter-widgets/base",
      "model_module_version": "1.0.0",
      "model_name": "LayoutModel",
      "state": {}
     },
     "0e0e432b254745448d8d39cd7b496121": {
      "model_module": "@jupyter-widgets/base",
      "model_module_version": "1.0.0",
      "model_name": "LayoutModel",
      "state": {}
     },
     "0e1cb87464924435a173a109d03da1f5": {
      "model_module": "@jupyter-widgets/base",
      "model_module_version": "1.0.0",
      "model_name": "LayoutModel",
      "state": {}
     },
     "0e3ee51f72bb46679da3f24c98265045": {
      "model_module": "@jupyter-widgets/base",
      "model_module_version": "1.0.0",
      "model_name": "LayoutModel",
      "state": {}
     },
     "0e559f65c2184926b91fd9cd4039dc90": {
      "model_module": "@jupyter-widgets/base",
      "model_module_version": "1.0.0",
      "model_name": "LayoutModel",
      "state": {}
     },
     "0e8cb78f8a824b95a0c0947dcdf3bd6e": {
      "model_module": "@jupyter-widgets/controls",
      "model_module_version": "1.2.0",
      "model_name": "TextModel",
      "state": {
       "description": "Department 4",
       "layout": "IPY_MODEL_bf401c612c2a443eb241f1029d2995cd",
       "style": "IPY_MODEL_3a83c535ed784779b1f911ea369d8382"
      }
     },
     "0ea357b94e5a4f03b8e09e1b12943c71": {
      "model_module": "@jupyter-widgets/base",
      "model_module_version": "1.0.0",
      "model_name": "LayoutModel",
      "state": {}
     },
     "0ece61e2469a4db19aa5a7363281e76f": {
      "model_module": "@jupyter-widgets/base",
      "model_module_version": "1.0.0",
      "model_name": "LayoutModel",
      "state": {}
     },
     "0eeae1599906478e9c43378688439d71": {
      "model_module": "@jupyter-widgets/controls",
      "model_module_version": "1.2.0",
      "model_name": "DescriptionStyleModel",
      "state": {
       "description_width": ""
      }
     },
     "0f092131512a4c6f94d93aeda5350731": {
      "model_module": "@jupyter-widgets/base",
      "model_module_version": "1.0.0",
      "model_name": "DOMWidgetModel",
      "state": {
       "_graph_url": "https://plot.ly/~wangqiwen/8/salary-range-of-faculty-in-mathematics-information-sciences/",
       "_message": "{\"task\": \"relayout\", \"update\": {\"title\": \"Salary Range of Faculty in Computer Science & Information Sciences & Mathematics\", \"xaxis\": {\"title\": \"Salary\"}, \"yaxis\": {\"title\": \"Percentage of Faculty\"}, \"bargap\": 0.2, \"bargroupgap\": 0.1}, \"graphId\": \"b6b3ce69-c2b7-4052-b8bf-c79fa81ece69\", \"uid\": \"5299a465-a54b-41e8-b381-c2a52b19f291\"}",
       "_model_name": "DOMWidgetModel",
       "_new_url": "",
       "_view_module": "graphWidget",
       "_view_module_version": "",
       "_view_name": "GraphView",
       "layout": "IPY_MODEL_19b50293db194251b9691cefcd7614e2"
      }
     },
     "0f148aced83442b0b7ca1817c24040d6": {
      "model_module": "@jupyter-widgets/base",
      "model_module_version": "1.0.0",
      "model_name": "LayoutModel",
      "state": {}
     },
     "0f298f3419734c59b198740d951694c0": {
      "model_module": "@jupyter-widgets/controls",
      "model_module_version": "1.2.0",
      "model_name": "DescriptionStyleModel",
      "state": {
       "description_width": ""
      }
     },
     "0f722c1afe7a41b59997b9549808c3e4": {
      "model_module": "@jupyter-widgets/controls",
      "model_module_version": "1.2.0",
      "model_name": "TabModel",
      "state": {
       "_titles": {
        "0": "Department 1",
        "1": "Department 2"
       },
       "children": [
        "IPY_MODEL_2fe01939f40b4157b807c82c07825165",
        "IPY_MODEL_0f72a3cc3bdd454cacd76af00f7f2a6a"
       ],
       "layout": "IPY_MODEL_16067b9b04a6491b9c2a190adbf1ff2c",
       "selected_index": 1
      }
     },
     "0f72a3cc3bdd454cacd76af00f7f2a6a": {
      "model_module": "@jupyter-widgets/controls",
      "model_module_version": "1.2.0",
      "model_name": "HBoxModel",
      "state": {
       "children": [
        "IPY_MODEL_7ac5dda5642e420bb858a85d00795fd1",
        "IPY_MODEL_aab6105bf04848feaf2710e35e31738b",
        "IPY_MODEL_67a1f27e1ea64828814ac587747f4684"
       ],
       "layout": "IPY_MODEL_2e56f54d53cd4969a600df007c181eb6"
      }
     },
     "0f78292c6f7e4eab878a7a4db4af3966": {
      "model_module": "@jupyter-widgets/controls",
      "model_module_version": "1.2.0",
      "model_name": "TabModel",
      "state": {
       "layout": "IPY_MODEL_d53cf570373b48fe9371af52a365830e"
      }
     },
     "0f8a023b56164065b23d813a04aad425": {
      "model_module": "@jupyter-widgets/controls",
      "model_module_version": "1.2.0",
      "model_name": "DescriptionStyleModel",
      "state": {
       "description_width": ""
      }
     },
     "0fc0bd65c2e74edf9e53a99da91452b5": {
      "model_module": "@jupyter-widgets/base",
      "model_module_version": "1.0.0",
      "model_name": "LayoutModel",
      "state": {}
     },
     "0fd14e39484141ab89765d14fb4c9614": {
      "model_module": "@jupyter-widgets/controls",
      "model_module_version": "1.2.0",
      "model_name": "DropdownModel",
      "state": {
       "_options_labels": [
        "PROF",
        "ASSOC PROF",
        "ASST PROF",
        "LECTURER",
        "ASSOC DIR",
        "CLIN ASST PROF",
        "SR LECTURER",
        "RES SCI",
        "RES ASST PROF",
        "SR RES SCI",
        "POSTDOC RES ASSOC",
        "CLIN PROF",
        "ASSOC PROF UNIV LIBRARY",
        "ASST PROF UNIV LIBRARY",
        "DEAN",
        "JL DOOB RES ASST PROF",
        "CLIN ASSOC PROF",
        "VST ASST PROF",
        "RES ASSOC PROF",
        "ASST DEAN",
        "RES PROF",
        "PROF (RT)"
       ],
       "description": "Job Title:",
       "index": 2,
       "layout": "IPY_MODEL_80a84156bbf844ae9c0bd70ca212968a",
       "style": "IPY_MODEL_57b10441a1014511b2da63ce7ae7d52a"
      }
     },
     "0fe991003ba34880b963ca232d99006e": {
      "model_module": "@jupyter-widgets/controls",
      "model_module_version": "1.2.0",
      "model_name": "DropdownModel",
      "state": {
       "_options_labels": [
        "Chicago",
        "Springfield",
        "Urbana-Champaign"
       ],
       "description": "Campus:",
       "index": 2,
       "layout": "IPY_MODEL_2befb182fa7340539968ed3dc6b93de7",
       "style": "IPY_MODEL_c55d4bc6346042a3a0441eb98012567d"
      }
     },
     "10265ba6d231409bb0fce2caddf614b2": {
      "model_module": "@jupyter-widgets/controls",
      "model_module_version": "1.2.0",
      "model_name": "IntTextModel",
      "state": {
       "description": "Top X:",
       "layout": "IPY_MODEL_cd5d54b98032478f92d4311c8a500b85",
       "step": 1,
       "style": "IPY_MODEL_03bda78c40e14871a29b62ac11c7e128",
       "value": 10
      }
     },
     "10569c0a7b38437f839c62d263e7fd49": {
      "model_module": "@jupyter-widgets/base",
      "model_module_version": "1.0.0",
      "model_name": "LayoutModel",
      "state": {}
     },
     "10baebc80b094507bd08cccb868864a4": {
      "model_module": "@jupyter-widgets/base",
      "model_module_version": "1.0.0",
      "model_name": "LayoutModel",
      "state": {}
     },
     "1114a569576a4ff2a10722c7a382152c": {
      "model_module": "@jupyter-widgets/controls",
      "model_module_version": "1.2.0",
      "model_name": "IntSliderModel",
      "state": {
       "continuous_update": false,
       "description": "Year:",
       "layout": "IPY_MODEL_daeb942159de41088c2f0a4fb069d554",
       "max": 2017,
       "min": 2013,
       "style": "IPY_MODEL_94bed05cf03b491da27604690083b390",
       "value": 2017
      }
     },
     "11386f323a664815b732d5cfd8b1c704": {
      "model_module": "@jupyter-widgets/controls",
      "model_module_version": "1.2.0",
      "model_name": "DropdownModel",
      "state": {
       "_options_labels": [
        "Chicago",
        "Springfield",
        "Urbana-Champaign"
       ],
       "description": "Campus:",
       "index": 2,
       "layout": "IPY_MODEL_78cfa291d7484f23a4f0eb50fd140486",
       "style": "IPY_MODEL_9a61717dcd7843da88955e217ae31b27"
      }
     },
     "1144cb7660f14009b0ef7c05adf0acd4": {
      "model_module": "@jupyter-widgets/controls",
      "model_module_version": "1.2.0",
      "model_name": "SliderStyleModel",
      "state": {
       "description_width": ""
      }
     },
     "119852a50dea41eba0f1830d7cb59878": {
      "model_module": "@jupyter-widgets/base",
      "model_module_version": "1.0.0",
      "model_name": "LayoutModel",
      "state": {}
     },
     "11e2724dcd1e44de8285ce04630ba08a": {
      "model_module": "@jupyter-widgets/base",
      "model_module_version": "1.0.0",
      "model_name": "LayoutModel",
      "state": {}
     },
     "11ea7f1811794f84b9323f6e2cda86aa": {
      "model_module": "@jupyter-widgets/base",
      "model_module_version": "1.0.0",
      "model_name": "DOMWidgetModel",
      "state": {
       "_graph_url": "https://plot.ly/~wangqiwen/20/median-salary-median-salary-median-salary/",
       "_message": "",
       "_model_name": "DOMWidgetModel",
       "_new_url": "",
       "_view_module": "graphWidget",
       "_view_module_version": "",
       "_view_name": "GraphView",
       "layout": "IPY_MODEL_9d64783b20cc425082822d0f17f022a2"
      }
     },
     "11ef89a138e94b22bb60c653a0fe8fc4": {
      "model_module": "@jupyter-widgets/controls",
      "model_module_version": "1.2.0",
      "model_name": "IntSliderModel",
      "state": {
       "continuous_update": false,
       "description": "Year:",
       "layout": "IPY_MODEL_ba0e97dedece44ec8922c0c4d698cdf1",
       "max": 2017,
       "min": 2013,
       "style": "IPY_MODEL_f8b7f17505fb46c381ca51caea836c29",
       "value": 2017
      }
     },
     "1201c53bdb03423ba9b081d37ae19ef2": {
      "model_module": "@jupyter-widgets/base",
      "model_module_version": "1.0.0",
      "model_name": "LayoutModel",
      "state": {}
     },
     "124b16aa644c4e66b1c61ce3d8deeb4d": {
      "model_module": "@jupyter-widgets/base",
      "model_module_version": "1.0.0",
      "model_name": "LayoutModel",
      "state": {}
     },
     "1255c6b7c2da4c54956a3ccaacc23c0b": {
      "model_module": "@jupyter-widgets/controls",
      "model_module_version": "1.2.0",
      "model_name": "DescriptionStyleModel",
      "state": {
       "description_width": ""
      }
     },
     "12586e5b0a134a8fa516f43a45f0418f": {
      "model_module": "@jupyter-widgets/controls",
      "model_module_version": "1.2.0",
      "model_name": "IntTextModel",
      "state": {
       "description": "Top X:",
       "layout": "IPY_MODEL_97f86a7ed83d4f92b223ccc687965277",
       "step": 1,
       "style": "IPY_MODEL_1255c6b7c2da4c54956a3ccaacc23c0b",
       "value": 10
      }
     },
     "12993267781345ceaa2cc523700f83b4": {
      "model_module": "@jupyter-widgets/base",
      "model_module_version": "1.0.0",
      "model_name": "LayoutModel",
      "state": {}
     },
     "12a7f330ee45435b8c53c46baed3c1ca": {
      "model_module": "@jupyter-widgets/controls",
      "model_module_version": "1.2.0",
      "model_name": "DropdownModel",
      "state": {
       "_options_labels": [
        "Chicago",
        "Springfield",
        "Urbana-Champaign"
       ],
       "description": "Campus:",
       "index": 2,
       "layout": "IPY_MODEL_482f87e7cbb74e7fb60b5b0a41d2eaac",
       "style": "IPY_MODEL_c20950b04be844919ae66f247085a692"
      }
     },
     "135a449f62c9486c819d28f672f77364": {
      "model_module": "@jupyter-widgets/controls",
      "model_module_version": "1.2.0",
      "model_name": "IntSliderModel",
      "state": {
       "continuous_update": false,
       "description": "Year:",
       "layout": "IPY_MODEL_1de6e6e4cb7d4f92be50aae103c3a68f",
       "max": 2017,
       "min": 2013,
       "style": "IPY_MODEL_992643fcf2ee4818af469c4647abc9e7",
       "value": 2017
      }
     },
     "13689a92ec1248fa8a5bf815a280a9a2": {
      "model_module": "@jupyter-widgets/controls",
      "model_module_version": "1.2.0",
      "model_name": "HBoxModel",
      "state": {
       "children": [
        "IPY_MODEL_f1c6d351666d4c9c8dccd5f1f67a52c5",
        "IPY_MODEL_455c251d068c40bbabf0776571cf26fc",
        "IPY_MODEL_41ce55e1f493440e9e1cb4cd2a8be274"
       ],
       "layout": "IPY_MODEL_8e16398ed6a74131b1be7f70bf2c9958"
      }
     },
     "138e726895a74db3bbbe0844bef70056": {
      "model_module": "@jupyter-widgets/base",
      "model_module_version": "1.0.0",
      "model_name": "LayoutModel",
      "state": {}
     },
     "13ac763379b04630b694a45a7ffdbc2a": {
      "model_module": "@jupyter-widgets/controls",
      "model_module_version": "1.2.0",
      "model_name": "DescriptionStyleModel",
      "state": {
       "description_width": ""
      }
     },
     "13b1a2e14a804f68bff90e23aa758b29": {
      "model_module": "@jupyter-widgets/base",
      "model_module_version": "1.0.0",
      "model_name": "LayoutModel",
      "state": {}
     },
     "13b48519713549a69cc5cc9e3823f21b": {
      "model_module": "@jupyter-widgets/base",
      "model_module_version": "1.0.0",
      "model_name": "LayoutModel",
      "state": {}
     },
     "14161fe6173946b49d53b98d6c13bf24": {
      "model_module": "@jupyter-widgets/controls",
      "model_module_version": "1.2.0",
      "model_name": "TextModel",
      "state": {
       "description": "Department:   ",
       "layout": "IPY_MODEL_bb3e644209e74aa3ad9428b7a526cf98",
       "style": "IPY_MODEL_495bbc3ced5a43459340f4f00fd76c62"
      }
     },
     "1465e9ab004d4a57b368582fb5cca59a": {
      "model_module": "@jupyter-widgets/controls",
      "model_module_version": "1.2.0",
      "model_name": "DescriptionStyleModel",
      "state": {
       "description_width": ""
      }
     },
     "1485ac4efbb0459eb7858b875af8181d": {
      "model_module": "@jupyter-widgets/controls",
      "model_module_version": "1.2.0",
      "model_name": "HBoxModel",
      "state": {
       "children": [
        "IPY_MODEL_d2ff41579cfb40f497affd2c49ac85a1",
        "IPY_MODEL_9a2d888cb0c34b6d80de1753f1558a55",
        "IPY_MODEL_017b67dacf3247a4bd639a6958f1ea1a"
       ],
       "layout": "IPY_MODEL_29289431288e434690c9805bb5bcb88d"
      }
     },
     "14a24f58c753425194b7991da1efbfe7": {
      "model_module": "@jupyter-widgets/controls",
      "model_module_version": "1.2.0",
      "model_name": "SliderStyleModel",
      "state": {
       "description_width": ""
      }
     },
     "14a767cdd0bd4bdeb627dd6432c3326f": {
      "model_module": "@jupyter-widgets/controls",
      "model_module_version": "1.2.0",
      "model_name": "HBoxModel",
      "state": {
       "children": [
        "IPY_MODEL_3d88b34bf0d94953bf65662330c0013f",
        "IPY_MODEL_f5838fecca6144e186afe81212760ca7",
        "IPY_MODEL_d68c0490705c413583ab195daab89011"
       ],
       "layout": "IPY_MODEL_df3070c9f18244b7a619d90bd75cc876"
      }
     },
     "15c68bc76d66496cb8fd2772bda6496e": {
      "model_module": "@jupyter-widgets/controls",
      "model_module_version": "1.2.0",
      "model_name": "DescriptionStyleModel",
      "state": {
       "description_width": ""
      }
     },
     "15e4ae72eb55407f95a7af2a16c22cde": {
      "model_module": "@jupyter-widgets/controls",
      "model_module_version": "1.2.0",
      "model_name": "IntTextModel",
      "state": {
       "description": "Top X:",
       "layout": "IPY_MODEL_4dc859e160f74f8c80ed6840139a41a9",
       "step": 1,
       "style": "IPY_MODEL_0f8a023b56164065b23d813a04aad425",
       "value": 25
      }
     },
     "160416034c0a4c1d8bad538f787ae875": {
      "model_module": "@jupyter-widgets/base",
      "model_module_version": "1.0.0",
      "model_name": "DOMWidgetModel",
      "state": {
       "_graph_url": "https://plot.ly/~wangqiwen/8/salary-range-of-faculty-in-information-sciences-computer-science/",
       "_message": "{\"task\": \"relayout\", \"update\": {\"title\": \"Salary Range of Faculty in Mathematics & Information Sciences\", \"xaxis\": {\"title\": \"Salary\"}, \"yaxis\": {\"title\": \"Percentage of Faculty\"}, \"bargroupgap\": 0.1}, \"graphId\": \"7dc66746-390b-4ed9-acca-6ca11cd3ad72\", \"uid\": \"a3f10810-e8f9-4ddb-8372-cd81a5512a85\"}",
       "_model_name": "DOMWidgetModel",
       "_new_url": "",
       "_view_module": "graphWidget",
       "_view_module_version": "",
       "_view_name": "GraphView",
       "layout": "IPY_MODEL_a13e5247f7b245429f2ff134804c53a9"
      }
     },
     "16067b9b04a6491b9c2a190adbf1ff2c": {
      "model_module": "@jupyter-widgets/base",
      "model_module_version": "1.0.0",
      "model_name": "LayoutModel",
      "state": {}
     },
     "160def07484a42a2a00265ad053a135c": {
      "model_module": "@jupyter-widgets/base",
      "model_module_version": "1.0.0",
      "model_name": "LayoutModel",
      "state": {}
     },
     "1610a655ee404d108f4c409ed104d6a1": {
      "model_module": "@jupyter-widgets/controls",
      "model_module_version": "1.2.0",
      "model_name": "TextModel",
      "state": {
       "description": "Department:   ",
       "layout": "IPY_MODEL_01fa03ff54804e0b8d59670842fb336d",
       "style": "IPY_MODEL_3a2af46bb3234498997a084e64533a11"
      }
     },
     "1636d29db65c40558c7567fe577a59de": {
      "model_module": "@jupyter-widgets/base",
      "model_module_version": "1.0.0",
      "model_name": "LayoutModel",
      "state": {}
     },
     "1641e660a1ec404eaa2012f1f26b7fd7": {
      "model_module": "@jupyter-widgets/controls",
      "model_module_version": "1.2.0",
      "model_name": "HBoxModel",
      "state": {
       "children": [
        "IPY_MODEL_2c9314b738f249af8a0acaaf952cceb3",
        "IPY_MODEL_97d307de243f49f98f6e701583132a26",
        "IPY_MODEL_a11cda36abd54dd8a0255cf851d61bdb"
       ],
       "layout": "IPY_MODEL_5b82024a8913417a89bb52e309a3a1cf"
      }
     },
     "16773aec91f04c59a615cc12691f854c": {
      "model_module": "@jupyter-widgets/controls",
      "model_module_version": "1.2.0",
      "model_name": "TextModel",
      "state": {
       "description": "Department:   ",
       "layout": "IPY_MODEL_f18c1e3034264f8ea3c9c0edebb23415",
       "style": "IPY_MODEL_b31a5d6f325e44e59fbf99dd518ff607",
       "value": "Mathematics"
      }
     },
     "16ddfbbcab6642b6a6183343a135de38": {
      "model_module": "@jupyter-widgets/controls",
      "model_module_version": "1.2.0",
      "model_name": "DescriptionStyleModel",
      "state": {
       "description_width": ""
      }
     },
     "16e9c74cc62040528250321ea5552aa0": {
      "model_module": "@jupyter-widgets/base",
      "model_module_version": "1.0.0",
      "model_name": "LayoutModel",
      "state": {}
     },
     "171bc2e7a6de4eb49e52bf56a47e93c0": {
      "model_module": "@jupyter-widgets/controls",
      "model_module_version": "1.2.0",
      "model_name": "TabModel",
      "state": {
       "_titles": {
        "0": "Department 1",
        "1": "Department 2",
        "2": "Department 3",
        "3": "Department 4",
        "4": "Department 5"
       },
       "children": [
        "IPY_MODEL_89d27a50969247e58fdde0b522a69ba3",
        "IPY_MODEL_791cdbd0203040c496ab400f4a27bb44",
        "IPY_MODEL_6baf8760a6c6467996c5c3b1d55fd093",
        "IPY_MODEL_95d1cb5b2f11473db5fd199d3729984e",
        "IPY_MODEL_446f9247f4764cdb8904f2212e8232c4"
       ],
       "layout": "IPY_MODEL_6e0d1368ef4e42f2b3a1bd160709b786"
      }
     },
     "172cfa9d35774412a7d574d4da865290": {
      "model_module": "@jupyter-widgets/controls",
      "model_module_version": "1.2.0",
      "model_name": "DropdownModel",
      "state": {
       "_options_labels": [
        "PROF",
        "ASSOC PROF",
        "ASST PROF",
        "LECTURER",
        "ASSOC DIR",
        "CLIN ASST PROF",
        "SR LECTURER",
        "RES SCI",
        "RES ASST PROF",
        "SR RES SCI",
        "POSTDOC RES ASSOC",
        "CLIN PROF",
        "ASSOC PROF UNIV LIBRARY",
        "ASST PROF UNIV LIBRARY",
        "DEAN",
        "JL DOOB RES ASST PROF",
        "CLIN ASSOC PROF",
        "VST ASST PROF",
        "RES ASSOC PROF",
        "ASST DEAN",
        "RES PROF",
        "PROF (RT)"
       ],
       "description": "Job Title:",
       "index": 2,
       "layout": "IPY_MODEL_29260f4ce6ac40d1b4de6ce656e85baf",
       "style": "IPY_MODEL_6a768aa3545a4bc38c4373c29b8dea38"
      }
     },
     "172e233865f742a0afbd09b3a1135e8c": {
      "model_module": "@jupyter-widgets/controls",
      "model_module_version": "1.2.0",
      "model_name": "DescriptionStyleModel",
      "state": {
       "description_width": ""
      }
     },
     "17902ac8a449431889c3c8bafa87a9ee": {
      "model_module": "@jupyter-widgets/base",
      "model_module_version": "1.0.0",
      "model_name": "LayoutModel",
      "state": {}
     },
     "17a31cf1472a4eb1b8727ebe53d779f8": {
      "model_module": "@jupyter-widgets/base",
      "model_module_version": "1.0.0",
      "model_name": "LayoutModel",
      "state": {}
     },
     "17ab0083adb548ff972935d6c659e496": {
      "model_module": "@jupyter-widgets/base",
      "model_module_version": "1.0.0",
      "model_name": "LayoutModel",
      "state": {}
     },
     "18018c9a266740bfab4c9a5848cd1d54": {
      "model_module": "@jupyter-widgets/controls",
      "model_module_version": "1.2.0",
      "model_name": "DescriptionStyleModel",
      "state": {
       "description_width": ""
      }
     },
     "18266a32fd6e4fbca16067e9d179698a": {
      "model_module": "@jupyter-widgets/controls",
      "model_module_version": "1.2.0",
      "model_name": "HBoxModel",
      "state": {
       "children": [
        "IPY_MODEL_68f0521b3c26474fa8fabded06f9d210",
        "IPY_MODEL_42524e1eb9af4ea6a2953af4ee1f717e",
        "IPY_MODEL_4a871288ed1f40f5bb5b3a98eecee2f7"
       ],
       "layout": "IPY_MODEL_73e89fca365045188c1d5f81e1b7eb6a"
      }
     },
     "183c2e1366d143058a64798016adc2c4": {
      "model_module": "@jupyter-widgets/controls",
      "model_module_version": "1.2.0",
      "model_name": "IntSliderModel",
      "state": {
       "continuous_update": false,
       "description": "Year:",
       "layout": "IPY_MODEL_c9c9d7f9f8b04e539b9607630df0a540",
       "max": 2017,
       "min": 2013,
       "style": "IPY_MODEL_69bab6694fdc4fa88e02bdb5e4f0dec8",
       "value": 2017
      }
     },
     "188a38bf1f464af6882b31e917509afa": {
      "model_module": "@jupyter-widgets/base",
      "model_module_version": "1.0.0",
      "model_name": "LayoutModel",
      "state": {}
     },
     "188f929ecf4a407c841c02b415308012": {
      "model_module": "@jupyter-widgets/controls",
      "model_module_version": "1.2.0",
      "model_name": "IntSliderModel",
      "state": {
       "continuous_update": false,
       "description": "Year:",
       "layout": "IPY_MODEL_83678ef4b5634f58ac74653181184879",
       "max": 2017,
       "min": 2013,
       "style": "IPY_MODEL_c34cf9d4933543109b039dbe6d313ff6",
       "value": 2015
      }
     },
     "1898c66c1ff04672bf3fc2ed482bbd79": {
      "model_module": "@jupyter-widgets/controls",
      "model_module_version": "1.2.0",
      "model_name": "TabModel",
      "state": {
       "_titles": {
        "0": "Department 1",
        "1": "Department 2",
        "2": "Department 3",
        "3": "Department 4"
       },
       "children": [
        "IPY_MODEL_816bf7912e80417fbffb03c39581ac9d",
        "IPY_MODEL_918981d402c546438252674031e008ef",
        "IPY_MODEL_df624933804e414aa9607d40eb734961",
        "IPY_MODEL_1e5a5725b446492f88b2ae3446f58932"
       ],
       "layout": "IPY_MODEL_39e493ebf939421b87da9bb37d1b5669",
       "selected_index": 2
      }
     },
     "18b2b18098df4fea87a97ffcd7be35f1": {
      "model_module": "@jupyter-widgets/base",
      "model_module_version": "1.0.0",
      "model_name": "LayoutModel",
      "state": {}
     },
     "18becb5ebb69410a8e0e6f41b5346a66": {
      "model_module": "@jupyter-widgets/controls",
      "model_module_version": "1.2.0",
      "model_name": "TextModel",
      "state": {
       "description": "Department:   ",
       "layout": "IPY_MODEL_3f2f12f54e3143408fc8e1d2049296fe",
       "style": "IPY_MODEL_ad9669bfb52f40b3af534aba6240cb48",
       "value": "History"
      }
     },
     "18df0886f4154bedad43947e4c2d9875": {
      "model_module": "@jupyter-widgets/base",
      "model_module_version": "1.0.0",
      "model_name": "LayoutModel",
      "state": {}
     },
     "1919acebbbf94021a2e6b23fb2761e54": {
      "model_module": "@jupyter-widgets/controls",
      "model_module_version": "1.2.0",
      "model_name": "TabModel",
      "state": {
       "_titles": {
        "0": "Department 1",
        "1": "Department 2",
        "2": "Department 3",
        "3": "Department 4"
       },
       "children": [
        "IPY_MODEL_7e3f456a4a9742f5b9c0edf78bcb613e",
        "IPY_MODEL_c9832f45998b442b9e71fa0fb195a4a6",
        "IPY_MODEL_08995663b82c403f976d37d96586ba31",
        "IPY_MODEL_7dd2a7cc4b6d426c96921dab7d68e5da"
       ],
       "layout": "IPY_MODEL_a56df960e42c4f1285367b22d33315c2",
       "selected_index": 1
      }
     },
     "1931a084e88540cf8e8e97b087647ee3": {
      "model_module": "@jupyter-widgets/controls",
      "model_module_version": "1.2.0",
      "model_name": "DescriptionStyleModel",
      "state": {
       "description_width": ""
      }
     },
     "19834d247ea344489dc3976848c2d734": {
      "model_module": "@jupyter-widgets/base",
      "model_module_version": "1.0.0",
      "model_name": "LayoutModel",
      "state": {}
     },
     "199d4699e8464ff6972933ad93379cae": {
      "model_module": "@jupyter-widgets/base",
      "model_module_version": "1.0.0",
      "model_name": "LayoutModel",
      "state": {}
     },
     "19b50293db194251b9691cefcd7614e2": {
      "model_module": "@jupyter-widgets/base",
      "model_module_version": "1.0.0",
      "model_name": "LayoutModel",
      "state": {}
     },
     "1a08140ba4a24f7d8d0f6c23871b8d0e": {
      "model_module": "@jupyter-widgets/controls",
      "model_module_version": "1.2.0",
      "model_name": "SliderStyleModel",
      "state": {
       "description_width": ""
      }
     },
     "1a53a98173264a4e8fb05cc1df37063e": {
      "model_module": "@jupyter-widgets/base",
      "model_module_version": "1.0.0",
      "model_name": "LayoutModel",
      "state": {}
     },
     "1a565874df5d4d47a538e160f23ccd0e": {
      "model_module": "@jupyter-widgets/base",
      "model_module_version": "1.0.0",
      "model_name": "LayoutModel",
      "state": {}
     },
     "1b085c7dfbee4d5b834bae242da75c77": {
      "model_module": "@jupyter-widgets/controls",
      "model_module_version": "1.2.0",
      "model_name": "TextModel",
      "state": {
       "description": "Department:   ",
       "layout": "IPY_MODEL_f113f8dc71974dadae5c3d1130d069b6",
       "style": "IPY_MODEL_aeb59bbaf5f5456ab2b710b77c4bba2d",
       "value": "Mathematics"
      }
     },
     "1b3b9051e85a4838837233a7a9f93b89": {
      "model_module": "@jupyter-widgets/controls",
      "model_module_version": "1.2.0",
      "model_name": "IntSliderModel",
      "state": {
       "continuous_update": false,
       "description": "Year:",
       "layout": "IPY_MODEL_9c30b64a397f42ca857be93ab3fe3ff8",
       "max": 2017,
       "min": 2013,
       "style": "IPY_MODEL_f698293988e84704bf994813b58a99e9",
       "value": 2017
      }
     },
     "1b850997d91c48549c0896559edfce47": {
      "model_module": "@jupyter-widgets/controls",
      "model_module_version": "1.2.0",
      "model_name": "DropdownModel",
      "state": {
       "_options_labels": [
        "Chicago",
        "Springfield",
        "Urbana-Champaign"
       ],
       "description": "Campus:",
       "index": 2,
       "layout": "IPY_MODEL_dd957695a3fd4b4ebc8ba0a9dd09a9c3",
       "style": "IPY_MODEL_29fc4c65b3ae4d3b98d6690570220a9c"
      }
     },
     "1bac3f46d7f3461cb92526d9d95a530f": {
      "model_module": "@jupyter-widgets/controls",
      "model_module_version": "1.2.0",
      "model_name": "TextModel",
      "state": {
       "description": "Department:   ",
       "layout": "IPY_MODEL_6f08ba4c4f914b78a31c7c502642aa5f",
       "style": "IPY_MODEL_ccefcb7f4ef34a9ab618e6f24ec02649",
       "value": "Information Sciences"
      }
     },
     "1befaec0809643cabac80ca1cfd972b6": {
      "model_module": "@jupyter-widgets/base",
      "model_module_version": "1.0.0",
      "model_name": "LayoutModel",
      "state": {}
     },
     "1c40dd6c22b24822bb7fbc62715e4409": {
      "model_module": "@jupyter-widgets/base",
      "model_module_version": "1.0.0",
      "model_name": "LayoutModel",
      "state": {}
     },
     "1c5019b1b8194b3f8a0886441e08767e": {
      "model_module": "@jupyter-widgets/controls",
      "model_module_version": "1.2.0",
      "model_name": "DescriptionStyleModel",
      "state": {
       "description_width": ""
      }
     },
     "1c9d6411411e4730849421a46ec2f1ca": {
      "model_module": "@jupyter-widgets/controls",
      "model_module_version": "1.2.0",
      "model_name": "HBoxModel",
      "state": {
       "children": [
        "IPY_MODEL_11386f323a664815b732d5cfd8b1c704",
        "IPY_MODEL_af14cfb376d7493c84d98e094700aeb2",
        "IPY_MODEL_fe8ab355fb3740339ebe3011d069b57e"
       ],
       "layout": "IPY_MODEL_3c8f9415d6ff4ee99321c08713b5ca90"
      }
     },
     "1cc85ab9628145048680c8e9fe1d7558": {
      "model_module": "@jupyter-widgets/controls",
      "model_module_version": "1.2.0",
      "model_name": "DescriptionStyleModel",
      "state": {
       "description_width": ""
      }
     },
     "1ce3e0a06bfd45afb5fc9f42c786f598": {
      "model_module": "@jupyter-widgets/controls",
      "model_module_version": "1.2.0",
      "model_name": "IntSliderModel",
      "state": {
       "continuous_update": false,
       "description": "Year:",
       "layout": "IPY_MODEL_665d5e973073472db281db23bcd4e033",
       "max": 2017,
       "min": 2013,
       "style": "IPY_MODEL_bf4619d7a20b4334b61838e1e80a863f",
       "value": 2014
      }
     },
     "1d6a03a531ba40c6a4f0acabe5db71d4": {
      "model_module": "@jupyter-widgets/controls",
      "model_module_version": "1.2.0",
      "model_name": "IntSliderModel",
      "state": {
       "continuous_update": false,
       "description": "Year:",
       "layout": "IPY_MODEL_f32cf49c5e514c9b8d94608493878465",
       "max": 2017,
       "min": 2013,
       "style": "IPY_MODEL_1a08140ba4a24f7d8d0f6c23871b8d0e",
       "value": 2017
      }
     },
     "1de6e6e4cb7d4f92be50aae103c3a68f": {
      "model_module": "@jupyter-widgets/base",
      "model_module_version": "1.0.0",
      "model_name": "LayoutModel",
      "state": {}
     },
     "1e0a78203ab24276b3ecce451e5be69b": {
      "model_module": "@jupyter-widgets/controls",
      "model_module_version": "1.2.0",
      "model_name": "DropdownModel",
      "state": {
       "_options_labels": [
        "Chicago",
        "Springfield",
        "Urbana-Champaign"
       ],
       "description": "Campus:",
       "index": 1,
       "layout": "IPY_MODEL_a7323e4ba9e24e069330a5fd768e330d",
       "style": "IPY_MODEL_a97771d3afab4727a06a88a3591553af"
      }
     },
     "1e139d49a78d434fbeee55bbb9892e7a": {
      "model_module": "@jupyter-widgets/controls",
      "model_module_version": "1.2.0",
      "model_name": "SliderStyleModel",
      "state": {
       "description_width": ""
      }
     },
     "1e1487fb0b3a416caf94e03448faf37b": {
      "model_module": "@jupyter-widgets/controls",
      "model_module_version": "1.2.0",
      "model_name": "SliderStyleModel",
      "state": {
       "description_width": ""
      }
     },
     "1e5a5725b446492f88b2ae3446f58932": {
      "model_module": "@jupyter-widgets/controls",
      "model_module_version": "1.2.0",
      "model_name": "HBoxModel",
      "state": {
       "children": [
        "IPY_MODEL_66c6173732ba44bc9ac88765ee85a600",
        "IPY_MODEL_40e52279879d41579e4826982edb5b38",
        "IPY_MODEL_63153fbe5184442d80bcab745c9e1951"
       ],
       "layout": "IPY_MODEL_d8913aa7f75e440484387df5490e4635"
      }
     },
     "1ef84ffaa631413b8e88d29c65729420": {
      "model_module": "@jupyter-widgets/controls",
      "model_module_version": "1.2.0",
      "model_name": "DescriptionStyleModel",
      "state": {
       "description_width": ""
      }
     },
     "1f1725f7140743188f2206f637258179": {
      "model_module": "@jupyter-widgets/controls",
      "model_module_version": "1.2.0",
      "model_name": "DescriptionStyleModel",
      "state": {
       "description_width": ""
      }
     },
     "1f3ed2a1f79142a882f77facafab2ee2": {
      "model_module": "@jupyter-widgets/controls",
      "model_module_version": "1.2.0",
      "model_name": "HBoxModel",
      "state": {
       "children": [
        "IPY_MODEL_5be4696a112448c1ad6982c4231b1034",
        "IPY_MODEL_7754dccec7c84eab836a6abe28d31e9a",
        "IPY_MODEL_679752b261964dcb826065e990dc2815"
       ],
       "layout": "IPY_MODEL_98c539ea889e406d9c7160f3899f2407"
      }
     },
     "1f4637755b6547eaa6e35f4ea7e266f7": {
      "model_module": "@jupyter-widgets/base",
      "model_module_version": "1.0.0",
      "model_name": "LayoutModel",
      "state": {}
     },
     "1f531392e925408491397ca104e5458d": {
      "model_module": "@jupyter-widgets/controls",
      "model_module_version": "1.2.0",
      "model_name": "DropdownModel",
      "state": {
       "_options_labels": [
        "PROF",
        "ASSOC PROF",
        "ASST PROF",
        "LECTURER",
        "ASSOC DIR",
        "CLIN ASST PROF",
        "SR LECTURER",
        "RES SCI",
        "RES ASST PROF",
        "SR RES SCI",
        "POSTDOC RES ASSOC",
        "CLIN PROF",
        "ASSOC PROF UNIV LIBRARY",
        "ASST PROF UNIV LIBRARY",
        "DEAN",
        "JL DOOB RES ASST PROF",
        "CLIN ASSOC PROF",
        "VST ASST PROF",
        "RES ASSOC PROF",
        "ASST DEAN",
        "RES PROF",
        "PROF (RT)"
       ],
       "description": "Job Title:",
       "index": 2,
       "layout": "IPY_MODEL_c0e6c4b396d647a7891ce8adf99bb6be",
       "style": "IPY_MODEL_61d2114596ce4fc78917f48530796544"
      }
     },
     "1f5d2c3238024017a35dccbf9f0a8ce9": {
      "model_module": "@jupyter-widgets/base",
      "model_module_version": "1.0.0",
      "model_name": "LayoutModel",
      "state": {}
     },
     "1f91f70339d14f578d0c37662f1b493d": {
      "model_module": "@jupyter-widgets/base",
      "model_module_version": "1.0.0",
      "model_name": "LayoutModel",
      "state": {}
     },
     "1fcf9bd246da4f9c83766e0708d937bd": {
      "model_module": "@jupyter-widgets/base",
      "model_module_version": "1.0.0",
      "model_name": "LayoutModel",
      "state": {}
     },
     "1fe5790e21ac4af4aa2cf31fcd08778d": {
      "model_module": "@jupyter-widgets/controls",
      "model_module_version": "1.2.0",
      "model_name": "IntTextModel",
      "state": {
       "description": "Top X:",
       "layout": "IPY_MODEL_a0e03321448d4ba8b93952f69585d44d",
       "step": 1,
       "style": "IPY_MODEL_8c6118968dae40c785da639aba617aa5",
       "value": 10
      }
     },
     "20056a3e62594fdeb39a3e060207e10c": {
      "model_module": "@jupyter-widgets/base",
      "model_module_version": "1.0.0",
      "model_name": "LayoutModel",
      "state": {}
     },
     "2044c55237794a628c95d9d3eed59448": {
      "model_module": "@jupyter-widgets/base",
      "model_module_version": "1.0.0",
      "model_name": "LayoutModel",
      "state": {}
     },
     "2047671e8709436d82e18ac1c1b9628d": {
      "model_module": "@jupyter-widgets/controls",
      "model_module_version": "1.2.0",
      "model_name": "HBoxModel",
      "state": {
       "children": [
        "IPY_MODEL_ff660f20ff864d70b7eb9b46eec722af",
        "IPY_MODEL_b0a6ec65fd8f416898f73057c0ec8f84",
        "IPY_MODEL_10265ba6d231409bb0fce2caddf614b2"
       ],
       "layout": "IPY_MODEL_9f09ee6d3b2a4811a765602c47637d1d"
      }
     },
     "2079462d7b204d5b886baee86ef4af15": {
      "model_module": "@jupyter-widgets/controls",
      "model_module_version": "1.2.0",
      "model_name": "TabModel",
      "state": {
       "_titles": {
        "0": "Department 1",
        "1": "Department 2",
        "2": "Department 3",
        "3": "Department 4",
        "4": "Department 5"
       },
       "children": [
        "IPY_MODEL_1c9d6411411e4730849421a46ec2f1ca",
        "IPY_MODEL_7e07fae970914756914bd2880517b84c",
        "IPY_MODEL_b254ac46898845288323ba9777d7584a",
        "IPY_MODEL_e6ef3e602c254948ba9fb9b0de0bba1a",
        "IPY_MODEL_317807bb24bc4f28aecf8a7761bf2e94"
       ],
       "layout": "IPY_MODEL_34a2fbfbdadb4e04a7753b33c7c5cd56"
      }
     },
     "21773a2e77fb4385b7f2353c0d9c5513": {
      "model_module": "@jupyter-widgets/base",
      "model_module_version": "1.0.0",
      "model_name": "LayoutModel",
      "state": {}
     },
     "217d5819fba94fb892bca6af14ccd6f9": {
      "model_module": "@jupyter-widgets/base",
      "model_module_version": "1.0.0",
      "model_name": "LayoutModel",
      "state": {}
     },
     "21a6abb2f1c94bd6b83c4d79c8063f47": {
      "model_module": "@jupyter-widgets/base",
      "model_module_version": "1.0.0",
      "model_name": "LayoutModel",
      "state": {}
     },
     "2258bf79e25946b08b5805aba5d5d95a": {
      "model_module": "@jupyter-widgets/controls",
      "model_module_version": "1.2.0",
      "model_name": "DropdownModel",
      "state": {
       "_options_labels": [
        "PROF",
        "ASSOC PROF",
        "ASST PROF",
        "LECTURER",
        "ASSOC DIR",
        "CLIN ASST PROF",
        "SR LECTURER",
        "RES SCI",
        "RES ASST PROF",
        "SR RES SCI",
        "POSTDOC RES ASSOC",
        "CLIN PROF",
        "ASSOC PROF UNIV LIBRARY",
        "ASST PROF UNIV LIBRARY",
        "DEAN",
        "JL DOOB RES ASST PROF",
        "CLIN ASSOC PROF",
        "VST ASST PROF",
        "RES ASSOC PROF",
        "ASST DEAN",
        "RES PROF",
        "PROF (RT)"
       ],
       "description": "Job Title:",
       "index": 2,
       "layout": "IPY_MODEL_9d2c1e57a48c4f089f42725e39cbfd2f",
       "style": "IPY_MODEL_8d3e4f1a1a394a3d972f716c1bc66826"
      }
     },
     "225af3b935b748a1abf23449e1727dcd": {
      "model_module": "@jupyter-widgets/controls",
      "model_module_version": "1.2.0",
      "model_name": "DropdownModel",
      "state": {
       "_options_labels": [
        "Chicago",
        "Springfield",
        "Urbana-Champaign"
       ],
       "description": "Campus:",
       "index": 2,
       "layout": "IPY_MODEL_22e8ca8fd47945c7b17a514943d4433a",
       "style": "IPY_MODEL_967af2d6de024833ad55e0438b5ac092"
      }
     },
     "2288bae195fa4b80aae916ee7d8c08f2": {
      "model_module": "@jupyter-widgets/controls",
      "model_module_version": "1.2.0",
      "model_name": "HBoxModel",
      "state": {
       "children": [
        "IPY_MODEL_462a07d5ebcb429db8c99cf33b91b7ac",
        "IPY_MODEL_69ac2a2405ca405e87fecb26a15c678b",
        "IPY_MODEL_499f673dd4b2481ba595baea786fd0e0"
       ],
       "layout": "IPY_MODEL_aa53932e026f4f7d96e33828e8eb81b9"
      }
     },
     "2292b8bf67f5443aa8a4f0c37d58f1de": {
      "model_module": "@jupyter-widgets/base",
      "model_module_version": "1.0.0",
      "model_name": "LayoutModel",
      "state": {}
     },
     "22973f4c390141b3968bb9a3e92aa7f3": {
      "model_module": "@jupyter-widgets/controls",
      "model_module_version": "1.2.0",
      "model_name": "IntSliderModel",
      "state": {
       "continuous_update": false,
       "description": "Year:",
       "layout": "IPY_MODEL_0058f2f6bcee4d9584d5913433e57c13",
       "max": 2017,
       "min": 2013,
       "style": "IPY_MODEL_c04ba2dd5969400ebd1927d5ee0279d4",
       "value": 2016
      }
     },
     "22c696ff0f7f4caab79f7f262e5cd159": {
      "model_module": "@jupyter-widgets/base",
      "model_module_version": "1.0.0",
      "model_name": "LayoutModel",
      "state": {}
     },
     "22e8ca8fd47945c7b17a514943d4433a": {
      "model_module": "@jupyter-widgets/base",
      "model_module_version": "1.0.0",
      "model_name": "LayoutModel",
      "state": {}
     },
     "2314375fdc464fbe96b98f2e08694709": {
      "model_module": "@jupyter-widgets/base",
      "model_module_version": "1.0.0",
      "model_name": "LayoutModel",
      "state": {}
     },
     "2325189e3f0e4c83b9cdb7e7ddb0f582": {
      "model_module": "@jupyter-widgets/controls",
      "model_module_version": "1.2.0",
      "model_name": "TextModel",
      "state": {
       "description": "Department:   ",
       "layout": "IPY_MODEL_05cff27d00284193b29103a0932154ed",
       "style": "IPY_MODEL_72d110f375ef4ee681e104044f248358",
       "value": "Mathematics"
      }
     },
     "233146ee854d42c6aaeb54e05287de16": {
      "model_module": "@jupyter-widgets/controls",
      "model_module_version": "1.2.0",
      "model_name": "IntSliderModel",
      "state": {
       "continuous_update": false,
       "description": "Year:",
       "layout": "IPY_MODEL_51b3afd3519446ea8317bf4a00a3cf19",
       "max": 2017,
       "min": 2013,
       "style": "IPY_MODEL_eed34bc9f0e442c4bd026d9e2865c598",
       "value": 2016
      }
     },
     "2361261f8dfb4041937f0f7ad3d2ae28": {
      "model_module": "@jupyter-widgets/base",
      "model_module_version": "1.0.0",
      "model_name": "LayoutModel",
      "state": {}
     },
     "23c6c2c78cfc49b4b6632551d9fe7222": {
      "model_module": "@jupyter-widgets/controls",
      "model_module_version": "1.2.0",
      "model_name": "IntSliderModel",
      "state": {
       "continuous_update": false,
       "description": "Year:",
       "layout": "IPY_MODEL_1c40dd6c22b24822bb7fbc62715e4409",
       "max": 2017,
       "min": 2013,
       "style": "IPY_MODEL_3a4dabdd20fc43c79815823178f9ecbc",
       "value": 2017
      }
     },
     "2411a51ead4b44ee8c590a93eafed0d0": {
      "model_module": "@jupyter-widgets/controls",
      "model_module_version": "1.2.0",
      "model_name": "DescriptionStyleModel",
      "state": {
       "description_width": ""
      }
     },
     "241afa420e074680b98986fb49d4348a": {
      "model_module": "@jupyter-widgets/controls",
      "model_module_version": "1.2.0",
      "model_name": "TextModel",
      "state": {
       "description": "Department:   ",
       "layout": "IPY_MODEL_3da8b55d08844b0d8d8259bb23e959c7",
       "style": "IPY_MODEL_5648764f46fd4a47aafae6e2a0149c17",
       "value": "Mathematics"
      }
     },
     "2422d2563d3243c8ad516110a3e72fdc": {
      "model_module": "@jupyter-widgets/base",
      "model_module_version": "1.0.0",
      "model_name": "LayoutModel",
      "state": {}
     },
     "2425e3a1b1b34e0386c272db23895d4b": {
      "model_module": "@jupyter-widgets/base",
      "model_module_version": "1.0.0",
      "model_name": "LayoutModel",
      "state": {}
     },
     "246b4535e6ef44e099c8dff90a96fd18": {
      "model_module": "@jupyter-widgets/controls",
      "model_module_version": "1.2.0",
      "model_name": "DescriptionStyleModel",
      "state": {
       "description_width": ""
      }
     },
     "24d486336d6a4063908be34b8d9194b9": {
      "model_module": "@jupyter-widgets/base",
      "model_module_version": "1.0.0",
      "model_name": "LayoutModel",
      "state": {}
     },
     "24e12f5fed6447459f47dab0ebd94b9d": {
      "model_module": "@jupyter-widgets/controls",
      "model_module_version": "1.2.0",
      "model_name": "IntSliderModel",
      "state": {
       "continuous_update": false,
       "description": "Year:",
       "layout": "IPY_MODEL_8fa4f918c27240f08d37f1388df742cb",
       "max": 2017,
       "min": 2013,
       "style": "IPY_MODEL_8fb7fda86f4043b1ae2db8e884ad5841",
       "value": 2014
      }
     },
     "250874db589745588bcb2c6482fa344f": {
      "model_module": "@jupyter-widgets/base",
      "model_module_version": "1.0.0",
      "model_name": "LayoutModel",
      "state": {}
     },
     "2531f667d3d04c0d9de4ed10a5af056c": {
      "model_module": "@jupyter-widgets/controls",
      "model_module_version": "1.2.0",
      "model_name": "DescriptionStyleModel",
      "state": {
       "description_width": ""
      }
     },
     "25374c13c9364c43a5a834b284d08915": {
      "model_module": "@jupyter-widgets/controls",
      "model_module_version": "1.2.0",
      "model_name": "TabModel",
      "state": {
       "_titles": {
        "0": "Department 1",
        "1": "Department 2"
       },
       "children": [
        "IPY_MODEL_96fc37c4d5c846c2b2f3ce7734759c55",
        "IPY_MODEL_c72d433bdb934f029cca64dcfed21cec"
       ],
       "layout": "IPY_MODEL_13b48519713549a69cc5cc9e3823f21b"
      }
     },
     "25528a554e414502bef69db623c8eda4": {
      "model_module": "@jupyter-widgets/controls",
      "model_module_version": "1.2.0",
      "model_name": "HBoxModel",
      "state": {
       "children": [
        "IPY_MODEL_0152aecec290489a93bcb2d6fa321ff1",
        "IPY_MODEL_f568ef1f287c49f8a1ce6b5423229e6c",
        "IPY_MODEL_d38723c961634ebe957f1482cf4ad554"
       ],
       "layout": "IPY_MODEL_8da029929e9846d49ff2328820748a6e"
      }
     },
     "2592fdcb2f9d499fa3a5ebae95bd51ec": {
      "model_module": "@jupyter-widgets/base",
      "model_module_version": "1.0.0",
      "model_name": "DOMWidgetModel",
      "state": {
       "_graph_url": "https://plot.ly/~wangqiwen/22/salary-range-of-faculty-in-information-sciences/",
       "_message": "{\"task\": \"relayout\", \"update\": {\"title\": \"Salary Range of Faculty in Mathematics\", \"xaxis\": {\"title\": \"Salary\"}, \"yaxis\": {\"title\": \"Percentage of Faculty\"}, \"barmode\": \"overlay\"}, \"graphId\": \"11ad359e-e9fb-4ba7-a97a-c9a1ec98210a\", \"uid\": \"27b11ac7-f236-4c43-9938-4ec04d3496c4\"}",
       "_model_name": "DOMWidgetModel",
       "_new_url": "",
       "_view_module": "graphWidget",
       "_view_module_version": "",
       "_view_name": "GraphView",
       "layout": "IPY_MODEL_ce8384c12bb6482f99773b2364ad89f3"
      }
     },
     "260f98892a8542948e130ebcd0faa37d": {
      "model_module": "@jupyter-widgets/controls",
      "model_module_version": "1.2.0",
      "model_name": "TabModel",
      "state": {
       "_titles": {
        "0": "0",
        "1": "1",
        "2": "2",
        "3": "3",
        "4": "4"
       },
       "children": [
        "IPY_MODEL_81ab7d720cef4cf2a027884c8ea4c26b",
        "IPY_MODEL_d93b547248e144bb9774d5d0103257d6",
        "IPY_MODEL_2f9bb102d2f84f35a9446afd87d23fd8",
        "IPY_MODEL_f2a2c378ce1c4420afd6be6fb374940b",
        "IPY_MODEL_b6b1fcc0a4204528a855da4b329cdc50"
       ],
       "layout": "IPY_MODEL_b4203b53a71d4051a8bf5a24cb3a1ba0",
       "selected_index": 4
      }
     },
     "266b534d6866428883e3302a9512954a": {
      "model_module": "@jupyter-widgets/base",
      "model_module_version": "1.0.0",
      "model_name": "DOMWidgetModel",
      "state": {
       "_graph_url": "https://plot.ly/~wangqiwen/20/median-salary-median-salary-median-salary/",
       "_message": "",
       "_model_name": "DOMWidgetModel",
       "_new_url": "",
       "_view_module": "graphWidget",
       "_view_module_version": "",
       "_view_name": "GraphView",
       "layout": "IPY_MODEL_2ae3e3c6ca394c87b2599c1d839c2d89"
      }
     },
     "26c62e8ce2414f1a941578aee6e9c1db": {
      "model_module": "@jupyter-widgets/controls",
      "model_module_version": "1.2.0",
      "model_name": "HBoxModel",
      "state": {
       "children": [
        "IPY_MODEL_8e9c1b4e9f0d4569ae8dafb07ae59635",
        "IPY_MODEL_ff7a080d290f4e9cbc2d60811901c7d2",
        "IPY_MODEL_355b6d7b36964f64b1a1f4696ab2a1bf"
       ],
       "layout": "IPY_MODEL_0462219fe44c4be0a93fffc8ef93505d"
      }
     },
     "26e362019e954f73b04b3f7715ebfad1": {
      "model_module": "@jupyter-widgets/controls",
      "model_module_version": "1.2.0",
      "model_name": "HBoxModel",
      "state": {
       "children": [
        "IPY_MODEL_ae4615fb4a7543a0a40abe3d797dd710",
        "IPY_MODEL_43aebf99578747cb967a8b54fe221317",
        "IPY_MODEL_38d8b35ff2e04ec7b7709d3e0de600fe"
       ],
       "layout": "IPY_MODEL_5327ba0bea3449dfbf25be282374f9b1"
      }
     },
     "2703b8f08a0c4a69b4f9e6d6c6b22868": {
      "model_module": "@jupyter-widgets/controls",
      "model_module_version": "1.2.0",
      "model_name": "DescriptionStyleModel",
      "state": {
       "description_width": ""
      }
     },
     "2725a364fef44cec8bc1331aadde98f7": {
      "model_module": "@jupyter-widgets/controls",
      "model_module_version": "1.2.0",
      "model_name": "DescriptionStyleModel",
      "state": {
       "description_width": ""
      }
     },
     "279ac9c3c3bf4375ac048840ab64903f": {
      "model_module": "@jupyter-widgets/controls",
      "model_module_version": "1.2.0",
      "model_name": "HBoxModel",
      "state": {
       "children": [
        "IPY_MODEL_68f0521b3c26474fa8fabded06f9d210",
        "IPY_MODEL_42524e1eb9af4ea6a2953af4ee1f717e",
        "IPY_MODEL_4a871288ed1f40f5bb5b3a98eecee2f7"
       ],
       "layout": "IPY_MODEL_f7577a52ff484888a698315953f36846"
      }
     },
     "27a36171178d4d549a1fbb7e5b16cb0d": {
      "model_module": "@jupyter-widgets/base",
      "model_module_version": "1.0.0",
      "model_name": "LayoutModel",
      "state": {}
     },
     "27c88411ebdb47aba7b125195b0f448a": {
      "model_module": "@jupyter-widgets/controls",
      "model_module_version": "1.2.0",
      "model_name": "DropdownModel",
      "state": {
       "_options_labels": [
        "Chicago",
        "Springfield",
        "Urbana-Champaign"
       ],
       "description": "Campus:",
       "index": 2,
       "layout": "IPY_MODEL_5f120d7e2f4a46658db34af5bd3a9e2a",
       "style": "IPY_MODEL_69a1911b9f854fb7968c0af0e66cc7b5"
      }
     },
     "28c3cc1b0fbc47f9b347f60d0ded5414": {
      "model_module": "@jupyter-widgets/controls",
      "model_module_version": "1.2.0",
      "model_name": "DropdownModel",
      "state": {
       "_options_labels": [
        "Chicago",
        "Springfield",
        "Urbana-Champaign"
       ],
       "description": "Campus:",
       "index": 2,
       "layout": "IPY_MODEL_0653d98da9f24546b54afc21919187b7",
       "style": "IPY_MODEL_575ac9d8d66c4a2c99d0029f67a0cbdb"
      }
     },
     "28c855076c2240f8807a6c310bb39623": {
      "model_module": "@jupyter-widgets/controls",
      "model_module_version": "1.2.0",
      "model_name": "DropdownModel",
      "state": {
       "_options_labels": [
        "PROF",
        "ASSOC PROF",
        "ASST PROF",
        "LECTURER",
        "ASSOC DIR",
        "CLIN ASST PROF",
        "SR LECTURER",
        "RES SCI",
        "RES ASST PROF",
        "SR RES SCI",
        "POSTDOC RES ASSOC",
        "CLIN PROF",
        "ASSOC PROF UNIV LIBRARY",
        "ASST PROF UNIV LIBRARY",
        "DEAN",
        "JL DOOB RES ASST PROF",
        "CLIN ASSOC PROF",
        "VST ASST PROF",
        "RES ASSOC PROF",
        "ASST DEAN",
        "RES PROF",
        "PROF (RT)"
       ],
       "description": "Job Title:",
       "index": 4,
       "layout": "IPY_MODEL_52d5511e2b0645aaa0f91377a10faff7",
       "style": "IPY_MODEL_c0c9cf328c4a4ad89a457f9786231586"
      }
     },
     "291a31edd4f3435592d2125b6a915599": {
      "model_module": "@jupyter-widgets/controls",
      "model_module_version": "1.2.0",
      "model_name": "TabModel",
      "state": {
       "_titles": {
        "0": "Department 1",
        "1": "Department 2",
        "2": "Department 3",
        "3": "Department 4",
        "4": "Department 5"
       },
       "children": [
        "IPY_MODEL_cacffb098bb4434bac8e7da5bb6cb033",
        "IPY_MODEL_669a8a6b85304e3383dd9423b87fd35a",
        "IPY_MODEL_95d2fbecc5ca4a85a885f978480bca67",
        "IPY_MODEL_18266a32fd6e4fbca16067e9d179698a",
        "IPY_MODEL_279ac9c3c3bf4375ac048840ab64903f"
       ],
       "layout": "IPY_MODEL_a926e63d0f8a46818e90a4c639b8a290",
       "selected_index": 4
      }
     },
     "29260f4ce6ac40d1b4de6ce656e85baf": {
      "model_module": "@jupyter-widgets/base",
      "model_module_version": "1.0.0",
      "model_name": "LayoutModel",
      "state": {}
     },
     "29289431288e434690c9805bb5bcb88d": {
      "model_module": "@jupyter-widgets/base",
      "model_module_version": "1.0.0",
      "model_name": "LayoutModel",
      "state": {}
     },
     "2954415653824fd594a6efbb15a17bcc": {
      "model_module": "@jupyter-widgets/controls",
      "model_module_version": "1.2.0",
      "model_name": "HBoxModel",
      "state": {
       "children": [
        "IPY_MODEL_225af3b935b748a1abf23449e1727dcd",
        "IPY_MODEL_e9a5be8add1b402db54417b03db6b079",
        "IPY_MODEL_9f0e02e9ce2248b7a7b01151ff3c4142"
       ],
       "layout": "IPY_MODEL_b8dd440e95a24cce8a3dc5a742248dda"
      }
     },
     "2954e3f1e528475e8e17f456da59d945": {
      "model_module": "@jupyter-widgets/base",
      "model_module_version": "1.0.0",
      "model_name": "LayoutModel",
      "state": {}
     },
     "29584565b6464c3dbd5892ef00f08760": {
      "model_module": "@jupyter-widgets/base",
      "model_module_version": "1.0.0",
      "model_name": "LayoutModel",
      "state": {}
     },
     "29b2118ec476461c8e1eb58560a8a4ad": {
      "model_module": "@jupyter-widgets/controls",
      "model_module_version": "1.2.0",
      "model_name": "DropdownModel",
      "state": {
       "_options_labels": [
        "Chicago",
        "Springfield",
        "Urbana-Champaign"
       ],
       "description": "Campus:",
       "index": 2,
       "layout": "IPY_MODEL_005e433d12f5486686c520f95eae6c02",
       "style": "IPY_MODEL_3b88914348cb4e55a9574a4ee64543fc"
      }
     },
     "29fc4c65b3ae4d3b98d6690570220a9c": {
      "model_module": "@jupyter-widgets/controls",
      "model_module_version": "1.2.0",
      "model_name": "DescriptionStyleModel",
      "state": {
       "description_width": ""
      }
     },
     "29fd27583825405ca8ed7d5d67459494": {
      "model_module": "@jupyter-widgets/controls",
      "model_module_version": "1.2.0",
      "model_name": "TextModel",
      "state": {
       "description": "Department:   ",
       "layout": "IPY_MODEL_24d486336d6a4063908be34b8d9194b9",
       "style": "IPY_MODEL_c08019b4295d4d0c8b59e03e606990e5",
       "value": "Mathematics"
      }
     },
     "2a2c84b4fcb94997bdb36d0c52e4315e": {
      "model_module": "@jupyter-widgets/controls",
      "model_module_version": "1.2.0",
      "model_name": "DropdownModel",
      "state": {
       "_options_labels": [
        "Chicago",
        "Springfield",
        "Urbana-Champaign"
       ],
       "description": "Campus:",
       "index": 1,
       "layout": "IPY_MODEL_f1d05e20acb7415b9fbc3e16c5b6f584",
       "style": "IPY_MODEL_4a251a341fe94f438375c6c698aa62b7"
      }
     },
     "2a2ca0397f604d8dabb4640c0afe3163": {
      "model_module": "@jupyter-widgets/base",
      "model_module_version": "1.0.0",
      "model_name": "DOMWidgetModel",
      "state": {
       "_graph_url": "https://plot.ly/~wangqiwen/18/median-salary-median-salary-median-salary/",
       "_message": "",
       "_model_name": "DOMWidgetModel",
       "_new_url": "",
       "_view_module": "graphWidget",
       "_view_module_version": "",
       "_view_name": "GraphView",
       "layout": "IPY_MODEL_4399885a8d714fa193b465f3a2f55e06"
      }
     },
     "2a3b5f84ef95459ab129d75a70b41456": {
      "model_module": "@jupyter-widgets/base",
      "model_module_version": "1.0.0",
      "model_name": "LayoutModel",
      "state": {}
     },
     "2a5059cce8f8438ea14d870331cfb64b": {
      "model_module": "@jupyter-widgets/base",
      "model_module_version": "1.0.0",
      "model_name": "DOMWidgetModel",
      "state": {
       "_graph_url": "https://plot.ly/~wangqiwen/20/median-salary-median-salary-median-salary/",
       "_message": "",
       "_model_name": "DOMWidgetModel",
       "_new_url": "",
       "_view_module": "graphWidget",
       "_view_module_version": "",
       "_view_name": "GraphView",
       "layout": "IPY_MODEL_e36b5f0cd85a4fbeb709073a80a875dd"
      }
     },
     "2a561c55c30a4697a295c177bd896839": {
      "model_module": "@jupyter-widgets/base",
      "model_module_version": "1.0.0",
      "model_name": "LayoutModel",
      "state": {}
     },
     "2a9567a8c44946d090d93a8867d5b3e4": {
      "model_module": "@jupyter-widgets/controls",
      "model_module_version": "1.2.0",
      "model_name": "IntSliderModel",
      "state": {
       "continuous_update": false,
       "description": "Year:",
       "layout": "IPY_MODEL_547dd89daca6458fa8241ce569f3b993",
       "max": 2017,
       "min": 2013,
       "style": "IPY_MODEL_b4b39b726fe043baab376d78e1776b98",
       "value": 2017
      }
     },
     "2aa6049dce604552b17394f2471aca98": {
      "model_module": "@jupyter-widgets/controls",
      "model_module_version": "1.2.0",
      "model_name": "DropdownModel",
      "state": {
       "_options_labels": [
        "Chicago",
        "Springfield",
        "Urbana-Champaign"
       ],
       "description": "Campus:",
       "index": 2,
       "layout": "IPY_MODEL_b534a12840dd4e9aaa1e1f9765cf4c8f",
       "style": "IPY_MODEL_63214bcc38b040b2a4c538088471c777"
      }
     },
     "2acbf497e2f84d07b363b7b6e30f95d3": {
      "model_module": "@jupyter-widgets/controls",
      "model_module_version": "1.2.0",
      "model_name": "IntSliderModel",
      "state": {
       "continuous_update": false,
       "description": "Year:",
       "layout": "IPY_MODEL_3b44a3989db94c62b98749e9f23817b0",
       "max": 2017,
       "min": 2013,
       "style": "IPY_MODEL_bd8d8809320c4fcb8952fb77780cb53a",
       "value": 2016
      }
     },
     "2ae3e3c6ca394c87b2599c1d839c2d89": {
      "model_module": "@jupyter-widgets/base",
      "model_module_version": "1.0.0",
      "model_name": "LayoutModel",
      "state": {}
     },
     "2af9464607b047cc93fe577929951f85": {
      "model_module": "@jupyter-widgets/base",
      "model_module_version": "1.0.0",
      "model_name": "LayoutModel",
      "state": {}
     },
     "2b0bef4a00e34294927d8176652d3721": {
      "model_module": "@jupyter-widgets/base",
      "model_module_version": "1.0.0",
      "model_name": "LayoutModel",
      "state": {}
     },
     "2b39edb5882d4d42bc294683ec0d53ee": {
      "model_module": "@jupyter-widgets/controls",
      "model_module_version": "1.2.0",
      "model_name": "TextModel",
      "state": {
       "description": "Department:   ",
       "layout": "IPY_MODEL_9c2a901cbb504e55bcd73e504540d56a",
       "style": "IPY_MODEL_316065fdf60249a0857bd5bc855c22fd",
       "value": "Mathematics"
      }
     },
     "2b906d35d5ad420a88e171996c1d9ac8": {
      "model_module": "@jupyter-widgets/base",
      "model_module_version": "1.0.0",
      "model_name": "DOMWidgetModel",
      "state": {
       "_graph_url": "https://plot.ly/~wangqiwen/8/salary-range-of-faculty-in-information-sciences-computer-science/",
       "_message": "",
       "_model_name": "DOMWidgetModel",
       "_new_url": "",
       "_view_module": "graphWidget",
       "_view_module_version": "",
       "_view_name": "GraphView",
       "layout": "IPY_MODEL_03b066c42a8a4472bc5a0241f2fd638c"
      }
     },
     "2befb182fa7340539968ed3dc6b93de7": {
      "model_module": "@jupyter-widgets/base",
      "model_module_version": "1.0.0",
      "model_name": "LayoutModel",
      "state": {}
     },
     "2bf31aa522fe48ae93c478b29fd9299f": {
      "model_module": "@jupyter-widgets/base",
      "model_module_version": "1.0.0",
      "model_name": "LayoutModel",
      "state": {}
     },
     "2c0ea6b970ff453c8ba81a4f08e6d075": {
      "model_module": "@jupyter-widgets/base",
      "model_module_version": "1.0.0",
      "model_name": "LayoutModel",
      "state": {}
     },
     "2c2ec677f4314103ac6552fdc4cb436b": {
      "model_module": "@jupyter-widgets/controls",
      "model_module_version": "1.2.0",
      "model_name": "TextModel",
      "state": {
       "description": "Department:   ",
       "layout": "IPY_MODEL_250874db589745588bcb2c6482fa344f",
       "style": "IPY_MODEL_e50caac05824402e8051036ffd6d70e0"
      }
     },
     "2c5493707a5a48c2b8c1f4cdf9e4a704": {
      "model_module": "@jupyter-widgets/base",
      "model_module_version": "1.0.0",
      "model_name": "LayoutModel",
      "state": {}
     },
     "2c9314b738f249af8a0acaaf952cceb3": {
      "model_module": "@jupyter-widgets/controls",
      "model_module_version": "1.2.0",
      "model_name": "DropdownModel",
      "state": {
       "_options_labels": [
        "Chicago",
        "Springfield",
        "Urbana-Champaign"
       ],
       "description": "Campus:",
       "index": 2,
       "layout": "IPY_MODEL_bbdee6dcc9b1409fa5c504c5c834300d",
       "style": "IPY_MODEL_d549fa65ef24469f886729c497d047e4"
      }
     },
     "2cae755b7a72441ab42ea70a686ef3a5": {
      "model_module": "@jupyter-widgets/controls",
      "model_module_version": "1.2.0",
      "model_name": "DescriptionStyleModel",
      "state": {
       "description_width": ""
      }
     },
     "2cfc71357289416abebdc4ddd32e2942": {
      "model_module": "@jupyter-widgets/controls",
      "model_module_version": "1.2.0",
      "model_name": "SliderStyleModel",
      "state": {
       "description_width": ""
      }
     },
     "2d32059f4fd343bc80be850c6acbba92": {
      "model_module": "@jupyter-widgets/controls",
      "model_module_version": "1.2.0",
      "model_name": "HBoxModel",
      "state": {
       "children": [
        "IPY_MODEL_eabaad0a676d4ead9bec71f3edb1c314",
        "IPY_MODEL_29fd27583825405ca8ed7d5d67459494",
        "IPY_MODEL_d73e2f4d562246bb9303d033dffd44af"
       ],
       "layout": "IPY_MODEL_8da076f7bc894823b9584e218e571c68"
      }
     },
     "2d6f961904c44636b588f78fe7f8c338": {
      "model_module": "@jupyter-widgets/controls",
      "model_module_version": "1.2.0",
      "model_name": "SliderStyleModel",
      "state": {
       "description_width": ""
      }
     },
     "2dcfcf55022440bba584cc056ea1c0fd": {
      "model_module": "@jupyter-widgets/base",
      "model_module_version": "1.0.0",
      "model_name": "LayoutModel",
      "state": {}
     },
     "2dd98de6c4294c5f900bcb5c945863bd": {
      "model_module": "@jupyter-widgets/controls",
      "model_module_version": "1.2.0",
      "model_name": "DescriptionStyleModel",
      "state": {
       "description_width": ""
      }
     },
     "2e051eab32a14197b2f0aff497c70e2c": {
      "model_module": "@jupyter-widgets/controls",
      "model_module_version": "1.2.0",
      "model_name": "IntSliderModel",
      "state": {
       "continuous_update": false,
       "description": "Year:",
       "layout": "IPY_MODEL_6c7b51435ccb46af9e5dfc61c179df31",
       "max": 2017,
       "min": 2013,
       "style": "IPY_MODEL_d920fd68379342e584ab53e2036f007a",
       "value": 2017
      }
     },
     "2e56f54d53cd4969a600df007c181eb6": {
      "model_module": "@jupyter-widgets/base",
      "model_module_version": "1.0.0",
      "model_name": "LayoutModel",
      "state": {}
     },
     "2ec7f872eab84ffb95b615ad2d5204a3": {
      "model_module": "@jupyter-widgets/base",
      "model_module_version": "1.0.0",
      "model_name": "LayoutModel",
      "state": {}
     },
     "2f11836f03284d8b962bd51c27fe3c44": {
      "model_module": "@jupyter-widgets/base",
      "model_module_version": "1.0.0",
      "model_name": "LayoutModel",
      "state": {}
     },
     "2f8c76600cf942548c1dc0410ee6b1a8": {
      "model_module": "@jupyter-widgets/controls",
      "model_module_version": "1.2.0",
      "model_name": "HBoxModel",
      "state": {
       "children": [
        "IPY_MODEL_6035e8cdc4bf494985f6f8733681bdca",
        "IPY_MODEL_da8c8bd64f36495086d1395de16a39aa",
        "IPY_MODEL_12586e5b0a134a8fa516f43a45f0418f"
       ],
       "layout": "IPY_MODEL_42a0844a2e924d3698104d309c034bdb"
      }
     },
     "2f9a0754d04146ed94f22c955dd9ebcb": {
      "model_module": "@jupyter-widgets/controls",
      "model_module_version": "1.2.0",
      "model_name": "DropdownModel",
      "state": {
       "_options_labels": [
        "Chicago",
        "Springfield",
        "Urbana-Champaign"
       ],
       "description": "Campus:",
       "index": 2,
       "layout": "IPY_MODEL_462f90528a5b49439f03b309b4bc808b",
       "style": "IPY_MODEL_48ed2195541b4a7e94bbaf64243d0c0d"
      }
     },
     "2f9bb102d2f84f35a9446afd87d23fd8": {
      "model_module": "@jupyter-widgets/controls",
      "model_module_version": "1.2.0",
      "model_name": "TextModel",
      "state": {
       "description": "Department 3",
       "layout": "IPY_MODEL_5726a906ffaa4773970cbb5ef468f51a",
       "style": "IPY_MODEL_1931a084e88540cf8e8e97b087647ee3"
      }
     },
     "2fac3923d7be44b691f3f88a6f7207d5": {
      "model_module": "@jupyter-widgets/controls",
      "model_module_version": "1.2.0",
      "model_name": "DescriptionStyleModel",
      "state": {
       "description_width": ""
      }
     },
     "2fdb6318ec2745f1b2049128a57da369": {
      "model_module": "@jupyter-widgets/controls",
      "model_module_version": "1.2.0",
      "model_name": "DescriptionStyleModel",
      "state": {
       "description_width": ""
      }
     },
     "2fe01939f40b4157b807c82c07825165": {
      "model_module": "@jupyter-widgets/controls",
      "model_module_version": "1.2.0",
      "model_name": "HBoxModel",
      "state": {
       "children": [
        "IPY_MODEL_29b2118ec476461c8e1eb58560a8a4ad",
        "IPY_MODEL_16773aec91f04c59a615cc12691f854c",
        "IPY_MODEL_48ea20c1dd984c819eef812c92adfbb2"
       ],
       "layout": "IPY_MODEL_2314375fdc464fbe96b98f2e08694709"
      }
     },
     "2ffddf44db784d0cab5d11e710771b9c": {
      "model_module": "@jupyter-widgets/base",
      "model_module_version": "1.0.0",
      "model_name": "LayoutModel",
      "state": {}
     },
     "3089ce9f3c1d4edc8fc55a7518102bb8": {
      "model_module": "@jupyter-widgets/controls",
      "model_module_version": "1.2.0",
      "model_name": "DescriptionStyleModel",
      "state": {
       "description_width": ""
      }
     },
     "30bd0cac5e3047a0ae2873b7f11193a4": {
      "model_module": "@jupyter-widgets/controls",
      "model_module_version": "1.2.0",
      "model_name": "DescriptionStyleModel",
      "state": {
       "description_width": ""
      }
     },
     "312d39a93839439598e17583471d0111": {
      "model_module": "@jupyter-widgets/controls",
      "model_module_version": "1.2.0",
      "model_name": "DescriptionStyleModel",
      "state": {
       "description_width": ""
      }
     },
     "316065fdf60249a0857bd5bc855c22fd": {
      "model_module": "@jupyter-widgets/controls",
      "model_module_version": "1.2.0",
      "model_name": "DescriptionStyleModel",
      "state": {
       "description_width": ""
      }
     },
     "317807bb24bc4f28aecf8a7761bf2e94": {
      "model_module": "@jupyter-widgets/controls",
      "model_module_version": "1.2.0",
      "model_name": "HBoxModel",
      "state": {
       "children": [
        "IPY_MODEL_e8ad56d9f63c4ce2b844456e636249da",
        "IPY_MODEL_1610a655ee404d108f4c409ed104d6a1",
        "IPY_MODEL_93345304a30341e9ab7426395ea36c63"
       ],
       "layout": "IPY_MODEL_7ce96ae691f6488f804d8b7b5a1790d0"
      }
     },
     "317ed1a8979c4e55874c98494af21f16": {
      "model_module": "@jupyter-widgets/controls",
      "model_module_version": "1.2.0",
      "model_name": "DescriptionStyleModel",
      "state": {
       "description_width": ""
      }
     },
     "318700fbb1334eff9b002d29a9266d54": {
      "model_module": "@jupyter-widgets/base",
      "model_module_version": "1.0.0",
      "model_name": "LayoutModel",
      "state": {}
     },
     "3196132746ff489493d15c6a0da24b57": {
      "model_module": "@jupyter-widgets/controls",
      "model_module_version": "1.2.0",
      "model_name": "HBoxModel",
      "state": {
       "children": [
        "IPY_MODEL_83328529116642f492594d5a9d49f345",
        "IPY_MODEL_a1433d13517444c182210ec5c5785b70",
        "IPY_MODEL_cd36b7d819404a73a557189be4b85213"
       ],
       "layout": "IPY_MODEL_dbced9a02e7141939db4203f3bddf6a0"
      }
     },
     "31b0b129e5724e1d94a32524e13dbc2a": {
      "model_module": "@jupyter-widgets/base",
      "model_module_version": "1.0.0",
      "model_name": "LayoutModel",
      "state": {}
     },
     "31dabedb29b54745a143073ede3cdf7f": {
      "model_module": "@jupyter-widgets/controls",
      "model_module_version": "1.2.0",
      "model_name": "DropdownModel",
      "state": {
       "_options_labels": [
        "Chicago",
        "Springfield",
        "Urbana-Champaign"
       ],
       "description": "Campus:",
       "index": 2,
       "layout": "IPY_MODEL_2af9464607b047cc93fe577929951f85",
       "style": "IPY_MODEL_1cc85ab9628145048680c8e9fe1d7558"
      }
     },
     "31de55eddbd94d64b11323f8badd318f": {
      "model_module": "@jupyter-widgets/controls",
      "model_module_version": "1.2.0",
      "model_name": "IntSliderModel",
      "state": {
       "continuous_update": false,
       "description": "Year:",
       "layout": "IPY_MODEL_8e9e082673e641088dd439e04a024d72",
       "max": 2017,
       "min": 2013,
       "style": "IPY_MODEL_cd1177cdef9a4b11af6b89f86b7f064d",
       "value": 2017
      }
     },
     "32158de70b9c4626ba96e4549bc79edc": {
      "model_module": "@jupyter-widgets/base",
      "model_module_version": "1.0.0",
      "model_name": "LayoutModel",
      "state": {}
     },
     "3233d84a11814f68bb745a55ebb26f9c": {
      "model_module": "@jupyter-widgets/controls",
      "model_module_version": "1.2.0",
      "model_name": "DropdownModel",
      "state": {
       "_options_labels": [
        "Chicago",
        "Springfield",
        "Urbana-Champaign"
       ],
       "description": "Campus:",
       "index": 2,
       "layout": "IPY_MODEL_c442d607eee04ea2b6c1f98702a16f77",
       "style": "IPY_MODEL_1465e9ab004d4a57b368582fb5cca59a"
      }
     },
     "3272e70cbfdb4271b8517f054e1d5cd7": {
      "model_module": "@jupyter-widgets/base",
      "model_module_version": "1.0.0",
      "model_name": "LayoutModel",
      "state": {}
     },
     "32c801b6efd44e97964e29df375a0926": {
      "model_module": "@jupyter-widgets/base",
      "model_module_version": "1.0.0",
      "model_name": "LayoutModel",
      "state": {}
     },
     "32cb2174b5114fe8bd78a446553755dc": {
      "model_module": "@jupyter-widgets/controls",
      "model_module_version": "1.2.0",
      "model_name": "TextModel",
      "state": {
       "description": "Department 1",
       "layout": "IPY_MODEL_2a3b5f84ef95459ab129d75a70b41456",
       "style": "IPY_MODEL_899373b1656740f2953fb40ca90cc880"
      }
     },
     "32e41095203c407baa6758832b617f6c": {
      "model_module": "@jupyter-widgets/controls",
      "model_module_version": "1.2.0",
      "model_name": "DescriptionStyleModel",
      "state": {
       "description_width": ""
      }
     },
     "3302342757444963816336d4bcd8d82b": {
      "model_module": "@jupyter-widgets/controls",
      "model_module_version": "1.2.0",
      "model_name": "IntSliderModel",
      "state": {
       "continuous_update": false,
       "description": "Year:",
       "layout": "IPY_MODEL_54789d6a162c4feab814163e992c35ed",
       "max": 2017,
       "min": 2013,
       "style": "IPY_MODEL_efe81e25f837469bb5ec8ea5d1b6af9c",
       "value": 2017
      }
     },
     "3306e235d7c842fe8c81148dc3f56d56": {
      "model_module": "@jupyter-widgets/controls",
      "model_module_version": "1.2.0",
      "model_name": "TextModel",
      "state": {
       "description": "Department:   ",
       "layout": "IPY_MODEL_813612e48a4243abb85cf3bea9dee2fd",
       "style": "IPY_MODEL_a181d08f7925474a9011b1410ba6884d",
       "value": "Mathematics"
      }
     },
     "332a52e1fea94207ba87e7bb0d4d65c0": {
      "model_module": "@jupyter-widgets/controls",
      "model_module_version": "1.2.0",
      "model_name": "TextModel",
      "state": {
       "description": "Department:   ",
       "layout": "IPY_MODEL_995a6cb41e1f4f45a87023c21ec23d71",
       "style": "IPY_MODEL_c01b4aa6b415424c8cf32f6ccdc21305"
      }
     },
     "33905af262d94885a266d50d38cbc99a": {
      "model_module": "@jupyter-widgets/base",
      "model_module_version": "1.0.0",
      "model_name": "LayoutModel",
      "state": {}
     },
     "33cf55718ac14620bd29ea4be330402e": {
      "model_module": "@jupyter-widgets/base",
      "model_module_version": "1.0.0",
      "model_name": "LayoutModel",
      "state": {}
     },
     "33da7536ac95479f80ff11cd943a80cf": {
      "model_module": "@jupyter-widgets/controls",
      "model_module_version": "1.2.0",
      "model_name": "DropdownModel",
      "state": {
       "_options_labels": [
        "PROF",
        "ASSOC PROF",
        "ASST PROF",
        "LECTURER",
        "ASSOC DIR",
        "CLIN ASST PROF",
        "SR LECTURER",
        "RES SCI",
        "RES ASST PROF",
        "SR RES SCI",
        "POSTDOC RES ASSOC",
        "CLIN PROF",
        "ASSOC PROF UNIV LIBRARY",
        "ASST PROF UNIV LIBRARY",
        "DEAN",
        "JL DOOB RES ASST PROF",
        "CLIN ASSOC PROF",
        "VST ASST PROF",
        "RES ASSOC PROF",
        "ASST DEAN",
        "RES PROF",
        "PROF (RT)"
       ],
       "description": "Job Title:",
       "index": 0,
       "layout": "IPY_MODEL_416fb99584d543c7b854b4c41b87bfc6",
       "style": "IPY_MODEL_c6068e0916d345b4b256f9b0128d8c2f"
      }
     },
     "33dc039967a541a4936b64e6910d903d": {
      "model_module": "@jupyter-widgets/controls",
      "model_module_version": "1.2.0",
      "model_name": "DescriptionStyleModel",
      "state": {
       "description_width": ""
      }
     },
     "342a2e614b324af38ee56adc744150eb": {
      "model_module": "@jupyter-widgets/controls",
      "model_module_version": "1.2.0",
      "model_name": "DropdownModel",
      "state": {
       "_options_labels": [
        "PROF",
        "ASSOC PROF",
        "ASST PROF",
        "LECTURER",
        "ASSOC DIR",
        "CLIN ASST PROF",
        "SR LECTURER",
        "RES SCI",
        "RES ASST PROF",
        "SR RES SCI",
        "POSTDOC RES ASSOC",
        "CLIN PROF",
        "ASSOC PROF UNIV LIBRARY",
        "ASST PROF UNIV LIBRARY",
        "DEAN",
        "JL DOOB RES ASST PROF",
        "CLIN ASSOC PROF",
        "VST ASST PROF",
        "RES ASSOC PROF",
        "ASST DEAN",
        "RES PROF",
        "PROF (RT)"
       ],
       "description": "Job Title:",
       "index": 2,
       "layout": "IPY_MODEL_000696a67f19423ca2daa5f02b492435",
       "style": "IPY_MODEL_18018c9a266740bfab4c9a5848cd1d54"
      }
     },
     "3459ff6345b14338a29c72cee94602d2": {
      "model_module": "@jupyter-widgets/base",
      "model_module_version": "1.0.0",
      "model_name": "LayoutModel",
      "state": {}
     },
     "349849ed899443ab9fb30dceb0da271c": {
      "model_module": "@jupyter-widgets/base",
      "model_module_version": "1.0.0",
      "model_name": "LayoutModel",
      "state": {}
     },
     "34a2fbfbdadb4e04a7753b33c7c5cd56": {
      "model_module": "@jupyter-widgets/base",
      "model_module_version": "1.0.0",
      "model_name": "LayoutModel",
      "state": {}
     },
     "34c2cb6b0cd44ac4a67d42fec2186d2b": {
      "model_module": "@jupyter-widgets/controls",
      "model_module_version": "1.2.0",
      "model_name": "HBoxModel",
      "state": {
       "children": [
        "IPY_MODEL_27c88411ebdb47aba7b125195b0f448a",
        "IPY_MODEL_f9b697ad95a54c8f8d597ee920944056",
        "IPY_MODEL_3a41e2777fd7408f9c172a1258d86011"
       ],
       "layout": "IPY_MODEL_92ba5433855c4c8699fbf010ad91e0bd"
      }
     },
     "34d59a1dee8d42229673549a7fbce4a1": {
      "model_module": "@jupyter-widgets/controls",
      "model_module_version": "1.2.0",
      "model_name": "DropdownModel",
      "state": {
       "_options_labels": [
        "PROF",
        "ASSOC PROF",
        "ASST PROF",
        "LECTURER",
        "ASSOC DIR",
        "CLIN ASST PROF",
        "SR LECTURER",
        "RES SCI",
        "RES ASST PROF",
        "SR RES SCI",
        "POSTDOC RES ASSOC",
        "CLIN PROF",
        "ASSOC PROF UNIV LIBRARY",
        "ASST PROF UNIV LIBRARY",
        "DEAN",
        "JL DOOB RES ASST PROF",
        "CLIN ASSOC PROF",
        "VST ASST PROF",
        "RES ASSOC PROF",
        "ASST DEAN",
        "RES PROF",
        "PROF (RT)"
       ],
       "description": "Job Title:",
       "index": 0,
       "layout": "IPY_MODEL_ecee1ae2405f4bb5a3bb31fe9fceecab",
       "style": "IPY_MODEL_1c5019b1b8194b3f8a0886441e08767e"
      }
     },
     "35001eb446804948a034fd5307cbc1cf": {
      "model_module": "@jupyter-widgets/controls",
      "model_module_version": "1.2.0",
      "model_name": "DropdownModel",
      "state": {
       "_options_labels": [
        "Chicago",
        "Springfield",
        "Urbana-Champaign"
       ],
       "description": "Campus:",
       "index": 2,
       "layout": "IPY_MODEL_c28ea1becd5445339a6435e40fff3b9f",
       "style": "IPY_MODEL_a2be83da54a94b9b9774e659d883b825"
      }
     },
     "355b6d7b36964f64b1a1f4696ab2a1bf": {
      "model_module": "@jupyter-widgets/controls",
      "model_module_version": "1.2.0",
      "model_name": "IntSliderModel",
      "state": {
       "continuous_update": false,
       "description": "Year:",
       "layout": "IPY_MODEL_0d68c125e0664f48a589030eac46fb08",
       "max": 2017,
       "min": 2013,
       "style": "IPY_MODEL_cb48e0fba41b4c1eb3694cfb3c4fc72d",
       "value": 2017
      }
     },
     "3593fe795d4045788048937caedc3b7a": {
      "model_module": "@jupyter-widgets/controls",
      "model_module_version": "1.2.0",
      "model_name": "TextModel",
      "state": {
       "description": "Department:   ",
       "layout": "IPY_MODEL_081b18a80ab44fcf9110bb47de5308bc",
       "style": "IPY_MODEL_b94608327c3446e191312b504de4c291",
       "value": "Mathematics"
      }
     },
     "360135faa6884fe785b692483c0eedb0": {
      "model_module": "@jupyter-widgets/controls",
      "model_module_version": "1.2.0",
      "model_name": "SliderStyleModel",
      "state": {
       "description_width": ""
      }
     },
     "362b321bb15b43a58d6c687f3cc011b3": {
      "model_module": "@jupyter-widgets/controls",
      "model_module_version": "1.2.0",
      "model_name": "SliderStyleModel",
      "state": {
       "description_width": ""
      }
     },
     "368cb55523d54f89a636111dce3614e0": {
      "model_module": "@jupyter-widgets/base",
      "model_module_version": "1.0.0",
      "model_name": "LayoutModel",
      "state": {}
     },
     "3694f4508e574090bf941d55bef6bb6a": {
      "model_module": "@jupyter-widgets/controls",
      "model_module_version": "1.2.0",
      "model_name": "HBoxModel",
      "state": {
       "children": [
        "IPY_MODEL_448ccf33b6234b928270d4d06a083b59",
        "IPY_MODEL_1bac3f46d7f3461cb92526d9d95a530f",
        "IPY_MODEL_0ab08f7563c645098b0c7761ca508ab5"
       ],
       "layout": "IPY_MODEL_d7292c6efa8c4585b5c8c30aa872a740"
      }
     },
     "36a5252ce758493dade843d654340096": {
      "model_module": "@jupyter-widgets/base",
      "model_module_version": "1.0.0",
      "model_name": "LayoutModel",
      "state": {}
     },
     "370786bc63f24125b9b37a44cbd51cd1": {
      "model_module": "@jupyter-widgets/base",
      "model_module_version": "1.0.0",
      "model_name": "LayoutModel",
      "state": {}
     },
     "370b2a535a10443eac328045db3219c0": {
      "model_module": "@jupyter-widgets/base",
      "model_module_version": "1.0.0",
      "model_name": "LayoutModel",
      "state": {}
     },
     "3756f01fcb6541c493fad494012e7b66": {
      "model_module": "@jupyter-widgets/base",
      "model_module_version": "1.0.0",
      "model_name": "DOMWidgetModel",
      "state": {
       "_graph_url": "https://plot.ly/~wangqiwen/16/number-of-faculty-in-the-dataset/",
       "_message": "",
       "_model_name": "DOMWidgetModel",
       "_new_url": "",
       "_view_module": "graphWidget",
       "_view_module_version": "",
       "_view_name": "GraphView",
       "layout": "IPY_MODEL_0261ede2cc46402090d0a6073a04b9e7"
      }
     },
     "377384c2ca1f43139e20177d33d96655": {
      "model_module": "@jupyter-widgets/base",
      "model_module_version": "1.0.0",
      "model_name": "LayoutModel",
      "state": {}
     },
     "37739344073d4a58a7277e91d8abad4f": {
      "model_module": "@jupyter-widgets/controls",
      "model_module_version": "1.2.0",
      "model_name": "HBoxModel",
      "state": {
       "children": [
        "IPY_MODEL_83328529116642f492594d5a9d49f345",
        "IPY_MODEL_a1433d13517444c182210ec5c5785b70",
        "IPY_MODEL_cd36b7d819404a73a557189be4b85213"
       ],
       "layout": "IPY_MODEL_68ad53d012cf4f708d637f791b30d0ca"
      }
     },
     "3780ed5145a3455883957eb194789d02": {
      "model_module": "@jupyter-widgets/controls",
      "model_module_version": "1.2.0",
      "model_name": "SliderStyleModel",
      "state": {
       "description_width": ""
      }
     },
     "378f5b5cd682486a8ad424fdb8206ec9": {
      "model_module": "@jupyter-widgets/controls",
      "model_module_version": "1.2.0",
      "model_name": "SliderStyleModel",
      "state": {
       "description_width": ""
      }
     },
     "3870b1f07c80454fb9e17ba2bbb66b46": {
      "model_module": "@jupyter-widgets/base",
      "model_module_version": "1.0.0",
      "model_name": "LayoutModel",
      "state": {}
     },
     "38d8b35ff2e04ec7b7709d3e0de600fe": {
      "model_module": "@jupyter-widgets/controls",
      "model_module_version": "1.2.0",
      "model_name": "IntSliderModel",
      "state": {
       "continuous_update": false,
       "description": "Year:",
       "layout": "IPY_MODEL_6ae0000d2130431e9fa330a4936b3406",
       "max": 2017,
       "min": 2013,
       "style": "IPY_MODEL_78b5ca39d5c443cdbb7f1d55b53fa152",
       "value": 2017
      }
     },
     "392288f5428849f09d46f852cee50526": {
      "model_module": "@jupyter-widgets/base",
      "model_module_version": "1.0.0",
      "model_name": "LayoutModel",
      "state": {}
     },
     "39a653e3d5364e26b3293fc54d257299": {
      "model_module": "@jupyter-widgets/controls",
      "model_module_version": "1.2.0",
      "model_name": "SliderStyleModel",
      "state": {
       "description_width": ""
      }
     },
     "39db3ae9b9fe447db2016eedbbc8de39": {
      "model_module": "@jupyter-widgets/base",
      "model_module_version": "1.0.0",
      "model_name": "LayoutModel",
      "state": {}
     },
     "39e493ebf939421b87da9bb37d1b5669": {
      "model_module": "@jupyter-widgets/base",
      "model_module_version": "1.0.0",
      "model_name": "LayoutModel",
      "state": {}
     },
     "39f64da5fe4f4c129bdb64d845421cab": {
      "model_module": "@jupyter-widgets/controls",
      "model_module_version": "1.2.0",
      "model_name": "TextModel",
      "state": {
       "description": "Department:   ",
       "layout": "IPY_MODEL_89adc92e96424ab68fb3c90bfacbc02b",
       "style": "IPY_MODEL_bcde733528694b738437e57db4dd4b39",
       "value": "History"
      }
     },
     "39fe1cb4e1094d2f9c5b8988a404a2d3": {
      "model_module": "@jupyter-widgets/controls",
      "model_module_version": "1.2.0",
      "model_name": "DescriptionStyleModel",
      "state": {
       "description_width": ""
      }
     },
     "3a0a21f15dea4171a672b3206a8b4e8a": {
      "model_module": "@jupyter-widgets/base",
      "model_module_version": "1.0.0",
      "model_name": "LayoutModel",
      "state": {}
     },
     "3a2af46bb3234498997a084e64533a11": {
      "model_module": "@jupyter-widgets/controls",
      "model_module_version": "1.2.0",
      "model_name": "DescriptionStyleModel",
      "state": {
       "description_width": ""
      }
     },
     "3a3c4aafdaa14c14bbc05595e032f621": {
      "model_module": "@jupyter-widgets/controls",
      "model_module_version": "1.2.0",
      "model_name": "SliderStyleModel",
      "state": {
       "description_width": ""
      }
     },
     "3a3f58ee47184094be7fdea64dbb53ae": {
      "model_module": "@jupyter-widgets/base",
      "model_module_version": "1.0.0",
      "model_name": "LayoutModel",
      "state": {}
     },
     "3a41e2777fd7408f9c172a1258d86011": {
      "model_module": "@jupyter-widgets/controls",
      "model_module_version": "1.2.0",
      "model_name": "IntSliderModel",
      "state": {
       "continuous_update": false,
       "description": "Year:",
       "layout": "IPY_MODEL_f499e24db1f04449acd43be013d374b5",
       "max": 2017,
       "min": 2013,
       "style": "IPY_MODEL_0a3c98f02cf84f51bd2e95ed61145d9c",
       "value": 2016
      }
     },
     "3a4dabdd20fc43c79815823178f9ecbc": {
      "model_module": "@jupyter-widgets/controls",
      "model_module_version": "1.2.0",
      "model_name": "SliderStyleModel",
      "state": {
       "description_width": ""
      }
     },
     "3a53b874144046ea92afe30fd7f58ed0": {
      "model_module": "@jupyter-widgets/controls",
      "model_module_version": "1.2.0",
      "model_name": "DescriptionStyleModel",
      "state": {
       "description_width": ""
      }
     },
     "3a5547daf75f4c889d2ea2cd9929c6fa": {
      "model_module": "@jupyter-widgets/base",
      "model_module_version": "1.0.0",
      "model_name": "DOMWidgetModel",
      "state": {
       "_graph_url": "https://plot.ly/~wangqiwen/20/median-salary-median-salary-median-salary/",
       "_message": "",
       "_model_name": "DOMWidgetModel",
       "_new_url": "",
       "_view_module": "graphWidget",
       "_view_module_version": "",
       "_view_name": "GraphView",
       "layout": "IPY_MODEL_efec42074a8742b3af6da578ab606531"
      }
     },
     "3a61053c2c7a448c9606cc70c97c1d7b": {
      "model_module": "@jupyter-widgets/controls",
      "model_module_version": "1.2.0",
      "model_name": "HBoxModel",
      "state": {
       "children": [
        "IPY_MODEL_d2ff41579cfb40f497affd2c49ac85a1",
        "IPY_MODEL_9a2d888cb0c34b6d80de1753f1558a55",
        "IPY_MODEL_017b67dacf3247a4bd639a6958f1ea1a"
       ],
       "layout": "IPY_MODEL_e03c6db7815c48a89821d87dad814466"
      }
     },
     "3a6cf2ccce6b419da4ef15908f723abe": {
      "model_module": "@jupyter-widgets/controls",
      "model_module_version": "1.2.0",
      "model_name": "SliderStyleModel",
      "state": {
       "description_width": ""
      }
     },
     "3a83c535ed784779b1f911ea369d8382": {
      "model_module": "@jupyter-widgets/controls",
      "model_module_version": "1.2.0",
      "model_name": "DescriptionStyleModel",
      "state": {
       "description_width": ""
      }
     },
     "3a987bb880624d5db41806c2d70d0f60": {
      "model_module": "@jupyter-widgets/controls",
      "model_module_version": "1.2.0",
      "model_name": "TextModel",
      "state": {
       "description": "Department:   ",
       "layout": "IPY_MODEL_1a565874df5d4d47a538e160f23ccd0e",
       "style": "IPY_MODEL_8fe1979e91a94ac09d65db0fe467d05a",
       "value": "Computer Science"
      }
     },
     "3aa7bda57c1f472eae436cdc0292e304": {
      "model_module": "@jupyter-widgets/base",
      "model_module_version": "1.0.0",
      "model_name": "LayoutModel",
      "state": {}
     },
     "3b23b169681e476283a41274c2adecda": {
      "model_module": "@jupyter-widgets/controls",
      "model_module_version": "1.2.0",
      "model_name": "TabModel",
      "state": {
       "_titles": {
        "0": "Department 1"
       },
       "children": [
        "IPY_MODEL_b74ebc59650d426aad8c871852b813ce"
       ],
       "layout": "IPY_MODEL_7cd4b355ca884be6b66fb2cf921a52bf"
      }
     },
     "3b44a3989db94c62b98749e9f23817b0": {
      "model_module": "@jupyter-widgets/base",
      "model_module_version": "1.0.0",
      "model_name": "LayoutModel",
      "state": {}
     },
     "3b74782491a845db8153dbeaa8f910d1": {
      "model_module": "@jupyter-widgets/base",
      "model_module_version": "1.0.0",
      "model_name": "LayoutModel",
      "state": {}
     },
     "3b88914348cb4e55a9574a4ee64543fc": {
      "model_module": "@jupyter-widgets/controls",
      "model_module_version": "1.2.0",
      "model_name": "DescriptionStyleModel",
      "state": {
       "description_width": ""
      }
     },
     "3b93a4de0fd940dfba578fe4fda0ab87": {
      "model_module": "@jupyter-widgets/controls",
      "model_module_version": "1.2.0",
      "model_name": "SliderStyleModel",
      "state": {
       "description_width": ""
      }
     },
     "3bb1dc44c61949a2960a919af11633f6": {
      "model_module": "@jupyter-widgets/base",
      "model_module_version": "1.0.0",
      "model_name": "LayoutModel",
      "state": {}
     },
     "3bbcea6e86e74812b467604f8b692009": {
      "model_module": "@jupyter-widgets/base",
      "model_module_version": "1.0.0",
      "model_name": "LayoutModel",
      "state": {}
     },
     "3bea140797b74b03bb14318b502297bd": {
      "model_module": "@jupyter-widgets/controls",
      "model_module_version": "1.2.0",
      "model_name": "DescriptionStyleModel",
      "state": {
       "description_width": ""
      }
     },
     "3c12dd47898146918866e9e4b7a88606": {
      "model_module": "@jupyter-widgets/controls",
      "model_module_version": "1.2.0",
      "model_name": "SliderStyleModel",
      "state": {
       "description_width": ""
      }
     },
     "3c340d7a7a754697a304a73067bfaef6": {
      "model_module": "@jupyter-widgets/controls",
      "model_module_version": "1.2.0",
      "model_name": "DescriptionStyleModel",
      "state": {
       "description_width": ""
      }
     },
     "3c34eee0a41e4c7fb5d68d95615fc4af": {
      "model_module": "@jupyter-widgets/controls",
      "model_module_version": "1.2.0",
      "model_name": "DropdownModel",
      "state": {
       "_options_labels": [
        "Chicago",
        "Springfield",
        "Urbana-Champaign"
       ],
       "description": "Campus:",
       "index": 2,
       "layout": "IPY_MODEL_3df388bad7e2475e9568f3256e5dbaae",
       "style": "IPY_MODEL_69c20c95b62b45178f54ace9cde82c9e"
      }
     },
     "3c528128d4c0453284551a0b755152e5": {
      "model_module": "@jupyter-widgets/controls",
      "model_module_version": "1.2.0",
      "model_name": "SliderStyleModel",
      "state": {
       "description_width": ""
      }
     },
     "3c53b0f2baf940518ea8dda41f420cc0": {
      "model_module": "@jupyter-widgets/controls",
      "model_module_version": "1.2.0",
      "model_name": "TabModel",
      "state": {
       "_titles": {
        "0": "Department 1",
        "1": "Department 2"
       },
       "children": [
        "IPY_MODEL_9b15a3fcf1b44c65ac1cd7995f3a2c2f",
        "IPY_MODEL_015fd2d8d60243b0911eb7c9fd865c61"
       ],
       "layout": "IPY_MODEL_611076d7efff44239c2cf529a920244b",
       "selected_index": 1
      }
     },
     "3c8f9415d6ff4ee99321c08713b5ca90": {
      "model_module": "@jupyter-widgets/base",
      "model_module_version": "1.0.0",
      "model_name": "LayoutModel",
      "state": {}
     },
     "3c9e93dd7cf0414ab257dfbe1c2cc51c": {
      "model_module": "@jupyter-widgets/base",
      "model_module_version": "1.0.0",
      "model_name": "LayoutModel",
      "state": {}
     },
     "3cb256244cf34721b370a61afe953199": {
      "model_module": "@jupyter-widgets/base",
      "model_module_version": "1.0.0",
      "model_name": "LayoutModel",
      "state": {}
     },
     "3cbe3ae67b0b4160ba3bcb495c22ca70": {
      "model_module": "@jupyter-widgets/controls",
      "model_module_version": "1.2.0",
      "model_name": "DescriptionStyleModel",
      "state": {
       "description_width": ""
      }
     },
     "3cf56fda929f438b9e0084847baa5be8": {
      "model_module": "@jupyter-widgets/base",
      "model_module_version": "1.0.0",
      "model_name": "LayoutModel",
      "state": {}
     },
     "3cfb3bb570724ff7be11a70ef71ca8ea": {
      "model_module": "@jupyter-widgets/controls",
      "model_module_version": "1.2.0",
      "model_name": "IntSliderModel",
      "state": {
       "continuous_update": false,
       "description": "Year:",
       "layout": "IPY_MODEL_2f11836f03284d8b962bd51c27fe3c44",
       "max": 2017,
       "min": 2013,
       "style": "IPY_MODEL_d44d5c91a62f4dd0a88f5258f80334b7",
       "value": 2017
      }
     },
     "3d1bf13a53c148ecb67d5c18e1091c46": {
      "model_module": "@jupyter-widgets/base",
      "model_module_version": "1.0.0",
      "model_name": "LayoutModel",
      "state": {}
     },
     "3d312af64a854021a7dc99331ec61816": {
      "model_module": "@jupyter-widgets/base",
      "model_module_version": "1.0.0",
      "model_name": "LayoutModel",
      "state": {}
     },
     "3d88b34bf0d94953bf65662330c0013f": {
      "model_module": "@jupyter-widgets/controls",
      "model_module_version": "1.2.0",
      "model_name": "DropdownModel",
      "state": {
       "_options_labels": [
        "Chicago",
        "Springfield",
        "Urbana-Champaign"
       ],
       "description": "Campus:",
       "index": 2,
       "layout": "IPY_MODEL_6d5430dab4c34fc58a218a928820db1d",
       "style": "IPY_MODEL_fd527e321b5d4374a5b34494dcd18711"
      }
     },
     "3da8b55d08844b0d8d8259bb23e959c7": {
      "model_module": "@jupyter-widgets/base",
      "model_module_version": "1.0.0",
      "model_name": "LayoutModel",
      "state": {}
     },
     "3df388bad7e2475e9568f3256e5dbaae": {
      "model_module": "@jupyter-widgets/base",
      "model_module_version": "1.0.0",
      "model_name": "LayoutModel",
      "state": {}
     },
     "3e0cdbdc2b5340fcb6fdac80347b0b55": {
      "model_module": "@jupyter-widgets/controls",
      "model_module_version": "1.2.0",
      "model_name": "IntSliderModel",
      "state": {
       "continuous_update": false,
       "description": "Year:",
       "layout": "IPY_MODEL_b00fe00c7b3647148225ac6743281d6a",
       "max": 2017,
       "min": 2013,
       "style": "IPY_MODEL_f77e86ef37124994ac9cfccd9fbf0891",
       "value": 2017
      }
     },
     "3e8e9806b4814a6aad6952db83af1381": {
      "model_module": "@jupyter-widgets/base",
      "model_module_version": "1.0.0",
      "model_name": "DOMWidgetModel",
      "state": {
       "_graph_url": "https://plot.ly/~wangqiwen/8/salary-range-of-faculty-in-information-sciences-computer-science/",
       "_message": "{\"task\": \"relayout\", \"update\": {\"title\": \"Salary Range of Faculty in Mathematics & Information Sciences\", \"xaxis\": {\"title\": \"Salary\"}, \"yaxis\": {\"title\": \"Percentage of Faculty\"}, \"bargroupgap\": 0.1}, \"graphId\": \"3fa38be6-2c30-49a6-b8d2-2fcbcc59adf7\", \"uid\": \"4a1dcd8e-b958-4499-807b-41a75293ac3b\"}",
       "_model_name": "DOMWidgetModel",
       "_new_url": "",
       "_view_module": "graphWidget",
       "_view_module_version": "",
       "_view_name": "GraphView",
       "layout": "IPY_MODEL_509d67cf61a74360a3a5ce1dee442823"
      }
     },
     "3f2f12f54e3143408fc8e1d2049296fe": {
      "model_module": "@jupyter-widgets/base",
      "model_module_version": "1.0.0",
      "model_name": "LayoutModel",
      "state": {}
     },
     "3fafcee8124d4dc58c88a300aa0c96fe": {
      "model_module": "@jupyter-widgets/controls",
      "model_module_version": "1.2.0",
      "model_name": "SliderStyleModel",
      "state": {
       "description_width": ""
      }
     },
     "3fb9adf15bf94270ac5a086d3009c84b": {
      "model_module": "@jupyter-widgets/base",
      "model_module_version": "1.0.0",
      "model_name": "LayoutModel",
      "state": {}
     },
     "3fe06af682df44cf88e560a97c058915": {
      "model_module": "@jupyter-widgets/controls",
      "model_module_version": "1.2.0",
      "model_name": "IntSliderModel",
      "state": {
       "continuous_update": false,
       "description": "Year:",
       "layout": "IPY_MODEL_60a1fc41e96a44219ced1311b06ffb70",
       "max": 2017,
       "min": 2013,
       "style": "IPY_MODEL_6e86d0e65c22478bab1d25e09992ded5",
       "value": 2017
      }
     },
     "3fe0ec2da8fa4bb49b45f029fcc1a4be": {
      "model_module": "@jupyter-widgets/base",
      "model_module_version": "1.0.0",
      "model_name": "LayoutModel",
      "state": {}
     },
     "4052183b0eb34f8dafbccfd21a233cbd": {
      "model_module": "@jupyter-widgets/base",
      "model_module_version": "1.0.0",
      "model_name": "LayoutModel",
      "state": {}
     },
     "409e02410812410097692e61dc4f0b46": {
      "model_module": "@jupyter-widgets/base",
      "model_module_version": "1.0.0",
      "model_name": "LayoutModel",
      "state": {}
     },
     "40cf4cfb792241b98503c80fc8bd0228": {
      "model_module": "@jupyter-widgets/base",
      "model_module_version": "1.0.0",
      "model_name": "DOMWidgetModel",
      "state": {
       "_graph_url": "https://plot.ly/~wangqiwen/8/salary-range-of-faculty-in-information-sciences-computer-science/",
       "_message": "",
       "_model_name": "DOMWidgetModel",
       "_new_url": "",
       "_view_module": "graphWidget",
       "_view_module_version": "",
       "_view_name": "GraphView",
       "layout": "IPY_MODEL_8752bf04b28e4f0f826e63fe5566568a"
      }
     },
     "40e52279879d41579e4826982edb5b38": {
      "model_module": "@jupyter-widgets/controls",
      "model_module_version": "1.2.0",
      "model_name": "TextModel",
      "state": {
       "description": "Department:   ",
       "layout": "IPY_MODEL_17902ac8a449431889c3c8bafa87a9ee",
       "style": "IPY_MODEL_022a8af9d3c844c3995ec24d501f5ae7"
      }
     },
     "416053fa20f3406084a9809bd8ddde94": {
      "model_module": "@jupyter-widgets/base",
      "model_module_version": "1.0.0",
      "model_name": "LayoutModel",
      "state": {}
     },
     "416fb99584d543c7b854b4c41b87bfc6": {
      "model_module": "@jupyter-widgets/base",
      "model_module_version": "1.0.0",
      "model_name": "LayoutModel",
      "state": {}
     },
     "41b848c32f374fa3ad8af6ffe25720c2": {
      "model_module": "@jupyter-widgets/base",
      "model_module_version": "1.0.0",
      "model_name": "LayoutModel",
      "state": {}
     },
     "41bff817148f4cdcb71a1fdd3f9a7180": {
      "model_module": "@jupyter-widgets/controls",
      "model_module_version": "1.2.0",
      "model_name": "IntSliderModel",
      "state": {
       "continuous_update": false,
       "description": "Year:",
       "layout": "IPY_MODEL_d5f0be0bb57d4796a27f3a56a6629ea6",
       "max": 2017,
       "min": 2013,
       "style": "IPY_MODEL_f6534427b4ff412f8e1187665ecd5eec",
       "value": 2017
      }
     },
     "41ce55e1f493440e9e1cb4cd2a8be274": {
      "model_module": "@jupyter-widgets/controls",
      "model_module_version": "1.2.0",
      "model_name": "IntTextModel",
      "state": {
       "description": "Top X:",
       "layout": "IPY_MODEL_c6bf9ba3203a4b0b98786e7109299217",
       "step": 1,
       "style": "IPY_MODEL_7fe0b15fee51409eac22d743918829be",
       "value": 24
      }
     },
     "42524e1eb9af4ea6a2953af4ee1f717e": {
      "model_module": "@jupyter-widgets/controls",
      "model_module_version": "1.2.0",
      "model_name": "TextModel",
      "state": {
       "description": "Department:   ",
       "layout": "IPY_MODEL_13b1a2e14a804f68bff90e23aa758b29",
       "style": "IPY_MODEL_42a516cc75b64236a65fdc06d252b752"
      }
     },
     "4263de6de7f44467b8d138cf09fbb13f": {
      "model_module": "@jupyter-widgets/base",
      "model_module_version": "1.0.0",
      "model_name": "LayoutModel",
      "state": {}
     },
     "4279877308c4416bbae41ab1535463df": {
      "model_module": "@jupyter-widgets/base",
      "model_module_version": "1.0.0",
      "model_name": "LayoutModel",
      "state": {}
     },
     "428f538523cf4d3bb5e613af62f4ba88": {
      "model_module": "@jupyter-widgets/controls",
      "model_module_version": "1.2.0",
      "model_name": "DescriptionStyleModel",
      "state": {
       "description_width": ""
      }
     },
     "42a0844a2e924d3698104d309c034bdb": {
      "model_module": "@jupyter-widgets/base",
      "model_module_version": "1.0.0",
      "model_name": "LayoutModel",
      "state": {}
     },
     "42a516cc75b64236a65fdc06d252b752": {
      "model_module": "@jupyter-widgets/controls",
      "model_module_version": "1.2.0",
      "model_name": "DescriptionStyleModel",
      "state": {
       "description_width": ""
      }
     },
     "42c58ac537124fc2b7d8c42c6451a7fb": {
      "model_module": "@jupyter-widgets/controls",
      "model_module_version": "1.2.0",
      "model_name": "DropdownModel",
      "state": {
       "_options_labels": [
        "Chicago",
        "Springfield",
        "Urbana-Champaign"
       ],
       "description": "Campus:",
       "index": 2,
       "layout": "IPY_MODEL_61f4f37f896d4f40b36ca24c73cc98cc",
       "style": "IPY_MODEL_f39ad1697dc84006bf7012637f7c3276"
      }
     },
     "42dfd10a991c4b55b241985f1111c8a8": {
      "model_module": "@jupyter-widgets/controls",
      "model_module_version": "1.2.0",
      "model_name": "HBoxModel",
      "state": {
       "children": [
        "IPY_MODEL_33da7536ac95479f80ff11cd943a80cf",
        "IPY_MODEL_ea6c55b1a42c4250b7688f7da63a9260",
        "IPY_MODEL_9bb00f4936a64cc89436e2100a98fc00"
       ],
       "layout": "IPY_MODEL_2292b8bf67f5443aa8a4f0c37d58f1de"
      }
     },
     "4399885a8d714fa193b465f3a2f55e06": {
      "model_module": "@jupyter-widgets/base",
      "model_module_version": "1.0.0",
      "model_name": "LayoutModel",
      "state": {}
     },
     "43aebf99578747cb967a8b54fe221317": {
      "model_module": "@jupyter-widgets/controls",
      "model_module_version": "1.2.0",
      "model_name": "TextModel",
      "state": {
       "description": "Department:   ",
       "layout": "IPY_MODEL_f7e98f53ee5a4952a6103cf97cdbba04",
       "style": "IPY_MODEL_0c7861b7a58f433a857415c05266d008",
       "value": "Mathematics"
      }
     },
     "43ca36cc953748b8a820bdc868e4d6ba": {
      "model_module": "@jupyter-widgets/controls",
      "model_module_version": "1.2.0",
      "model_name": "SliderStyleModel",
      "state": {
       "description_width": ""
      }
     },
     "44147e8614dd4b3192b273341fa5f785": {
      "model_module": "@jupyter-widgets/base",
      "model_module_version": "1.0.0",
      "model_name": "LayoutModel",
      "state": {}
     },
     "444641fdf0934412b28dbfc2ea2d2248": {
      "model_module": "@jupyter-widgets/base",
      "model_module_version": "1.0.0",
      "model_name": "LayoutModel",
      "state": {}
     },
     "445903dbedc34eab928332b155414caa": {
      "model_module": "@jupyter-widgets/base",
      "model_module_version": "1.0.0",
      "model_name": "LayoutModel",
      "state": {}
     },
     "446f9247f4764cdb8904f2212e8232c4": {
      "model_module": "@jupyter-widgets/controls",
      "model_module_version": "1.2.0",
      "model_name": "HBoxModel",
      "state": {
       "children": [
        "IPY_MODEL_496951ca0b464f56906855f697b9ec52",
        "IPY_MODEL_7abe88ed1341479ea25bf05930cc5d86",
        "IPY_MODEL_1d6a03a531ba40c6a4f0acabe5db71d4"
       ],
       "layout": "IPY_MODEL_5adca266d1cb41649c5c8bdfd6bd251b"
      }
     },
     "448ccf33b6234b928270d4d06a083b59": {
      "model_module": "@jupyter-widgets/controls",
      "model_module_version": "1.2.0",
      "model_name": "DropdownModel",
      "state": {
       "_options_labels": [
        "Chicago",
        "Springfield",
        "Urbana-Champaign"
       ],
       "description": "Campus:",
       "index": 2,
       "layout": "IPY_MODEL_b7cb3c4ac93746c79cf5cbfdddadf88b",
       "style": "IPY_MODEL_7655223e538e420c82dd8845c410c372"
      }
     },
     "44a7682575384cf7ab066374fa4f84fe": {
      "model_module": "@jupyter-widgets/base",
      "model_module_version": "1.0.0",
      "model_name": "LayoutModel",
      "state": {}
     },
     "450116d98f1a48f8bc231f914f5e08cd": {
      "model_module": "@jupyter-widgets/controls",
      "model_module_version": "1.2.0",
      "model_name": "SliderStyleModel",
      "state": {
       "description_width": ""
      }
     },
     "4507b2dafac941b5825cddceb162d375": {
      "model_module": "@jupyter-widgets/controls",
      "model_module_version": "1.2.0",
      "model_name": "DropdownModel",
      "state": {
       "_options_labels": [
        "PROF",
        "ASSOC PROF",
        "ASST PROF",
        "LECTURER",
        "ASSOC DIR",
        "CLIN ASST PROF",
        "SR LECTURER",
        "RES SCI",
        "RES ASST PROF",
        "SR RES SCI",
        "POSTDOC RES ASSOC",
        "CLIN PROF",
        "ASSOC PROF UNIV LIBRARY",
        "ASST PROF UNIV LIBRARY",
        "DEAN",
        "JL DOOB RES ASST PROF",
        "CLIN ASSOC PROF",
        "VST ASST PROF",
        "RES ASSOC PROF",
        "ASST DEAN",
        "RES PROF",
        "PROF (RT)"
       ],
       "description": "Job Title:",
       "index": 0,
       "layout": "IPY_MODEL_797f59272b3f47e7afe97b6ccc259716",
       "style": "IPY_MODEL_1ef84ffaa631413b8e88d29c65729420"
      }
     },
     "454c57816be74ea1884e2b32c5703f86": {
      "model_module": "@jupyter-widgets/controls",
      "model_module_version": "1.2.0",
      "model_name": "IntTextModel",
      "state": {
       "description": "Top X:",
       "layout": "IPY_MODEL_124b16aa644c4e66b1c61ce3d8deeb4d",
       "step": 1,
       "style": "IPY_MODEL_e90764dd62d34e7a8555711d0a07359e",
       "value": 10
      }
     },
     "455c251d068c40bbabf0776571cf26fc": {
      "model_module": "@jupyter-widgets/controls",
      "model_module_version": "1.2.0",
      "model_name": "IntSliderModel",
      "state": {
       "continuous_update": false,
       "description": "Year:",
       "layout": "IPY_MODEL_3870b1f07c80454fb9e17ba2bbb66b46",
       "max": 2017,
       "min": 2013,
       "style": "IPY_MODEL_f206630c342d49d4b7afdbacca3d615f",
       "value": 2016
      }
     },
     "45959f19656946659a001927828f7101": {
      "model_module": "@jupyter-widgets/controls",
      "model_module_version": "1.2.0",
      "model_name": "IntSliderModel",
      "state": {
       "continuous_update": false,
       "description": "Year:",
       "layout": "IPY_MODEL_6677a8219b4748eda6bbaa422acc0ddc",
       "max": 2017,
       "min": 2013,
       "style": "IPY_MODEL_3fafcee8124d4dc58c88a300aa0c96fe",
       "value": 2017
      }
     },
     "45d5c6f6a6f64c94bd626584cb8d75ac": {
      "model_module": "@jupyter-widgets/controls",
      "model_module_version": "1.2.0",
      "model_name": "DescriptionStyleModel",
      "state": {
       "description_width": ""
      }
     },
     "45e2c3d5401b4ec5aa8f84bfd69f1a87": {
      "model_module": "@jupyter-widgets/base",
      "model_module_version": "1.0.0",
      "model_name": "LayoutModel",
      "state": {}
     },
     "45f055ede3f44d388a3e8a66b18e9c87": {
      "model_module": "@jupyter-widgets/controls",
      "model_module_version": "1.2.0",
      "model_name": "SliderStyleModel",
      "state": {
       "description_width": ""
      }
     },
     "462a07d5ebcb429db8c99cf33b91b7ac": {
      "model_module": "@jupyter-widgets/controls",
      "model_module_version": "1.2.0",
      "model_name": "DropdownModel",
      "state": {
       "_options_labels": [
        "Chicago",
        "Springfield",
        "Urbana-Champaign"
       ],
       "description": "Campus:",
       "index": 2,
       "layout": "IPY_MODEL_fde1ebc49c9a4e54a2ba282a3254e462",
       "style": "IPY_MODEL_16ddfbbcab6642b6a6183343a135de38"
      }
     },
     "462f90528a5b49439f03b309b4bc808b": {
      "model_module": "@jupyter-widgets/base",
      "model_module_version": "1.0.0",
      "model_name": "LayoutModel",
      "state": {}
     },
     "4634c9e929e44677b268a1ffc812c9e1": {
      "model_module": "@jupyter-widgets/base",
      "model_module_version": "1.0.0",
      "model_name": "LayoutModel",
      "state": {}
     },
     "467aea32b4e84670820c710c1c922729": {
      "model_module": "@jupyter-widgets/base",
      "model_module_version": "1.0.0",
      "model_name": "LayoutModel",
      "state": {}
     },
     "46c6b277efa041a99fa796d40d4547f3": {
      "model_module": "@jupyter-widgets/controls",
      "model_module_version": "1.2.0",
      "model_name": "IntSliderModel",
      "state": {
       "continuous_update": false,
       "description": "Year:",
       "layout": "IPY_MODEL_b0874d904000444eb7c1dd4c40e401b9",
       "max": 2017,
       "min": 2013,
       "style": "IPY_MODEL_a8f33c54ac344ab5ac4c3e7497ace08c",
       "value": 2015
      }
     },
     "46cd528764fb466f88daeed6ed522d8f": {
      "model_module": "@jupyter-widgets/controls",
      "model_module_version": "1.2.0",
      "model_name": "HBoxModel",
      "state": {
       "children": [
        "IPY_MODEL_28c855076c2240f8807a6c310bb39623",
        "IPY_MODEL_486b5ad00a6c4914bb4555c2dd917a52",
        "IPY_MODEL_454c57816be74ea1884e2b32c5703f86"
       ],
       "layout": "IPY_MODEL_7f5131de3bca4c208d6528f29619a7ce"
      }
     },
     "46dcfbc15c044303926f7c757870d32b": {
      "model_module": "@jupyter-widgets/base",
      "model_module_version": "1.0.0",
      "model_name": "LayoutModel",
      "state": {}
     },
     "47ba8852ffc84d01a659e9ea39b106ad": {
      "model_module": "@jupyter-widgets/base",
      "model_module_version": "1.0.0",
      "model_name": "DOMWidgetModel",
      "state": {
       "_graph_url": "https://plot.ly/~wangqiwen/20/median-salary-median-salary-median-salary/",
       "_message": "{\"task\": \"restyle\", \"update\": {\"x\": [[]], \"y\": [[]]}, \"graphId\": \"6d6d92b9-0f7d-4326-a041-7157fe87cdfc\", \"indices\": [2], \"uid\": \"2a0f7a1d-e8bc-4de1-8bca-24c779f28451\"}",
       "_model_name": "DOMWidgetModel",
       "_new_url": "",
       "_view_module": "graphWidget",
       "_view_module_version": "",
       "_view_name": "GraphView",
       "layout": "IPY_MODEL_017b446fc7ad47ccb96eddd0e7a95b60"
      }
     },
     "47be520f36c3412b90dc51bc3b2c76a2": {
      "model_module": "@jupyter-widgets/base",
      "model_module_version": "1.0.0",
      "model_name": "LayoutModel",
      "state": {}
     },
     "47bf766e8a2e4cd485c482f9d6122a1c": {
      "model_module": "@jupyter-widgets/controls",
      "model_module_version": "1.2.0",
      "model_name": "IntSliderModel",
      "state": {
       "continuous_update": false,
       "description": "Year:",
       "layout": "IPY_MODEL_2ffddf44db784d0cab5d11e710771b9c",
       "max": 2017,
       "min": 2013,
       "style": "IPY_MODEL_3c12dd47898146918866e9e4b7a88606",
       "value": 2017
      }
     },
     "47c23456d78a46fba18143cc858161c0": {
      "model_module": "@jupyter-widgets/base",
      "model_module_version": "1.0.0",
      "model_name": "LayoutModel",
      "state": {}
     },
     "482f87e7cbb74e7fb60b5b0a41d2eaac": {
      "model_module": "@jupyter-widgets/base",
      "model_module_version": "1.0.0",
      "model_name": "LayoutModel",
      "state": {}
     },
     "4834cdd1a2494826b1cd975f802d00d4": {
      "model_module": "@jupyter-widgets/controls",
      "model_module_version": "1.2.0",
      "model_name": "DescriptionStyleModel",
      "state": {
       "description_width": ""
      }
     },
     "486b5ad00a6c4914bb4555c2dd917a52": {
      "model_module": "@jupyter-widgets/controls",
      "model_module_version": "1.2.0",
      "model_name": "IntSliderModel",
      "state": {
       "continuous_update": false,
       "description": "Year:",
       "layout": "IPY_MODEL_df3b4f6dd7e347318fb80aca4b43242d",
       "max": 2017,
       "min": 2013,
       "style": "IPY_MODEL_76e8a80ab1274f76b4931ad98e9248f2",
       "value": 2017
      }
     },
     "48892708056849ea819c877cc29047a0": {
      "model_module": "@jupyter-widgets/base",
      "model_module_version": "1.0.0",
      "model_name": "LayoutModel",
      "state": {}
     },
     "48a5334691cd4a01b9adc305a4d97e7c": {
      "model_module": "@jupyter-widgets/controls",
      "model_module_version": "1.2.0",
      "model_name": "TextModel",
      "state": {
       "description": "Department:   ",
       "layout": "IPY_MODEL_22c696ff0f7f4caab79f7f262e5cd159",
       "style": "IPY_MODEL_03242477b6a14624b1bbfb1bbea6bbd7",
       "value": "Mathematics"
      }
     },
     "48ea20c1dd984c819eef812c92adfbb2": {
      "model_module": "@jupyter-widgets/controls",
      "model_module_version": "1.2.0",
      "model_name": "IntSliderModel",
      "state": {
       "continuous_update": false,
       "description": "Year:",
       "layout": "IPY_MODEL_3c9e93dd7cf0414ab257dfbe1c2cc51c",
       "max": 2017,
       "min": 2013,
       "style": "IPY_MODEL_64bf4d2f5a764df49b918bd75b6f280c",
       "value": 2017
      }
     },
     "48ed2195541b4a7e94bbaf64243d0c0d": {
      "model_module": "@jupyter-widgets/controls",
      "model_module_version": "1.2.0",
      "model_name": "DescriptionStyleModel",
      "state": {
       "description_width": ""
      }
     },
     "4910a503ce0642f796b4efde18e9de2c": {
      "model_module": "@jupyter-widgets/controls",
      "model_module_version": "1.2.0",
      "model_name": "DescriptionStyleModel",
      "state": {
       "description_width": ""
      }
     },
     "495a0d5ff29a4ddb83e9fed12b178889": {
      "model_module": "@jupyter-widgets/base",
      "model_module_version": "1.0.0",
      "model_name": "LayoutModel",
      "state": {}
     },
     "495bbc3ced5a43459340f4f00fd76c62": {
      "model_module": "@jupyter-widgets/controls",
      "model_module_version": "1.2.0",
      "model_name": "DescriptionStyleModel",
      "state": {
       "description_width": ""
      }
     },
     "496951ca0b464f56906855f697b9ec52": {
      "model_module": "@jupyter-widgets/controls",
      "model_module_version": "1.2.0",
      "model_name": "DropdownModel",
      "state": {
       "_options_labels": [
        "Chicago",
        "Springfield",
        "Urbana-Champaign"
       ],
       "description": "Campus:",
       "index": 2,
       "layout": "IPY_MODEL_f987ff89047e4b2c86aa7d8503387676",
       "style": "IPY_MODEL_dbea1ed8371b49d086ced827beae2a1c"
      }
     },
     "499f673dd4b2481ba595baea786fd0e0": {
      "model_module": "@jupyter-widgets/controls",
      "model_module_version": "1.2.0",
      "model_name": "IntSliderModel",
      "state": {
       "continuous_update": false,
       "description": "Year:",
       "layout": "IPY_MODEL_6bb06e4644fb4626afc12f7580b0732a",
       "max": 2017,
       "min": 2013,
       "style": "IPY_MODEL_663f12b2e2bc45dfa67689d896600c79",
       "value": 2017
      }
     },
     "49aefe2637fd47388c62a8b5d3384a9c": {
      "model_module": "@jupyter-widgets/base",
      "model_module_version": "1.0.0",
      "model_name": "LayoutModel",
      "state": {}
     },
     "4a251a341fe94f438375c6c698aa62b7": {
      "model_module": "@jupyter-widgets/controls",
      "model_module_version": "1.2.0",
      "model_name": "DescriptionStyleModel",
      "state": {
       "description_width": ""
      }
     },
     "4a78105f85ab403196107e10d6e7016a": {
      "model_module": "@jupyter-widgets/base",
      "model_module_version": "1.0.0",
      "model_name": "LayoutModel",
      "state": {}
     },
     "4a871288ed1f40f5bb5b3a98eecee2f7": {
      "model_module": "@jupyter-widgets/controls",
      "model_module_version": "1.2.0",
      "model_name": "IntSliderModel",
      "state": {
       "continuous_update": false,
       "description": "Year:",
       "layout": "IPY_MODEL_3cb256244cf34721b370a61afe953199",
       "max": 2017,
       "min": 2013,
       "style": "IPY_MODEL_803f1dbb67474f7f9b03f3ec4cbe9c65",
       "value": 2017
      }
     },
     "4ab0ef5bccd240809c233cfde997833e": {
      "model_module": "@jupyter-widgets/controls",
      "model_module_version": "1.2.0",
      "model_name": "HBoxModel",
      "state": {
       "children": [
        "IPY_MODEL_c8bcae41e8fd41978a160321865c169d",
        "IPY_MODEL_b424aa51207940d5b3dc6057d9540fff",
        "IPY_MODEL_5ff0396cd0f7434b94a464c87ff4cdd7"
       ],
       "layout": "IPY_MODEL_963fe341c33d4ce3b29c282217304595"
      }
     },
     "4ac93970cbf747b683cd7ef93a6ccc65": {
      "model_module": "@jupyter-widgets/base",
      "model_module_version": "1.0.0",
      "model_name": "LayoutModel",
      "state": {}
     },
     "4ad95858f9e1475f8b34f89a7b216c54": {
      "model_module": "@jupyter-widgets/controls",
      "model_module_version": "1.2.0",
      "model_name": "DescriptionStyleModel",
      "state": {
       "description_width": ""
      }
     },
     "4ae050f69a6140858e251e1f24d7aa67": {
      "model_module": "@jupyter-widgets/base",
      "model_module_version": "1.0.0",
      "model_name": "LayoutModel",
      "state": {}
     },
     "4af943d99934449092a2e005a3e11f6e": {
      "model_module": "@jupyter-widgets/controls",
      "model_module_version": "1.2.0",
      "model_name": "SliderStyleModel",
      "state": {
       "description_width": ""
      }
     },
     "4b0fcc541527425a9ba69cfbf38ba78a": {
      "model_module": "@jupyter-widgets/controls",
      "model_module_version": "1.2.0",
      "model_name": "DescriptionStyleModel",
      "state": {
       "description_width": ""
      }
     },
     "4babc75a860342b29f1b37be2f55ab2e": {
      "model_module": "@jupyter-widgets/controls",
      "model_module_version": "1.2.0",
      "model_name": "IntSliderModel",
      "state": {
       "continuous_update": false,
       "description": "Year:",
       "layout": "IPY_MODEL_ef8ed41cab1c47f9967e0ae4adec01d8",
       "max": 2017,
       "min": 2013,
       "style": "IPY_MODEL_9ff12a6b54194302bce24845ced19b84",
       "value": 2015
      }
     },
     "4bea2c240f9a4a4daf5a337714a78e05": {
      "model_module": "@jupyter-widgets/base",
      "model_module_version": "1.0.0",
      "model_name": "LayoutModel",
      "state": {}
     },
     "4bfaa7c840b34ee6b5739e4213847f37": {
      "model_module": "@jupyter-widgets/controls",
      "model_module_version": "1.2.0",
      "model_name": "HBoxModel",
      "state": {
       "children": [
        "IPY_MODEL_a165dea3def24d9392470beab0ec16b2",
        "IPY_MODEL_cb9fa61e4b55412aac3ecf60006e6382",
        "IPY_MODEL_e6bc60149500472bb8981a8b1bf1a20c"
       ],
       "layout": "IPY_MODEL_e4d2c0d51a014a719cb2ded0b896fffc"
      }
     },
     "4c4ef162bce442c18fef3aaabd707619": {
      "model_module": "@jupyter-widgets/base",
      "model_module_version": "1.0.0",
      "model_name": "LayoutModel",
      "state": {}
     },
     "4c890261ed474c8c8651673a5e8b3682": {
      "model_module": "@jupyter-widgets/base",
      "model_module_version": "1.0.0",
      "model_name": "DOMWidgetModel",
      "state": {
       "_graph_url": "https://plot.ly/~wangqiwen/18/median-salary-median-salary-median-salary/",
       "_message": "",
       "_model_name": "DOMWidgetModel",
       "_new_url": "",
       "_view_module": "graphWidget",
       "_view_module_version": "",
       "_view_name": "GraphView",
       "layout": "IPY_MODEL_8add58e3a93b426b8d94b9951cf77aec"
      }
     },
     "4cac891cf2354811a5538f57f4eeded6": {
      "model_module": "@jupyter-widgets/controls",
      "model_module_version": "1.2.0",
      "model_name": "IntTextModel",
      "state": {
       "description": "Top X:",
       "layout": "IPY_MODEL_dcebb8d9a534458882be29e7b925b1cf",
       "step": 1,
       "style": "IPY_MODEL_c85ce6b8c8b8446b85ff882f8d898bf8",
       "value": 10
      }
     },
     "4cb3b62660f749d59dc455d4108d9ad5": {
      "model_module": "@jupyter-widgets/controls",
      "model_module_version": "1.2.0",
      "model_name": "DropdownModel",
      "state": {
       "_options_labels": [
        "Chicago",
        "Springfield",
        "Urbana-Champaign"
       ],
       "description": "Campus:",
       "index": 2,
       "layout": "IPY_MODEL_8aed64b421354a00befabd26af745e2c",
       "style": "IPY_MODEL_f55f0579f1274f159d3425d570038ded"
      }
     },
     "4ce25f87c63d4210944330f7dad2339c": {
      "model_module": "@jupyter-widgets/controls",
      "model_module_version": "1.2.0",
      "model_name": "DescriptionStyleModel",
      "state": {
       "description_width": ""
      }
     },
     "4d3f52c54ddd489dbb31cfcfbea7eb3d": {
      "model_module": "@jupyter-widgets/base",
      "model_module_version": "1.0.0",
      "model_name": "DOMWidgetModel",
      "state": {
       "_graph_url": "https://plot.ly/~wangqiwen/8/salary-range-of-faculty-in-information-sciences-computer-science/",
       "_message": "",
       "_model_name": "DOMWidgetModel",
       "_new_url": "",
       "_view_module": "graphWidget",
       "_view_module_version": "",
       "_view_name": "GraphView",
       "layout": "IPY_MODEL_7efb8097fe49425fb6c0b8593a2b6a79"
      }
     },
     "4d933d55f9014fda98a517c0e637c74b": {
      "model_module": "@jupyter-widgets/base",
      "model_module_version": "1.0.0",
      "model_name": "LayoutModel",
      "state": {}
     },
     "4da7bc88a8e3475982b6af5a757713a1": {
      "model_module": "@jupyter-widgets/base",
      "model_module_version": "1.0.0",
      "model_name": "DOMWidgetModel",
      "state": {
       "_graph_url": "https://plot.ly/~wangqiwen/8/salary-range-of-faculty-in-information-sciences-computer-science/",
       "_message": "",
       "_model_name": "DOMWidgetModel",
       "_new_url": "",
       "_view_module": "graphWidget",
       "_view_module_version": "",
       "_view_name": "GraphView",
       "layout": "IPY_MODEL_33cf55718ac14620bd29ea4be330402e"
      }
     },
     "4dc859e160f74f8c80ed6840139a41a9": {
      "model_module": "@jupyter-widgets/base",
      "model_module_version": "1.0.0",
      "model_name": "LayoutModel",
      "state": {}
     },
     "4dd22a44983b4b38b4f04e6b3d2a13ef": {
      "model_module": "@jupyter-widgets/base",
      "model_module_version": "1.0.0",
      "model_name": "LayoutModel",
      "state": {}
     },
     "4de7032a430540f98715e981772be1cf": {
      "model_module": "@jupyter-widgets/base",
      "model_module_version": "1.0.0",
      "model_name": "LayoutModel",
      "state": {}
     },
     "4dfbfafa8886468db612c99e0cf7fe28": {
      "model_module": "@jupyter-widgets/base",
      "model_module_version": "1.0.0",
      "model_name": "LayoutModel",
      "state": {}
     },
     "4e34c54e648349e6bc9474d850014769": {
      "model_module": "@jupyter-widgets/base",
      "model_module_version": "1.0.0",
      "model_name": "DOMWidgetModel",
      "state": {
       "_graph_url": "https://plot.ly/~wangqiwen/8/salary-range-of-faculty-in-mathematics-information-sciences/",
       "_message": "",
       "_model_name": "DOMWidgetModel",
       "_new_url": "",
       "_view_module": "graphWidget",
       "_view_module_version": "",
       "_view_name": "GraphView",
       "layout": "IPY_MODEL_17a31cf1472a4eb1b8727ebe53d779f8"
      }
     },
     "4e6c4a56f3674049adda805a494c4862": {
      "model_module": "@jupyter-widgets/base",
      "model_module_version": "1.0.0",
      "model_name": "DOMWidgetModel",
      "state": {
       "_graph_url": "https://plot.ly/~wangqiwen/8/salary-range-of-faculty-in-information-sciences-computer-science/",
       "_message": "",
       "_model_name": "DOMWidgetModel",
       "_new_url": "",
       "_view_module": "graphWidget",
       "_view_module_version": "",
       "_view_name": "GraphView",
       "layout": "IPY_MODEL_cce6b0a0f8b64a479ae3453fa7ebc50a"
      }
     },
     "4e6ed4d704ec4d34afbaaa244151a718": {
      "model_module": "@jupyter-widgets/controls",
      "model_module_version": "1.2.0",
      "model_name": "IntSliderModel",
      "state": {
       "continuous_update": false,
       "description": "Year:",
       "layout": "IPY_MODEL_e2acfc78f8df46959aed2ebe377f9cf0",
       "max": 2017,
       "min": 2013,
       "style": "IPY_MODEL_9ec8f5257b534c0c903f1f34df851e24",
       "value": 2017
      }
     },
     "4ed142bcf4b3400f96d840e5691be5c9": {
      "model_module": "@jupyter-widgets/base",
      "model_module_version": "1.0.0",
      "model_name": "LayoutModel",
      "state": {}
     },
     "4f2c03757b3040b583cfcfb3f73ed79f": {
      "model_module": "@jupyter-widgets/controls",
      "model_module_version": "1.2.0",
      "model_name": "HBoxModel",
      "state": {
       "children": [
        "IPY_MODEL_7593c92dbdb8440583d47a21966ed422",
        "IPY_MODEL_24e12f5fed6447459f47dab0ebd94b9d",
        "IPY_MODEL_9f4b308b63a2414d8c5c39c9886341b1"
       ],
       "layout": "IPY_MODEL_f72f9ce52c5b471aa913d600b0417e6d"
      }
     },
     "4f6a70a364da4927951afd786b502a2e": {
      "model_module": "@jupyter-widgets/base",
      "model_module_version": "1.0.0",
      "model_name": "DOMWidgetModel",
      "state": {
       "_graph_url": "https://plot.ly/~wangqiwen/8/salary-range-of-faculty-in-information-sciences-computer-science/",
       "_message": "{\"task\": \"relayout\", \"update\": {\"title\": \"Salary Range of Faculty in Mathematics\", \"xaxis\": {\"title\": \"Salary\"}, \"yaxis\": {\"title\": \"Percentage of Faculty\"}, \"bargroupgap\": 0.1}, \"graphId\": \"1d315b6d-2393-4838-8aa6-89ace14d252d\", \"uid\": \"a8770ccb-cf55-455e-bda5-ef85bc65226a\"}",
       "_model_name": "DOMWidgetModel",
       "_new_url": "",
       "_view_module": "graphWidget",
       "_view_module_version": "",
       "_view_name": "GraphView",
       "layout": "IPY_MODEL_4fb97919148d4a6db9423059878997a0"
      }
     },
     "4f9ee6c268474dbfb201c9393f1bfce9": {
      "model_module": "@jupyter-widgets/base",
      "model_module_version": "1.0.0",
      "model_name": "LayoutModel",
      "state": {}
     },
     "4fb97919148d4a6db9423059878997a0": {
      "model_module": "@jupyter-widgets/base",
      "model_module_version": "1.0.0",
      "model_name": "LayoutModel",
      "state": {}
     },
     "4fd971fbb8b74ad1980a0da0e0562f82": {
      "model_module": "@jupyter-widgets/controls",
      "model_module_version": "1.2.0",
      "model_name": "DescriptionStyleModel",
      "state": {
       "description_width": ""
      }
     },
     "4fea8fd3d9ef4b009460ade6b65f7161": {
      "model_module": "@jupyter-widgets/controls",
      "model_module_version": "1.2.0",
      "model_name": "DescriptionStyleModel",
      "state": {
       "description_width": ""
      }
     },
     "4ffa77e8bde3486495983e3730765df6": {
      "model_module": "@jupyter-widgets/controls",
      "model_module_version": "1.2.0",
      "model_name": "HBoxModel",
      "state": {
       "children": [
        "IPY_MODEL_7549b1f76bc64f1b85a26ac58bce73ba",
        "IPY_MODEL_eb9e79a163d44e63945d1ea2b56f8f1d",
        "IPY_MODEL_06b45793819f4989a92fda9d5b7e6da1"
       ],
       "layout": "IPY_MODEL_3cf56fda929f438b9e0084847baa5be8"
      }
     },
     "50556c64203045baa5886243cdacbfa4": {
      "model_module": "@jupyter-widgets/base",
      "model_module_version": "1.0.0",
      "model_name": "LayoutModel",
      "state": {}
     },
     "5095c62b4e44494f975ca05a50f8907f": {
      "model_module": "@jupyter-widgets/controls",
      "model_module_version": "1.2.0",
      "model_name": "DescriptionStyleModel",
      "state": {
       "description_width": ""
      }
     },
     "509d67cf61a74360a3a5ce1dee442823": {
      "model_module": "@jupyter-widgets/base",
      "model_module_version": "1.0.0",
      "model_name": "LayoutModel",
      "state": {}
     },
     "50f5d7cb8c83453d8a816a76df2a509b": {
      "model_module": "@jupyter-widgets/controls",
      "model_module_version": "1.2.0",
      "model_name": "DescriptionStyleModel",
      "state": {
       "description_width": ""
      }
     },
     "5187f39a82ee44e38def4cc490d78cbd": {
      "model_module": "@jupyter-widgets/base",
      "model_module_version": "1.0.0",
      "model_name": "LayoutModel",
      "state": {}
     },
     "51a03c6f4d374468a610546aaee3ac8b": {
      "model_module": "@jupyter-widgets/controls",
      "model_module_version": "1.2.0",
      "model_name": "TabModel",
      "state": {
       "_titles": {
        "0": "Department 1",
        "1": "Department 2",
        "2": "Department 3",
        "3": "Department 4",
        "4": "Department 5"
       },
       "children": [
        "IPY_MODEL_7009292323d2439893c62569d2f407d8",
        "IPY_MODEL_7cdc0f2b337e421bb791ec6db859e15c",
        "IPY_MODEL_74046d2a9dc3478a87ade0143df1ed55",
        "IPY_MODEL_e94ae613a68447fc90bb629343c13a6a",
        "IPY_MODEL_04b11d48aeb74aada1775ae08bae6146"
       ],
       "layout": "IPY_MODEL_377384c2ca1f43139e20177d33d96655"
      }
     },
     "51a05c47f7e9458ca8d14651a3a33499": {
      "model_module": "@jupyter-widgets/base",
      "model_module_version": "1.0.0",
      "model_name": "LayoutModel",
      "state": {}
     },
     "51b3afd3519446ea8317bf4a00a3cf19": {
      "model_module": "@jupyter-widgets/base",
      "model_module_version": "1.0.0",
      "model_name": "LayoutModel",
      "state": {}
     },
     "51bbb4a589ce460f8a3cfa17a2ffcef8": {
      "model_module": "@jupyter-widgets/controls",
      "model_module_version": "1.2.0",
      "model_name": "SliderStyleModel",
      "state": {
       "description_width": ""
      }
     },
     "523ce08cd0de4283a7770a1dd3dc4573": {
      "model_module": "@jupyter-widgets/base",
      "model_module_version": "1.0.0",
      "model_name": "LayoutModel",
      "state": {}
     },
     "5242ee2a679e4d1084709d53ac081ac6": {
      "model_module": "@jupyter-widgets/base",
      "model_module_version": "1.0.0",
      "model_name": "LayoutModel",
      "state": {}
     },
     "524bb1b8a25945caa396ea750d9d1b6c": {
      "model_module": "@jupyter-widgets/controls",
      "model_module_version": "1.2.0",
      "model_name": "HBoxModel",
      "state": {
       "children": [
        "IPY_MODEL_1e0a78203ab24276b3ecce451e5be69b",
        "IPY_MODEL_48a5334691cd4a01b9adc305a4d97e7c",
        "IPY_MODEL_97838a5c3f9e4a21810e0d888577aec2"
       ],
       "layout": "IPY_MODEL_ffc9623f524047348e332ab3138044a2"
      }
     },
     "52d5511e2b0645aaa0f91377a10faff7": {
      "model_module": "@jupyter-widgets/base",
      "model_module_version": "1.0.0",
      "model_name": "LayoutModel",
      "state": {}
     },
     "5327ba0bea3449dfbf25be282374f9b1": {
      "model_module": "@jupyter-widgets/base",
      "model_module_version": "1.0.0",
      "model_name": "LayoutModel",
      "state": {}
     },
     "5375a7672bf74804b85aaf8877383c44": {
      "model_module": "@jupyter-widgets/base",
      "model_module_version": "1.0.0",
      "model_name": "LayoutModel",
      "state": {}
     },
     "53ce27cd861d4e6d9cf8277243b0e74f": {
      "model_module": "@jupyter-widgets/controls",
      "model_module_version": "1.2.0",
      "model_name": "DropdownModel",
      "state": {
       "_options_labels": [
        "Chicago",
        "Springfield",
        "Urbana-Champaign"
       ],
       "description": "Campus:",
       "index": 2,
       "layout": "IPY_MODEL_9d75dbedde9c436c9036ea7eed6234a6",
       "style": "IPY_MODEL_ee2eb6f7b2ab45e3bb1a1ccb4650e83f"
      }
     },
     "545559fff13549f2a3ad24558e77386a": {
      "model_module": "@jupyter-widgets/base",
      "model_module_version": "1.0.0",
      "model_name": "DOMWidgetModel",
      "state": {
       "_graph_url": "https://plot.ly/~wangqiwen/20/median-salary-median-salary-median-salary/",
       "_message": "",
       "_model_name": "DOMWidgetModel",
       "_new_url": "",
       "_view_module": "graphWidget",
       "_view_module_version": "",
       "_view_name": "GraphView",
       "layout": "IPY_MODEL_b6d3a99552db4568930e3b9e01345610"
      }
     },
     "54789d6a162c4feab814163e992c35ed": {
      "model_module": "@jupyter-widgets/base",
      "model_module_version": "1.0.0",
      "model_name": "LayoutModel",
      "state": {}
     },
     "547dd89daca6458fa8241ce569f3b993": {
      "model_module": "@jupyter-widgets/base",
      "model_module_version": "1.0.0",
      "model_name": "LayoutModel",
      "state": {}
     },
     "549334f0f59744a9af0e42941bef17c7": {
      "model_module": "@jupyter-widgets/controls",
      "model_module_version": "1.2.0",
      "model_name": "TextModel",
      "state": {
       "description": "Department 4",
       "layout": "IPY_MODEL_0e1cb87464924435a173a109d03da1f5",
       "style": "IPY_MODEL_e7513d3c88b648f98f234fcdb0ffedc3"
      }
     },
     "54df09e07e0d40f8b86f6739b10e6506": {
      "model_module": "@jupyter-widgets/base",
      "model_module_version": "1.0.0",
      "model_name": "LayoutModel",
      "state": {}
     },
     "54fe1d55e96842e59ab35abd751e3524": {
      "model_module": "@jupyter-widgets/controls",
      "model_module_version": "1.2.0",
      "model_name": "IntSliderModel",
      "state": {
       "continuous_update": false,
       "description": "Year:",
       "layout": "IPY_MODEL_c94ce5cd754b48f4a8db8e64ba3fe5b7",
       "max": 2017,
       "min": 2013,
       "style": "IPY_MODEL_066c10dcd57b4864b42f4672685371c0",
       "value": 2017
      }
     },
     "5540469e7fc84360a73cffe3693af311": {
      "model_module": "@jupyter-widgets/controls",
      "model_module_version": "1.2.0",
      "model_name": "DescriptionStyleModel",
      "state": {
       "description_width": ""
      }
     },
     "5551f8537b6e442fa92d2957ed02b55b": {
      "model_module": "@jupyter-widgets/controls",
      "model_module_version": "1.2.0",
      "model_name": "IntSliderModel",
      "state": {
       "continuous_update": false,
       "description": "Year:",
       "layout": "IPY_MODEL_18b2b18098df4fea87a97ffcd7be35f1",
       "max": 2017,
       "min": 2013,
       "style": "IPY_MODEL_b71b375cd5864388bebcfe3fd34f223d",
       "value": 2017
      }
     },
     "55dc4e09e7ed4ef3a4c629b7d6463dcb": {
      "model_module": "@jupyter-widgets/controls",
      "model_module_version": "1.2.0",
      "model_name": "DescriptionStyleModel",
      "state": {
       "description_width": ""
      }
     },
     "5648764f46fd4a47aafae6e2a0149c17": {
      "model_module": "@jupyter-widgets/controls",
      "model_module_version": "1.2.0",
      "model_name": "DescriptionStyleModel",
      "state": {
       "description_width": ""
      }
     },
     "565979d6203f4f5f87e09107514bfc2f": {
      "model_module": "@jupyter-widgets/controls",
      "model_module_version": "1.2.0",
      "model_name": "HBoxModel",
      "state": {
       "children": [
        "IPY_MODEL_64dcc25d2afe4f0d9b3e983b7891218e",
        "IPY_MODEL_ed297428bc2c4351b020d009e05d30f0",
        "IPY_MODEL_57f8098eb742465ea27838b329b232ee"
       ],
       "layout": "IPY_MODEL_e789a84a893a46139a14c1e64c074eab"
      }
     },
     "565c535afdf441b4887c4a5658f92682": {
      "model_module": "@jupyter-widgets/controls",
      "model_module_version": "1.2.0",
      "model_name": "IntTextModel",
      "state": {
       "description": "Top X:",
       "layout": "IPY_MODEL_e727324f77ff4c0bb52ba0b7c1dbeda2",
       "step": 1,
       "style": "IPY_MODEL_ef59977ae6684bb188807ae21e686962",
       "value": 25
      }
     },
     "5688402cf776457e9add3f9398e0dfbb": {
      "model_module": "@jupyter-widgets/controls",
      "model_module_version": "1.2.0",
      "model_name": "HBoxModel",
      "state": {
       "children": [
        "IPY_MODEL_34d59a1dee8d42229673549a7fbce4a1",
        "IPY_MODEL_cac1272d59724452a29e94ff897dd1d3",
        "IPY_MODEL_565c535afdf441b4887c4a5658f92682"
       ],
       "layout": "IPY_MODEL_bac245dda03946e189c7bf9a2079f6b9"
      }
     },
     "56bf130e67f74c3890b9a638c26f49a5": {
      "model_module": "@jupyter-widgets/base",
      "model_module_version": "1.0.0",
      "model_name": "LayoutModel",
      "state": {}
     },
     "5726a906ffaa4773970cbb5ef468f51a": {
      "model_module": "@jupyter-widgets/base",
      "model_module_version": "1.0.0",
      "model_name": "LayoutModel",
      "state": {}
     },
     "575ac9d8d66c4a2c99d0029f67a0cbdb": {
      "model_module": "@jupyter-widgets/controls",
      "model_module_version": "1.2.0",
      "model_name": "DescriptionStyleModel",
      "state": {
       "description_width": ""
      }
     },
     "576e9c4d8a62489895c3b80133a3415d": {
      "model_module": "@jupyter-widgets/controls",
      "model_module_version": "1.2.0",
      "model_name": "TextModel",
      "state": {
       "description": "Department:   ",
       "layout": "IPY_MODEL_b22328a3f07949b88134b9fbdcd33a6d",
       "style": "IPY_MODEL_33dc039967a541a4936b64e6910d903d",
       "value": "Information Sciences"
      }
     },
     "57a5b912817c445497c4b23c8f1cf8ac": {
      "model_module": "@jupyter-widgets/base",
      "model_module_version": "1.0.0",
      "model_name": "LayoutModel",
      "state": {}
     },
     "57b10441a1014511b2da63ce7ae7d52a": {
      "model_module": "@jupyter-widgets/controls",
      "model_module_version": "1.2.0",
      "model_name": "DescriptionStyleModel",
      "state": {
       "description_width": ""
      }
     },
     "57d57628fe8743a58776b09b97d2197a": {
      "model_module": "@jupyter-widgets/base",
      "model_module_version": "1.0.0",
      "model_name": "DOMWidgetModel",
      "state": {
       "_graph_url": "https://plot.ly/~wangqiwen/8/salary-range-of-faculty-in-mathematics-information-sciences/",
       "_message": "{\"task\": \"relayout\", \"update\": {\"title\": \"Salary Range of Faculty in Mathematics & History\", \"xaxis\": {\"title\": \"Salary\"}, \"yaxis\": {\"title\": \"Percentage of Faculty\"}, \"bargap\": 0.2, \"bargroupgap\": 0.1}, \"graphId\": \"ea5e3e20-2cee-4812-bdc3-38bdca4dc910\", \"uid\": \"b33d587c-f240-4c05-b7b6-40e5e349cebe\"}",
       "_model_name": "DOMWidgetModel",
       "_new_url": "",
       "_view_module": "graphWidget",
       "_view_module_version": "",
       "_view_name": "GraphView",
       "layout": "IPY_MODEL_4263de6de7f44467b8d138cf09fbb13f"
      }
     },
     "57f8098eb742465ea27838b329b232ee": {
      "model_module": "@jupyter-widgets/controls",
      "model_module_version": "1.2.0",
      "model_name": "IntSliderModel",
      "state": {
       "continuous_update": false,
       "description": "Year:",
       "layout": "IPY_MODEL_0cde3587144441beb96c450b0a77de84",
       "max": 2017,
       "min": 2013,
       "style": "IPY_MODEL_d97a634c09dd4e6a954a96a7b7f552e3",
       "value": 2017
      }
     },
     "58167cadaaa9466aaf1077289c02e312": {
      "model_module": "@jupyter-widgets/base",
      "model_module_version": "1.0.0",
      "model_name": "LayoutModel",
      "state": {}
     },
     "58b153c3f1b24c91bd42184345156b1e": {
      "model_module": "@jupyter-widgets/controls",
      "model_module_version": "1.2.0",
      "model_name": "TabModel",
      "state": {
       "_titles": {
        "0": "Department 1",
        "1": "Department 2",
        "2": "Department 3",
        "3": "Department 4",
        "4": "Department 5"
       },
       "children": [
        "IPY_MODEL_b74ebc59650d426aad8c871852b813ce",
        "IPY_MODEL_b74ebc59650d426aad8c871852b813ce",
        "IPY_MODEL_b74ebc59650d426aad8c871852b813ce",
        "IPY_MODEL_b74ebc59650d426aad8c871852b813ce",
        "IPY_MODEL_b74ebc59650d426aad8c871852b813ce"
       ],
       "layout": "IPY_MODEL_8b177cd688f546f29023088fbfd883cb",
       "selected_index": 4
      }
     },
     "58b2d497123548a8a5efe711b6ea46bd": {
      "model_module": "@jupyter-widgets/controls",
      "model_module_version": "1.2.0",
      "model_name": "DropdownModel",
      "state": {
       "_options_labels": [
        "PROF",
        "ASSOC PROF",
        "ASST PROF",
        "LECTURER",
        "ASSOC DIR",
        "CLIN ASST PROF",
        "SR LECTURER",
        "RES SCI",
        "RES ASST PROF",
        "SR RES SCI",
        "POSTDOC RES ASSOC",
        "CLIN PROF",
        "ASSOC PROF UNIV LIBRARY",
        "ASST PROF UNIV LIBRARY",
        "DEAN",
        "JL DOOB RES ASST PROF",
        "CLIN ASSOC PROF",
        "VST ASST PROF",
        "RES ASSOC PROF",
        "ASST DEAN",
        "RES PROF",
        "PROF (RT)"
       ],
       "description": "Job Title:",
       "index": 0,
       "layout": "IPY_MODEL_c606779dea6c415eba3fda61b2236d41",
       "style": "IPY_MODEL_d29cc4cb8380406bb870c75a8649ed49"
      }
     },
     "58c239839b5c47bd950ec898817b0901": {
      "model_module": "@jupyter-widgets/controls",
      "model_module_version": "1.2.0",
      "model_name": "DescriptionStyleModel",
      "state": {
       "description_width": ""
      }
     },
     "5920573dd3a143e3b1bb09a3e2c8e668": {
      "model_module": "@jupyter-widgets/base",
      "model_module_version": "1.0.0",
      "model_name": "LayoutModel",
      "state": {}
     },
     "595ab5931e614c5eb9a4920d9f3c7722": {
      "model_module": "@jupyter-widgets/base",
      "model_module_version": "1.0.0",
      "model_name": "LayoutModel",
      "state": {}
     },
     "597e62b2cf994798b4b17b3509290c41": {
      "model_module": "@jupyter-widgets/controls",
      "model_module_version": "1.2.0",
      "model_name": "SliderStyleModel",
      "state": {
       "description_width": ""
      }
     },
     "59aac263a809457794730d940a683bf8": {
      "model_module": "@jupyter-widgets/base",
      "model_module_version": "1.0.0",
      "model_name": "DOMWidgetModel",
      "state": {
       "_graph_url": "https://plot.ly/~wangqiwen/22/salary-range-of-faculty-in-information-sciences/",
       "_message": "{\"task\": \"relayout\", \"update\": {\"title\": \"Salary Range of Faculty in Computer Science\", \"xaxis\": {\"title\": \"Salary\"}, \"yaxis\": {\"title\": \"Percentage of Faculty\"}, \"barmode\": \"overlay\"}, \"graphId\": \"b958de28-6d06-46c6-bb42-ad4851b7100e\", \"uid\": \"c753342f-249f-473b-a518-9760624291c1\"}",
       "_model_name": "DOMWidgetModel",
       "_new_url": "",
       "_view_module": "graphWidget",
       "_view_module_version": "",
       "_view_name": "GraphView",
       "layout": "IPY_MODEL_f25a95aa302c45b7b54d5f341bec089d"
      }
     },
     "59c19f97752a46bdbc0f9f0a753d9d13": {
      "model_module": "@jupyter-widgets/base",
      "model_module_version": "1.0.0",
      "model_name": "LayoutModel",
      "state": {}
     },
     "5a07b7b1afe645bb81ffc4c011a67af1": {
      "model_module": "@jupyter-widgets/base",
      "model_module_version": "1.0.0",
      "model_name": "LayoutModel",
      "state": {}
     },
     "5a1386a60b0643d3816ba5ca2afb57f6": {
      "model_module": "@jupyter-widgets/controls",
      "model_module_version": "1.2.0",
      "model_name": "DescriptionStyleModel",
      "state": {
       "description_width": ""
      }
     },
     "5a446087c646441f8df9063650bfc301": {
      "model_module": "@jupyter-widgets/controls",
      "model_module_version": "1.2.0",
      "model_name": "IntSliderModel",
      "state": {
       "continuous_update": false,
       "description": "Year:",
       "layout": "IPY_MODEL_655c40ab23bf43e0aa5f198214817658",
       "max": 2017,
       "min": 2013,
       "style": "IPY_MODEL_c2722f8e9eab437695ca45b71b2214ca",
       "value": 2017
      }
     },
     "5a4603b8189d4a0d8735bcd9a6e7433a": {
      "model_module": "@jupyter-widgets/controls",
      "model_module_version": "1.2.0",
      "model_name": "DescriptionStyleModel",
      "state": {
       "description_width": ""
      }
     },
     "5a4931c0ecd642f593e37d9028b0a220": {
      "model_module": "@jupyter-widgets/controls",
      "model_module_version": "1.2.0",
      "model_name": "DescriptionStyleModel",
      "state": {
       "description_width": ""
      }
     },
     "5a7bf1bc6ccb48548d2c95993ca5b947": {
      "model_module": "@jupyter-widgets/base",
      "model_module_version": "1.0.0",
      "model_name": "LayoutModel",
      "state": {}
     },
     "5adca266d1cb41649c5c8bdfd6bd251b": {
      "model_module": "@jupyter-widgets/base",
      "model_module_version": "1.0.0",
      "model_name": "LayoutModel",
      "state": {}
     },
     "5afc0208e8054333964955d2aa2e7120": {
      "model_module": "@jupyter-widgets/base",
      "model_module_version": "1.0.0",
      "model_name": "LayoutModel",
      "state": {}
     },
     "5b05b67d76cf4710b02f3bc3de6e327f": {
      "model_module": "@jupyter-widgets/base",
      "model_module_version": "1.0.0",
      "model_name": "DOMWidgetModel",
      "state": {
       "_graph_url": "https://plot.ly/~wangqiwen/8/salary-range-of-faculty-in-information-sciences-computer-science/",
       "_message": "",
       "_model_name": "DOMWidgetModel",
       "_new_url": "",
       "_view_module": "graphWidget",
       "_view_module_version": "",
       "_view_name": "GraphView",
       "layout": "IPY_MODEL_bd68cd8f2f8940bebcb743661da2b923"
      }
     },
     "5b1fc94b95324a529b1bcd1adc9a8f0f": {
      "model_module": "@jupyter-widgets/controls",
      "model_module_version": "1.2.0",
      "model_name": "DropdownModel",
      "state": {
       "_options_labels": [
        "Chicago",
        "Springfield",
        "Urbana-Champaign"
       ],
       "description": "Campus:",
       "index": 2,
       "layout": "IPY_MODEL_6e5503c434674ab581e383f54c7a519a",
       "style": "IPY_MODEL_727a05d67e544e0288c7826435302db8"
      }
     },
     "5b78f64bbd0d417b934a47fa9a1a49c7": {
      "model_module": "@jupyter-widgets/base",
      "model_module_version": "1.0.0",
      "model_name": "DOMWidgetModel",
      "state": {
       "_graph_url": "https://plot.ly/~wangqiwen/18/median-salary-median-salary-median-salary/",
       "_message": "",
       "_model_name": "DOMWidgetModel",
       "_new_url": "",
       "_view_module": "graphWidget",
       "_view_module_version": "",
       "_view_name": "GraphView",
       "layout": "IPY_MODEL_77ee15b380c04af9b554ca70947218d3"
      }
     },
     "5b82024a8913417a89bb52e309a3a1cf": {
      "model_module": "@jupyter-widgets/base",
      "model_module_version": "1.0.0",
      "model_name": "LayoutModel",
      "state": {}
     },
     "5bafa8af04354cad9007d2e8aaebbe62": {
      "model_module": "@jupyter-widgets/controls",
      "model_module_version": "1.2.0",
      "model_name": "DescriptionStyleModel",
      "state": {
       "description_width": ""
      }
     },
     "5bc049ee031f4c37b2a42a092a2725fc": {
      "model_module": "@jupyter-widgets/controls",
      "model_module_version": "1.2.0",
      "model_name": "DropdownModel",
      "state": {
       "_options_labels": [
        "Chicago",
        "Springfield",
        "Urbana-Champaign"
       ],
       "description": "Campus:",
       "index": 2,
       "layout": "IPY_MODEL_f2d74485021b49d993ddca9ad56f5da7",
       "style": "IPY_MODEL_e317a1b7f6fc4e2093417ebc030258c9"
      }
     },
     "5bc04d5f664a4182ab46ef900e2a3a62": {
      "model_module": "@jupyter-widgets/controls",
      "model_module_version": "1.2.0",
      "model_name": "TextModel",
      "state": {
       "description": "Department:   ",
       "layout": "IPY_MODEL_d0448c47ea9a42aabbe84fa655407115",
       "style": "IPY_MODEL_2fdb6318ec2745f1b2049128a57da369",
       "value": "Mathematics"
      }
     },
     "5be4696a112448c1ad6982c4231b1034": {
      "model_module": "@jupyter-widgets/controls",
      "model_module_version": "1.2.0",
      "model_name": "DropdownModel",
      "state": {
       "_options_labels": [
        "PROF",
        "ASSOC PROF",
        "ASST PROF",
        "LECTURER",
        "ASSOC DIR",
        "CLIN ASST PROF",
        "SR LECTURER",
        "RES SCI",
        "RES ASST PROF",
        "SR RES SCI",
        "POSTDOC RES ASSOC",
        "CLIN PROF",
        "ASSOC PROF UNIV LIBRARY",
        "ASST PROF UNIV LIBRARY",
        "DEAN",
        "JL DOOB RES ASST PROF",
        "CLIN ASSOC PROF",
        "VST ASST PROF",
        "RES ASSOC PROF",
        "ASST DEAN",
        "RES PROF",
        "PROF (RT)"
       ],
       "description": "Job Title:",
       "index": 0,
       "layout": "IPY_MODEL_68347f2a5c0c47a6b3d8afbae87e404e",
       "style": "IPY_MODEL_4b0fcc541527425a9ba69cfbf38ba78a"
      }
     },
     "5d315b09e4dd41b9aab65f7ae57e53ef": {
      "model_module": "@jupyter-widgets/controls",
      "model_module_version": "1.2.0",
      "model_name": "HBoxModel",
      "state": {
       "children": [
        "IPY_MODEL_d67f682a7e484eb5833ae999e0194be2",
        "IPY_MODEL_ba627c5445ff4d358f41daa4bf0cf798",
        "IPY_MODEL_4cac891cf2354811a5538f57f4eeded6"
       ],
       "layout": "IPY_MODEL_fb7dbac6f22e41828f170a16d50c0466"
      }
     },
     "5d35df15fb174822868f219846ec4c91": {
      "model_module": "@jupyter-widgets/controls",
      "model_module_version": "1.2.0",
      "model_name": "TabModel",
      "state": {
       "_titles": {
        "0": "Department 1",
        "1": "Department 2",
        "2": "Department 3",
        "3": "Department 4",
        "4": "Department 5"
       },
       "children": [
        "IPY_MODEL_26e362019e954f73b04b3f7715ebfad1",
        "IPY_MODEL_1485ac4efbb0459eb7858b875af8181d",
        "IPY_MODEL_3a61053c2c7a448c9606cc70c97c1d7b",
        "IPY_MODEL_8a6324a61b254b488cdb752bf12ad7d8",
        "IPY_MODEL_7e14c22e19ed41f9ac16c1a783d284d8"
       ],
       "layout": "IPY_MODEL_0e559f65c2184926b91fd9cd4039dc90"
      }
     },
     "5d921bc2e3e94a35ab3f63eccf98b0a2": {
      "model_module": "@jupyter-widgets/controls",
      "model_module_version": "1.2.0",
      "model_name": "IntSliderModel",
      "state": {
       "continuous_update": false,
       "description": "Year:",
       "layout": "IPY_MODEL_523ce08cd0de4283a7770a1dd3dc4573",
       "max": 2017,
       "min": 2013,
       "style": "IPY_MODEL_b74f7a0c886d463ea5a821f51d388b41",
       "value": 2017
      }
     },
     "5da4a00143cf4efd98c3823ec36a66b8": {
      "model_module": "@jupyter-widgets/base",
      "model_module_version": "1.0.0",
      "model_name": "LayoutModel",
      "state": {}
     },
     "5dadf92e457141ba884551fc5df4d027": {
      "model_module": "@jupyter-widgets/controls",
      "model_module_version": "1.2.0",
      "model_name": "DescriptionStyleModel",
      "state": {
       "description_width": ""
      }
     },
     "5de3d5b4029f448bb8db721a1a2afbab": {
      "model_module": "@jupyter-widgets/controls",
      "model_module_version": "1.2.0",
      "model_name": "TextModel",
      "state": {
       "description": "Department:   ",
       "layout": "IPY_MODEL_887229baf8174ed09e091f4ef03c9655",
       "style": "IPY_MODEL_6fd4f6007b2a4884b118ee30ddd1b962"
      }
     },
     "5e22ebe76993497184ebe1019cf46cd1": {
      "model_module": "@jupyter-widgets/base",
      "model_module_version": "1.0.0",
      "model_name": "LayoutModel",
      "state": {}
     },
     "5e900e4c686c407ead22efb8a565c396": {
      "model_module": "@jupyter-widgets/controls",
      "model_module_version": "1.2.0",
      "model_name": "DescriptionStyleModel",
      "state": {
       "description_width": ""
      }
     },
     "5e9c226758c54b3cbdafbc35c2308069": {
      "model_module": "@jupyter-widgets/controls",
      "model_module_version": "1.2.0",
      "model_name": "TabModel",
      "state": {
       "_titles": {
        "0": "Department 1",
        "1": "Department 2"
       },
       "children": [
        "IPY_MODEL_8064e1f1dde74f0e8b83549b7ec5c954",
        "IPY_MODEL_fee8e87188a845c88184b86216acf213"
       ],
       "layout": "IPY_MODEL_6d560775bf51470f926b1e79505d5446"
      }
     },
     "5f120d7e2f4a46658db34af5bd3a9e2a": {
      "model_module": "@jupyter-widgets/base",
      "model_module_version": "1.0.0",
      "model_name": "LayoutModel",
      "state": {}
     },
     "5f3211b4f40e4c649899629933f96e16": {
      "model_module": "@jupyter-widgets/controls",
      "model_module_version": "1.2.0",
      "model_name": "DescriptionStyleModel",
      "state": {
       "description_width": ""
      }
     },
     "5f833cc44f614441b585111ade47363c": {
      "model_module": "@jupyter-widgets/base",
      "model_module_version": "1.0.0",
      "model_name": "LayoutModel",
      "state": {}
     },
     "5fa360a34b4046418fdc4a65df1924be": {
      "model_module": "@jupyter-widgets/controls",
      "model_module_version": "1.2.0",
      "model_name": "IntSliderModel",
      "state": {
       "continuous_update": false,
       "description": "Year:",
       "layout": "IPY_MODEL_1f5d2c3238024017a35dccbf9f0a8ce9",
       "max": 2017,
       "min": 2013,
       "style": "IPY_MODEL_f105fad75af44388b4af03b341149a05",
       "value": 2017
      }
     },
     "5fe97313bc7b4608b008ea0c7850c7fe": {
      "model_module": "@jupyter-widgets/controls",
      "model_module_version": "1.2.0",
      "model_name": "TabModel",
      "state": {
       "layout": "IPY_MODEL_0e0e432b254745448d8d39cd7b496121"
      }
     },
     "5ff0396cd0f7434b94a464c87ff4cdd7": {
      "model_module": "@jupyter-widgets/controls",
      "model_module_version": "1.2.0",
      "model_name": "IntSliderModel",
      "state": {
       "continuous_update": false,
       "description": "Year:",
       "layout": "IPY_MODEL_73b5bc13107e474e872aa3e62fdcfa82",
       "max": 2017,
       "min": 2013,
       "style": "IPY_MODEL_ff8b9938298943b0be19de9e0d95602b",
       "value": 2017
      }
     },
     "5ff7c984775749a1b19ea7806cde5d12": {
      "model_module": "@jupyter-widgets/base",
      "model_module_version": "1.0.0",
      "model_name": "LayoutModel",
      "state": {}
     },
     "6022f44e4a774da48f26c03bcb47a3d8": {
      "model_module": "@jupyter-widgets/base",
      "model_module_version": "1.0.0",
      "model_name": "LayoutModel",
      "state": {}
     },
     "6035e8cdc4bf494985f6f8733681bdca": {
      "model_module": "@jupyter-widgets/controls",
      "model_module_version": "1.2.0",
      "model_name": "DropdownModel",
      "state": {
       "_options_labels": [
        "PROF",
        "ASSOC PROF",
        "ASST PROF",
        "LECTURER",
        "ASSOC DIR",
        "CLIN ASST PROF",
        "SR LECTURER",
        "RES SCI",
        "RES ASST PROF",
        "SR RES SCI",
        "POSTDOC RES ASSOC",
        "CLIN PROF",
        "ASSOC PROF UNIV LIBRARY",
        "ASST PROF UNIV LIBRARY",
        "DEAN",
        "JL DOOB RES ASST PROF",
        "CLIN ASSOC PROF",
        "VST ASST PROF",
        "RES ASSOC PROF",
        "ASST DEAN",
        "RES PROF",
        "PROF (RT)"
       ],
       "description": "Job Title:",
       "index": 6,
       "layout": "IPY_MODEL_e88b25bce5d54ae59a8776aeb0d55972",
       "style": "IPY_MODEL_781b29dc28164b0f9402a0a9530ab1b0"
      }
     },
     "6092115c40ef480b91e5a5271159b772": {
      "model_module": "@jupyter-widgets/base",
      "model_module_version": "1.0.0",
      "model_name": "LayoutModel",
      "state": {}
     },
     "6096dd10ab1644f6806029d3005532dc": {
      "model_module": "@jupyter-widgets/base",
      "model_module_version": "1.0.0",
      "model_name": "LayoutModel",
      "state": {}
     },
     "60a1fc41e96a44219ced1311b06ffb70": {
      "model_module": "@jupyter-widgets/base",
      "model_module_version": "1.0.0",
      "model_name": "LayoutModel",
      "state": {}
     },
     "60af367e1e1548a9bbe975a62d0152dd": {
      "model_module": "@jupyter-widgets/controls",
      "model_module_version": "1.2.0",
      "model_name": "DescriptionStyleModel",
      "state": {
       "description_width": ""
      }
     },
     "611076d7efff44239c2cf529a920244b": {
      "model_module": "@jupyter-widgets/base",
      "model_module_version": "1.0.0",
      "model_name": "LayoutModel",
      "state": {}
     },
     "6115aa00f53b4a70b6ea7a5f69c28c94": {
      "model_module": "@jupyter-widgets/controls",
      "model_module_version": "1.2.0",
      "model_name": "DescriptionStyleModel",
      "state": {
       "description_width": ""
      }
     },
     "6127a28cb8be4c13b6f268ad68a609cb": {
      "model_module": "@jupyter-widgets/base",
      "model_module_version": "1.0.0",
      "model_name": "DOMWidgetModel",
      "state": {
       "_graph_url": "https://plot.ly/~wangqiwen/24",
       "_message": "",
       "_model_name": "DOMWidgetModel",
       "_new_url": "",
       "_view_module": "graphWidget",
       "_view_module_version": "",
       "_view_name": "GraphView",
       "layout": "IPY_MODEL_33905af262d94885a266d50d38cbc99a"
      }
     },
     "6129e38d84a34e3ea9899e3b2bedc9c5": {
      "model_module": "@jupyter-widgets/base",
      "model_module_version": "1.0.0",
      "model_name": "LayoutModel",
      "state": {}
     },
     "61d2114596ce4fc78917f48530796544": {
      "model_module": "@jupyter-widgets/controls",
      "model_module_version": "1.2.0",
      "model_name": "DescriptionStyleModel",
      "state": {
       "description_width": ""
      }
     },
     "61f4f37f896d4f40b36ca24c73cc98cc": {
      "model_module": "@jupyter-widgets/base",
      "model_module_version": "1.0.0",
      "model_name": "LayoutModel",
      "state": {}
     },
     "620dc3240ab84bc1b803e50dbcf011a5": {
      "model_module": "@jupyter-widgets/controls",
      "model_module_version": "1.2.0",
      "model_name": "TextModel",
      "state": {
       "description": "Department:   ",
       "layout": "IPY_MODEL_7684b0cdf3e44615bae56048b51ebc02",
       "style": "IPY_MODEL_bc4ef832391a4b28b5513f67b5daef82",
       "value": "Information Sciences"
      }
     },
     "621fee9053024598b98f5ddd52749e91": {
      "model_module": "@jupyter-widgets/controls",
      "model_module_version": "1.2.0",
      "model_name": "DropdownModel",
      "state": {
       "_options_labels": [
        "Chicago",
        "Springfield",
        "Urbana-Champaign"
       ],
       "description": "Campus:",
       "index": 2,
       "layout": "IPY_MODEL_2ec7f872eab84ffb95b615ad2d5204a3",
       "style": "IPY_MODEL_d79c56a99ea8458a83d41abda5080e04"
      }
     },
     "6221080fa0bd4112a318e75cd9dcdd12": {
      "model_module": "@jupyter-widgets/controls",
      "model_module_version": "1.2.0",
      "model_name": "TextModel",
      "state": {
       "description": "Department:   ",
       "layout": "IPY_MODEL_08686ba9d9b24f6a8ac26a0b12c749c5",
       "style": "IPY_MODEL_45d5c6f6a6f64c94bd626584cb8d75ac"
      }
     },
     "6279f10ed9514081a10f6501df00136e": {
      "model_module": "@jupyter-widgets/base",
      "model_module_version": "1.0.0",
      "model_name": "LayoutModel",
      "state": {}
     },
     "62c6f90b30194d76adf39cbb7f639856": {
      "model_module": "@jupyter-widgets/base",
      "model_module_version": "1.0.0",
      "model_name": "LayoutModel",
      "state": {}
     },
     "62cf3d83e20e47b68950eed49883da53": {
      "model_module": "@jupyter-widgets/base",
      "model_module_version": "1.0.0",
      "model_name": "LayoutModel",
      "state": {}
     },
     "630046321cfe45ff8f773480d637099c": {
      "model_module": "@jupyter-widgets/controls",
      "model_module_version": "1.2.0",
      "model_name": "IntSliderModel",
      "state": {
       "continuous_update": false,
       "description": "Year:",
       "layout": "IPY_MODEL_6d0cc26c57104065b8934e29c393fc47",
       "max": 2017,
       "min": 2013,
       "style": "IPY_MODEL_45f055ede3f44d388a3e8a66b18e9c87",
       "value": 2016
      }
     },
     "63153fbe5184442d80bcab745c9e1951": {
      "model_module": "@jupyter-widgets/controls",
      "model_module_version": "1.2.0",
      "model_name": "IntSliderModel",
      "state": {
       "continuous_update": false,
       "description": "Year:",
       "layout": "IPY_MODEL_a69318147bae432e9161ba5a53149811",
       "max": 2017,
       "min": 2013,
       "style": "IPY_MODEL_39a653e3d5364e26b3293fc54d257299",
       "value": 2017
      }
     },
     "631d3177826b4380bd013fbe8bd4bbd3": {
      "model_module": "@jupyter-widgets/base",
      "model_module_version": "1.0.0",
      "model_name": "LayoutModel",
      "state": {}
     },
     "63214bcc38b040b2a4c538088471c777": {
      "model_module": "@jupyter-widgets/controls",
      "model_module_version": "1.2.0",
      "model_name": "DescriptionStyleModel",
      "state": {
       "description_width": ""
      }
     },
     "632861e51937404a99cc99d4ac8c481c": {
      "model_module": "@jupyter-widgets/base",
      "model_module_version": "1.0.0",
      "model_name": "LayoutModel",
      "state": {}
     },
     "632aa7550add4812ba6ec056baf1f133": {
      "model_module": "@jupyter-widgets/controls",
      "model_module_version": "1.2.0",
      "model_name": "DescriptionStyleModel",
      "state": {
       "description_width": ""
      }
     },
     "63f488adacb545a59d90eb7a96f1d4c3": {
      "model_module": "@jupyter-widgets/controls",
      "model_module_version": "1.2.0",
      "model_name": "DescriptionStyleModel",
      "state": {
       "description_width": ""
      }
     },
     "645588129d5a415d9635ff0e4cbeeb27": {
      "model_module": "@jupyter-widgets/controls",
      "model_module_version": "1.2.0",
      "model_name": "SliderStyleModel",
      "state": {
       "description_width": ""
      }
     },
     "64bbeda99c164e42a7ec6532a846875f": {
      "model_module": "@jupyter-widgets/controls",
      "model_module_version": "1.2.0",
      "model_name": "DescriptionStyleModel",
      "state": {
       "description_width": ""
      }
     },
     "64bf4d2f5a764df49b918bd75b6f280c": {
      "model_module": "@jupyter-widgets/controls",
      "model_module_version": "1.2.0",
      "model_name": "SliderStyleModel",
      "state": {
       "description_width": ""
      }
     },
     "64c053cc167f492ca3050be14abbe979": {
      "model_module": "@jupyter-widgets/base",
      "model_module_version": "1.0.0",
      "model_name": "LayoutModel",
      "state": {}
     },
     "64dcc25d2afe4f0d9b3e983b7891218e": {
      "model_module": "@jupyter-widgets/controls",
      "model_module_version": "1.2.0",
      "model_name": "DropdownModel",
      "state": {
       "_options_labels": [
        "Chicago",
        "Springfield",
        "Urbana-Champaign"
       ],
       "description": "Campus:",
       "index": 2,
       "layout": "IPY_MODEL_69d3234a07244860b898a24858bfa577",
       "style": "IPY_MODEL_5a4931c0ecd642f593e37d9028b0a220"
      }
     },
     "655c40ab23bf43e0aa5f198214817658": {
      "model_module": "@jupyter-widgets/base",
      "model_module_version": "1.0.0",
      "model_name": "LayoutModel",
      "state": {}
     },
     "6633c3c1834b4e71b49bf41be3aa67e9": {
      "model_module": "@jupyter-widgets/base",
      "model_module_version": "1.0.0",
      "model_name": "LayoutModel",
      "state": {}
     },
     "663f12b2e2bc45dfa67689d896600c79": {
      "model_module": "@jupyter-widgets/controls",
      "model_module_version": "1.2.0",
      "model_name": "SliderStyleModel",
      "state": {
       "description_width": ""
      }
     },
     "665d5e973073472db281db23bcd4e033": {
      "model_module": "@jupyter-widgets/base",
      "model_module_version": "1.0.0",
      "model_name": "LayoutModel",
      "state": {}
     },
     "6677a8219b4748eda6bbaa422acc0ddc": {
      "model_module": "@jupyter-widgets/base",
      "model_module_version": "1.0.0",
      "model_name": "LayoutModel",
      "state": {}
     },
     "669a8a6b85304e3383dd9423b87fd35a": {
      "model_module": "@jupyter-widgets/controls",
      "model_module_version": "1.2.0",
      "model_name": "HBoxModel",
      "state": {
       "children": [
        "IPY_MODEL_68f0521b3c26474fa8fabded06f9d210",
        "IPY_MODEL_42524e1eb9af4ea6a2953af4ee1f717e",
        "IPY_MODEL_4a871288ed1f40f5bb5b3a98eecee2f7"
       ],
       "layout": "IPY_MODEL_1201c53bdb03423ba9b081d37ae19ef2"
      }
     },
     "66c6173732ba44bc9ac88765ee85a600": {
      "model_module": "@jupyter-widgets/controls",
      "model_module_version": "1.2.0",
      "model_name": "DropdownModel",
      "state": {
       "_options_labels": [
        "Chicago",
        "Springfield",
        "Urbana-Champaign"
       ],
       "description": "Campus:",
       "index": 2,
       "layout": "IPY_MODEL_c8d4adffc0f745278d5b7e1daf6bb095",
       "style": "IPY_MODEL_8f79a9ae1a6545908c5fc95fa14ca08b"
      }
     },
     "67064f65d7db477d94a63d61fe7a128a": {
      "model_module": "@jupyter-widgets/base",
      "model_module_version": "1.0.0",
      "model_name": "DOMWidgetModel",
      "state": {
       "_graph_url": "https://plot.ly/~wangqiwen/8/salary-range-of-faculty-in-information-sciences-computer-science/",
       "_message": "",
       "_model_name": "DOMWidgetModel",
       "_new_url": "",
       "_view_module": "graphWidget",
       "_view_module_version": "",
       "_view_name": "GraphView",
       "layout": "IPY_MODEL_96c95021c5424c3b9d43a1cfa48835f3"
      }
     },
     "6724ddef96a04e5989b76a5434443e25": {
      "model_module": "@jupyter-widgets/base",
      "model_module_version": "1.0.0",
      "model_name": "DOMWidgetModel",
      "state": {
       "_graph_url": "https://plot.ly/~wangqiwen/8/salary-range-of-faculty-in-information-sciences-computer-science/",
       "_message": "",
       "_model_name": "DOMWidgetModel",
       "_new_url": "",
       "_view_module": "graphWidget",
       "_view_module_version": "",
       "_view_name": "GraphView",
       "layout": "IPY_MODEL_1f91f70339d14f578d0c37662f1b493d"
      }
     },
     "678eab8b6a434efbb20af0a3eb532543": {
      "model_module": "@jupyter-widgets/base",
      "model_module_version": "1.0.0",
      "model_name": "LayoutModel",
      "state": {}
     },
     "679752b261964dcb826065e990dc2815": {
      "model_module": "@jupyter-widgets/controls",
      "model_module_version": "1.2.0",
      "model_name": "IntTextModel",
      "state": {
       "description": "Top X:",
       "layout": "IPY_MODEL_09a07a7d23ec41d0bc3988e45d0710b6",
       "step": 1,
       "style": "IPY_MODEL_3c340d7a7a754697a304a73067bfaef6",
       "value": 10
      }
     },
     "67a1f27e1ea64828814ac587747f4684": {
      "model_module": "@jupyter-widgets/controls",
      "model_module_version": "1.2.0",
      "model_name": "IntSliderModel",
      "state": {
       "continuous_update": false,
       "description": "Year:",
       "layout": "IPY_MODEL_dca2905845b4419fbb57e108d778d9b9",
       "max": 2017,
       "min": 2013,
       "style": "IPY_MODEL_7af90f95a5e64432a4aac67c6dd985b4",
       "value": 2017
      }
     },
     "67bab55d1e014feb93f1a1f2febf24ac": {
      "model_module": "@jupyter-widgets/base",
      "model_module_version": "1.0.0",
      "model_name": "LayoutModel",
      "state": {}
     },
     "67bb4639a43e48f1b41da4d9e543bef5": {
      "model_module": "@jupyter-widgets/base",
      "model_module_version": "1.0.0",
      "model_name": "LayoutModel",
      "state": {}
     },
     "68347f2a5c0c47a6b3d8afbae87e404e": {
      "model_module": "@jupyter-widgets/base",
      "model_module_version": "1.0.0",
      "model_name": "LayoutModel",
      "state": {}
     },
     "6859c390eff74195a75734638975abe1": {
      "model_module": "@jupyter-widgets/base",
      "model_module_version": "1.0.0",
      "model_name": "LayoutModel",
      "state": {}
     },
     "68700ab005e74c268abf9939a5f79227": {
      "model_module": "@jupyter-widgets/controls",
      "model_module_version": "1.2.0",
      "model_name": "DescriptionStyleModel",
      "state": {
       "description_width": ""
      }
     },
     "688b9458f8574422afe6b50ffb6f5354": {
      "model_module": "@jupyter-widgets/base",
      "model_module_version": "1.0.0",
      "model_name": "LayoutModel",
      "state": {}
     },
     "689ce79830194f7ba7f1ec93db29f5cd": {
      "model_module": "@jupyter-widgets/controls",
      "model_module_version": "1.2.0",
      "model_name": "HBoxModel",
      "state": {
       "children": [
        "IPY_MODEL_c8bcae41e8fd41978a160321865c169d",
        "IPY_MODEL_b424aa51207940d5b3dc6057d9540fff",
        "IPY_MODEL_5ff0396cd0f7434b94a464c87ff4cdd7"
       ],
       "layout": "IPY_MODEL_d88182f834bb4c22b30eeaa6f750cf17"
      }
     },
     "68ad53d012cf4f708d637f791b30d0ca": {
      "model_module": "@jupyter-widgets/base",
      "model_module_version": "1.0.0",
      "model_name": "LayoutModel",
      "state": {}
     },
     "68d57a451986402ca80f5296029cb9c7": {
      "model_module": "@jupyter-widgets/controls",
      "model_module_version": "1.2.0",
      "model_name": "DropdownModel",
      "state": {
       "_options_labels": [
        "Chicago",
        "Springfield",
        "Urbana-Champaign"
       ],
       "description": "Campus:",
       "index": 2,
       "layout": "IPY_MODEL_4c4ef162bce442c18fef3aaabd707619",
       "style": "IPY_MODEL_4ce25f87c63d4210944330f7dad2339c"
      }
     },
     "68f0521b3c26474fa8fabded06f9d210": {
      "model_module": "@jupyter-widgets/controls",
      "model_module_version": "1.2.0",
      "model_name": "DropdownModel",
      "state": {
       "_options_labels": [
        "Chicago",
        "Springfield",
        "Urbana-Champaign"
       ],
       "description": "Campus:",
       "index": 2,
       "layout": "IPY_MODEL_a6b308e758294ecc932d4816fede7900",
       "style": "IPY_MODEL_9f70778a4e2d4cf5aa980d4e76f0959e"
      }
     },
     "690bf9b5439e451981d0ba5bfa3e8ae9": {
      "model_module": "@jupyter-widgets/controls",
      "model_module_version": "1.2.0",
      "model_name": "IntTextModel",
      "state": {
       "description": "Top X:",
       "layout": "IPY_MODEL_003729c889ab4b2d8685e0a35b00bf2e",
       "step": 1,
       "style": "IPY_MODEL_bb86e9a205e340c5b1ba136940688348",
       "value": 10
      }
     },
     "69641f7f5c11460cbab7f730150ad9eb": {
      "model_module": "@jupyter-widgets/base",
      "model_module_version": "1.0.0",
      "model_name": "DOMWidgetModel",
      "state": {
       "_graph_url": "https://plot.ly/~wangqiwen/20/median-salary-median-salary-median-salary/",
       "_message": "",
       "_model_name": "DOMWidgetModel",
       "_new_url": "",
       "_view_module": "graphWidget",
       "_view_module_version": "",
       "_view_name": "GraphView",
       "layout": "IPY_MODEL_467aea32b4e84670820c710c1c922729"
      }
     },
     "69a1911b9f854fb7968c0af0e66cc7b5": {
      "model_module": "@jupyter-widgets/controls",
      "model_module_version": "1.2.0",
      "model_name": "DescriptionStyleModel",
      "state": {
       "description_width": ""
      }
     },
     "69ac2a2405ca405e87fecb26a15c678b": {
      "model_module": "@jupyter-widgets/controls",
      "model_module_version": "1.2.0",
      "model_name": "TextModel",
      "state": {
       "description": "Department:   ",
       "layout": "IPY_MODEL_0e08322a4ea14012bc24d5a80debfde2",
       "style": "IPY_MODEL_d4ca988883214d08b6c06250122bdf19",
       "value": "Mathematics"
      }
     },
     "69bab6694fdc4fa88e02bdb5e4f0dec8": {
      "model_module": "@jupyter-widgets/controls",
      "model_module_version": "1.2.0",
      "model_name": "SliderStyleModel",
      "state": {
       "description_width": ""
      }
     },
     "69c20c95b62b45178f54ace9cde82c9e": {
      "model_module": "@jupyter-widgets/controls",
      "model_module_version": "1.2.0",
      "model_name": "DescriptionStyleModel",
      "state": {
       "description_width": ""
      }
     },
     "69d3234a07244860b898a24858bfa577": {
      "model_module": "@jupyter-widgets/base",
      "model_module_version": "1.0.0",
      "model_name": "LayoutModel",
      "state": {}
     },
     "69ebbcbe27db4e2f9b1f1e52369da595": {
      "model_module": "@jupyter-widgets/base",
      "model_module_version": "1.0.0",
      "model_name": "LayoutModel",
      "state": {}
     },
     "69f6637f0a744ee89b82d7b5fc7388d7": {
      "model_module": "@jupyter-widgets/controls",
      "model_module_version": "1.2.0",
      "model_name": "SliderStyleModel",
      "state": {
       "description_width": ""
      }
     },
     "6a768aa3545a4bc38c4373c29b8dea38": {
      "model_module": "@jupyter-widgets/controls",
      "model_module_version": "1.2.0",
      "model_name": "DescriptionStyleModel",
      "state": {
       "description_width": ""
      }
     },
     "6a93d11abfe548ecb79b6acf688e6b58": {
      "model_module": "@jupyter-widgets/controls",
      "model_module_version": "1.2.0",
      "model_name": "HBoxModel",
      "state": {
       "children": [
        "IPY_MODEL_3c34eee0a41e4c7fb5d68d95615fc4af",
        "IPY_MODEL_39f64da5fe4f4c129bdb64d845421cab",
        "IPY_MODEL_630046321cfe45ff8f773480d637099c"
       ],
       "layout": "IPY_MODEL_45e2c3d5401b4ec5aa8f84bfd69f1a87"
      }
     },
     "6ae0000d2130431e9fa330a4936b3406": {
      "model_module": "@jupyter-widgets/base",
      "model_module_version": "1.0.0",
      "model_name": "LayoutModel",
      "state": {}
     },
     "6b3c7bf319b447778d0ebeef5f4161a9": {
      "model_module": "@jupyter-widgets/controls",
      "model_module_version": "1.2.0",
      "model_name": "DescriptionStyleModel",
      "state": {
       "description_width": ""
      }
     },
     "6b993f754c74464d9a2a7da244667302": {
      "model_module": "@jupyter-widgets/controls",
      "model_module_version": "1.2.0",
      "model_name": "HBoxModel",
      "state": {
       "children": [
        "IPY_MODEL_916f3d47f12b4e3d84d0db4f6634ff0a",
        "IPY_MODEL_a18481c77c374835bb210de86eb8edd5",
        "IPY_MODEL_c2114ff46b17401ea2f9e9305b94beec"
       ],
       "layout": "IPY_MODEL_4dd22a44983b4b38b4f04e6b3d2a13ef"
      }
     },
     "6b99b395856646d4a74a4b71ebd40085": {
      "model_module": "@jupyter-widgets/controls",
      "model_module_version": "1.2.0",
      "model_name": "TabModel",
      "state": {
       "_titles": {
        "0": "Department 1",
        "1": "Department 2",
        "2": "Department 3",
        "3": "Department 4",
        "4": "Department 5"
       },
       "children": [
        "IPY_MODEL_8e33882455ef4328a9bd0d0086efacac",
        "IPY_MODEL_37739344073d4a58a7277e91d8abad4f",
        "IPY_MODEL_d55cfc77fcc245b0aed005e70722fcae",
        "IPY_MODEL_ef52bedabb014d3e8232cb2d327ff88d",
        "IPY_MODEL_3196132746ff489493d15c6a0da24b57"
       ],
       "layout": "IPY_MODEL_a5610374ef334c6e988fa971da856a4c",
       "selected_index": 3
      }
     },
     "6baf8760a6c6467996c5c3b1d55fd093": {
      "model_module": "@jupyter-widgets/controls",
      "model_module_version": "1.2.0",
      "model_name": "HBoxModel",
      "state": {
       "children": [
        "IPY_MODEL_496951ca0b464f56906855f697b9ec52",
        "IPY_MODEL_7abe88ed1341479ea25bf05930cc5d86",
        "IPY_MODEL_1d6a03a531ba40c6a4f0acabe5db71d4"
       ],
       "layout": "IPY_MODEL_03def2128494421988cd77be8b2d9ee6"
      }
     },
     "6bb06e4644fb4626afc12f7580b0732a": {
      "model_module": "@jupyter-widgets/base",
      "model_module_version": "1.0.0",
      "model_name": "LayoutModel",
      "state": {}
     },
     "6bba77c06399467197663823e2cb824b": {
      "model_module": "@jupyter-widgets/base",
      "model_module_version": "1.0.0",
      "model_name": "LayoutModel",
      "state": {}
     },
     "6bdd976b00724d0d9c11921d29b0b7a7": {
      "model_module": "@jupyter-widgets/controls",
      "model_module_version": "1.2.0",
      "model_name": "DropdownModel",
      "state": {
       "_options_labels": [
        "Chicago",
        "Springfield",
        "Urbana-Champaign"
       ],
       "description": "Campus:",
       "index": 2,
       "layout": "IPY_MODEL_fc5130be9a784cfdb61f8d8ad999427e",
       "style": "IPY_MODEL_854212b6e601483bb97bae5c8c59c6f5"
      }
     },
     "6c3103b4adea41a4be7dbd32595de94a": {
      "model_module": "@jupyter-widgets/controls",
      "model_module_version": "1.2.0",
      "model_name": "HBoxModel",
      "state": {
       "children": [
        "IPY_MODEL_b5f2f01ff605488cb6e2ef49fe40b634",
        "IPY_MODEL_7ba04b8ab1024fa5ace680fc24898f2f",
        "IPY_MODEL_93a2100731af45e590830ce481cf7fa8"
       ],
       "layout": "IPY_MODEL_b182107693b34a40b3ee3fc0f263a3df"
      }
     },
     "6c5ff98d3be74f4287a2626939288803": {
      "model_module": "@jupyter-widgets/controls",
      "model_module_version": "1.2.0",
      "model_name": "TextModel",
      "state": {
       "description": "Department:   ",
       "layout": "IPY_MODEL_dcc12712dfe848c2bce9d33a1ba648c2",
       "style": "IPY_MODEL_9159b603575c4388a573d6c4cd903889"
      }
     },
     "6c6a6a2dfcf24cf2ba24003def322e66": {
      "model_module": "@jupyter-widgets/controls",
      "model_module_version": "1.2.0",
      "model_name": "SliderStyleModel",
      "state": {
       "description_width": ""
      }
     },
     "6c7b51435ccb46af9e5dfc61c179df31": {
      "model_module": "@jupyter-widgets/base",
      "model_module_version": "1.0.0",
      "model_name": "LayoutModel",
      "state": {}
     },
     "6c800bf7b73f452c97b43f3fc83ea482": {
      "model_module": "@jupyter-widgets/controls",
      "model_module_version": "1.2.0",
      "model_name": "TabModel",
      "state": {
       "_titles": {
        "0": "Department 1",
        "1": "Department 2",
        "2": "Department 3",
        "3": "Department 4"
       },
       "children": [
        "IPY_MODEL_2d32059f4fd343bc80be850c6acbba92",
        "IPY_MODEL_8f3fa3a1597e4909af002283d0cf40e1",
        "IPY_MODEL_b48547f5bc6f4b1da6db5d2d4682430a",
        "IPY_MODEL_14a767cdd0bd4bdeb627dd6432c3326f"
       ],
       "layout": "IPY_MODEL_05979bb795bb441dbef756dbc80d235e"
      }
     },
     "6cc5a565a0c84194ab53cfb8dc1a82ba": {
      "model_module": "@jupyter-widgets/base",
      "model_module_version": "1.0.0",
      "model_name": "LayoutModel",
      "state": {}
     },
     "6d0cc26c57104065b8934e29c393fc47": {
      "model_module": "@jupyter-widgets/base",
      "model_module_version": "1.0.0",
      "model_name": "LayoutModel",
      "state": {}
     },
     "6d10fa56e9f84f7d94bbcf52bb195a8b": {
      "model_module": "@jupyter-widgets/base",
      "model_module_version": "1.0.0",
      "model_name": "LayoutModel",
      "state": {}
     },
     "6d5430dab4c34fc58a218a928820db1d": {
      "model_module": "@jupyter-widgets/base",
      "model_module_version": "1.0.0",
      "model_name": "LayoutModel",
      "state": {}
     },
     "6d560775bf51470f926b1e79505d5446": {
      "model_module": "@jupyter-widgets/base",
      "model_module_version": "1.0.0",
      "model_name": "LayoutModel",
      "state": {}
     },
     "6dc1192037184f68bd1d12a73ac193f0": {
      "model_module": "@jupyter-widgets/base",
      "model_module_version": "1.0.0",
      "model_name": "LayoutModel",
      "state": {}
     },
     "6e0d1368ef4e42f2b3a1bd160709b786": {
      "model_module": "@jupyter-widgets/base",
      "model_module_version": "1.0.0",
      "model_name": "LayoutModel",
      "state": {}
     },
     "6e5503c434674ab581e383f54c7a519a": {
      "model_module": "@jupyter-widgets/base",
      "model_module_version": "1.0.0",
      "model_name": "LayoutModel",
      "state": {}
     },
     "6e86d0e65c22478bab1d25e09992ded5": {
      "model_module": "@jupyter-widgets/controls",
      "model_module_version": "1.2.0",
      "model_name": "SliderStyleModel",
      "state": {
       "description_width": ""
      }
     },
     "6ebce692773d4172aae7c9cdc4aa9616": {
      "model_module": "@jupyter-widgets/controls",
      "model_module_version": "1.2.0",
      "model_name": "IntSliderModel",
      "state": {
       "continuous_update": false,
       "description": "Year:",
       "layout": "IPY_MODEL_a9b1d642fb854406829bafa911066cfa",
       "max": 2017,
       "min": 2013,
       "style": "IPY_MODEL_b1e629232457467fa10efa1e199324eb",
       "value": 2017
      }
     },
     "6f08ba4c4f914b78a31c7c502642aa5f": {
      "model_module": "@jupyter-widgets/base",
      "model_module_version": "1.0.0",
      "model_name": "LayoutModel",
      "state": {}
     },
     "6f0b798acf0b46d6a3df13d414db537a": {
      "model_module": "@jupyter-widgets/controls",
      "model_module_version": "1.2.0",
      "model_name": "TextModel",
      "state": {
       "description": "Department:   ",
       "layout": "IPY_MODEL_852fc1e72d6e4e7397c17d63feab855a",
       "style": "IPY_MODEL_0c83578efdbb48128adbacfdceb14972",
       "value": "Mathematics"
      }
     },
     "6f5d4a25b51b4168a3e1c251996ce90f": {
      "model_module": "@jupyter-widgets/controls",
      "model_module_version": "1.2.0",
      "model_name": "DescriptionStyleModel",
      "state": {
       "description_width": ""
      }
     },
     "6fc4c2f9420e4452a4066c177a4d7a44": {
      "model_module": "@jupyter-widgets/base",
      "model_module_version": "1.0.0",
      "model_name": "LayoutModel",
      "state": {}
     },
     "6fd4f6007b2a4884b118ee30ddd1b962": {
      "model_module": "@jupyter-widgets/controls",
      "model_module_version": "1.2.0",
      "model_name": "DescriptionStyleModel",
      "state": {
       "description_width": ""
      }
     },
     "7009292323d2439893c62569d2f407d8": {
      "model_module": "@jupyter-widgets/controls",
      "model_module_version": "1.2.0",
      "model_name": "HBoxModel",
      "state": {
       "children": [
        "IPY_MODEL_4cb3b62660f749d59dc455d4108d9ad5",
        "IPY_MODEL_3593fe795d4045788048937caedc3b7a",
        "IPY_MODEL_3302342757444963816336d4bcd8d82b"
       ],
       "layout": "IPY_MODEL_632861e51937404a99cc99d4ac8c481c"
      }
     },
     "7030a4f37ea144f98fa10a8964deb5fe": {
      "model_module": "@jupyter-widgets/base",
      "model_module_version": "1.0.0",
      "model_name": "LayoutModel",
      "state": {}
     },
     "7041d7f94a54430ea23fd197636608a8": {
      "model_module": "@jupyter-widgets/base",
      "model_module_version": "1.0.0",
      "model_name": "DOMWidgetModel",
      "state": {
       "_graph_url": "https://plot.ly/~wangqiwen/8/salary-range-of-faculty-in-information-sciences-computer-science/",
       "_message": "{\"task\": \"relayout\", \"update\": {\"title\": \"Salary Range of Faculty in Mathematics & Information Sciences\", \"xaxis\": {\"title\": \"Salary\"}, \"yaxis\": {\"title\": \"Percentage of Faculty\"}, \"bargroupgap\": 0.1}, \"graphId\": \"f420a5bc-6e1f-4ba7-910d-33d51a3dc6d7\", \"uid\": \"63a9f72d-65c6-4142-9cb0-ee43d05ce588\"}",
       "_model_name": "DOMWidgetModel",
       "_new_url": "",
       "_view_module": "graphWidget",
       "_view_module_version": "",
       "_view_name": "GraphView",
       "layout": "IPY_MODEL_ec43f4524e71404e8d9d6b5d879381b7"
      }
     },
     "7045790e45454f37927de718db4cd447": {
      "model_module": "@jupyter-widgets/controls",
      "model_module_version": "1.2.0",
      "model_name": "TextModel",
      "state": {
       "description": "Department:   ",
       "layout": "IPY_MODEL_3d1bf13a53c148ecb67d5c18e1091c46",
       "style": "IPY_MODEL_312d39a93839439598e17583471d0111",
       "value": "History"
      }
     },
     "70876c4d01a5483d961c2f5a02ae50ef": {
      "model_module": "@jupyter-widgets/controls",
      "model_module_version": "1.2.0",
      "model_name": "HBoxModel",
      "state": {
       "children": [
        "IPY_MODEL_f85d42ee6e0c452983c73c699737d7b1",
        "IPY_MODEL_576e9c4d8a62489895c3b80133a3415d",
        "IPY_MODEL_47bf766e8a2e4cd485c482f9d6122a1c"
       ],
       "layout": "IPY_MODEL_b950652d29ed4e298f67802a6ea3cedd"
      }
     },
     "7188ba68a1ed4d239c227fd74ea27543": {
      "model_module": "@jupyter-widgets/controls",
      "model_module_version": "1.2.0",
      "model_name": "HBoxModel",
      "state": {
       "children": [
        "IPY_MODEL_ffad35360fda44b58f6dc54f1492a0a3",
        "IPY_MODEL_7045790e45454f37927de718db4cd447",
        "IPY_MODEL_5d921bc2e3e94a35ab3f63eccf98b0a2"
       ],
       "layout": "IPY_MODEL_1fcf9bd246da4f9c83766e0708d937bd"
      }
     },
     "719fd26a3f3e40c0803ae0c0fb2cc91d": {
      "model_module": "@jupyter-widgets/controls",
      "model_module_version": "1.2.0",
      "model_name": "IntSliderModel",
      "state": {
       "continuous_update": false,
       "description": "Year:",
       "layout": "IPY_MODEL_75dbcb81aff84a9493621957f96cc5a8",
       "max": 2017,
       "min": 2013,
       "style": "IPY_MODEL_f9fc56ca596c4e0daf554e6c3ebc3964",
       "value": 2017
      }
     },
     "72441b32a4ce425bb2f3f3d94e38f13a": {
      "model_module": "@jupyter-widgets/controls",
      "model_module_version": "1.2.0",
      "model_name": "DescriptionStyleModel",
      "state": {
       "description_width": ""
      }
     },
     "72469fd1bd1c4650af55bd6f1d38cd5e": {
      "model_module": "@jupyter-widgets/base",
      "model_module_version": "1.0.0",
      "model_name": "LayoutModel",
      "state": {}
     },
     "727a05d67e544e0288c7826435302db8": {
      "model_module": "@jupyter-widgets/controls",
      "model_module_version": "1.2.0",
      "model_name": "DescriptionStyleModel",
      "state": {
       "description_width": ""
      }
     },
     "72a105485a74463ba0e511e447bc4024": {
      "model_module": "@jupyter-widgets/base",
      "model_module_version": "1.0.0",
      "model_name": "LayoutModel",
      "state": {}
     },
     "72a3735a215f42ca8fbebd0775f21554": {
      "model_module": "@jupyter-widgets/controls",
      "model_module_version": "1.2.0",
      "model_name": "TabModel",
      "state": {
       "_titles": {
        "0": "Department 1",
        "1": "Department 2",
        "2": "Department 3",
        "3": "Department 4",
        "4": "Department 5"
       },
       "children": [
        "IPY_MODEL_abc3cfb696774aafb01c8faac55aa148",
        "IPY_MODEL_7e9664eb9c964d03a3c718648a78c7ae",
        "IPY_MODEL_ec9a0a5e014b48cd858112e3852caab0",
        "IPY_MODEL_95fe66a29d834b44a76eb43a9e129dad",
        "IPY_MODEL_9cda6fbf829d44f09fe82fd5fdce5fa3"
       ],
       "layout": "IPY_MODEL_da9eb1160c7b4d398e9723341c069298"
      }
     },
     "72d110f375ef4ee681e104044f248358": {
      "model_module": "@jupyter-widgets/controls",
      "model_module_version": "1.2.0",
      "model_name": "DescriptionStyleModel",
      "state": {
       "description_width": ""
      }
     },
     "736213c30b8049638cbc9f857bf028f5": {
      "model_module": "@jupyter-widgets/base",
      "model_module_version": "1.0.0",
      "model_name": "LayoutModel",
      "state": {}
     },
     "738eb1690f2d4498b73fc7e3cd111e21": {
      "model_module": "@jupyter-widgets/controls",
      "model_module_version": "1.2.0",
      "model_name": "DropdownModel",
      "state": {
       "_options_labels": [
        "PROF",
        "ASSOC PROF",
        "ASST PROF",
        "LECTURER",
        "ASSOC DIR",
        "CLIN ASST PROF",
        "SR LECTURER",
        "RES SCI",
        "RES ASST PROF",
        "SR RES SCI",
        "POSTDOC RES ASSOC",
        "CLIN PROF",
        "ASSOC PROF UNIV LIBRARY",
        "ASST PROF UNIV LIBRARY",
        "DEAN",
        "JL DOOB RES ASST PROF",
        "CLIN ASSOC PROF",
        "VST ASST PROF",
        "RES ASSOC PROF",
        "ASST DEAN",
        "RES PROF",
        "PROF (RT)"
       ],
       "description": "Job Title:",
       "index": 2,
       "layout": "IPY_MODEL_21a6abb2f1c94bd6b83c4d79c8063f47",
       "style": "IPY_MODEL_0eeae1599906478e9c43378688439d71"
      }
     },
     "73b5bc13107e474e872aa3e62fdcfa82": {
      "model_module": "@jupyter-widgets/base",
      "model_module_version": "1.0.0",
      "model_name": "LayoutModel",
      "state": {}
     },
     "73e89fca365045188c1d5f81e1b7eb6a": {
      "model_module": "@jupyter-widgets/base",
      "model_module_version": "1.0.0",
      "model_name": "LayoutModel",
      "state": {}
     },
     "74046d2a9dc3478a87ade0143df1ed55": {
      "model_module": "@jupyter-widgets/controls",
      "model_module_version": "1.2.0",
      "model_name": "HBoxModel",
      "state": {
       "children": [
        "IPY_MODEL_801f5d1c88f64a36aec12351adbb9de5",
        "IPY_MODEL_e54db7f22f5e44eba569ea3fbded966e",
        "IPY_MODEL_7a082015971e46518856403d3232072f"
       ],
       "layout": "IPY_MODEL_f076c72a4194411ea6b6acc70fed760c"
      }
     },
     "74239466f6df430aba8ef3357863bd03": {
      "model_module": "@jupyter-widgets/controls",
      "model_module_version": "1.2.0",
      "model_name": "HBoxModel",
      "state": {
       "children": [
        "IPY_MODEL_172cfa9d35774412a7d574d4da865290",
        "IPY_MODEL_dd95b532baa644b7bffcf5497f509c9e",
        "IPY_MODEL_ac239bee11c140269c8e9995c4448a90"
       ],
       "layout": "IPY_MODEL_0c283727ecdf47258afe662453a67187"
      }
     },
     "74bac8df76ed4a1eaced8eb0a3b9ad8b": {
      "model_module": "@jupyter-widgets/controls",
      "model_module_version": "1.2.0",
      "model_name": "DropdownModel",
      "state": {
       "_options_labels": [
        "Chicago",
        "Springfield",
        "Urbana-Champaign"
       ],
       "description": "Campus:",
       "index": 2,
       "layout": "IPY_MODEL_7590f3345e374513ada839ec4380294a",
       "style": "IPY_MODEL_c50cde14f09341a7b2f5ff9a812f6c62"
      }
     },
     "74c559c5392f4c91a61e631b22c9bce1": {
      "model_module": "@jupyter-widgets/controls",
      "model_module_version": "1.2.0",
      "model_name": "DescriptionStyleModel",
      "state": {
       "description_width": ""
      }
     },
     "74ccad9720104fab81bfb9eab9e2ac97": {
      "model_module": "@jupyter-widgets/base",
      "model_module_version": "1.0.0",
      "model_name": "DOMWidgetModel",
      "state": {
       "_graph_url": "https://plot.ly/~wangqiwen/20/median-salary-median-salary-median-salary/",
       "_message": "{\"task\": \"relayout\", \"update\": {\"annotations[0].text\": \"2015 Median Salary of ASSOC PROF in Urbana-Champaign\", \"annotations[1].text\": \"2015 Median Salary of ASSOC PROF in Chicago\", \"annotations[2].text\": \"2015 Median Salary of ASSOC PROF in Springfield\"}, \"graphId\": \"5037ac60-d65c-4636-8919-e37089e73a2f\", \"uid\": \"8996d96a-cebe-4cb6-80d7-7df3afcfaf21\"}",
       "_model_name": "DOMWidgetModel",
       "_new_url": "",
       "_view_module": "graphWidget",
       "_view_module_version": "",
       "_view_name": "GraphView",
       "layout": "IPY_MODEL_72469fd1bd1c4650af55bd6f1d38cd5e"
      }
     },
     "74e4f5268f2748e1aa56655bc54ecd75": {
      "model_module": "@jupyter-widgets/base",
      "model_module_version": "1.0.0",
      "model_name": "LayoutModel",
      "state": {}
     },
     "751344648faa4b1a9e07e8c473126132": {
      "model_module": "@jupyter-widgets/base",
      "model_module_version": "1.0.0",
      "model_name": "LayoutModel",
      "state": {}
     },
     "7549b1f76bc64f1b85a26ac58bce73ba": {
      "model_module": "@jupyter-widgets/controls",
      "model_module_version": "1.2.0",
      "model_name": "DropdownModel",
      "state": {
       "_options_labels": [
        "Chicago",
        "Springfield",
        "Urbana-Champaign"
       ],
       "description": "Campus:",
       "index": 2,
       "layout": "IPY_MODEL_5da4a00143cf4efd98c3823ec36a66b8",
       "style": "IPY_MODEL_58c239839b5c47bd950ec898817b0901"
      }
     },
     "754db91291c34020bcbb607f143133bf": {
      "model_module": "@jupyter-widgets/controls",
      "model_module_version": "1.2.0",
      "model_name": "SliderStyleModel",
      "state": {
       "description_width": ""
      }
     },
     "7590f3345e374513ada839ec4380294a": {
      "model_module": "@jupyter-widgets/base",
      "model_module_version": "1.0.0",
      "model_name": "LayoutModel",
      "state": {}
     },
     "7593c92dbdb8440583d47a21966ed422": {
      "model_module": "@jupyter-widgets/controls",
      "model_module_version": "1.2.0",
      "model_name": "DropdownModel",
      "state": {
       "_options_labels": [
        "PROF",
        "ASSOC PROF",
        "ASST PROF",
        "LECTURER",
        "ASSOC DIR",
        "CLIN ASST PROF",
        "SR LECTURER",
        "RES SCI",
        "RES ASST PROF",
        "SR RES SCI",
        "POSTDOC RES ASSOC",
        "CLIN PROF",
        "ASSOC PROF UNIV LIBRARY",
        "ASST PROF UNIV LIBRARY",
        "DEAN",
        "JL DOOB RES ASST PROF",
        "CLIN ASSOC PROF",
        "VST ASST PROF",
        "RES ASSOC PROF",
        "ASST DEAN",
        "RES PROF",
        "PROF (RT)"
       ],
       "description": "Job Title:",
       "index": 19,
       "layout": "IPY_MODEL_90854ee5bb024ae98976c747fd243684",
       "style": "IPY_MODEL_632aa7550add4812ba6ec056baf1f133"
      }
     },
     "75badde579e84ec3934858562a7e53a5": {
      "model_module": "@jupyter-widgets/controls",
      "model_module_version": "1.2.0",
      "model_name": "DescriptionStyleModel",
      "state": {
       "description_width": ""
      }
     },
     "75dbcb81aff84a9493621957f96cc5a8": {
      "model_module": "@jupyter-widgets/base",
      "model_module_version": "1.0.0",
      "model_name": "LayoutModel",
      "state": {}
     },
     "75dcb3541155440a81359abbc01fe96f": {
      "model_module": "@jupyter-widgets/controls",
      "model_module_version": "1.2.0",
      "model_name": "SliderStyleModel",
      "state": {
       "description_width": ""
      }
     },
     "75f5b332cacf4a61af73233d8b0a9cfc": {
      "model_module": "@jupyter-widgets/controls",
      "model_module_version": "1.2.0",
      "model_name": "TextModel",
      "state": {
       "description": "Department:   ",
       "layout": "IPY_MODEL_db049114b4ca44c2ad44c0715d026445",
       "style": "IPY_MODEL_5bafa8af04354cad9007d2e8aaebbe62",
       "value": "Information Sciences"
      }
     },
     "760b53e014b34d3a8fc2c7bfd66e7a9d": {
      "model_module": "@jupyter-widgets/base",
      "model_module_version": "1.0.0",
      "model_name": "LayoutModel",
      "state": {}
     },
     "7615c4ad5d7941f3928a7116ff8d8141": {
      "model_module": "@jupyter-widgets/base",
      "model_module_version": "1.0.0",
      "model_name": "LayoutModel",
      "state": {}
     },
     "763e0ba22de54d4688196439cca6570d": {
      "model_module": "@jupyter-widgets/controls",
      "model_module_version": "1.2.0",
      "model_name": "SliderStyleModel",
      "state": {
       "description_width": ""
      }
     },
     "7655223e538e420c82dd8845c410c372": {
      "model_module": "@jupyter-widgets/controls",
      "model_module_version": "1.2.0",
      "model_name": "DescriptionStyleModel",
      "state": {
       "description_width": ""
      }
     },
     "7684b0cdf3e44615bae56048b51ebc02": {
      "model_module": "@jupyter-widgets/base",
      "model_module_version": "1.0.0",
      "model_name": "LayoutModel",
      "state": {}
     },
     "768d70d1b8f44ea19c33eb99148e28de": {
      "model_module": "@jupyter-widgets/controls",
      "model_module_version": "1.2.0",
      "model_name": "IntTextModel",
      "state": {
       "description": "Top X:",
       "layout": "IPY_MODEL_495a0d5ff29a4ddb83e9fed12b178889",
       "step": 1,
       "style": "IPY_MODEL_4fea8fd3d9ef4b009460ade6b65f7161",
       "value": 5
      }
     },
     "76bf1c59a8714918bbbf0aa23e32a4ba": {
      "model_module": "@jupyter-widgets/controls",
      "model_module_version": "1.2.0",
      "model_name": "DropdownModel",
      "state": {
       "_options_labels": [
        "Chicago",
        "Springfield",
        "Urbana-Champaign"
       ],
       "description": "Campus:",
       "index": 2,
       "layout": "IPY_MODEL_ee504d7cd2e04a55b07566668b0c8ad9",
       "style": "IPY_MODEL_e473e6d39d904bae9a72d5ea83d5f70b"
      }
     },
     "76e8a80ab1274f76b4931ad98e9248f2": {
      "model_module": "@jupyter-widgets/controls",
      "model_module_version": "1.2.0",
      "model_name": "SliderStyleModel",
      "state": {
       "description_width": ""
      }
     },
     "772f6660206d44689073bdb794870f9f": {
      "model_module": "@jupyter-widgets/base",
      "model_module_version": "1.0.0",
      "model_name": "LayoutModel",
      "state": {}
     },
     "7754dccec7c84eab836a6abe28d31e9a": {
      "model_module": "@jupyter-widgets/controls",
      "model_module_version": "1.2.0",
      "model_name": "IntSliderModel",
      "state": {
       "continuous_update": false,
       "description": "Year:",
       "layout": "IPY_MODEL_0ea357b94e5a4f03b8e09e1b12943c71",
       "max": 2017,
       "min": 2013,
       "style": "IPY_MODEL_6c6a6a2dfcf24cf2ba24003def322e66",
       "value": 2017
      }
     },
     "775c0078430040a9a82677c0d9cca3f8": {
      "model_module": "@jupyter-widgets/base",
      "model_module_version": "1.0.0",
      "model_name": "LayoutModel",
      "state": {}
     },
     "775f84814a2f4c4e825144343b4b7c89": {
      "model_module": "@jupyter-widgets/controls",
      "model_module_version": "1.2.0",
      "model_name": "IntSliderModel",
      "state": {
       "continuous_update": false,
       "description": "Year:",
       "layout": "IPY_MODEL_4052183b0eb34f8dafbccfd21a233cbd",
       "max": 2017,
       "min": 2013,
       "style": "IPY_MODEL_0c746b33d5fa430eaf840864fbd48d11",
       "value": 2017
      }
     },
     "7768343e71504b06ae190422d8963e68": {
      "model_module": "@jupyter-widgets/base",
      "model_module_version": "1.0.0",
      "model_name": "LayoutModel",
      "state": {}
     },
     "777e8bac612b404dabe6fa6e94cbc267": {
      "model_module": "@jupyter-widgets/base",
      "model_module_version": "1.0.0",
      "model_name": "LayoutModel",
      "state": {}
     },
     "7784540fd5024900802f016ca49d3968": {
      "model_module": "@jupyter-widgets/controls",
      "model_module_version": "1.2.0",
      "model_name": "IntSliderModel",
      "state": {
       "continuous_update": false,
       "description": "Year:",
       "layout": "IPY_MODEL_188a38bf1f464af6882b31e917509afa",
       "max": 2017,
       "min": 2013,
       "style": "IPY_MODEL_a4022548b17f45dfaf6b94ed96f37fdb",
       "value": 2016
      }
     },
     "77b92d95210d43d8b6637bc87398e971": {
      "model_module": "@jupyter-widgets/controls",
      "model_module_version": "1.2.0",
      "model_name": "SliderStyleModel",
      "state": {
       "description_width": ""
      }
     },
     "77ee15b380c04af9b554ca70947218d3": {
      "model_module": "@jupyter-widgets/base",
      "model_module_version": "1.0.0",
      "model_name": "LayoutModel",
      "state": {}
     },
     "77f70ae0818b49399622338b7a4130e5": {
      "model_module": "@jupyter-widgets/base",
      "model_module_version": "1.0.0",
      "model_name": "DOMWidgetModel",
      "state": {
       "_graph_url": "https://plot.ly/~wangqiwen/22/salary-range-of-faculty-in-information-sciences/",
       "_message": "",
       "_model_name": "DOMWidgetModel",
       "_new_url": "",
       "_view_module": "graphWidget",
       "_view_module_version": "",
       "_view_name": "GraphView",
       "layout": "IPY_MODEL_217d5819fba94fb892bca6af14ccd6f9"
      }
     },
     "781b29dc28164b0f9402a0a9530ab1b0": {
      "model_module": "@jupyter-widgets/controls",
      "model_module_version": "1.2.0",
      "model_name": "DescriptionStyleModel",
      "state": {
       "description_width": ""
      }
     },
     "78201851056449cb84ea5fbda519aba3": {
      "model_module": "@jupyter-widgets/controls",
      "model_module_version": "1.2.0",
      "model_name": "DropdownModel",
      "state": {
       "_options_labels": [
        "PROF",
        "ASSOC PROF",
        "ASST PROF",
        "LECTURER",
        "ASSOC DIR",
        "CLIN ASST PROF",
        "SR LECTURER",
        "RES SCI",
        "RES ASST PROF",
        "SR RES SCI",
        "POSTDOC RES ASSOC",
        "CLIN PROF",
        "ASSOC PROF UNIV LIBRARY",
        "ASST PROF UNIV LIBRARY",
        "DEAN",
        "JL DOOB RES ASST PROF",
        "CLIN ASSOC PROF",
        "VST ASST PROF",
        "RES ASSOC PROF",
        "ASST DEAN",
        "RES PROF",
        "PROF (RT)"
       ],
       "description": "Job Title:",
       "index": 2,
       "layout": "IPY_MODEL_631d3177826b4380bd013fbe8bd4bbd3",
       "style": "IPY_MODEL_b474607d26d348fdb7c178b0ecacb8de"
      }
     },
     "7839d0a8701341169b1c5c32d480fd90": {
      "model_module": "@jupyter-widgets/controls",
      "model_module_version": "1.2.0",
      "model_name": "TextModel",
      "state": {
       "description": "Department:   ",
       "layout": "IPY_MODEL_1befaec0809643cabac80ca1cfd972b6",
       "style": "IPY_MODEL_172e233865f742a0afbd09b3a1135e8c"
      }
     },
     "78b5ca39d5c443cdbb7f1d55b53fa152": {
      "model_module": "@jupyter-widgets/controls",
      "model_module_version": "1.2.0",
      "model_name": "SliderStyleModel",
      "state": {
       "description_width": ""
      }
     },
     "78cfa291d7484f23a4f0eb50fd140486": {
      "model_module": "@jupyter-widgets/base",
      "model_module_version": "1.0.0",
      "model_name": "LayoutModel",
      "state": {}
     },
     "791cdbd0203040c496ab400f4a27bb44": {
      "model_module": "@jupyter-widgets/controls",
      "model_module_version": "1.2.0",
      "model_name": "HBoxModel",
      "state": {
       "children": [
        "IPY_MODEL_496951ca0b464f56906855f697b9ec52",
        "IPY_MODEL_7abe88ed1341479ea25bf05930cc5d86",
        "IPY_MODEL_1d6a03a531ba40c6a4f0acabe5db71d4"
       ],
       "layout": "IPY_MODEL_a7fb3cef58904128b146c53fbf134ef1"
      }
     },
     "797f59272b3f47e7afe97b6ccc259716": {
      "model_module": "@jupyter-widgets/base",
      "model_module_version": "1.0.0",
      "model_name": "LayoutModel",
      "state": {}
     },
     "79823d4eb4c34e66b78ffd5f35fd6dbc": {
      "model_module": "@jupyter-widgets/base",
      "model_module_version": "1.0.0",
      "model_name": "LayoutModel",
      "state": {}
     },
     "79b7ee2862784386bc6fb2a3b821b038": {
      "model_module": "@jupyter-widgets/controls",
      "model_module_version": "1.2.0",
      "model_name": "HBoxModel",
      "state": {
       "children": [
        "IPY_MODEL_58b2d497123548a8a5efe711b6ea46bd",
        "IPY_MODEL_2acbf497e2f84d07b363b7b6e30f95d3",
        "IPY_MODEL_1fe5790e21ac4af4aa2cf31fcd08778d"
       ],
       "layout": "IPY_MODEL_4ed142bcf4b3400f96d840e5691be5c9"
      }
     },
     "7a082015971e46518856403d3232072f": {
      "model_module": "@jupyter-widgets/controls",
      "model_module_version": "1.2.0",
      "model_name": "IntSliderModel",
      "state": {
       "continuous_update": false,
       "description": "Year:",
       "layout": "IPY_MODEL_4de7032a430540f98715e981772be1cf",
       "max": 2017,
       "min": 2013,
       "style": "IPY_MODEL_d710093169124f509d9cf7027a181272",
       "value": 2017
      }
     },
     "7a151c65a6a445e9b188fc754e146696": {
      "model_module": "@jupyter-widgets/controls",
      "model_module_version": "1.2.0",
      "model_name": "DropdownModel",
      "state": {
       "_options_labels": [
        "Chicago",
        "Springfield",
        "Urbana-Champaign"
       ],
       "description": "Campus:",
       "index": 2,
       "layout": "IPY_MODEL_736213c30b8049638cbc9f857bf028f5",
       "style": "IPY_MODEL_81a3a4182dac4c1691ccb3eddfbd63bb"
      }
     },
     "7a777be7aa5c4e06aac4b73391f8baa8": {
      "model_module": "@jupyter-widgets/controls",
      "model_module_version": "1.2.0",
      "model_name": "DescriptionStyleModel",
      "state": {
       "description_width": ""
      }
     },
     "7abe88ed1341479ea25bf05930cc5d86": {
      "model_module": "@jupyter-widgets/controls",
      "model_module_version": "1.2.0",
      "model_name": "TextModel",
      "state": {
       "description": "Department:   ",
       "layout": "IPY_MODEL_0c73186c55594c83b838870443e00e40",
       "style": "IPY_MODEL_f8a7908c31ff4b958585253421a2e908"
      }
     },
     "7ac5dda5642e420bb858a85d00795fd1": {
      "model_module": "@jupyter-widgets/controls",
      "model_module_version": "1.2.0",
      "model_name": "DropdownModel",
      "state": {
       "_options_labels": [
        "Chicago",
        "Springfield",
        "Urbana-Champaign"
       ],
       "description": "Campus:",
       "index": 2,
       "layout": "IPY_MODEL_62cf3d83e20e47b68950eed49883da53",
       "style": "IPY_MODEL_f02d94778b294f19b7722320bcb5271c"
      }
     },
     "7aec08cb93684c36b31cd5bf6dfa7b53": {
      "model_module": "@jupyter-widgets/base",
      "model_module_version": "1.0.0",
      "model_name": "DOMWidgetModel",
      "state": {
       "_graph_url": "https://plot.ly/~wangqiwen/8/salary-range-of-faculty-in-information-sciences-computer-science/",
       "_message": "",
       "_model_name": "DOMWidgetModel",
       "_new_url": "",
       "_view_module": "graphWidget",
       "_view_module_version": "",
       "_view_name": "GraphView",
       "layout": "IPY_MODEL_8b355657697545cfb21a201d4f6ba255"
      }
     },
     "7af90f95a5e64432a4aac67c6dd985b4": {
      "model_module": "@jupyter-widgets/controls",
      "model_module_version": "1.2.0",
      "model_name": "SliderStyleModel",
      "state": {
       "description_width": ""
      }
     },
     "7b13762616904b91a69fc2759c6ebb98": {
      "model_module": "@jupyter-widgets/controls",
      "model_module_version": "1.2.0",
      "model_name": "SliderStyleModel",
      "state": {
       "description_width": ""
      }
     },
     "7b239b197b7d44f2a70459ea83e87f77": {
      "model_module": "@jupyter-widgets/base",
      "model_module_version": "1.0.0",
      "model_name": "LayoutModel",
      "state": {}
     },
     "7b593e842f3e4eb48e0220bb7e954483": {
      "model_module": "@jupyter-widgets/base",
      "model_module_version": "1.0.0",
      "model_name": "DOMWidgetModel",
      "state": {
       "_graph_url": "https://plot.ly/~wangqiwen/8/salary-range-of-faculty-in-information-sciences-computer-science/",
       "_message": "",
       "_model_name": "DOMWidgetModel",
       "_new_url": "",
       "_view_module": "graphWidget",
       "_view_module_version": "",
       "_view_name": "GraphView",
       "layout": "IPY_MODEL_41b848c32f374fa3ad8af6ffe25720c2"
      }
     },
     "7ba04b8ab1024fa5ace680fc24898f2f": {
      "model_module": "@jupyter-widgets/controls",
      "model_module_version": "1.2.0",
      "model_name": "TextModel",
      "state": {
       "description": "Department:   ",
       "layout": "IPY_MODEL_2dcfcf55022440bba584cc056ea1c0fd",
       "style": "IPY_MODEL_802d036beda646cda9823458ba44164f",
       "value": "Mathematics"
      }
     },
     "7c774d3a14c145d9b8a5bf574a5f64a1": {
      "model_module": "@jupyter-widgets/base",
      "model_module_version": "1.0.0",
      "model_name": "LayoutModel",
      "state": {}
     },
     "7cd4b355ca884be6b66fb2cf921a52bf": {
      "model_module": "@jupyter-widgets/base",
      "model_module_version": "1.0.0",
      "model_name": "LayoutModel",
      "state": {}
     },
     "7cdc0f2b337e421bb791ec6db859e15c": {
      "model_module": "@jupyter-widgets/controls",
      "model_module_version": "1.2.0",
      "model_name": "HBoxModel",
      "state": {
       "children": [
        "IPY_MODEL_801f5d1c88f64a36aec12351adbb9de5",
        "IPY_MODEL_e54db7f22f5e44eba569ea3fbded966e",
        "IPY_MODEL_7a082015971e46518856403d3232072f"
       ],
       "layout": "IPY_MODEL_ec997358194d486b995bc8da0c6a70df"
      }
     },
     "7ce96ae691f6488f804d8b7b5a1790d0": {
      "model_module": "@jupyter-widgets/base",
      "model_module_version": "1.0.0",
      "model_name": "LayoutModel",
      "state": {}
     },
     "7d8f9ce27cdb4198acd0c3333f71f977": {
      "model_module": "@jupyter-widgets/controls",
      "model_module_version": "1.2.0",
      "model_name": "TextModel",
      "state": {
       "description": "Department:   ",
       "layout": "IPY_MODEL_3fb9adf15bf94270ac5a086d3009c84b",
       "style": "IPY_MODEL_2703b8f08a0c4a69b4f9e6d6c6b22868",
       "value": "Mathematics"
      }
     },
     "7dd2a7cc4b6d426c96921dab7d68e5da": {
      "model_module": "@jupyter-widgets/controls",
      "model_module_version": "1.2.0",
      "model_name": "HBoxModel",
      "state": {
       "children": [
        "IPY_MODEL_de5442a682f14c46be9d164d883e5dbe",
        "IPY_MODEL_7839d0a8701341169b1c5c32d480fd90",
        "IPY_MODEL_deaaf58d42fe4788b74fe790e648c799"
       ],
       "layout": "IPY_MODEL_74e4f5268f2748e1aa56655bc54ecd75"
      }
     },
     "7df8dacbad9947039de1b810e3549ae1": {
      "model_module": "@jupyter-widgets/base",
      "model_module_version": "1.0.0",
      "model_name": "LayoutModel",
      "state": {}
     },
     "7e07fae970914756914bd2880517b84c": {
      "model_module": "@jupyter-widgets/controls",
      "model_module_version": "1.2.0",
      "model_name": "HBoxModel",
      "state": {
       "children": [
        "IPY_MODEL_e8ad56d9f63c4ce2b844456e636249da",
        "IPY_MODEL_1610a655ee404d108f4c409ed104d6a1",
        "IPY_MODEL_93345304a30341e9ab7426395ea36c63"
       ],
       "layout": "IPY_MODEL_416053fa20f3406084a9809bd8ddde94"
      }
     },
     "7e14c22e19ed41f9ac16c1a783d284d8": {
      "model_module": "@jupyter-widgets/controls",
      "model_module_version": "1.2.0",
      "model_name": "HBoxModel",
      "state": {
       "children": [
        "IPY_MODEL_d2ff41579cfb40f497affd2c49ac85a1",
        "IPY_MODEL_9a2d888cb0c34b6d80de1753f1558a55",
        "IPY_MODEL_017b67dacf3247a4bd639a6958f1ea1a"
       ],
       "layout": "IPY_MODEL_a4397fd6e8734758a11c83808eec9465"
      }
     },
     "7e162b575a1e4fedb2a11f38e5c3c166": {
      "model_module": "@jupyter-widgets/base",
      "model_module_version": "1.0.0",
      "model_name": "DOMWidgetModel",
      "state": {
       "_graph_url": "https://plot.ly/~wangqiwen/14",
       "_message": "",
       "_model_name": "DOMWidgetModel",
       "_new_url": "",
       "_view_module": "graphWidget",
       "_view_module_version": "",
       "_view_name": "GraphView",
       "layout": "IPY_MODEL_c7bc1f7d4d114ede973c56d3d7041326"
      }
     },
     "7e3f456a4a9742f5b9c0edf78bcb613e": {
      "model_module": "@jupyter-widgets/controls",
      "model_module_version": "1.2.0",
      "model_name": "HBoxModel",
      "state": {
       "children": [
        "IPY_MODEL_12a7f330ee45435b8c53c46baed3c1ca",
        "IPY_MODEL_7e711bb7e25a4ed8aa37a05acc07c05d",
        "IPY_MODEL_91c9fdb20a794a199b79516a7c91282d"
       ],
       "layout": "IPY_MODEL_2954e3f1e528475e8e17f456da59d945"
      }
     },
     "7e711bb7e25a4ed8aa37a05acc07c05d": {
      "model_module": "@jupyter-widgets/controls",
      "model_module_version": "1.2.0",
      "model_name": "TextModel",
      "state": {
       "description": "Department:   ",
       "layout": "IPY_MODEL_8ea1b061c76749259934f20c99ae9fd1",
       "style": "IPY_MODEL_0714e6d1d4a642328a5cfa38eeddc6a3",
       "value": "Mathematics"
      }
     },
     "7e9664eb9c964d03a3c718648a78c7ae": {
      "model_module": "@jupyter-widgets/controls",
      "model_module_version": "1.2.0",
      "model_name": "HBoxModel",
      "state": {
       "children": [
        "IPY_MODEL_cd93ce18962a492391cc90ff0f0b5bd8",
        "IPY_MODEL_332a52e1fea94207ba87e7bb0d4d65c0",
        "IPY_MODEL_5fa360a34b4046418fdc4a65df1924be"
       ],
       "layout": "IPY_MODEL_0a871c369e974152b60e4e80cb638f28"
      }
     },
     "7efb8097fe49425fb6c0b8593a2b6a79": {
      "model_module": "@jupyter-widgets/base",
      "model_module_version": "1.0.0",
      "model_name": "LayoutModel",
      "state": {}
     },
     "7f1245a15f0e4df4af283720f692291f": {
      "model_module": "@jupyter-widgets/controls",
      "model_module_version": "1.2.0",
      "model_name": "TextModel",
      "state": {
       "description": "Department:   ",
       "layout": "IPY_MODEL_e69efff114aa4041b22ad54ccc23a211",
       "style": "IPY_MODEL_7a777be7aa5c4e06aac4b73391f8baa8",
       "value": "Mathematics"
      }
     },
     "7f2338ac6e164e8c9675fcba12bcbbbb": {
      "model_module": "@jupyter-widgets/controls",
      "model_module_version": "1.2.0",
      "model_name": "DescriptionStyleModel",
      "state": {
       "description_width": ""
      }
     },
     "7f5131de3bca4c208d6528f29619a7ce": {
      "model_module": "@jupyter-widgets/base",
      "model_module_version": "1.0.0",
      "model_name": "LayoutModel",
      "state": {}
     },
     "7fde567ad67b49c2a5d5be179553ad11": {
      "model_module": "@jupyter-widgets/controls",
      "model_module_version": "1.2.0",
      "model_name": "DescriptionStyleModel",
      "state": {
       "description_width": ""
      }
     },
     "7fe0b15fee51409eac22d743918829be": {
      "model_module": "@jupyter-widgets/controls",
      "model_module_version": "1.2.0",
      "model_name": "DescriptionStyleModel",
      "state": {
       "description_width": ""
      }
     },
     "7ff37d24c3744e5da39e25a0a02f3bee": {
      "model_module": "@jupyter-widgets/controls",
      "model_module_version": "1.2.0",
      "model_name": "DescriptionStyleModel",
      "state": {
       "description_width": ""
      }
     },
     "801710a17e554f72bc38af2eaca327d8": {
      "model_module": "@jupyter-widgets/base",
      "model_module_version": "1.0.0",
      "model_name": "LayoutModel",
      "state": {}
     },
     "801f5d1c88f64a36aec12351adbb9de5": {
      "model_module": "@jupyter-widgets/controls",
      "model_module_version": "1.2.0",
      "model_name": "DropdownModel",
      "state": {
       "_options_labels": [
        "Chicago",
        "Springfield",
        "Urbana-Champaign"
       ],
       "description": "Campus:",
       "index": 2,
       "layout": "IPY_MODEL_368cb55523d54f89a636111dce3614e0",
       "style": "IPY_MODEL_e26b85fc68ef4461a103f4a7b6ec58dc"
      }
     },
     "802d036beda646cda9823458ba44164f": {
      "model_module": "@jupyter-widgets/controls",
      "model_module_version": "1.2.0",
      "model_name": "DescriptionStyleModel",
      "state": {
       "description_width": ""
      }
     },
     "803f1dbb67474f7f9b03f3ec4cbe9c65": {
      "model_module": "@jupyter-widgets/controls",
      "model_module_version": "1.2.0",
      "model_name": "SliderStyleModel",
      "state": {
       "description_width": ""
      }
     },
     "8064e1f1dde74f0e8b83549b7ec5c954": {
      "model_module": "@jupyter-widgets/controls",
      "model_module_version": "1.2.0",
      "model_name": "HBoxModel",
      "state": {
       "children": [
        "IPY_MODEL_d5a6ea650bad4339851336224b98813c",
        "IPY_MODEL_3306e235d7c842fe8c81148dc3f56d56",
        "IPY_MODEL_ebe7c13eebf94980b9106797d55b2f5a"
       ],
       "layout": "IPY_MODEL_b6dcac1b9a0f430a962440417f7c6d83"
      }
     },
     "806c1917d16d4058b380eb941cf7251d": {
      "model_module": "@jupyter-widgets/controls",
      "model_module_version": "1.2.0",
      "model_name": "DescriptionStyleModel",
      "state": {
       "description_width": ""
      }
     },
     "808e2d862a664b1aa91ac339d37119bb": {
      "model_module": "@jupyter-widgets/controls",
      "model_module_version": "1.2.0",
      "model_name": "IntSliderModel",
      "state": {
       "continuous_update": false,
       "description": "Year:",
       "layout": "IPY_MODEL_67bb4639a43e48f1b41da4d9e543bef5",
       "max": 2017,
       "min": 2013,
       "style": "IPY_MODEL_763e0ba22de54d4688196439cca6570d",
       "value": 2017
      }
     },
     "80a84156bbf844ae9c0bd70ca212968a": {
      "model_module": "@jupyter-widgets/base",
      "model_module_version": "1.0.0",
      "model_name": "LayoutModel",
      "state": {}
     },
     "80a9814b4a6343bb803e26095183ab4c": {
      "model_module": "@jupyter-widgets/controls",
      "model_module_version": "1.2.0",
      "model_name": "SliderStyleModel",
      "state": {
       "description_width": ""
      }
     },
     "80dfed37391a47a48eb9e81ab8447c3e": {
      "model_module": "@jupyter-widgets/base",
      "model_module_version": "1.0.0",
      "model_name": "LayoutModel",
      "state": {}
     },
     "80e827755cc54978bd5397fedb83b624": {
      "model_module": "@jupyter-widgets/controls",
      "model_module_version": "1.2.0",
      "model_name": "HBoxModel",
      "state": {
       "children": [
        "IPY_MODEL_f552992433d3468883146da02c129513",
        "IPY_MODEL_45959f19656946659a001927828f7101",
        "IPY_MODEL_690bf9b5439e451981d0ba5bfa3e8ae9"
       ],
       "layout": "IPY_MODEL_c973c45de66b42378523b8072861ce73"
      }
     },
     "813612e48a4243abb85cf3bea9dee2fd": {
      "model_module": "@jupyter-widgets/base",
      "model_module_version": "1.0.0",
      "model_name": "LayoutModel",
      "state": {}
     },
     "816bf7912e80417fbffb03c39581ac9d": {
      "model_module": "@jupyter-widgets/controls",
      "model_module_version": "1.2.0",
      "model_name": "HBoxModel",
      "state": {
       "children": [
        "IPY_MODEL_3233d84a11814f68bb745a55ebb26f9c",
        "IPY_MODEL_1b085c7dfbee4d5b834bae242da75c77",
        "IPY_MODEL_22973f4c390141b3968bb9a3e92aa7f3"
       ],
       "layout": "IPY_MODEL_8c610badd2b8402795d23dfc31a66e38"
      }
     },
     "81a3a4182dac4c1691ccb3eddfbd63bb": {
      "model_module": "@jupyter-widgets/controls",
      "model_module_version": "1.2.0",
      "model_name": "DescriptionStyleModel",
      "state": {
       "description_width": ""
      }
     },
     "81ab7d720cef4cf2a027884c8ea4c26b": {
      "model_module": "@jupyter-widgets/controls",
      "model_module_version": "1.2.0",
      "model_name": "TextModel",
      "state": {
       "description": "Department 1",
       "layout": "IPY_MODEL_a2df6910b66248b3a45187d0c3655b15",
       "style": "IPY_MODEL_9d0e107b8c2d4a4eba1de7a333c77299"
      }
     },
     "81cb4cab1a7242a3966342cfed1572f5": {
      "model_module": "@jupyter-widgets/controls",
      "model_module_version": "1.2.0",
      "model_name": "TextModel",
      "state": {
       "description": "Department:   ",
       "layout": "IPY_MODEL_f6a962d473ad451eaa5a1275364e4114",
       "style": "IPY_MODEL_5540469e7fc84360a73cffe3693af311",
       "value": "Mathematics"
      }
     },
     "82563ef9632c453293a00e05aa74c23b": {
      "model_module": "@jupyter-widgets/controls",
      "model_module_version": "1.2.0",
      "model_name": "DescriptionStyleModel",
      "state": {
       "description_width": ""
      }
     },
     "82f8e8aecaca4695b43ea5859019925b": {
      "model_module": "@jupyter-widgets/controls",
      "model_module_version": "1.2.0",
      "model_name": "IntSliderModel",
      "state": {
       "continuous_update": false,
       "description": "Year:",
       "layout": "IPY_MODEL_ffc722cff5094832af75f5885dbea34b",
       "max": 2017,
       "min": 2013,
       "style": "IPY_MODEL_88d70930b17942dea11bd0e26c0aa4bd",
       "value": 2017
      }
     },
     "83328529116642f492594d5a9d49f345": {
      "model_module": "@jupyter-widgets/controls",
      "model_module_version": "1.2.0",
      "model_name": "DropdownModel",
      "state": {
       "_options_labels": [
        "Chicago",
        "Springfield",
        "Urbana-Champaign"
       ],
       "description": "Campus:",
       "index": 2,
       "layout": "IPY_MODEL_0fc0bd65c2e74edf9e53a99da91452b5",
       "style": "IPY_MODEL_2411a51ead4b44ee8c590a93eafed0d0"
      }
     },
     "83678ef4b5634f58ac74653181184879": {
      "model_module": "@jupyter-widgets/base",
      "model_module_version": "1.0.0",
      "model_name": "LayoutModel",
      "state": {}
     },
     "8371dc6e1ac74235b156856c63bc82b6": {
      "model_module": "@jupyter-widgets/controls",
      "model_module_version": "1.2.0",
      "model_name": "TabModel",
      "state": {
       "_titles": {
        "0": "Department 1",
        "1": "Department 2",
        "2": "Department 3",
        "3": "Department 4"
       },
       "children": [
        "IPY_MODEL_b2d76ada64eb47a2b1c39bea5fab7771",
        "IPY_MODEL_94efbbe8901c4b14a6b07ddc0ecbd51c",
        "IPY_MODEL_a07b6630d02c449f833e40d5b77575bc",
        "IPY_MODEL_96463d8e351143e28f1e9ca6f8efed2b"
       ],
       "layout": "IPY_MODEL_b92b90b4ee1949cb8c04d07f411a968a"
      }
     },
     "841f1ce6301247bbbba69a467ef1fc65": {
      "model_module": "@jupyter-widgets/base",
      "model_module_version": "1.0.0",
      "model_name": "LayoutModel",
      "state": {}
     },
     "84c233408c5d420b92f0a0e95ae0eec6": {
      "model_module": "@jupyter-widgets/controls",
      "model_module_version": "1.2.0",
      "model_name": "TextModel",
      "state": {
       "description": "Department:   ",
       "layout": "IPY_MODEL_f1c4d5ff7b494efba9fa0fe1219a14af",
       "style": "IPY_MODEL_0631688bb4da4fc88636c2804af593d5",
       "value": "Computer Science"
      }
     },
     "84e1e7e1c8ea4253aa632d8a0620fdc4": {
      "model_module": "@jupyter-widgets/controls",
      "model_module_version": "1.2.0",
      "model_name": "DescriptionStyleModel",
      "state": {
       "description_width": ""
      }
     },
     "84f1716ee638432ab2be4f0f1376f2c5": {
      "model_module": "@jupyter-widgets/controls",
      "model_module_version": "1.2.0",
      "model_name": "DropdownModel",
      "state": {
       "_options_labels": [
        "Chicago",
        "Springfield",
        "Urbana-Champaign"
       ],
       "description": "Campus:",
       "index": 2,
       "layout": "IPY_MODEL_5242ee2a679e4d1084709d53ac081ac6",
       "style": "IPY_MODEL_317ed1a8979c4e55874c98494af21f16"
      }
     },
     "8516d596a05a408989c43f07c88958f0": {
      "model_module": "@jupyter-widgets/base",
      "model_module_version": "1.0.0",
      "model_name": "DOMWidgetModel",
      "state": {
       "_graph_url": "https://plot.ly/~wangqiwen/8/salary-range-of-faculty-in-information-sciences-computer-science/",
       "_message": "",
       "_model_name": "DOMWidgetModel",
       "_new_url": "",
       "_view_module": "graphWidget",
       "_view_module_version": "",
       "_view_name": "GraphView",
       "layout": "IPY_MODEL_47be520f36c3412b90dc51bc3b2c76a2"
      }
     },
     "852fc1e72d6e4e7397c17d63feab855a": {
      "model_module": "@jupyter-widgets/base",
      "model_module_version": "1.0.0",
      "model_name": "LayoutModel",
      "state": {}
     },
     "854212b6e601483bb97bae5c8c59c6f5": {
      "model_module": "@jupyter-widgets/controls",
      "model_module_version": "1.2.0",
      "model_name": "DescriptionStyleModel",
      "state": {
       "description_width": ""
      }
     },
     "854d3b686a504380b0969de36d80dc07": {
      "model_module": "@jupyter-widgets/base",
      "model_module_version": "1.0.0",
      "model_name": "LayoutModel",
      "state": {}
     },
     "85d6e05dda1d4a2999f4bd624a2115c3": {
      "model_module": "@jupyter-widgets/controls",
      "model_module_version": "1.2.0",
      "model_name": "DropdownModel",
      "state": {
       "_options_labels": [
        "Chicago",
        "Springfield",
        "Urbana-Champaign"
       ],
       "description": "Campus:",
       "index": 2,
       "layout": "IPY_MODEL_df4e7fd87d0941a6987c10d1bfd0e74d",
       "style": "IPY_MODEL_5f3211b4f40e4c649899629933f96e16"
      }
     },
     "861e1eeab0e44c5cb86bfb7429ce8f46": {
      "model_module": "@jupyter-widgets/controls",
      "model_module_version": "1.2.0",
      "model_name": "SliderStyleModel",
      "state": {
       "description_width": ""
      }
     },
     "8668825886d94c00aeb59d01e183c3b4": {
      "model_module": "@jupyter-widgets/base",
      "model_module_version": "1.0.0",
      "model_name": "LayoutModel",
      "state": {}
     },
     "866ca683479b434f90c18e6c9f1b6fc4": {
      "model_module": "@jupyter-widgets/controls",
      "model_module_version": "1.2.0",
      "model_name": "SliderStyleModel",
      "state": {
       "description_width": ""
      }
     },
     "86992078e3bf461592b59805b57879cf": {
      "model_module": "@jupyter-widgets/base",
      "model_module_version": "1.0.0",
      "model_name": "LayoutModel",
      "state": {}
     },
     "8725743956a648deb161727bbe6cd0dc": {
      "model_module": "@jupyter-widgets/controls",
      "model_module_version": "1.2.0",
      "model_name": "HBoxModel",
      "state": {
       "children": [
        "IPY_MODEL_c1edb6bcb2e04c4c93c9c95381184a16",
        "IPY_MODEL_e545a71dc4194c6cb8cf880bddae2af1",
        "IPY_MODEL_06564af1e29446a184e4c0118a7bac6f"
       ],
       "layout": "IPY_MODEL_595ab5931e614c5eb9a4920d9f3c7722"
      }
     },
     "8752bf04b28e4f0f826e63fe5566568a": {
      "model_module": "@jupyter-widgets/base",
      "model_module_version": "1.0.0",
      "model_name": "LayoutModel",
      "state": {}
     },
     "87800b428d4c4b969f9e80834cac704a": {
      "model_module": "@jupyter-widgets/controls",
      "model_module_version": "1.2.0",
      "model_name": "TextModel",
      "state": {
       "description": "Department:   ",
       "layout": "IPY_MODEL_d02d9aa88e224daa8ab51df54e62a814",
       "style": "IPY_MODEL_75badde579e84ec3934858562a7e53a5",
       "value": "Computer Science"
      }
     },
     "8790dcdd18dc4313b08f679af2a049f2": {
      "model_module": "@jupyter-widgets/controls",
      "model_module_version": "1.2.0",
      "model_name": "IntTextModel",
      "state": {
       "description": "Top X:",
       "layout": "IPY_MODEL_ff373f9c2c254fc582176295e30d4846",
       "step": 1,
       "style": "IPY_MODEL_ff6ad1277afb4a56a60fd5b9c5d7d01c",
       "value": 10
      }
     },
     "879b2542b0a7421386f52ae11550cfb9": {
      "model_module": "@jupyter-widgets/base",
      "model_module_version": "1.0.0",
      "model_name": "LayoutModel",
      "state": {}
     },
     "88133920408e4984a1c7ffbf4c79cbad": {
      "model_module": "@jupyter-widgets/base",
      "model_module_version": "1.0.0",
      "model_name": "DOMWidgetModel",
      "state": {
       "_graph_url": "https://plot.ly/~wangqiwen/8/salary-range-of-faculty-in-information-sciences-computer-science/",
       "_message": "",
       "_model_name": "DOMWidgetModel",
       "_new_url": "",
       "_view_module": "graphWidget",
       "_view_module_version": "",
       "_view_name": "GraphView",
       "layout": "IPY_MODEL_c46f2f75028342859da631ebba36524c"
      }
     },
     "881bfa7339e84381b14796dd2eca7e08": {
      "model_module": "@jupyter-widgets/base",
      "model_module_version": "1.0.0",
      "model_name": "LayoutModel",
      "state": {}
     },
     "88555217fc3b42d8a2749764b3ab2334": {
      "model_module": "@jupyter-widgets/controls",
      "model_module_version": "1.2.0",
      "model_name": "TextModel",
      "state": {
       "description": "Department:   ",
       "layout": "IPY_MODEL_7615c4ad5d7941f3928a7116ff8d8141",
       "style": "IPY_MODEL_3cbe3ae67b0b4160ba3bcb495c22ca70",
       "value": "History"
      }
     },
     "88648e2a5a8b4448a72406d6d1d236ec": {
      "model_module": "@jupyter-widgets/controls",
      "model_module_version": "1.2.0",
      "model_name": "SliderStyleModel",
      "state": {
       "description_width": ""
      }
     },
     "887229baf8174ed09e091f4ef03c9655": {
      "model_module": "@jupyter-widgets/base",
      "model_module_version": "1.0.0",
      "model_name": "LayoutModel",
      "state": {}
     },
     "88a634f2ff074e4ab4479c39e5bf0268": {
      "model_module": "@jupyter-widgets/base",
      "model_module_version": "1.0.0",
      "model_name": "LayoutModel",
      "state": {}
     },
     "88d70930b17942dea11bd0e26c0aa4bd": {
      "model_module": "@jupyter-widgets/controls",
      "model_module_version": "1.2.0",
      "model_name": "SliderStyleModel",
      "state": {
       "description_width": ""
      }
     },
     "899373b1656740f2953fb40ca90cc880": {
      "model_module": "@jupyter-widgets/controls",
      "model_module_version": "1.2.0",
      "model_name": "DescriptionStyleModel",
      "state": {
       "description_width": ""
      }
     },
     "89a5a2fbe4d84fdb90df6559db1c5447": {
      "model_module": "@jupyter-widgets/controls",
      "model_module_version": "1.2.0",
      "model_name": "IntSliderModel",
      "state": {
       "continuous_update": false,
       "description": "Year:",
       "layout": "IPY_MODEL_fcecad8261b9447bafeac1d72a15814b",
       "max": 2017,
       "min": 2013,
       "style": "IPY_MODEL_bf183dee2a5d48c5af768430e6b23efc",
       "value": 2016
      }
     },
     "89adc92e96424ab68fb3c90bfacbc02b": {
      "model_module": "@jupyter-widgets/base",
      "model_module_version": "1.0.0",
      "model_name": "LayoutModel",
      "state": {}
     },
     "89d27a50969247e58fdde0b522a69ba3": {
      "model_module": "@jupyter-widgets/controls",
      "model_module_version": "1.2.0",
      "model_name": "HBoxModel",
      "state": {
       "children": [
        "IPY_MODEL_621fee9053024598b98f5ddd52749e91",
        "IPY_MODEL_0789d0cc066541259664fe3d7da16062",
        "IPY_MODEL_5551f8537b6e442fa92d2957ed02b55b"
       ],
       "layout": "IPY_MODEL_3b74782491a845db8153dbeaa8f910d1"
      }
     },
     "89e0f394181846d9aff75c54b701a792": {
      "model_module": "@jupyter-widgets/base",
      "model_module_version": "1.0.0",
      "model_name": "DOMWidgetModel",
      "state": {
       "_graph_url": "https://plot.ly/~wangqiwen/8/salary-range-of-faculty-in-information-sciences-computer-science/",
       "_message": "",
       "_model_name": "DOMWidgetModel",
       "_new_url": "",
       "_view_module": "graphWidget",
       "_view_module_version": "",
       "_view_name": "GraphView",
       "layout": "IPY_MODEL_a2890973db67433f9713bcd357f9aff1"
      }
     },
     "89e86cd377d04af0a066ddc70ef75273": {
      "model_module": "@jupyter-widgets/controls",
      "model_module_version": "1.2.0",
      "model_name": "DescriptionStyleModel",
      "state": {
       "description_width": ""
      }
     },
     "8a0a354776fb4754b8386e4e88af8ea3": {
      "model_module": "@jupyter-widgets/controls",
      "model_module_version": "1.2.0",
      "model_name": "DescriptionStyleModel",
      "state": {
       "description_width": ""
      }
     },
     "8a0a8dc64f744b00b42acd383557e763": {
      "model_module": "@jupyter-widgets/controls",
      "model_module_version": "1.2.0",
      "model_name": "TextModel",
      "state": {
       "description": "Department:   ",
       "layout": "IPY_MODEL_02ed0c9f46904e31ae1cb2fbd224cf3a",
       "style": "IPY_MODEL_ba1ed6c5b5564245a1ceff40a4308684",
       "value": "Mathematics"
      }
     },
     "8a282bd993e34399a6569521e5b2dc6d": {
      "model_module": "@jupyter-widgets/controls",
      "model_module_version": "1.2.0",
      "model_name": "HBoxModel",
      "state": {
       "children": [
        "IPY_MODEL_64dcc25d2afe4f0d9b3e983b7891218e",
        "IPY_MODEL_ed297428bc2c4351b020d009e05d30f0",
        "IPY_MODEL_57f8098eb742465ea27838b329b232ee"
       ],
       "layout": "IPY_MODEL_07180dab77e54c148b85cb8b50db43ce"
      }
     },
     "8a6324a61b254b488cdb752bf12ad7d8": {
      "model_module": "@jupyter-widgets/controls",
      "model_module_version": "1.2.0",
      "model_name": "HBoxModel",
      "state": {
       "children": [
        "IPY_MODEL_d2ff41579cfb40f497affd2c49ac85a1",
        "IPY_MODEL_9a2d888cb0c34b6d80de1753f1558a55",
        "IPY_MODEL_017b67dacf3247a4bd639a6958f1ea1a"
       ],
       "layout": "IPY_MODEL_92fd1c53b8b543209813ef99d64ca16e"
      }
     },
     "8a6f335d300c4c63baab0e61c743af0d": {
      "model_module": "@jupyter-widgets/controls",
      "model_module_version": "1.2.0",
      "model_name": "DescriptionStyleModel",
      "state": {
       "description_width": ""
      }
     },
     "8add58e3a93b426b8d94b9951cf77aec": {
      "model_module": "@jupyter-widgets/base",
      "model_module_version": "1.0.0",
      "model_name": "LayoutModel",
      "state": {}
     },
     "8addeb5577044862a55c18dd193d5cb3": {
      "model_module": "@jupyter-widgets/base",
      "model_module_version": "1.0.0",
      "model_name": "LayoutModel",
      "state": {}
     },
     "8aed64b421354a00befabd26af745e2c": {
      "model_module": "@jupyter-widgets/base",
      "model_module_version": "1.0.0",
      "model_name": "LayoutModel",
      "state": {}
     },
     "8b0e4075080d41e5a2739c83c5f0ef50": {
      "model_module": "@jupyter-widgets/controls",
      "model_module_version": "1.2.0",
      "model_name": "DescriptionStyleModel",
      "state": {
       "description_width": ""
      }
     },
     "8b177cd688f546f29023088fbfd883cb": {
      "model_module": "@jupyter-widgets/base",
      "model_module_version": "1.0.0",
      "model_name": "LayoutModel",
      "state": {}
     },
     "8b355657697545cfb21a201d4f6ba255": {
      "model_module": "@jupyter-widgets/base",
      "model_module_version": "1.0.0",
      "model_name": "LayoutModel",
      "state": {}
     },
     "8b50b9b9be0a4c8bae7697e74c7f5c9f": {
      "model_module": "@jupyter-widgets/base",
      "model_module_version": "1.0.0",
      "model_name": "LayoutModel",
      "state": {}
     },
     "8b6d78dc809b496f98dd0fd010906d46": {
      "model_module": "@jupyter-widgets/base",
      "model_module_version": "1.0.0",
      "model_name": "DOMWidgetModel",
      "state": {
       "_graph_url": "https://plot.ly/~wangqiwen/8/salary-range-of-faculty-in-information-sciences-computer-science/",
       "_message": "",
       "_model_name": "DOMWidgetModel",
       "_new_url": "",
       "_view_module": "graphWidget",
       "_view_module_version": "",
       "_view_name": "GraphView",
       "layout": "IPY_MODEL_18df0886f4154bedad43947e4c2d9875"
      }
     },
     "8bbd3fcbf6164e91accfce5494ecc12c": {
      "model_module": "@jupyter-widgets/base",
      "model_module_version": "1.0.0",
      "model_name": "LayoutModel",
      "state": {}
     },
     "8bdd0137e68d42bb97ce0bdd40ae656a": {
      "model_module": "@jupyter-widgets/base",
      "model_module_version": "1.0.0",
      "model_name": "LayoutModel",
      "state": {}
     },
     "8bf592c00eb743f6986503150862ddd8": {
      "model_module": "@jupyter-widgets/base",
      "model_module_version": "1.0.0",
      "model_name": "LayoutModel",
      "state": {}
     },
     "8c610badd2b8402795d23dfc31a66e38": {
      "model_module": "@jupyter-widgets/base",
      "model_module_version": "1.0.0",
      "model_name": "LayoutModel",
      "state": {}
     },
     "8c6118968dae40c785da639aba617aa5": {
      "model_module": "@jupyter-widgets/controls",
      "model_module_version": "1.2.0",
      "model_name": "DescriptionStyleModel",
      "state": {
       "description_width": ""
      }
     },
     "8cba495222994a1d974f9343a96feb52": {
      "model_module": "@jupyter-widgets/controls",
      "model_module_version": "1.2.0",
      "model_name": "HBoxModel",
      "state": {
       "children": [
        "IPY_MODEL_4507b2dafac941b5825cddceb162d375",
        "IPY_MODEL_f6f1fd5f96b74792976e37c976198059",
        "IPY_MODEL_a56afa370b3b40b6a5e4bc7cb049e66e"
       ],
       "layout": "IPY_MODEL_20056a3e62594fdeb39a3e060207e10c"
      }
     },
     "8d371c86a7684dae9750eb1226e7e1ef": {
      "model_module": "@jupyter-widgets/base",
      "model_module_version": "1.0.0",
      "model_name": "DOMWidgetModel",
      "state": {
       "_graph_url": "https://plot.ly/~wangqiwen/8/salary-range-of-faculty-in-mathematics/",
       "_message": "{\"task\": \"relayout\", \"update\": {\"title\": \"Salary Range of Faculty in Mathematics & Information Sciences\", \"xaxis\": {\"title\": \"Salary\"}, \"yaxis\": {\"title\": \"Percentage of Faculty\"}, \"bargap\": 0.2, \"bargroupgap\": 0.1}, \"graphId\": \"026d3494-ab36-4b5d-801c-48989f2ecf49\", \"uid\": \"4bc0638a-3794-47f0-b8ba-7d41d5a7de91\"}",
       "_model_name": "DOMWidgetModel",
       "_new_url": "",
       "_view_module": "graphWidget",
       "_view_module_version": "",
       "_view_name": "GraphView",
       "layout": "IPY_MODEL_9406dfa6a3a045c98f2b934436a0140f"
      }
     },
     "8d3e4f1a1a394a3d972f716c1bc66826": {
      "model_module": "@jupyter-widgets/controls",
      "model_module_version": "1.2.0",
      "model_name": "DescriptionStyleModel",
      "state": {
       "description_width": ""
      }
     },
     "8d625c845e0f4bcf9a91fce4143134b5": {
      "model_module": "@jupyter-widgets/controls",
      "model_module_version": "1.2.0",
      "model_name": "DescriptionStyleModel",
      "state": {
       "description_width": ""
      }
     },
     "8d6e9538f1b6448b96bc71390b9dbeae": {
      "model_module": "@jupyter-widgets/controls",
      "model_module_version": "1.2.0",
      "model_name": "TextModel",
      "state": {
       "description": "Department:   ",
       "layout": "IPY_MODEL_97a6bf594e40483aa245060db1f1a32d",
       "style": "IPY_MODEL_c66c44af9f4045af87b245604df47623",
       "value": "Mathematics"
      }
     },
     "8da029929e9846d49ff2328820748a6e": {
      "model_module": "@jupyter-widgets/base",
      "model_module_version": "1.0.0",
      "model_name": "LayoutModel",
      "state": {}
     },
     "8da076f7bc894823b9584e218e571c68": {
      "model_module": "@jupyter-widgets/base",
      "model_module_version": "1.0.0",
      "model_name": "LayoutModel",
      "state": {}
     },
     "8db2d6c84f7a4b81a06aaff313d1dc8b": {
      "model_module": "@jupyter-widgets/base",
      "model_module_version": "1.0.0",
      "model_name": "LayoutModel",
      "state": {}
     },
     "8e16398ed6a74131b1be7f70bf2c9958": {
      "model_module": "@jupyter-widgets/base",
      "model_module_version": "1.0.0",
      "model_name": "LayoutModel",
      "state": {}
     },
     "8e33882455ef4328a9bd0d0086efacac": {
      "model_module": "@jupyter-widgets/controls",
      "model_module_version": "1.2.0",
      "model_name": "HBoxModel",
      "state": {
       "children": [
        "IPY_MODEL_53ce27cd861d4e6d9cf8277243b0e74f",
        "IPY_MODEL_8d6e9538f1b6448b96bc71390b9dbeae",
        "IPY_MODEL_d55b5633036f4c02825cd94331ca6ffd"
       ],
       "layout": "IPY_MODEL_cec7f2454d7c4d5492d9aaf675204638"
      }
     },
     "8e35d2c159124c6e8bb385929bf96b85": {
      "model_module": "@jupyter-widgets/base",
      "model_module_version": "1.0.0",
      "model_name": "LayoutModel",
      "state": {}
     },
     "8e4c12939f1f4d49b2c62eedc7f09d00": {
      "model_module": "@jupyter-widgets/controls",
      "model_module_version": "1.2.0",
      "model_name": "DescriptionStyleModel",
      "state": {
       "description_width": ""
      }
     },
     "8e4de8e32c114140b9c186a0a877118f": {
      "model_module": "@jupyter-widgets/controls",
      "model_module_version": "1.2.0",
      "model_name": "IntTextModel",
      "state": {
       "description": "Top X:",
       "layout": "IPY_MODEL_8668825886d94c00aeb59d01e183c3b4",
       "step": 1,
       "style": "IPY_MODEL_a6da7f79e720489180f676e16580c709",
       "value": 25
      }
     },
     "8e7e93b73029449ea809456f7bb4f77f": {
      "model_module": "@jupyter-widgets/controls",
      "model_module_version": "1.2.0",
      "model_name": "SliderStyleModel",
      "state": {
       "description_width": ""
      }
     },
     "8e9c1b4e9f0d4569ae8dafb07ae59635": {
      "model_module": "@jupyter-widgets/controls",
      "model_module_version": "1.2.0",
      "model_name": "DropdownModel",
      "state": {
       "_options_labels": [
        "Chicago",
        "Springfield",
        "Urbana-Champaign"
       ],
       "description": "Campus:",
       "index": 2,
       "layout": "IPY_MODEL_51a05c47f7e9458ca8d14651a3a33499",
       "style": "IPY_MODEL_8d625c845e0f4bcf9a91fce4143134b5"
      }
     },
     "8e9e082673e641088dd439e04a024d72": {
      "model_module": "@jupyter-widgets/base",
      "model_module_version": "1.0.0",
      "model_name": "LayoutModel",
      "state": {}
     },
     "8ea1b061c76749259934f20c99ae9fd1": {
      "model_module": "@jupyter-widgets/base",
      "model_module_version": "1.0.0",
      "model_name": "LayoutModel",
      "state": {}
     },
     "8ea86ef8d1604f58806dc471d6de2ad1": {
      "model_module": "@jupyter-widgets/base",
      "model_module_version": "1.0.0",
      "model_name": "LayoutModel",
      "state": {}
     },
     "8f2fa128a10f43ea9c8edda83ac3b6e1": {
      "model_module": "@jupyter-widgets/base",
      "model_module_version": "1.0.0",
      "model_name": "DOMWidgetModel",
      "state": {
       "_graph_url": "https://plot.ly/~wangqiwen/8/salary-range-of-faculty-in-mathematics-information-sciences/",
       "_message": "",
       "_model_name": "DOMWidgetModel",
       "_new_url": "",
       "_view_module": "graphWidget",
       "_view_module_version": "",
       "_view_name": "GraphView",
       "layout": "IPY_MODEL_775c0078430040a9a82677c0d9cca3f8"
      }
     },
     "8f37b9f21d024177b71dc2857ee1ae1a": {
      "model_module": "@jupyter-widgets/controls",
      "model_module_version": "1.2.0",
      "model_name": "DropdownModel",
      "state": {
       "_options_labels": [
        "Chicago",
        "Springfield",
        "Urbana-Champaign"
       ],
       "description": "Campus:",
       "index": 2,
       "layout": "IPY_MODEL_c3f5c9f69b66477ea1ef268bf18215c8",
       "style": "IPY_MODEL_ec1392d2d9444d989647973c770cf787"
      }
     },
     "8f3fa3a1597e4909af002283d0cf40e1": {
      "model_module": "@jupyter-widgets/controls",
      "model_module_version": "1.2.0",
      "model_name": "HBoxModel",
      "state": {
       "children": [
        "IPY_MODEL_68d57a451986402ca80f5296029cb9c7",
        "IPY_MODEL_e3e4fef5c9a94e3eab57a47aa2eb2452",
        "IPY_MODEL_5a446087c646441f8df9063650bfc301"
       ],
       "layout": "IPY_MODEL_bd705ec8d240448fae3c7f597e0162cc"
      }
     },
     "8f5c8aba115b468b816197262c0c1b0c": {
      "model_module": "@jupyter-widgets/base",
      "model_module_version": "1.0.0",
      "model_name": "LayoutModel",
      "state": {}
     },
     "8f79a9ae1a6545908c5fc95fa14ca08b": {
      "model_module": "@jupyter-widgets/controls",
      "model_module_version": "1.2.0",
      "model_name": "DescriptionStyleModel",
      "state": {
       "description_width": ""
      }
     },
     "8fa4f918c27240f08d37f1388df742cb": {
      "model_module": "@jupyter-widgets/base",
      "model_module_version": "1.0.0",
      "model_name": "LayoutModel",
      "state": {}
     },
     "8fac2052ab1f487c9901e5466a4fb227": {
      "model_module": "@jupyter-widgets/controls",
      "model_module_version": "1.2.0",
      "model_name": "DropdownModel",
      "state": {
       "_options_labels": [
        "Chicago",
        "Springfield",
        "Urbana-Champaign"
       ],
       "description": "Campus:",
       "index": 2,
       "layout": "IPY_MODEL_67bab55d1e014feb93f1a1f2febf24ac",
       "style": "IPY_MODEL_6115aa00f53b4a70b6ea7a5f69c28c94"
      }
     },
     "8fb7fda86f4043b1ae2db8e884ad5841": {
      "model_module": "@jupyter-widgets/controls",
      "model_module_version": "1.2.0",
      "model_name": "SliderStyleModel",
      "state": {
       "description_width": ""
      }
     },
     "8fd00f504ace4f91bc376b38e98c5292": {
      "model_module": "@jupyter-widgets/base",
      "model_module_version": "1.0.0",
      "model_name": "LayoutModel",
      "state": {}
     },
     "8fe1979e91a94ac09d65db0fe467d05a": {
      "model_module": "@jupyter-widgets/controls",
      "model_module_version": "1.2.0",
      "model_name": "DescriptionStyleModel",
      "state": {
       "description_width": ""
      }
     },
     "900dbde916454e688dab6ef64b6b35eb": {
      "model_module": "@jupyter-widgets/controls",
      "model_module_version": "1.2.0",
      "model_name": "DescriptionStyleModel",
      "state": {
       "description_width": ""
      }
     },
     "9026e37a16d34633b4616a2403bf3433": {
      "model_module": "@jupyter-widgets/base",
      "model_module_version": "1.0.0",
      "model_name": "LayoutModel",
      "state": {}
     },
     "907adbf9e95d4f66a2352425139866e0": {
      "model_module": "@jupyter-widgets/base",
      "model_module_version": "1.0.0",
      "model_name": "LayoutModel",
      "state": {}
     },
     "90854ee5bb024ae98976c747fd243684": {
      "model_module": "@jupyter-widgets/base",
      "model_module_version": "1.0.0",
      "model_name": "LayoutModel",
      "state": {}
     },
     "90cb76eb1902442589e02e67d1ab19e7": {
      "model_module": "@jupyter-widgets/base",
      "model_module_version": "1.0.0",
      "model_name": "LayoutModel",
      "state": {}
     },
     "910e6f20c5f24183ba333c71ee143aaf": {
      "model_module": "@jupyter-widgets/controls",
      "model_module_version": "1.2.0",
      "model_name": "DropdownModel",
      "state": {
       "_options_labels": [
        "Chicago",
        "Springfield",
        "Urbana-Champaign"
       ],
       "description": "Campus:",
       "index": 2,
       "layout": "IPY_MODEL_160def07484a42a2a00265ad053a135c",
       "style": "IPY_MODEL_5dadf92e457141ba884551fc5df4d027"
      }
     },
     "9159b603575c4388a573d6c4cd903889": {
      "model_module": "@jupyter-widgets/controls",
      "model_module_version": "1.2.0",
      "model_name": "DescriptionStyleModel",
      "state": {
       "description_width": ""
      }
     },
     "916f3d47f12b4e3d84d0db4f6634ff0a": {
      "model_module": "@jupyter-widgets/controls",
      "model_module_version": "1.2.0",
      "model_name": "DropdownModel",
      "state": {
       "_options_labels": [
        "PROF",
        "ASSOC PROF",
        "ASST PROF",
        "LECTURER",
        "ASSOC DIR",
        "CLIN ASST PROF",
        "SR LECTURER",
        "RES SCI",
        "RES ASST PROF",
        "SR RES SCI",
        "POSTDOC RES ASSOC",
        "CLIN PROF",
        "ASSOC PROF UNIV LIBRARY",
        "ASST PROF UNIV LIBRARY",
        "DEAN",
        "JL DOOB RES ASST PROF",
        "CLIN ASSOC PROF",
        "VST ASST PROF",
        "RES ASSOC PROF",
        "ASST DEAN",
        "RES PROF",
        "PROF (RT)"
       ],
       "description": "Job Title:",
       "index": 2,
       "layout": "IPY_MODEL_afb9f700197e4da680db6e9f6dc8de90",
       "style": "IPY_MODEL_3bea140797b74b03bb14318b502297bd"
      }
     },
     "918981d402c546438252674031e008ef": {
      "model_module": "@jupyter-widgets/controls",
      "model_module_version": "1.2.0",
      "model_name": "HBoxModel",
      "state": {
       "children": [
        "IPY_MODEL_d8a2cd73a11c423aaf21adf22612a85d",
        "IPY_MODEL_6221080fa0bd4112a318e75cd9dcdd12",
        "IPY_MODEL_3fe06af682df44cf88e560a97c058915"
       ],
       "layout": "IPY_MODEL_10569c0a7b38437f839c62d263e7fd49"
      }
     },
     "9190daae3fd449a2931dbd6b54984691": {
      "model_module": "@jupyter-widgets/controls",
      "model_module_version": "1.2.0",
      "model_name": "HBoxModel",
      "state": {
       "children": [
        "IPY_MODEL_e66b3b4ab4fa4dd59c5f9a4daf1afda6",
        "IPY_MODEL_d34e2d13fa5f4af4b480a84b1b10e3fd",
        "IPY_MODEL_f362d72a0b9041d491b9466454d461c9"
       ],
       "layout": "IPY_MODEL_0c26afb265684ed59f455c2ec669a9b5"
      }
     },
     "91c9fdb20a794a199b79516a7c91282d": {
      "model_module": "@jupyter-widgets/controls",
      "model_module_version": "1.2.0",
      "model_name": "IntSliderModel",
      "state": {
       "continuous_update": false,
       "description": "Year:",
       "layout": "IPY_MODEL_fca71ebf6e9644fead003aa83ddef98f",
       "max": 2017,
       "min": 2013,
       "style": "IPY_MODEL_861e1eeab0e44c5cb86bfb7429ce8f46",
       "value": 2017
      }
     },
     "925302ed43c54562bfd2dfd4e9aa3757": {
      "model_module": "@jupyter-widgets/base",
      "model_module_version": "1.0.0",
      "model_name": "DOMWidgetModel",
      "state": {
       "_graph_url": "https://plot.ly/~wangqiwen/20/median-salary-median-salary-median-salary/",
       "_message": "{\"task\": \"relayout\", \"update\": [\"2017 Median Salary of ASST PROF in Urbana-Champaign\", \"2017 Median Salary of ASST PROF in Chicago\", \"2017 Median Salary of ASST PROF in Springfield\"], \"graphId\": \"73430229-b939-4783-a4db-7eb3170a3bbe\", \"uid\": \"b6aec854-3cff-4132-b02c-4e365af85a01\"}",
       "_model_name": "DOMWidgetModel",
       "_new_url": "",
       "_view_module": "graphWidget",
       "_view_module_version": "",
       "_view_name": "GraphView",
       "layout": "IPY_MODEL_b6a26907d5ec43d3a900500200a794dd"
      }
     },
     "92ba5433855c4c8699fbf010ad91e0bd": {
      "model_module": "@jupyter-widgets/base",
      "model_module_version": "1.0.0",
      "model_name": "LayoutModel",
      "state": {}
     },
     "92fd1c53b8b543209813ef99d64ca16e": {
      "model_module": "@jupyter-widgets/base",
      "model_module_version": "1.0.0",
      "model_name": "LayoutModel",
      "state": {}
     },
     "93345304a30341e9ab7426395ea36c63": {
      "model_module": "@jupyter-widgets/controls",
      "model_module_version": "1.2.0",
      "model_name": "IntSliderModel",
      "state": {
       "continuous_update": false,
       "description": "Year:",
       "layout": "IPY_MODEL_4279877308c4416bbae41ab1535463df",
       "max": 2017,
       "min": 2013,
       "style": "IPY_MODEL_2cfc71357289416abebdc4ddd32e2942",
       "value": 2017
      }
     },
     "93a2100731af45e590830ce481cf7fa8": {
      "model_module": "@jupyter-widgets/controls",
      "model_module_version": "1.2.0",
      "model_name": "IntSliderModel",
      "state": {
       "continuous_update": false,
       "description": "Year:",
       "layout": "IPY_MODEL_b42a76aa9138477699ed70df8e177d3f",
       "max": 2017,
       "min": 2013,
       "style": "IPY_MODEL_cac6576178264e638b919baabcd466e7",
       "value": 2017
      }
     },
     "93b8a36e062449d9afe7b633f4152a54": {
      "model_module": "@jupyter-widgets/controls",
      "model_module_version": "1.2.0",
      "model_name": "HBoxModel",
      "state": {
       "children": [
        "IPY_MODEL_342a2e614b324af38ee56adc744150eb",
        "IPY_MODEL_188f929ecf4a407c841c02b415308012",
        "IPY_MODEL_15e4ae72eb55407f95a7af2a16c22cde"
       ],
       "layout": "IPY_MODEL_95c1189595634e418f74e7fd69ca9b51"
      }
     },
     "94002666ce8942e99ba250791fd72b67": {
      "model_module": "@jupyter-widgets/base",
      "model_module_version": "1.0.0",
      "model_name": "LayoutModel",
      "state": {}
     },
     "9403bead9e6540ae92eb44c3d4199f7d": {
      "model_module": "@jupyter-widgets/base",
      "model_module_version": "1.0.0",
      "model_name": "DOMWidgetModel",
      "state": {
       "_graph_url": "https://plot.ly/~wangqiwen/8/salary-range-of-faculty-in-information-sciences-computer-science/",
       "_message": "{\"task\": \"relayout\", \"update\": {\"title\": \"Salary Range of Faculty in Mathematics & Mathematics\", \"xaxis\": {\"title\": \"Salary\"}, \"yaxis\": {\"title\": \"Percentage of Faculty\"}, \"bargroupgap\": 0.1}, \"graphId\": \"e2b16ea3-d156-44d0-96e0-39d7f684d8ad\", \"uid\": \"932244b2-c62d-4b99-a3c3-2e92a48cf208\"}",
       "_model_name": "DOMWidgetModel",
       "_new_url": "",
       "_view_module": "graphWidget",
       "_view_module_version": "",
       "_view_name": "GraphView",
       "layout": "IPY_MODEL_c95afb85cde34241b1dd4bb71c84a18a"
      }
     },
     "9406dfa6a3a045c98f2b934436a0140f": {
      "model_module": "@jupyter-widgets/base",
      "model_module_version": "1.0.0",
      "model_name": "LayoutModel",
      "state": {}
     },
     "9419039eb8324cf9bd1ab5bb8d1a9afa": {
      "model_module": "@jupyter-widgets/controls",
      "model_module_version": "1.2.0",
      "model_name": "DropdownModel",
      "state": {
       "_options_labels": [
        "Chicago",
        "Springfield",
        "Urbana-Champaign"
       ],
       "description": "Campus:",
       "index": 2,
       "layout": "IPY_MODEL_5afc0208e8054333964955d2aa2e7120",
       "style": "IPY_MODEL_246b4535e6ef44e099c8dff90a96fd18"
      }
     },
     "9463b724864c42d7be7d7bf0c925ea3e": {
      "model_module": "@jupyter-widgets/controls",
      "model_module_version": "1.2.0",
      "model_name": "HBoxModel",
      "state": {
       "children": [
        "IPY_MODEL_eb6c1fa711814461aee8ca048bf3525b",
        "IPY_MODEL_bd4411aa173346b786b1c47cc447d777",
        "IPY_MODEL_31de55eddbd94d64b11323f8badd318f"
       ],
       "layout": "IPY_MODEL_5375a7672bf74804b85aaf8877383c44"
      }
     },
     "9492802860b7446db9124816988ca671": {
      "model_module": "@jupyter-widgets/base",
      "model_module_version": "1.0.0",
      "model_name": "DOMWidgetModel",
      "state": {
       "_graph_url": "https://plot.ly/~wangqiwen/8/salary-range-of-faculty-in-information-sciences-computer-science/",
       "_message": "",
       "_model_name": "DOMWidgetModel",
       "_new_url": "",
       "_view_module": "graphWidget",
       "_view_module_version": "",
       "_view_name": "GraphView",
       "layout": "IPY_MODEL_b742ec33cff84969b573474392a8f717"
      }
     },
     "94bed05cf03b491da27604690083b390": {
      "model_module": "@jupyter-widgets/controls",
      "model_module_version": "1.2.0",
      "model_name": "SliderStyleModel",
      "state": {
       "description_width": ""
      }
     },
     "94dc8579128542b4899007e88049afc3": {
      "model_module": "@jupyter-widgets/base",
      "model_module_version": "1.0.0",
      "model_name": "DOMWidgetModel",
      "state": {
       "_graph_url": "https://plot.ly/~wangqiwen/14",
       "_message": "",
       "_model_name": "DOMWidgetModel",
       "_new_url": "",
       "_view_module": "graphWidget",
       "_view_module_version": "",
       "_view_name": "GraphView",
       "layout": "IPY_MODEL_ac50c5b411cc4022ae8a954668e16f3e"
      }
     },
     "94efbbe8901c4b14a6b07ddc0ecbd51c": {
      "model_module": "@jupyter-widgets/controls",
      "model_module_version": "1.2.0",
      "model_name": "HBoxModel",
      "state": {
       "children": [
        "IPY_MODEL_42c58ac537124fc2b7d8c42c6451a7fb",
        "IPY_MODEL_f3b670211fb54f55824e6a3fa3e7a501",
        "IPY_MODEL_082c038abb8f4568b9f385282bedf425"
       ],
       "layout": "IPY_MODEL_4ae050f69a6140858e251e1f24d7aa67"
      }
     },
     "955d4d8457de4c6c96eda22680d26749": {
      "model_module": "@jupyter-widgets/controls",
      "model_module_version": "1.2.0",
      "model_name": "DropdownModel",
      "state": {
       "_options_labels": [
        "Chicago",
        "Springfield",
        "Urbana-Champaign"
       ],
       "description": "Campus:",
       "index": 2,
       "layout": "IPY_MODEL_ea4b329a51d7480da6184d2877e98c56",
       "style": "IPY_MODEL_edda17575ae14fe5b866dbeddb123406"
      }
     },
     "95c1189595634e418f74e7fd69ca9b51": {
      "model_module": "@jupyter-widgets/base",
      "model_module_version": "1.0.0",
      "model_name": "LayoutModel",
      "state": {}
     },
     "95d1cb5b2f11473db5fd199d3729984e": {
      "model_module": "@jupyter-widgets/controls",
      "model_module_version": "1.2.0",
      "model_name": "HBoxModel",
      "state": {
       "children": [
        "IPY_MODEL_496951ca0b464f56906855f697b9ec52",
        "IPY_MODEL_7abe88ed1341479ea25bf05930cc5d86",
        "IPY_MODEL_1d6a03a531ba40c6a4f0acabe5db71d4"
       ],
       "layout": "IPY_MODEL_9e6cd97e1109453b97de2ce90e2fba47"
      }
     },
     "95d2fbecc5ca4a85a885f978480bca67": {
      "model_module": "@jupyter-widgets/controls",
      "model_module_version": "1.2.0",
      "model_name": "HBoxModel",
      "state": {
       "children": [
        "IPY_MODEL_68f0521b3c26474fa8fabded06f9d210",
        "IPY_MODEL_42524e1eb9af4ea6a2953af4ee1f717e",
        "IPY_MODEL_4a871288ed1f40f5bb5b3a98eecee2f7"
       ],
       "layout": "IPY_MODEL_4ac93970cbf747b683cd7ef93a6ccc65"
      }
     },
     "95fe66a29d834b44a76eb43a9e129dad": {
      "model_module": "@jupyter-widgets/controls",
      "model_module_version": "1.2.0",
      "model_name": "HBoxModel",
      "state": {
       "children": [
        "IPY_MODEL_cd93ce18962a492391cc90ff0f0b5bd8",
        "IPY_MODEL_332a52e1fea94207ba87e7bb0d4d65c0",
        "IPY_MODEL_5fa360a34b4046418fdc4a65df1924be"
       ],
       "layout": "IPY_MODEL_bf982535f7f14d4e9157dcacb5effb48"
      }
     },
     "963fe341c33d4ce3b29c282217304595": {
      "model_module": "@jupyter-widgets/base",
      "model_module_version": "1.0.0",
      "model_name": "LayoutModel",
      "state": {}
     },
     "96463d8e351143e28f1e9ca6f8efed2b": {
      "model_module": "@jupyter-widgets/controls",
      "model_module_version": "1.2.0",
      "model_name": "HBoxModel",
      "state": {
       "children": [
        "IPY_MODEL_2aa6049dce604552b17394f2471aca98",
        "IPY_MODEL_14161fe6173946b49d53b98d6c13bf24",
        "IPY_MODEL_2a9567a8c44946d090d93a8867d5b3e4"
       ],
       "layout": "IPY_MODEL_881bfa7339e84381b14796dd2eca7e08"
      }
     },
     "967af2d6de024833ad55e0438b5ac092": {
      "model_module": "@jupyter-widgets/controls",
      "model_module_version": "1.2.0",
      "model_name": "DescriptionStyleModel",
      "state": {
       "description_width": ""
      }
     },
     "96c95021c5424c3b9d43a1cfa48835f3": {
      "model_module": "@jupyter-widgets/base",
      "model_module_version": "1.0.0",
      "model_name": "LayoutModel",
      "state": {}
     },
     "96d6a2181da24b63a2b07348d5f500f1": {
      "model_module": "@jupyter-widgets/controls",
      "model_module_version": "1.2.0",
      "model_name": "TextModel",
      "state": {
       "description": "Department:   ",
       "layout": "IPY_MODEL_2425e3a1b1b34e0386c272db23895d4b",
       "style": "IPY_MODEL_15c68bc76d66496cb8fd2772bda6496e",
       "value": "Mathematics"
      }
     },
     "96e496846e2c467ebbcb477b19d330f2": {
      "model_module": "@jupyter-widgets/controls",
      "model_module_version": "1.2.0",
      "model_name": "IntSliderModel",
      "state": {
       "continuous_update": false,
       "description": "Year:",
       "layout": "IPY_MODEL_1f4637755b6547eaa6e35f4ea7e266f7",
       "max": 2017,
       "min": 2013,
       "style": "IPY_MODEL_88648e2a5a8b4448a72406d6d1d236ec",
       "value": 2017
      }
     },
     "96fc37c4d5c846c2b2f3ce7734759c55": {
      "model_module": "@jupyter-widgets/controls",
      "model_module_version": "1.2.0",
      "model_name": "HBoxModel",
      "state": {
       "children": [
        "IPY_MODEL_1b850997d91c48549c0896559edfce47",
        "IPY_MODEL_88555217fc3b42d8a2749764b3ab2334",
        "IPY_MODEL_719fd26a3f3e40c0803ae0c0fb2cc91d"
       ],
       "layout": "IPY_MODEL_daef8aaae4544173af9457c5865346af"
      }
     },
     "970a57685e8846d8a2f579794a0e3042": {
      "model_module": "@jupyter-widgets/base",
      "model_module_version": "1.0.0",
      "model_name": "LayoutModel",
      "state": {}
     },
     "97229b5693eb407194272f9ed7efe11e": {
      "model_module": "@jupyter-widgets/base",
      "model_module_version": "1.0.0",
      "model_name": "DOMWidgetModel",
      "state": {
       "_graph_url": "https://plot.ly/~wangqiwen/8/salary-range-of-faculty-in-mathematics-information-sciences/",
       "_message": "{\"task\": \"relayout\", \"update\": {\"title\": \"Salary Range of Faculty in History & Information Sciences\", \"xaxis\": {\"title\": \"Salary\"}, \"yaxis\": {\"title\": \"Percentage of Faculty\"}, \"bargap\": 0.2, \"bargroupgap\": 0.1}, \"graphId\": \"f0d5093a-f56a-4e00-9414-88a6fcac5c6d\", \"uid\": \"4b6d90c1-92fc-4514-807a-fe7b42d4c639\"}",
       "_model_name": "DOMWidgetModel",
       "_new_url": "",
       "_view_module": "graphWidget",
       "_view_module_version": "",
       "_view_name": "GraphView",
       "layout": "IPY_MODEL_059b91af16c84d7f961f3985ef0b465c"
      }
     },
     "976020f1b5f14e6f9c01fc2790a30aee": {
      "model_module": "@jupyter-widgets/base",
      "model_module_version": "1.0.0",
      "model_name": "DOMWidgetModel",
      "state": {
       "_graph_url": "https://plot.ly/~wangqiwen/8/salary-range-of-faculty-in-information-sciences-computer-science/",
       "_message": "",
       "_model_name": "DOMWidgetModel",
       "_new_url": "",
       "_view_module": "graphWidget",
       "_view_module_version": "",
       "_view_name": "GraphView",
       "layout": "IPY_MODEL_e5b74c6d3a954ca097b6a12c3568a887"
      }
     },
     "97838a5c3f9e4a21810e0d888577aec2": {
      "model_module": "@jupyter-widgets/controls",
      "model_module_version": "1.2.0",
      "model_name": "IntSliderModel",
      "state": {
       "continuous_update": false,
       "description": "Year:",
       "layout": "IPY_MODEL_9efff1172c7d42c1babeb513be9a6b6f",
       "max": 2017,
       "min": 2013,
       "style": "IPY_MODEL_645588129d5a415d9635ff0e4cbeeb27",
       "value": 2017
      }
     },
     "97a16658020e4f33afaef115f7322f09": {
      "model_module": "@jupyter-widgets/controls",
      "model_module_version": "1.2.0",
      "model_name": "HBoxModel",
      "state": {
       "children": [
        "IPY_MODEL_a1cd3eaf83bc4df898c6c110428b2ae0",
        "IPY_MODEL_5bc04d5f664a4182ab46ef900e2a3a62",
        "IPY_MODEL_808e2d862a664b1aa91ac339d37119bb"
       ],
       "layout": "IPY_MODEL_3bb1dc44c61949a2960a919af11633f6"
      }
     },
     "97a6bf594e40483aa245060db1f1a32d": {
      "model_module": "@jupyter-widgets/base",
      "model_module_version": "1.0.0",
      "model_name": "LayoutModel",
      "state": {}
     },
     "97cf75fb4d6f474f8ceaf0ec563456e6": {
      "model_module": "@jupyter-widgets/base",
      "model_module_version": "1.0.0",
      "model_name": "DOMWidgetModel",
      "state": {
       "_graph_url": "https://plot.ly/~wangqiwen/20/median-salary-median-salary-median-salary/",
       "_message": "",
       "_model_name": "DOMWidgetModel",
       "_new_url": "",
       "_view_module": "graphWidget",
       "_view_module_version": "",
       "_view_name": "GraphView",
       "layout": "IPY_MODEL_79823d4eb4c34e66b78ffd5f35fd6dbc"
      }
     },
     "97d307de243f49f98f6e701583132a26": {
      "model_module": "@jupyter-widgets/controls",
      "model_module_version": "1.2.0",
      "model_name": "TextModel",
      "state": {
       "description": "Department:   ",
       "layout": "IPY_MODEL_54df09e07e0d40f8b86f6739b10e6506",
       "style": "IPY_MODEL_2725a364fef44cec8bc1331aadde98f7",
       "value": "Mathematics"
      }
     },
     "97f86a7ed83d4f92b223ccc687965277": {
      "model_module": "@jupyter-widgets/base",
      "model_module_version": "1.0.0",
      "model_name": "LayoutModel",
      "state": {}
     },
     "989c25c277f741a5879b19bfc91d8513": {
      "model_module": "@jupyter-widgets/base",
      "model_module_version": "1.0.0",
      "model_name": "LayoutModel",
      "state": {}
     },
     "98b9a62b26bf40bc825f920f19243646": {
      "model_module": "@jupyter-widgets/base",
      "model_module_version": "1.0.0",
      "model_name": "DOMWidgetModel",
      "state": {
       "_graph_url": "https://plot.ly/~wangqiwen/8/salary-range-of-faculty-in-mathematics-information-sciences/",
       "_message": "{\"task\": \"relayout\", \"update\": {\"title\": \"Salary Range of Faculty in Mathematics & History\", \"xaxis\": {\"title\": \"Salary\"}, \"yaxis\": {\"title\": \"Percentage of Faculty\"}, \"bargap\": 0.2, \"bargroupgap\": 0.1}, \"graphId\": \"a274d75d-26c8-4ecf-b6f9-c3d5d8a5d207\", \"uid\": \"a4b29cf7-9998-473d-9862-07711e0aaa70\"}",
       "_model_name": "DOMWidgetModel",
       "_new_url": "",
       "_view_module": "graphWidget",
       "_view_module_version": "",
       "_view_name": "GraphView",
       "layout": "IPY_MODEL_043d54277a87400eb082b9917c211ab6"
      }
     },
     "98c539ea889e406d9c7160f3899f2407": {
      "model_module": "@jupyter-widgets/base",
      "model_module_version": "1.0.0",
      "model_name": "LayoutModel",
      "state": {}
     },
     "98ea42cf41c840498499635fceb4142a": {
      "model_module": "@jupyter-widgets/base",
      "model_module_version": "1.0.0",
      "model_name": "LayoutModel",
      "state": {}
     },
     "991cbb7a43aa4bfcba56ed8e40bc5c32": {
      "model_module": "@jupyter-widgets/base",
      "model_module_version": "1.0.0",
      "model_name": "LayoutModel",
      "state": {}
     },
     "992643fcf2ee4818af469c4647abc9e7": {
      "model_module": "@jupyter-widgets/controls",
      "model_module_version": "1.2.0",
      "model_name": "SliderStyleModel",
      "state": {
       "description_width": ""
      }
     },
     "995a6cb41e1f4f45a87023c21ec23d71": {
      "model_module": "@jupyter-widgets/base",
      "model_module_version": "1.0.0",
      "model_name": "LayoutModel",
      "state": {}
     },
     "997694a1962c4cdf8f2dffac3f3c62be": {
      "model_module": "@jupyter-widgets/base",
      "model_module_version": "1.0.0",
      "model_name": "DOMWidgetModel",
      "state": {
       "_graph_url": "https://plot.ly/~wangqiwen/24",
       "_message": "",
       "_model_name": "DOMWidgetModel",
       "_new_url": "",
       "_view_module": "graphWidget",
       "_view_module_version": "",
       "_view_name": "GraphView",
       "layout": "IPY_MODEL_32c801b6efd44e97964e29df375a0926"
      }
     },
     "9a10e017d7dc47529795dbb93088bfa9": {
      "model_module": "@jupyter-widgets/controls",
      "model_module_version": "1.2.0",
      "model_name": "DescriptionStyleModel",
      "state": {
       "description_width": ""
      }
     },
     "9a2d888cb0c34b6d80de1753f1558a55": {
      "model_module": "@jupyter-widgets/controls",
      "model_module_version": "1.2.0",
      "model_name": "TextModel",
      "state": {
       "description": "Department:   ",
       "layout": "IPY_MODEL_88a634f2ff074e4ab4479c39e5bf0268",
       "style": "IPY_MODEL_32e41095203c407baa6758832b617f6c"
      }
     },
     "9a3445fe50e84582a570b9a16a8eab96": {
      "model_module": "@jupyter-widgets/controls",
      "model_module_version": "1.2.0",
      "model_name": "DescriptionStyleModel",
      "state": {
       "description_width": ""
      }
     },
     "9a61717dcd7843da88955e217ae31b27": {
      "model_module": "@jupyter-widgets/controls",
      "model_module_version": "1.2.0",
      "model_name": "DescriptionStyleModel",
      "state": {
       "description_width": ""
      }
     },
     "9ae2922d4e444ad0aa08cc09ddcd4a98": {
      "model_module": "@jupyter-widgets/controls",
      "model_module_version": "1.2.0",
      "model_name": "DescriptionStyleModel",
      "state": {
       "description_width": ""
      }
     },
     "9b15a3fcf1b44c65ac1cd7995f3a2c2f": {
      "model_module": "@jupyter-widgets/controls",
      "model_module_version": "1.2.0",
      "model_name": "HBoxModel",
      "state": {
       "children": [
        "IPY_MODEL_b272050fb6914af2a8d7858067e6565f",
        "IPY_MODEL_f59634cd505a455787da040a7f78238e",
        "IPY_MODEL_23c6c2c78cfc49b4b6632551d9fe7222"
       ],
       "layout": "IPY_MODEL_8addeb5577044862a55c18dd193d5cb3"
      }
     },
     "9b1e615b55954ff48287beaf001c14e8": {
      "model_module": "@jupyter-widgets/controls",
      "model_module_version": "1.2.0",
      "model_name": "DescriptionStyleModel",
      "state": {
       "description_width": ""
      }
     },
     "9b4ff1663f354a9a91a0dbada7b40c6b": {
      "model_module": "@jupyter-widgets/base",
      "model_module_version": "1.0.0",
      "model_name": "LayoutModel",
      "state": {}
     },
     "9b88ac1006f84b24a9d5fdfb8c9dafa3": {
      "model_module": "@jupyter-widgets/base",
      "model_module_version": "1.0.0",
      "model_name": "LayoutModel",
      "state": {}
     },
     "9bb00f4936a64cc89436e2100a98fc00": {
      "model_module": "@jupyter-widgets/controls",
      "model_module_version": "1.2.0",
      "model_name": "IntTextModel",
      "state": {
       "description": "Top X:",
       "layout": "IPY_MODEL_c7f7b4a50e2b4a58a204cabe1c21e4ad",
       "step": 1,
       "style": "IPY_MODEL_7f2338ac6e164e8c9675fcba12bcbbbb",
       "value": 10
      }
     },
     "9c2a901cbb504e55bcd73e504540d56a": {
      "model_module": "@jupyter-widgets/base",
      "model_module_version": "1.0.0",
      "model_name": "LayoutModel",
      "state": {}
     },
     "9c30b64a397f42ca857be93ab3fe3ff8": {
      "model_module": "@jupyter-widgets/base",
      "model_module_version": "1.0.0",
      "model_name": "LayoutModel",
      "state": {}
     },
     "9cda6fbf829d44f09fe82fd5fdce5fa3": {
      "model_module": "@jupyter-widgets/controls",
      "model_module_version": "1.2.0",
      "model_name": "HBoxModel",
      "state": {
       "children": [
        "IPY_MODEL_cd93ce18962a492391cc90ff0f0b5bd8",
        "IPY_MODEL_332a52e1fea94207ba87e7bb0d4d65c0",
        "IPY_MODEL_5fa360a34b4046418fdc4a65df1924be"
       ],
       "layout": "IPY_MODEL_c5fc2c3878b84c2e88f9da455f6dd98a"
      }
     },
     "9d0e107b8c2d4a4eba1de7a333c77299": {
      "model_module": "@jupyter-widgets/controls",
      "model_module_version": "1.2.0",
      "model_name": "DescriptionStyleModel",
      "state": {
       "description_width": ""
      }
     },
     "9d15e11f5b9c4750a5cf29b7e7affc77": {
      "model_module": "@jupyter-widgets/controls",
      "model_module_version": "1.2.0",
      "model_name": "TabModel",
      "state": {
       "_titles": {
        "0": "Department 1",
        "1": "Department 2",
        "2": "Department 3",
        "3": "Department 4",
        "4": "Department 5"
       },
       "children": [
        "IPY_MODEL_97a16658020e4f33afaef115f7322f09",
        "IPY_MODEL_ac978c1bbf2d462ba967a7f9dc1339ed",
        "IPY_MODEL_8a282bd993e34399a6569521e5b2dc6d",
        "IPY_MODEL_cf2afad82f804310b99b5a5ffd8b01c2",
        "IPY_MODEL_565979d6203f4f5f87e09107514bfc2f"
       ],
       "layout": "IPY_MODEL_8bdd0137e68d42bb97ce0bdd40ae656a"
      }
     },
     "9d2c1e57a48c4f089f42725e39cbfd2f": {
      "model_module": "@jupyter-widgets/base",
      "model_module_version": "1.0.0",
      "model_name": "LayoutModel",
      "state": {}
     },
     "9d64783b20cc425082822d0f17f022a2": {
      "model_module": "@jupyter-widgets/base",
      "model_module_version": "1.0.0",
      "model_name": "LayoutModel",
      "state": {}
     },
     "9d75dbedde9c436c9036ea7eed6234a6": {
      "model_module": "@jupyter-widgets/base",
      "model_module_version": "1.0.0",
      "model_name": "LayoutModel",
      "state": {}
     },
     "9d9cd214406b47e89b1bac95792b689c": {
      "model_module": "@jupyter-widgets/controls",
      "model_module_version": "1.2.0",
      "model_name": "DescriptionStyleModel",
      "state": {
       "description_width": ""
      }
     },
     "9e6cd97e1109453b97de2ce90e2fba47": {
      "model_module": "@jupyter-widgets/base",
      "model_module_version": "1.0.0",
      "model_name": "LayoutModel",
      "state": {}
     },
     "9ec8afe075374d4eaddf0a5c4d66b5e2": {
      "model_module": "@jupyter-widgets/base",
      "model_module_version": "1.0.0",
      "model_name": "LayoutModel",
      "state": {}
     },
     "9ec8f5257b534c0c903f1f34df851e24": {
      "model_module": "@jupyter-widgets/controls",
      "model_module_version": "1.2.0",
      "model_name": "SliderStyleModel",
      "state": {
       "description_width": ""
      }
     },
     "9ed4bb1327f04b4d8d725d96e1afeb0d": {
      "model_module": "@jupyter-widgets/controls",
      "model_module_version": "1.2.0",
      "model_name": "TextModel",
      "state": {
       "description": "Department:   ",
       "layout": "IPY_MODEL_dcf5501bd3cd4596a8b213f980cc0e36",
       "style": "IPY_MODEL_50f5d7cb8c83453d8a816a76df2a509b"
      }
     },
     "9efff1172c7d42c1babeb513be9a6b6f": {
      "model_module": "@jupyter-widgets/base",
      "model_module_version": "1.0.0",
      "model_name": "LayoutModel",
      "state": {}
     },
     "9f09ee6d3b2a4811a765602c47637d1d": {
      "model_module": "@jupyter-widgets/base",
      "model_module_version": "1.0.0",
      "model_name": "LayoutModel",
      "state": {}
     },
     "9f0e02e9ce2248b7a7b01151ff3c4142": {
      "model_module": "@jupyter-widgets/controls",
      "model_module_version": "1.2.0",
      "model_name": "IntSliderModel",
      "state": {
       "continuous_update": false,
       "description": "Year:",
       "layout": "IPY_MODEL_841f1ce6301247bbbba69a467ef1fc65",
       "max": 2017,
       "min": 2013,
       "style": "IPY_MODEL_03412b0ff48a40c093f4850e4438a4df",
       "value": 2017
      }
     },
     "9f1a442a75054258abf39b8bdee46867": {
      "model_module": "@jupyter-widgets/base",
      "model_module_version": "1.0.0",
      "model_name": "LayoutModel",
      "state": {}
     },
     "9f4b308b63a2414d8c5c39c9886341b1": {
      "model_module": "@jupyter-widgets/controls",
      "model_module_version": "1.2.0",
      "model_name": "IntTextModel",
      "state": {
       "description": "Top X:",
       "layout": "IPY_MODEL_2361261f8dfb4041937f0f7ad3d2ae28",
       "step": 1,
       "style": "IPY_MODEL_0082ef222a4a49caa106fe856cb523ba",
       "value": 25
      }
     },
     "9f58b04ac5994e79ab95211b21e8736a": {
      "model_module": "@jupyter-widgets/base",
      "model_module_version": "1.0.0",
      "model_name": "LayoutModel",
      "state": {}
     },
     "9f63efc24b7b43dfbed31c2a0dea0aa9": {
      "model_module": "@jupyter-widgets/controls",
      "model_module_version": "1.2.0",
      "model_name": "TextModel",
      "state": {
       "description": "Department:   ",
       "layout": "IPY_MODEL_3bbcea6e86e74812b467604f8b692009",
       "style": "IPY_MODEL_5a1386a60b0643d3816ba5ca2afb57f6",
       "value": "Mathematics"
      }
     },
     "9f70778a4e2d4cf5aa980d4e76f0959e": {
      "model_module": "@jupyter-widgets/controls",
      "model_module_version": "1.2.0",
      "model_name": "DescriptionStyleModel",
      "state": {
       "description_width": ""
      }
     },
     "9f8fa2ae842f43578849775f3a70bdf2": {
      "model_module": "@jupyter-widgets/controls",
      "model_module_version": "1.2.0",
      "model_name": "DescriptionStyleModel",
      "state": {
       "description_width": ""
      }
     },
     "9ff12a6b54194302bce24845ced19b84": {
      "model_module": "@jupyter-widgets/controls",
      "model_module_version": "1.2.0",
      "model_name": "SliderStyleModel",
      "state": {
       "description_width": ""
      }
     },
     "a061ff454ab44a7ba0bc7ca9d6ba8934": {
      "model_module": "@jupyter-widgets/base",
      "model_module_version": "1.0.0",
      "model_name": "LayoutModel",
      "state": {}
     },
     "a07b6630d02c449f833e40d5b77575bc": {
      "model_module": "@jupyter-widgets/controls",
      "model_module_version": "1.2.0",
      "model_name": "HBoxModel",
      "state": {
       "children": [
        "IPY_MODEL_35001eb446804948a034fd5307cbc1cf",
        "IPY_MODEL_d24d76edcee24faf976f301f886cd6ae",
        "IPY_MODEL_deb6d956a29b425ba7c64665ffac7b27"
       ],
       "layout": "IPY_MODEL_370786bc63f24125b9b37a44cbd51cd1"
      }
     },
     "a0db5ac0b4f24a6980a684e0aeee5d7f": {
      "model_module": "@jupyter-widgets/base",
      "model_module_version": "1.0.0",
      "model_name": "LayoutModel",
      "state": {}
     },
     "a0e03321448d4ba8b93952f69585d44d": {
      "model_module": "@jupyter-widgets/base",
      "model_module_version": "1.0.0",
      "model_name": "LayoutModel",
      "state": {}
     },
     "a11c18e4bda84c40b02bfd5e0b033037": {
      "model_module": "@jupyter-widgets/controls",
      "model_module_version": "1.2.0",
      "model_name": "IntSliderModel",
      "state": {
       "continuous_update": false,
       "description": "Year:",
       "layout": "IPY_MODEL_94002666ce8942e99ba250791fd72b67",
       "max": 2017,
       "min": 2013,
       "style": "IPY_MODEL_a8185c8c08994a5e9ec657159ace40b3",
       "value": 2014
      }
     },
     "a11cda36abd54dd8a0255cf851d61bdb": {
      "model_module": "@jupyter-widgets/controls",
      "model_module_version": "1.2.0",
      "model_name": "IntSliderModel",
      "state": {
       "continuous_update": false,
       "description": "Year:",
       "layout": "IPY_MODEL_854d3b686a504380b0969de36d80dc07",
       "max": 2017,
       "min": 2013,
       "style": "IPY_MODEL_597e62b2cf994798b4b17b3509290c41",
       "value": 2017
      }
     },
     "a13e5247f7b245429f2ff134804c53a9": {
      "model_module": "@jupyter-widgets/base",
      "model_module_version": "1.0.0",
      "model_name": "LayoutModel",
      "state": {}
     },
     "a1433d13517444c182210ec5c5785b70": {
      "model_module": "@jupyter-widgets/controls",
      "model_module_version": "1.2.0",
      "model_name": "TextModel",
      "state": {
       "description": "Department:   ",
       "layout": "IPY_MODEL_fdf65f16fee74616a47a373631355d31",
       "style": "IPY_MODEL_a295b3d53206494da34fb5e74dc45f39",
       "value": "Computer Science"
      }
     },
     "a14c6fd8e0474c1fb2a6520a444c64bc": {
      "model_module": "@jupyter-widgets/base",
      "model_module_version": "1.0.0",
      "model_name": "LayoutModel",
      "state": {}
     },
     "a165dea3def24d9392470beab0ec16b2": {
      "model_module": "@jupyter-widgets/controls",
      "model_module_version": "1.2.0",
      "model_name": "DropdownModel",
      "state": {
       "_options_labels": [
        "Chicago",
        "Springfield",
        "Urbana-Champaign"
       ],
       "description": "Campus:",
       "index": 2,
       "layout": "IPY_MODEL_12993267781345ceaa2cc523700f83b4",
       "style": "IPY_MODEL_4fd971fbb8b74ad1980a0da0e0562f82"
      }
     },
     "a181d08f7925474a9011b1410ba6884d": {
      "model_module": "@jupyter-widgets/controls",
      "model_module_version": "1.2.0",
      "model_name": "DescriptionStyleModel",
      "state": {
       "description_width": ""
      }
     },
     "a18481c77c374835bb210de86eb8edd5": {
      "model_module": "@jupyter-widgets/controls",
      "model_module_version": "1.2.0",
      "model_name": "IntSliderModel",
      "state": {
       "continuous_update": false,
       "description": "Year:",
       "layout": "IPY_MODEL_f6631c511f88443783fc2ffe6d03ca09",
       "max": 2017,
       "min": 2013,
       "style": "IPY_MODEL_378f5b5cd682486a8ad424fdb8206ec9",
       "value": 2017
      }
     },
     "a1a23c33519442c19ac0a769b4aeef46": {
      "model_module": "@jupyter-widgets/controls",
      "model_module_version": "1.2.0",
      "model_name": "IntSliderModel",
      "state": {
       "continuous_update": false,
       "description": "Year:",
       "layout": "IPY_MODEL_27a36171178d4d549a1fbb7e5b16cb0d",
       "max": 2017,
       "min": 2013,
       "style": "IPY_MODEL_b8710bbbb21f4371b8466249d30ac7d2",
       "value": 2017
      }
     },
     "a1cd3eaf83bc4df898c6c110428b2ae0": {
      "model_module": "@jupyter-widgets/controls",
      "model_module_version": "1.2.0",
      "model_name": "DropdownModel",
      "state": {
       "_options_labels": [
        "Chicago",
        "Springfield",
        "Urbana-Champaign"
       ],
       "description": "Campus:",
       "index": 2,
       "layout": "IPY_MODEL_f8458847db0d47d8ad07f137dabe7e79",
       "style": "IPY_MODEL_9b1e615b55954ff48287beaf001c14e8"
      }
     },
     "a25cc774f6a547ff8187fc1c773bb0c3": {
      "model_module": "@jupyter-widgets/controls",
      "model_module_version": "1.2.0",
      "model_name": "HBoxModel",
      "state": {
       "children": [
        "IPY_MODEL_ac6c2730d1744287862fe64c0c374176",
        "IPY_MODEL_2c2ec677f4314103ac6552fdc4cb436b",
        "IPY_MODEL_41bff817148f4cdcb71a1fdd3f9a7180"
       ],
       "layout": "IPY_MODEL_ebaa8c4801d24d1e9a49841134cd15eb"
      }
     },
     "a2890973db67433f9713bcd357f9aff1": {
      "model_module": "@jupyter-widgets/base",
      "model_module_version": "1.0.0",
      "model_name": "LayoutModel",
      "state": {}
     },
     "a295b3d53206494da34fb5e74dc45f39": {
      "model_module": "@jupyter-widgets/controls",
      "model_module_version": "1.2.0",
      "model_name": "DescriptionStyleModel",
      "state": {
       "description_width": ""
      }
     },
     "a2be83da54a94b9b9774e659d883b825": {
      "model_module": "@jupyter-widgets/controls",
      "model_module_version": "1.2.0",
      "model_name": "DescriptionStyleModel",
      "state": {
       "description_width": ""
      }
     },
     "a2d8000a8466425bac200f26280eb996": {
      "model_module": "@jupyter-widgets/controls",
      "model_module_version": "1.2.0",
      "model_name": "DescriptionStyleModel",
      "state": {
       "description_width": ""
      }
     },
     "a2df6910b66248b3a45187d0c3655b15": {
      "model_module": "@jupyter-widgets/base",
      "model_module_version": "1.0.0",
      "model_name": "LayoutModel",
      "state": {}
     },
     "a315a18c993b443db7ee0e76dab869f8": {
      "model_module": "@jupyter-widgets/controls",
      "model_module_version": "1.2.0",
      "model_name": "DescriptionStyleModel",
      "state": {
       "description_width": ""
      }
     },
     "a3b361944421455aa0c425ab66154f51": {
      "model_module": "@jupyter-widgets/base",
      "model_module_version": "1.0.0",
      "model_name": "DOMWidgetModel",
      "state": {
       "_graph_url": "https://plot.ly/~wangqiwen/20/median-salary-median-salary-median-salary/",
       "_message": "{\"task\": \"relayout\", \"update\": [\"2017 Median Salary of ASSOC PROF in Urbana-Champaign\", \"2017 Median Salary of ASSOC PROF in Chicago\", \"2017 Median Salary of ASSOC PROF in Springfield\"], \"graphId\": \"15c4bdb3-9764-4383-9034-b315f1e84f83\", \"uid\": \"35370d3c-fccf-4fe9-9aa3-314dc56c7b23\"}",
       "_model_name": "DOMWidgetModel",
       "_new_url": "",
       "_view_module": "graphWidget",
       "_view_module_version": "",
       "_view_name": "GraphView",
       "layout": "IPY_MODEL_8db2d6c84f7a4b81a06aaff313d1dc8b"
      }
     },
     "a3cf71a895ba4a9bb8ffd4cdba515681": {
      "model_module": "@jupyter-widgets/base",
      "model_module_version": "1.0.0",
      "model_name": "LayoutModel",
      "state": {}
     },
     "a4022548b17f45dfaf6b94ed96f37fdb": {
      "model_module": "@jupyter-widgets/controls",
      "model_module_version": "1.2.0",
      "model_name": "SliderStyleModel",
      "state": {
       "description_width": ""
      }
     },
     "a4397fd6e8734758a11c83808eec9465": {
      "model_module": "@jupyter-widgets/base",
      "model_module_version": "1.0.0",
      "model_name": "LayoutModel",
      "state": {}
     },
     "a4579ba932bf4f709fd02a5474250bce": {
      "model_module": "@jupyter-widgets/base",
      "model_module_version": "1.0.0",
      "model_name": "LayoutModel",
      "state": {}
     },
     "a466e5a7c6d64a4b8079b415db8fa0cc": {
      "model_module": "@jupyter-widgets/controls",
      "model_module_version": "1.2.0",
      "model_name": "HBoxModel",
      "state": {
       "children": [
        "IPY_MODEL_e10532de7f34420e8f309eb1dbb15ae3",
        "IPY_MODEL_5de3d5b4029f448bb8db721a1a2afbab",
        "IPY_MODEL_31dabedb29b54745a143073ede3cdf7f"
       ],
       "layout": "IPY_MODEL_d4f9c2ffa90a45d8acb59dd59f1f2e26"
      }
     },
     "a469ad46c08945738da0afffd61320ef": {
      "model_module": "@jupyter-widgets/controls",
      "model_module_version": "1.2.0",
      "model_name": "TextModel",
      "state": {
       "description": "Department:   ",
       "layout": "IPY_MODEL_2bf31aa522fe48ae93c478b29fd9299f",
       "style": "IPY_MODEL_ebc69e1a01014499948b4a1d28c2a205"
      }
     },
     "a5610374ef334c6e988fa971da856a4c": {
      "model_module": "@jupyter-widgets/base",
      "model_module_version": "1.0.0",
      "model_name": "LayoutModel",
      "state": {}
     },
     "a56afa370b3b40b6a5e4bc7cb049e66e": {
      "model_module": "@jupyter-widgets/controls",
      "model_module_version": "1.2.0",
      "model_name": "IntTextModel",
      "state": {
       "description": "Top X:",
       "layout": "IPY_MODEL_ffcf1209f8be4f8bb2dabb66618a93a8",
       "step": 1,
       "style": "IPY_MODEL_6b3c7bf319b447778d0ebeef5f4161a9",
       "value": 10
      }
     },
     "a56df960e42c4f1285367b22d33315c2": {
      "model_module": "@jupyter-widgets/base",
      "model_module_version": "1.0.0",
      "model_name": "LayoutModel",
      "state": {}
     },
     "a58d4ae427a74b7e9a9827fd21d6c656": {
      "model_module": "@jupyter-widgets/controls",
      "model_module_version": "1.2.0",
      "model_name": "DescriptionStyleModel",
      "state": {
       "description_width": ""
      }
     },
     "a5a3001a842d44cd9c932c7b79424eac": {
      "model_module": "@jupyter-widgets/controls",
      "model_module_version": "1.2.0",
      "model_name": "DescriptionStyleModel",
      "state": {
       "description_width": ""
      }
     },
     "a6360824c07940e7a39a8ee6d7868387": {
      "model_module": "@jupyter-widgets/base",
      "model_module_version": "1.0.0",
      "model_name": "DOMWidgetModel",
      "state": {
       "_graph_url": "https://plot.ly/~wangqiwen/22",
       "_message": "{\"task\": \"relayout\", \"update\": {\"title\": \"Salary Range of Faculty in Computer Science\", \"xaxis\": {\"title\": \"Salary\"}, \"yaxis\": {\"title\": \"Percentage of Faculty\"}, \"barmode\": \"overlay\"}, \"graphId\": \"f4fb7fe9-5fc1-4d19-bae3-b1bd0fb28e00\", \"uid\": \"e6737d95-f80c-4a22-b59a-e98296db39cb\"}",
       "_model_name": "DOMWidgetModel",
       "_new_url": "",
       "_view_module": "graphWidget",
       "_view_module_version": "",
       "_view_name": "GraphView",
       "layout": "IPY_MODEL_b631c3371f4841a08979e0dd93e1d3a3"
      }
     },
     "a69318147bae432e9161ba5a53149811": {
      "model_module": "@jupyter-widgets/base",
      "model_module_version": "1.0.0",
      "model_name": "LayoutModel",
      "state": {}
     },
     "a69c7a3682b54a72a3bdc1f3d10ecb14": {
      "model_module": "@jupyter-widgets/base",
      "model_module_version": "1.0.0",
      "model_name": "LayoutModel",
      "state": {}
     },
     "a6b308e758294ecc932d4816fede7900": {
      "model_module": "@jupyter-widgets/base",
      "model_module_version": "1.0.0",
      "model_name": "LayoutModel",
      "state": {}
     },
     "a6da7f79e720489180f676e16580c709": {
      "model_module": "@jupyter-widgets/controls",
      "model_module_version": "1.2.0",
      "model_name": "DescriptionStyleModel",
      "state": {
       "description_width": ""
      }
     },
     "a7323e4ba9e24e069330a5fd768e330d": {
      "model_module": "@jupyter-widgets/base",
      "model_module_version": "1.0.0",
      "model_name": "LayoutModel",
      "state": {}
     },
     "a74535868dca4541925251de6622e0c7": {
      "model_module": "@jupyter-widgets/controls",
      "model_module_version": "1.2.0",
      "model_name": "HBoxModel",
      "state": {
       "children": [
        "IPY_MODEL_910e6f20c5f24183ba333c71ee143aaf",
        "IPY_MODEL_2325189e3f0e4c83b9cdb7e7ddb0f582",
        "IPY_MODEL_b613a1f904124bda94fa59d85e4b175f"
       ],
       "layout": "IPY_MODEL_6cc5a565a0c84194ab53cfb8dc1a82ba"
      }
     },
     "a74f6302e7ae45f6883383b27ba5b2e3": {
      "model_module": "@jupyter-widgets/base",
      "model_module_version": "1.0.0",
      "model_name": "LayoutModel",
      "state": {}
     },
     "a75ebf587622480e8cf40750de6be772": {
      "model_module": "@jupyter-widgets/controls",
      "model_module_version": "1.2.0",
      "model_name": "DropdownModel",
      "state": {
       "_options_labels": [
        "Chicago",
        "Springfield",
        "Urbana-Champaign"
       ],
       "description": "Campus:",
       "index": 2,
       "layout": "IPY_MODEL_6d10fa56e9f84f7d94bbcf52bb195a8b",
       "style": "IPY_MODEL_9d9cd214406b47e89b1bac95792b689c"
      }
     },
     "a798ff491cdb4dd3bc6a37b7afd40ca4": {
      "model_module": "@jupyter-widgets/base",
      "model_module_version": "1.0.0",
      "model_name": "LayoutModel",
      "state": {}
     },
     "a7ea595d92dc49e5bd8a5e00dc51f1d4": {
      "model_module": "@jupyter-widgets/controls",
      "model_module_version": "1.2.0",
      "model_name": "IntTextModel",
      "state": {
       "description": "Top X:",
       "layout": "IPY_MODEL_5f833cc44f614441b585111ade47363c",
       "step": 1,
       "style": "IPY_MODEL_09f1676dce7c4a518280b9ab9bbdfe3d",
       "value": 10
      }
     },
     "a7fb3cef58904128b146c53fbf134ef1": {
      "model_module": "@jupyter-widgets/base",
      "model_module_version": "1.0.0",
      "model_name": "LayoutModel",
      "state": {}
     },
     "a8185c8c08994a5e9ec657159ace40b3": {
      "model_module": "@jupyter-widgets/controls",
      "model_module_version": "1.2.0",
      "model_name": "SliderStyleModel",
      "state": {
       "description_width": ""
      }
     },
     "a8f33c54ac344ab5ac4c3e7497ace08c": {
      "model_module": "@jupyter-widgets/controls",
      "model_module_version": "1.2.0",
      "model_name": "SliderStyleModel",
      "state": {
       "description_width": ""
      }
     },
     "a8f3b3e67fda44e68bb13cf6bffc1ffa": {
      "model_module": "@jupyter-widgets/base",
      "model_module_version": "1.0.0",
      "model_name": "LayoutModel",
      "state": {}
     },
     "a8fbbc707378400d817ad8804542360c": {
      "model_module": "@jupyter-widgets/controls",
      "model_module_version": "1.2.0",
      "model_name": "HBoxModel",
      "state": {
       "children": [
        "IPY_MODEL_e10532de7f34420e8f309eb1dbb15ae3",
        "IPY_MODEL_5de3d5b4029f448bb8db721a1a2afbab",
        "IPY_MODEL_31dabedb29b54745a143073ede3cdf7f"
       ],
       "layout": "IPY_MODEL_b002f5df3945420f8b93d991be62410d"
      }
     },
     "a91040c1080d4c41a7174dcef4f97037": {
      "model_module": "@jupyter-widgets/controls",
      "model_module_version": "1.2.0",
      "model_name": "SliderStyleModel",
      "state": {
       "description_width": ""
      }
     },
     "a916e0ab2ebc496cacb8df5ab2ae7f7c": {
      "model_module": "@jupyter-widgets/controls",
      "model_module_version": "1.2.0",
      "model_name": "HBoxModel",
      "state": {
       "children": [
        "IPY_MODEL_6bdd976b00724d0d9c11921d29b0b7a7",
        "IPY_MODEL_87800b428d4c4b969f9e80834cac704a",
        "IPY_MODEL_009791e43abf4f048ef5e7dd55c1ea6a"
       ],
       "layout": "IPY_MODEL_2c5493707a5a48c2b8c1f4cdf9e4a704"
      }
     },
     "a926e63d0f8a46818e90a4c639b8a290": {
      "model_module": "@jupyter-widgets/base",
      "model_module_version": "1.0.0",
      "model_name": "LayoutModel",
      "state": {}
     },
     "a97771d3afab4727a06a88a3591553af": {
      "model_module": "@jupyter-widgets/controls",
      "model_module_version": "1.2.0",
      "model_name": "DescriptionStyleModel",
      "state": {
       "description_width": ""
      }
     },
     "a992865503f34c57b0fb59e0460e894a": {
      "model_module": "@jupyter-widgets/base",
      "model_module_version": "1.0.0",
      "model_name": "LayoutModel",
      "state": {}
     },
     "a9b1d642fb854406829bafa911066cfa": {
      "model_module": "@jupyter-widgets/base",
      "model_module_version": "1.0.0",
      "model_name": "LayoutModel",
      "state": {}
     },
     "a9c608276fc94b2493596f65eeb427f1": {
      "model_module": "@jupyter-widgets/controls",
      "model_module_version": "1.2.0",
      "model_name": "TextModel",
      "state": {
       "description": "Department:   ",
       "layout": "IPY_MODEL_9b4ff1663f354a9a91a0dbada7b40c6b",
       "style": "IPY_MODEL_013e9792d0394688863e07681ed3e57e",
       "value": "Mathematics"
      }
     },
     "aa343311a1b348afb446ce2956808161": {
      "model_module": "@jupyter-widgets/base",
      "model_module_version": "1.0.0",
      "model_name": "LayoutModel",
      "state": {}
     },
     "aa53932e026f4f7d96e33828e8eb81b9": {
      "model_module": "@jupyter-widgets/base",
      "model_module_version": "1.0.0",
      "model_name": "LayoutModel",
      "state": {}
     },
     "aab6105bf04848feaf2710e35e31738b": {
      "model_module": "@jupyter-widgets/controls",
      "model_module_version": "1.2.0",
      "model_name": "TextModel",
      "state": {
       "description": "Department:   ",
       "layout": "IPY_MODEL_98ea42cf41c840498499635fceb4142a",
       "style": "IPY_MODEL_8a0a354776fb4754b8386e4e88af8ea3"
      }
     },
     "aabd2643e5224af285f06025ed43bd7b": {
      "model_module": "@jupyter-widgets/base",
      "model_module_version": "1.0.0",
      "model_name": "DOMWidgetModel",
      "state": {
       "_graph_url": "https://plot.ly/~wangqiwen/20/median-salary-median-salary-median-salary/",
       "_message": "{\"task\": \"restyle\", \"update\": {\"x\": [[]], \"y\": [[]]}, \"graphId\": \"3fba4ebe-239a-496d-b26e-c70f5b1f0a4c\", \"indices\": [2], \"uid\": \"497adc48-79bf-47ab-a9d6-469de906d7be\"}",
       "_model_name": "DOMWidgetModel",
       "_new_url": "",
       "_view_module": "graphWidget",
       "_view_module_version": "",
       "_view_name": "GraphView",
       "layout": "IPY_MODEL_58167cadaaa9466aaf1077289c02e312"
      }
     },
     "aaf5193e98794d50a4953d667872bf5e": {
      "model_module": "@jupyter-widgets/controls",
      "model_module_version": "1.2.0",
      "model_name": "TextModel",
      "state": {
       "description": "Department 1",
       "layout": "IPY_MODEL_10baebc80b094507bd08cccb868864a4",
       "style": "IPY_MODEL_d8f5d12c704b49f6b258838486b5aa51"
      }
     },
     "ab11320bb23747db92d41dfd082002b0": {
      "model_module": "@jupyter-widgets/base",
      "model_module_version": "1.0.0",
      "model_name": "DOMWidgetModel",
      "state": {
       "_graph_url": "https://plot.ly/~wangqiwen/24",
       "_message": "",
       "_model_name": "DOMWidgetModel",
       "_new_url": "",
       "_view_module": "graphWidget",
       "_view_module_version": "",
       "_view_name": "GraphView",
       "layout": "IPY_MODEL_47c23456d78a46fba18143cc858161c0"
      }
     },
     "abc3cfb696774aafb01c8faac55aa148": {
      "model_module": "@jupyter-widgets/controls",
      "model_module_version": "1.2.0",
      "model_name": "HBoxModel",
      "state": {
       "children": [
        "IPY_MODEL_cd93ce18962a492391cc90ff0f0b5bd8",
        "IPY_MODEL_332a52e1fea94207ba87e7bb0d4d65c0",
        "IPY_MODEL_5fa360a34b4046418fdc4a65df1924be"
       ],
       "layout": "IPY_MODEL_afd715dcf34e4470a13939db5a0d6423"
      }
     },
     "abfc7e9aa64a47c2a554bc6f7015c09b": {
      "model_module": "@jupyter-widgets/base",
      "model_module_version": "1.0.0",
      "model_name": "DOMWidgetModel",
      "state": {
       "_graph_url": "https://plot.ly/~wangqiwen/24",
       "_message": "",
       "_model_name": "DOMWidgetModel",
       "_new_url": "",
       "_view_module": "graphWidget",
       "_view_module_version": "",
       "_view_name": "GraphView",
       "layout": "IPY_MODEL_31b0b129e5724e1d94a32524e13dbc2a"
      }
     },
     "ac239bee11c140269c8e9995c4448a90": {
      "model_module": "@jupyter-widgets/controls",
      "model_module_version": "1.2.0",
      "model_name": "IntTextModel",
      "state": {
       "description": "Top X:",
       "layout": "IPY_MODEL_c51968c191fa414583e1872af81932c4",
       "step": 1,
       "style": "IPY_MODEL_f9bb0b2fc46d44568a0d77194c37d2d9",
       "value": 25
      }
     },
     "ac4704dcce2f4d32ac782bcff071531b": {
      "model_module": "@jupyter-widgets/base",
      "model_module_version": "1.0.0",
      "model_name": "LayoutModel",
      "state": {}
     },
     "ac50c5b411cc4022ae8a954668e16f3e": {
      "model_module": "@jupyter-widgets/base",
      "model_module_version": "1.0.0",
      "model_name": "LayoutModel",
      "state": {}
     },
     "ac56e2fa41624e00aafb3b3e0fca04c3": {
      "model_module": "@jupyter-widgets/controls",
      "model_module_version": "1.2.0",
      "model_name": "HBoxModel",
      "state": {
       "children": [
        "IPY_MODEL_28c3cc1b0fbc47f9b347f60d0ded5414",
        "IPY_MODEL_96d6a2181da24b63a2b07348d5f500f1",
        "IPY_MODEL_82f8e8aecaca4695b43ea5859019925b"
       ],
       "layout": "IPY_MODEL_9026e37a16d34633b4616a2403bf3433"
      }
     },
     "ac6c2730d1744287862fe64c0c374176": {
      "model_module": "@jupyter-widgets/controls",
      "model_module_version": "1.2.0",
      "model_name": "DropdownModel",
      "state": {
       "_options_labels": [
        "Chicago",
        "Springfield",
        "Urbana-Champaign"
       ],
       "description": "Campus:",
       "index": 2,
       "layout": "IPY_MODEL_8fd00f504ace4f91bc376b38e98c5292",
       "style": "IPY_MODEL_72441b32a4ce425bb2f3f3d94e38f13a"
      }
     },
     "ac978c1bbf2d462ba967a7f9dc1339ed": {
      "model_module": "@jupyter-widgets/controls",
      "model_module_version": "1.2.0",
      "model_name": "HBoxModel",
      "state": {
       "children": [
        "IPY_MODEL_64dcc25d2afe4f0d9b3e983b7891218e",
        "IPY_MODEL_ed297428bc2c4351b020d009e05d30f0",
        "IPY_MODEL_57f8098eb742465ea27838b329b232ee"
       ],
       "layout": "IPY_MODEL_0e3ee51f72bb46679da3f24c98265045"
      }
     },
     "acafdb72971043f49eb4946a298741cd": {
      "model_module": "@jupyter-widgets/controls",
      "model_module_version": "1.2.0",
      "model_name": "SliderStyleModel",
      "state": {
       "description_width": ""
      }
     },
     "ad2a3f8f11bd441da68a293be9158c13": {
      "model_module": "@jupyter-widgets/controls",
      "model_module_version": "1.2.0",
      "model_name": "TextModel",
      "state": {
       "description": "Department 5",
       "layout": "IPY_MODEL_ae3912fcb899410f8dd215f97453f387",
       "style": "IPY_MODEL_6f5d4a25b51b4168a3e1c251996ce90f"
      }
     },
     "ad433d480cec4d5c9d5e8df240c49e06": {
      "model_module": "@jupyter-widgets/controls",
      "model_module_version": "1.2.0",
      "model_name": "TextModel",
      "state": {
       "description": "Department 3",
       "layout": "IPY_MODEL_119852a50dea41eba0f1830d7cb59878",
       "style": "IPY_MODEL_1f1725f7140743188f2206f637258179"
      }
     },
     "ad9669bfb52f40b3af534aba6240cb48": {
      "model_module": "@jupyter-widgets/controls",
      "model_module_version": "1.2.0",
      "model_name": "DescriptionStyleModel",
      "state": {
       "description_width": ""
      }
     },
     "ad9b6773bcab44de84ebd21407f222f3": {
      "model_module": "@jupyter-widgets/controls",
      "model_module_version": "1.2.0",
      "model_name": "DropdownModel",
      "state": {
       "_options_labels": [
        "Chicago",
        "Springfield",
        "Urbana-Champaign"
       ],
       "description": "Campus:",
       "index": 2,
       "layout": "IPY_MODEL_138e726895a74db3bbbe0844bef70056",
       "style": "IPY_MODEL_a315a18c993b443db7ee0e76dab869f8"
      }
     },
     "adb6659d63df43ef821c10a4dced4a48": {
      "model_module": "@jupyter-widgets/base",
      "model_module_version": "1.0.0",
      "model_name": "LayoutModel",
      "state": {}
     },
     "ae3912fcb899410f8dd215f97453f387": {
      "model_module": "@jupyter-widgets/base",
      "model_module_version": "1.0.0",
      "model_name": "LayoutModel",
      "state": {}
     },
     "ae4615fb4a7543a0a40abe3d797dd710": {
      "model_module": "@jupyter-widgets/controls",
      "model_module_version": "1.2.0",
      "model_name": "DropdownModel",
      "state": {
       "_options_labels": [
        "Chicago",
        "Springfield",
        "Urbana-Champaign"
       ],
       "description": "Campus:",
       "index": 2,
       "layout": "IPY_MODEL_445903dbedc34eab928332b155414caa",
       "style": "IPY_MODEL_0f298f3419734c59b198740d951694c0"
      }
     },
     "ae7aa8fa080f4485a993b6757d16a8ab": {
      "model_module": "@jupyter-widgets/controls",
      "model_module_version": "1.2.0",
      "model_name": "DropdownModel",
      "state": {
       "_options_labels": [
        "Chicago",
        "Springfield",
        "Urbana-Champaign"
       ],
       "description": "Campus:",
       "index": 2,
       "layout": "IPY_MODEL_d98c18a0ff9f41fb9d27eb6908015e03",
       "style": "IPY_MODEL_eba9ff17f431411f96258caaa711b2da"
      }
     },
     "aeaaca0492ab47eb98b028c174d87ac9": {
      "model_module": "@jupyter-widgets/controls",
      "model_module_version": "1.2.0",
      "model_name": "DescriptionStyleModel",
      "state": {
       "description_width": ""
      }
     },
     "aeb59bbaf5f5456ab2b710b77c4bba2d": {
      "model_module": "@jupyter-widgets/controls",
      "model_module_version": "1.2.0",
      "model_name": "DescriptionStyleModel",
      "state": {
       "description_width": ""
      }
     },
     "aec586dafa224afc903b299402c7513a": {
      "model_module": "@jupyter-widgets/base",
      "model_module_version": "1.0.0",
      "model_name": "LayoutModel",
      "state": {}
     },
     "aefabbd7e2f141b4b8dbd80499098483": {
      "model_module": "@jupyter-widgets/base",
      "model_module_version": "1.0.0",
      "model_name": "DOMWidgetModel",
      "state": {
       "_graph_url": "https://plot.ly/~wangqiwen/20/median-salary-median-salary-median-salary/",
       "_message": "",
       "_model_name": "DOMWidgetModel",
       "_new_url": "",
       "_view_module": "graphWidget",
       "_view_module_version": "",
       "_view_name": "GraphView",
       "layout": "IPY_MODEL_cc0166362c8c4c1c8d4f06268670337c"
      }
     },
     "af00ae9e4b76481ea1a14d58662e6561": {
      "model_module": "@jupyter-widgets/base",
      "model_module_version": "1.0.0",
      "model_name": "LayoutModel",
      "state": {}
     },
     "af14cfb376d7493c84d98e094700aeb2": {
      "model_module": "@jupyter-widgets/controls",
      "model_module_version": "1.2.0",
      "model_name": "TextModel",
      "state": {
       "description": "Department:   ",
       "layout": "IPY_MODEL_5187f39a82ee44e38def4cc490d78cbd",
       "style": "IPY_MODEL_b191e062329c46c9826667fc709cde5e",
       "value": "Mathematics"
      }
     },
     "af255e6e63364b6bab1c45e7171416c2": {
      "model_module": "@jupyter-widgets/controls",
      "model_module_version": "1.2.0",
      "model_name": "TabModel",
      "state": {
       "_titles": {
        "0": "Department 1",
        "1": "Department 2"
       },
       "children": [
        "IPY_MODEL_7188ba68a1ed4d239c227fd74ea27543",
        "IPY_MODEL_ebf275606069495a82f48a3a41002202"
       ],
       "layout": "IPY_MODEL_5a07b7b1afe645bb81ffc4c011a67af1",
       "selected_index": 1
      }
     },
     "af289a64904944f0977ec02574fa1d78": {
      "model_module": "@jupyter-widgets/controls",
      "model_module_version": "1.2.0",
      "model_name": "TextModel",
      "state": {
       "description": "Department 5",
       "layout": "IPY_MODEL_a74f6302e7ae45f6883383b27ba5b2e3",
       "style": "IPY_MODEL_edbec7774a3548dca3259449d3983c3b"
      }
     },
     "af3296e7e3254b97bc0235c1429403c5": {
      "model_module": "@jupyter-widgets/base",
      "model_module_version": "1.0.0",
      "model_name": "LayoutModel",
      "state": {}
     },
     "afb9f700197e4da680db6e9f6dc8de90": {
      "model_module": "@jupyter-widgets/base",
      "model_module_version": "1.0.0",
      "model_name": "LayoutModel",
      "state": {}
     },
     "afd715dcf34e4470a13939db5a0d6423": {
      "model_module": "@jupyter-widgets/base",
      "model_module_version": "1.0.0",
      "model_name": "LayoutModel",
      "state": {}
     },
     "b002f5df3945420f8b93d991be62410d": {
      "model_module": "@jupyter-widgets/base",
      "model_module_version": "1.0.0",
      "model_name": "LayoutModel",
      "state": {}
     },
     "b00992a2e7bb4a079ca7ffa7e302e230": {
      "model_module": "@jupyter-widgets/controls",
      "model_module_version": "1.2.0",
      "model_name": "SliderStyleModel",
      "state": {
       "description_width": ""
      }
     },
     "b00fe00c7b3647148225ac6743281d6a": {
      "model_module": "@jupyter-widgets/base",
      "model_module_version": "1.0.0",
      "model_name": "LayoutModel",
      "state": {}
     },
     "b0874d904000444eb7c1dd4c40e401b9": {
      "model_module": "@jupyter-widgets/base",
      "model_module_version": "1.0.0",
      "model_name": "LayoutModel",
      "state": {}
     },
     "b0a6ec65fd8f416898f73057c0ec8f84": {
      "model_module": "@jupyter-widgets/controls",
      "model_module_version": "1.2.0",
      "model_name": "IntSliderModel",
      "state": {
       "continuous_update": false,
       "description": "Year:",
       "layout": "IPY_MODEL_e71ffbe8dcab4c2f884ec75fa22c298c",
       "max": 2017,
       "min": 2013,
       "style": "IPY_MODEL_3a3c4aafdaa14c14bbc05595e032f621",
       "value": 2015
      }
     },
     "b0a7c55e2d44466ba27873d61a9c1041": {
      "model_module": "@jupyter-widgets/base",
      "model_module_version": "1.0.0",
      "model_name": "DOMWidgetModel",
      "state": {
       "_graph_url": "https://plot.ly/~wangqiwen/20/median-salary-median-salary-median-salary/",
       "_message": "",
       "_model_name": "DOMWidgetModel",
       "_new_url": "",
       "_view_module": "graphWidget",
       "_view_module_version": "",
       "_view_name": "GraphView",
       "layout": "IPY_MODEL_ed3da006a609452ebd44a532533b1ca8"
      }
     },
     "b0acdc3d5d484652b478515f0357a506": {
      "model_module": "@jupyter-widgets/controls",
      "model_module_version": "1.2.0",
      "model_name": "DescriptionStyleModel",
      "state": {
       "description_width": ""
      }
     },
     "b10c9aa45dc647ffaf235cd8bef973dd": {
      "model_module": "@jupyter-widgets/controls",
      "model_module_version": "1.2.0",
      "model_name": "HBoxModel",
      "state": {
       "children": [
        "IPY_MODEL_a75ebf587622480e8cf40750de6be772",
        "IPY_MODEL_7d8f9ce27cdb4198acd0c3333f71f977",
        "IPY_MODEL_3e0cdbdc2b5340fcb6fdac80347b0b55"
       ],
       "layout": "IPY_MODEL_444641fdf0934412b28dbfc2ea2d2248"
      }
     },
     "b140987bbd86498883bc0827b4031933": {
      "model_module": "@jupyter-widgets/base",
      "model_module_version": "1.0.0",
      "model_name": "LayoutModel",
      "state": {}
     },
     "b14f5fa88f1f40928be943e591572fff": {
      "model_module": "@jupyter-widgets/base",
      "model_module_version": "1.0.0",
      "model_name": "LayoutModel",
      "state": {}
     },
     "b155007bec1a4c4c8754ea67d897bc38": {
      "model_module": "@jupyter-widgets/controls",
      "model_module_version": "1.2.0",
      "model_name": "DescriptionStyleModel",
      "state": {
       "description_width": ""
      }
     },
     "b182107693b34a40b3ee3fc0f263a3df": {
      "model_module": "@jupyter-widgets/base",
      "model_module_version": "1.0.0",
      "model_name": "LayoutModel",
      "state": {}
     },
     "b191e062329c46c9826667fc709cde5e": {
      "model_module": "@jupyter-widgets/controls",
      "model_module_version": "1.2.0",
      "model_name": "DescriptionStyleModel",
      "state": {
       "description_width": ""
      }
     },
     "b19fe3f137f14337917ce8bc419873ae": {
      "model_module": "@jupyter-widgets/base",
      "model_module_version": "1.0.0",
      "model_name": "LayoutModel",
      "state": {}
     },
     "b1e629232457467fa10efa1e199324eb": {
      "model_module": "@jupyter-widgets/controls",
      "model_module_version": "1.2.0",
      "model_name": "SliderStyleModel",
      "state": {
       "description_width": ""
      }
     },
     "b20f50300220476ebb16577ac0b1ad73": {
      "model_module": "@jupyter-widgets/controls",
      "model_module_version": "1.2.0",
      "model_name": "TabModel",
      "state": {
       "_titles": {
        "0": "Department 1",
        "1": "Department 2"
       },
       "children": [
        "IPY_MODEL_26c62e8ce2414f1a941578aee6e9c1db",
        "IPY_MODEL_c3dda06e868243e5868c77af5d653376"
       ],
       "layout": "IPY_MODEL_5ff7c984775749a1b19ea7806cde5d12",
       "selected_index": 1
      }
     },
     "b22328a3f07949b88134b9fbdcd33a6d": {
      "model_module": "@jupyter-widgets/base",
      "model_module_version": "1.0.0",
      "model_name": "LayoutModel",
      "state": {}
     },
     "b23b343e59d24dc4a7a59f9b86f580fc": {
      "model_module": "@jupyter-widgets/base",
      "model_module_version": "1.0.0",
      "model_name": "LayoutModel",
      "state": {}
     },
     "b254ac46898845288323ba9777d7584a": {
      "model_module": "@jupyter-widgets/controls",
      "model_module_version": "1.2.0",
      "model_name": "HBoxModel",
      "state": {
       "children": [
        "IPY_MODEL_e8ad56d9f63c4ce2b844456e636249da",
        "IPY_MODEL_1610a655ee404d108f4c409ed104d6a1",
        "IPY_MODEL_93345304a30341e9ab7426395ea36c63"
       ],
       "layout": "IPY_MODEL_6dc1192037184f68bd1d12a73ac193f0"
      }
     },
     "b26e9014b1a3426e8d12a8cf4ce95d9f": {
      "model_module": "@jupyter-widgets/base",
      "model_module_version": "1.0.0",
      "model_name": "DOMWidgetModel",
      "state": {
       "_graph_url": "https://plot.ly/~wangqiwen/20/median-salary-median-salary-median-salary/",
       "_message": "{\"task\": \"relayout\", \"update\": [\"2015 Median Salary of PROF in Urbana-Champaign\", \"2015 Median Salary of PROF in Chicago\", \"2015 Median Salary of PROF in Springfield\"], \"graphId\": \"464b9b17-edea-4c4a-9038-e6f40a3eeb9b\", \"uid\": \"b9e5be22-f822-4526-a427-7ab7d7c77c6d\"}",
       "_model_name": "DOMWidgetModel",
       "_new_url": "",
       "_view_module": "graphWidget",
       "_view_module_version": "",
       "_view_name": "GraphView",
       "layout": "IPY_MODEL_0ad71a8ac28d47b6b77a3f8baa10a130"
      }
     },
     "b272050fb6914af2a8d7858067e6565f": {
      "model_module": "@jupyter-widgets/controls",
      "model_module_version": "1.2.0",
      "model_name": "DropdownModel",
      "state": {
       "_options_labels": [
        "Chicago",
        "Springfield",
        "Urbana-Champaign"
       ],
       "description": "Campus:",
       "index": 2,
       "layout": "IPY_MODEL_b140987bbd86498883bc0827b4031933",
       "style": "IPY_MODEL_e17cc856466a483d95f850b20c7acacb"
      }
     },
     "b2bed8079f524749a1f617ea91ac5d5a": {
      "model_module": "@jupyter-widgets/base",
      "model_module_version": "1.0.0",
      "model_name": "DOMWidgetModel",
      "state": {
       "_graph_url": "https://plot.ly/~wangqiwen/20/median-salary-median-salary-median-salary/",
       "_message": "{\"task\": \"relayout\", \"update\": [\"2017 Median Salary of SR LECTURER in Urbana-Champaign\", \"2017 Median Salary of SR LECTURER in Chicago\", \"2017 Median Salary of SR LECTURER in Springfield\"], \"graphId\": \"d2087605-0b22-4092-8a4b-d8916db9dbc6\", \"uid\": \"d87536b4-bc20-4bfc-84ad-fd92d53fc12d\"}",
       "_model_name": "DOMWidgetModel",
       "_new_url": "",
       "_view_module": "graphWidget",
       "_view_module_version": "",
       "_view_name": "GraphView",
       "layout": "IPY_MODEL_199d4699e8464ff6972933ad93379cae"
      }
     },
     "b2d76ada64eb47a2b1c39bea5fab7771": {
      "model_module": "@jupyter-widgets/controls",
      "model_module_version": "1.2.0",
      "model_name": "HBoxModel",
      "state": {
       "children": [
        "IPY_MODEL_e2614b403c4349dd83b07be416f3f392",
        "IPY_MODEL_9f63efc24b7b43dfbed31c2a0dea0aa9",
        "IPY_MODEL_d34968f0dee04f9597ebbe9cd70dae33"
       ],
       "layout": "IPY_MODEL_ebd357ad90c2404282d853baa097b16c"
      }
     },
     "b31a5d6f325e44e59fbf99dd518ff607": {
      "model_module": "@jupyter-widgets/controls",
      "model_module_version": "1.2.0",
      "model_name": "DescriptionStyleModel",
      "state": {
       "description_width": ""
      }
     },
     "b33f4e76c44443f8b0465a1dcf637c9e": {
      "model_module": "@jupyter-widgets/controls",
      "model_module_version": "1.2.0",
      "model_name": "DropdownModel",
      "state": {
       "_options_labels": [
        "Chicago",
        "Springfield",
        "Urbana-Champaign"
       ],
       "description": "Campus:",
       "index": 2,
       "layout": "IPY_MODEL_4f9ee6c268474dbfb201c9393f1bfce9",
       "style": "IPY_MODEL_c91ff7489b2947e79748ad42475ecf78"
      }
     },
     "b38b110ef6194fe5aba668af03ea1f5c": {
      "model_module": "@jupyter-widgets/base",
      "model_module_version": "1.0.0",
      "model_name": "LayoutModel",
      "state": {}
     },
     "b3a724d316be4689837dc51faddeb99e": {
      "model_module": "@jupyter-widgets/base",
      "model_module_version": "1.0.0",
      "model_name": "LayoutModel",
      "state": {}
     },
     "b4203b53a71d4051a8bf5a24cb3a1ba0": {
      "model_module": "@jupyter-widgets/base",
      "model_module_version": "1.0.0",
      "model_name": "LayoutModel",
      "state": {}
     },
     "b424aa51207940d5b3dc6057d9540fff": {
      "model_module": "@jupyter-widgets/controls",
      "model_module_version": "1.2.0",
      "model_name": "TextModel",
      "state": {
       "description": "Department:   ",
       "layout": "IPY_MODEL_801710a17e554f72bc38af2eaca327d8",
       "style": "IPY_MODEL_806c1917d16d4058b380eb941cf7251d"
      }
     },
     "b42a76aa9138477699ed70df8e177d3f": {
      "model_module": "@jupyter-widgets/base",
      "model_module_version": "1.0.0",
      "model_name": "LayoutModel",
      "state": {}
     },
     "b43e9fcb8cb74bdea4be2bedca0385ca": {
      "model_module": "@jupyter-widgets/base",
      "model_module_version": "1.0.0",
      "model_name": "LayoutModel",
      "state": {}
     },
     "b474607d26d348fdb7c178b0ecacb8de": {
      "model_module": "@jupyter-widgets/controls",
      "model_module_version": "1.2.0",
      "model_name": "DescriptionStyleModel",
      "state": {
       "description_width": ""
      }
     },
     "b48547f5bc6f4b1da6db5d2d4682430a": {
      "model_module": "@jupyter-widgets/controls",
      "model_module_version": "1.2.0",
      "model_name": "HBoxModel",
      "state": {
       "children": [
        "IPY_MODEL_ae7aa8fa080f4485a993b6757d16a8ab",
        "IPY_MODEL_a469ad46c08945738da0afffd61320ef",
        "IPY_MODEL_54fe1d55e96842e59ab35abd751e3524"
       ],
       "layout": "IPY_MODEL_751344648faa4b1a9e07e8c473126132"
      }
     },
     "b4aba08ec0024f88820597507f7e5b5a": {
      "model_module": "@jupyter-widgets/controls",
      "model_module_version": "1.2.0",
      "model_name": "HBoxModel",
      "state": {
       "children": [
        "IPY_MODEL_02a754c9bbe34cbbb8bdc630017219c1",
        "IPY_MODEL_f6830760bda34fd49775f1250ee6b40e",
        "IPY_MODEL_768d70d1b8f44ea19c33eb99148e28de"
       ],
       "layout": "IPY_MODEL_2c0ea6b970ff453c8ba81a4f08e6d075"
      }
     },
     "b4b39b726fe043baab376d78e1776b98": {
      "model_module": "@jupyter-widgets/controls",
      "model_module_version": "1.2.0",
      "model_name": "SliderStyleModel",
      "state": {
       "description_width": ""
      }
     },
     "b4fc62cc71c340e9aa8e50e853111713": {
      "model_module": "@jupyter-widgets/base",
      "model_module_version": "1.0.0",
      "model_name": "DOMWidgetModel",
      "state": {
       "_graph_url": "https://plot.ly/~wangqiwen/14",
       "_message": "",
       "_model_name": "DOMWidgetModel",
       "_new_url": "",
       "_view_module": "graphWidget",
       "_view_module_version": "",
       "_view_name": "GraphView",
       "layout": "IPY_MODEL_879b2542b0a7421386f52ae11550cfb9"
      }
     },
     "b534a12840dd4e9aaa1e1f9765cf4c8f": {
      "model_module": "@jupyter-widgets/base",
      "model_module_version": "1.0.0",
      "model_name": "LayoutModel",
      "state": {}
     },
     "b5990f3ce228443bb84f6d2816540f20": {
      "model_module": "@jupyter-widgets/controls",
      "model_module_version": "1.2.0",
      "model_name": "HBoxModel",
      "state": {
       "children": [
        "IPY_MODEL_b33f4e76c44443f8b0465a1dcf637c9e",
        "IPY_MODEL_f401694dede342caaf0b8cdca697053c",
        "IPY_MODEL_11ef89a138e94b22bb60c653a0fe8fc4"
       ],
       "layout": "IPY_MODEL_05cba47441874bde82ca3212b3178a17"
      }
     },
     "b5d525a4177c4f3ea07e8bedcda5806c": {
      "model_module": "@jupyter-widgets/base",
      "model_module_version": "1.0.0",
      "model_name": "LayoutModel",
      "state": {}
     },
     "b5f2f01ff605488cb6e2ef49fe40b634": {
      "model_module": "@jupyter-widgets/controls",
      "model_module_version": "1.2.0",
      "model_name": "DropdownModel",
      "state": {
       "_options_labels": [
        "Chicago",
        "Springfield",
        "Urbana-Champaign"
       ],
       "description": "Campus:",
       "index": 2,
       "layout": "IPY_MODEL_29584565b6464c3dbd5892ef00f08760",
       "style": "IPY_MODEL_0197d651b29b432cbce7f970258adfab"
      }
     },
     "b613a1f904124bda94fa59d85e4b175f": {
      "model_module": "@jupyter-widgets/controls",
      "model_module_version": "1.2.0",
      "model_name": "IntSliderModel",
      "state": {
       "continuous_update": false,
       "description": "Year:",
       "layout": "IPY_MODEL_b38b110ef6194fe5aba668af03ea1f5c",
       "max": 2017,
       "min": 2013,
       "style": "IPY_MODEL_dcc2908a9c494b86aed39d746e5dd81d",
       "value": 2015
      }
     },
     "b631c3371f4841a08979e0dd93e1d3a3": {
      "model_module": "@jupyter-widgets/base",
      "model_module_version": "1.0.0",
      "model_name": "LayoutModel",
      "state": {}
     },
     "b6a26907d5ec43d3a900500200a794dd": {
      "model_module": "@jupyter-widgets/base",
      "model_module_version": "1.0.0",
      "model_name": "LayoutModel",
      "state": {}
     },
     "b6b1fcc0a4204528a855da4b329cdc50": {
      "model_module": "@jupyter-widgets/controls",
      "model_module_version": "1.2.0",
      "model_name": "TextModel",
      "state": {
       "description": "Department 5",
       "layout": "IPY_MODEL_b5d525a4177c4f3ea07e8bedcda5806c",
       "style": "IPY_MODEL_3a53b874144046ea92afe30fd7f58ed0"
      }
     },
     "b6d3a99552db4568930e3b9e01345610": {
      "model_module": "@jupyter-widgets/base",
      "model_module_version": "1.0.0",
      "model_name": "LayoutModel",
      "state": {}
     },
     "b6dcac1b9a0f430a962440417f7c6d83": {
      "model_module": "@jupyter-widgets/base",
      "model_module_version": "1.0.0",
      "model_name": "LayoutModel",
      "state": {}
     },
     "b71b375cd5864388bebcfe3fd34f223d": {
      "model_module": "@jupyter-widgets/controls",
      "model_module_version": "1.2.0",
      "model_name": "SliderStyleModel",
      "state": {
       "description_width": ""
      }
     },
     "b742ec33cff84969b573474392a8f717": {
      "model_module": "@jupyter-widgets/base",
      "model_module_version": "1.0.0",
      "model_name": "LayoutModel",
      "state": {}
     },
     "b749469ce5284eb59b3f161d0b132691": {
      "model_module": "@jupyter-widgets/base",
      "model_module_version": "1.0.0",
      "model_name": "LayoutModel",
      "state": {}
     },
     "b74ebc59650d426aad8c871852b813ce": {
      "model_module": "@jupyter-widgets/controls",
      "model_module_version": "1.2.0",
      "model_name": "HBoxModel",
      "state": {
       "children": [
        "IPY_MODEL_85d6e05dda1d4a2999f4bd624a2115c3",
        "IPY_MODEL_84c233408c5d420b92f0a0e95ae0eec6",
        "IPY_MODEL_7784540fd5024900802f016ca49d3968"
       ],
       "layout": "IPY_MODEL_a4579ba932bf4f709fd02a5474250bce"
      }
     },
     "b74f7a0c886d463ea5a821f51d388b41": {
      "model_module": "@jupyter-widgets/controls",
      "model_module_version": "1.2.0",
      "model_name": "SliderStyleModel",
      "state": {
       "description_width": ""
      }
     },
     "b7cb3c4ac93746c79cf5cbfdddadf88b": {
      "model_module": "@jupyter-widgets/base",
      "model_module_version": "1.0.0",
      "model_name": "LayoutModel",
      "state": {}
     },
     "b8710bbbb21f4371b8466249d30ac7d2": {
      "model_module": "@jupyter-widgets/controls",
      "model_module_version": "1.2.0",
      "model_name": "SliderStyleModel",
      "state": {
       "description_width": ""
      }
     },
     "b8dd440e95a24cce8a3dc5a742248dda": {
      "model_module": "@jupyter-widgets/base",
      "model_module_version": "1.0.0",
      "model_name": "LayoutModel",
      "state": {}
     },
     "b92b90b4ee1949cb8c04d07f411a968a": {
      "model_module": "@jupyter-widgets/base",
      "model_module_version": "1.0.0",
      "model_name": "LayoutModel",
      "state": {}
     },
     "b93d7b4845bc4aa3986540c7c346b1ab": {
      "model_module": "@jupyter-widgets/controls",
      "model_module_version": "1.2.0",
      "model_name": "SliderStyleModel",
      "state": {
       "description_width": ""
      }
     },
     "b94608327c3446e191312b504de4c291": {
      "model_module": "@jupyter-widgets/controls",
      "model_module_version": "1.2.0",
      "model_name": "DescriptionStyleModel",
      "state": {
       "description_width": ""
      }
     },
     "b950652d29ed4e298f67802a6ea3cedd": {
      "model_module": "@jupyter-widgets/base",
      "model_module_version": "1.0.0",
      "model_name": "LayoutModel",
      "state": {}
     },
     "b994d2e9a9e84728b6beb340dafe3a82": {
      "model_module": "@jupyter-widgets/base",
      "model_module_version": "1.0.0",
      "model_name": "LayoutModel",
      "state": {}
     },
     "ba0e97dedece44ec8922c0c4d698cdf1": {
      "model_module": "@jupyter-widgets/base",
      "model_module_version": "1.0.0",
      "model_name": "LayoutModel",
      "state": {}
     },
     "ba1d3622f4234ea5b15aa698f1c4c310": {
      "model_module": "@jupyter-widgets/controls",
      "model_module_version": "1.2.0",
      "model_name": "DescriptionStyleModel",
      "state": {
       "description_width": ""
      }
     },
     "ba1ed6c5b5564245a1ceff40a4308684": {
      "model_module": "@jupyter-widgets/controls",
      "model_module_version": "1.2.0",
      "model_name": "DescriptionStyleModel",
      "state": {
       "description_width": ""
      }
     },
     "ba627c5445ff4d358f41daa4bf0cf798": {
      "model_module": "@jupyter-widgets/controls",
      "model_module_version": "1.2.0",
      "model_name": "IntSliderModel",
      "state": {
       "continuous_update": false,
       "description": "Year:",
       "layout": "IPY_MODEL_8bf592c00eb743f6986503150862ddd8",
       "max": 2017,
       "min": 2013,
       "style": "IPY_MODEL_3a6cf2ccce6b419da4ef15908f723abe",
       "value": 2017
      }
     },
     "bac245dda03946e189c7bf9a2079f6b9": {
      "model_module": "@jupyter-widgets/base",
      "model_module_version": "1.0.0",
      "model_name": "LayoutModel",
      "state": {}
     },
     "bae7b0e51f374560a3a296118df8ad0d": {
      "model_module": "@jupyter-widgets/controls",
      "model_module_version": "1.2.0",
      "model_name": "DescriptionStyleModel",
      "state": {
       "description_width": ""
      }
     },
     "bb3e644209e74aa3ad9428b7a526cf98": {
      "model_module": "@jupyter-widgets/base",
      "model_module_version": "1.0.0",
      "model_name": "LayoutModel",
      "state": {}
     },
     "bb86e9a205e340c5b1ba136940688348": {
      "model_module": "@jupyter-widgets/controls",
      "model_module_version": "1.2.0",
      "model_name": "DescriptionStyleModel",
      "state": {
       "description_width": ""
      }
     },
     "bbb54f43631544869731ae6f94b0f50b": {
      "model_module": "@jupyter-widgets/base",
      "model_module_version": "1.0.0",
      "model_name": "LayoutModel",
      "state": {}
     },
     "bbd2f11f121b451c8884ca3b3831f12e": {
      "model_module": "@jupyter-widgets/base",
      "model_module_version": "1.0.0",
      "model_name": "DOMWidgetModel",
      "state": {
       "_graph_url": "https://plot.ly/~wangqiwen/22/salary-range-of-faculty-in-information-sciences/",
       "_message": "",
       "_model_name": "DOMWidgetModel",
       "_new_url": "",
       "_view_module": "graphWidget",
       "_view_module_version": "",
       "_view_name": "GraphView",
       "layout": "IPY_MODEL_970a57685e8846d8a2f579794a0e3042"
      }
     },
     "bbdee6dcc9b1409fa5c504c5c834300d": {
      "model_module": "@jupyter-widgets/base",
      "model_module_version": "1.0.0",
      "model_name": "LayoutModel",
      "state": {}
     },
     "bc13b4784d5345a6a557e7def2fe9cda": {
      "model_module": "@jupyter-widgets/controls",
      "model_module_version": "1.2.0",
      "model_name": "DescriptionStyleModel",
      "state": {
       "description_width": ""
      }
     },
     "bc4ef832391a4b28b5513f67b5daef82": {
      "model_module": "@jupyter-widgets/controls",
      "model_module_version": "1.2.0",
      "model_name": "DescriptionStyleModel",
      "state": {
       "description_width": ""
      }
     },
     "bcb473eac3b04ff598e3d55f83926f4f": {
      "model_module": "@jupyter-widgets/base",
      "model_module_version": "1.0.0",
      "model_name": "DOMWidgetModel",
      "state": {
       "_graph_url": "https://plot.ly/~wangqiwen/22/salary-range-of-faculty-in-information-sciences/",
       "_message": "{\"task\": \"relayout\", \"update\": {\"title\": \"Salary Range of Faculty in Mathematics\", \"xaxis\": {\"title\": \"Salary\"}, \"yaxis\": {\"title\": \"Percentage of Faculty\"}, \"bargap\": 0.2, \"bargroupgap\": 0.1}, \"graphId\": \"629da2bb-a4e0-4296-a28b-37e51cb388f3\", \"uid\": \"cda3df4d-34e0-451d-9191-139652a8156d\"}",
       "_model_name": "DOMWidgetModel",
       "_new_url": "",
       "_view_module": "graphWidget",
       "_view_module_version": "",
       "_view_name": "GraphView",
       "layout": "IPY_MODEL_b3a724d316be4689837dc51faddeb99e"
      }
     },
     "bcde733528694b738437e57db4dd4b39": {
      "model_module": "@jupyter-widgets/controls",
      "model_module_version": "1.2.0",
      "model_name": "DescriptionStyleModel",
      "state": {
       "description_width": ""
      }
     },
     "bd4411aa173346b786b1c47cc447d777": {
      "model_module": "@jupyter-widgets/controls",
      "model_module_version": "1.2.0",
      "model_name": "TextModel",
      "state": {
       "description": "Department:   ",
       "layout": "IPY_MODEL_dd3b5c6b26e6460aa5b26ce2a4ded27c",
       "style": "IPY_MODEL_0c869b61835f4b64adb02f7d3da9138d",
       "value": "Information Sciences"
      }
     },
     "bd484caea0be42edaf1e07b4ee5f3e14": {
      "model_module": "@jupyter-widgets/base",
      "model_module_version": "1.0.0",
      "model_name": "LayoutModel",
      "state": {}
     },
     "bd68cd8f2f8940bebcb743661da2b923": {
      "model_module": "@jupyter-widgets/base",
      "model_module_version": "1.0.0",
      "model_name": "LayoutModel",
      "state": {}
     },
     "bd705ec8d240448fae3c7f597e0162cc": {
      "model_module": "@jupyter-widgets/base",
      "model_module_version": "1.0.0",
      "model_name": "LayoutModel",
      "state": {}
     },
     "bd8d8809320c4fcb8952fb77780cb53a": {
      "model_module": "@jupyter-widgets/controls",
      "model_module_version": "1.2.0",
      "model_name": "SliderStyleModel",
      "state": {
       "description_width": ""
      }
     },
     "be457a6ff29b4002900b7e8d46edbdc7": {
      "model_module": "@jupyter-widgets/controls",
      "model_module_version": "1.2.0",
      "model_name": "TabModel",
      "state": {
       "_titles": {
        "0": "Department 1",
        "1": "Department 2",
        "2": "Department 3",
        "3": "Department 4",
        "4": "Department 5"
       },
       "children": [
        "IPY_MODEL_c07cf578b95d4b52ac94368d957e7a8b",
        "IPY_MODEL_a466e5a7c6d64a4b8079b415db8fa0cc",
        "IPY_MODEL_d28ed94ce1cf4fa5be593c5e3916944d",
        "IPY_MODEL_a8fbbc707378400d817ad8804542360c",
        "IPY_MODEL_fe012bfd4894400caca178ac5abb694b"
       ],
       "layout": "IPY_MODEL_46dcfbc15c044303926f7c757870d32b"
      }
     },
     "be966926edb84f78bd1ceb370585e83e": {
      "model_module": "@jupyter-widgets/controls",
      "model_module_version": "1.2.0",
      "model_name": "IntSliderModel",
      "state": {
       "continuous_update": false,
       "description": "Year:",
       "layout": "IPY_MODEL_3aa7bda57c1f472eae436cdc0292e304",
       "max": 2017,
       "min": 2013,
       "style": "IPY_MODEL_362b321bb15b43a58d6c687f3cc011b3",
       "value": 2017
      }
     },
     "beda1f3c19714be5802577bb45c2df52": {
      "model_module": "@jupyter-widgets/base",
      "model_module_version": "1.0.0",
      "model_name": "DOMWidgetModel",
      "state": {
       "_graph_url": "https://plot.ly/~wangqiwen/22/salary-range-of-faculty-in-information-sciences/",
       "_message": "{\"task\": \"restyle\", \"update\": {\"x\": [[51500.0, 51607.0, 58922.5, 60750.0, 72000.0, 120731.0]], \"y\": [[\"Environmental Studies\", \"Art, Music, and Theatre\", \"Public Administration\", \"Public Health\", \"Computer Science\", \"Accountancy\"]]}, \"graphId\": \"7903dcfe-abef-4fc7-a63b-015927e6cb01\", \"indices\": 2, \"uid\": \"d48cba8a-ee11-47e9-9b06-e04504b5a0e5\"}",
       "_model_name": "DOMWidgetModel",
       "_new_url": "",
       "_view_module": "graphWidget",
       "_view_module_version": "",
       "_view_name": "GraphView",
       "layout": "IPY_MODEL_3459ff6345b14338a29c72cee94602d2"
      }
     },
     "bf183dee2a5d48c5af768430e6b23efc": {
      "model_module": "@jupyter-widgets/controls",
      "model_module_version": "1.2.0",
      "model_name": "SliderStyleModel",
      "state": {
       "description_width": ""
      }
     },
     "bf2f87617a3f431bb2f26ce461e0581a": {
      "model_module": "@jupyter-widgets/base",
      "model_module_version": "1.0.0",
      "model_name": "LayoutModel",
      "state": {}
     },
     "bf401c612c2a443eb241f1029d2995cd": {
      "model_module": "@jupyter-widgets/base",
      "model_module_version": "1.0.0",
      "model_name": "LayoutModel",
      "state": {}
     },
     "bf4619d7a20b4334b61838e1e80a863f": {
      "model_module": "@jupyter-widgets/controls",
      "model_module_version": "1.2.0",
      "model_name": "SliderStyleModel",
      "state": {
       "description_width": ""
      }
     },
     "bf982535f7f14d4e9157dcacb5effb48": {
      "model_module": "@jupyter-widgets/base",
      "model_module_version": "1.0.0",
      "model_name": "LayoutModel",
      "state": {}
     },
     "bfea5f1350ab4ac683b2f29443227911": {
      "model_module": "@jupyter-widgets/base",
      "model_module_version": "1.0.0",
      "model_name": "LayoutModel",
      "state": {}
     },
     "c01b4aa6b415424c8cf32f6ccdc21305": {
      "model_module": "@jupyter-widgets/controls",
      "model_module_version": "1.2.0",
      "model_name": "DescriptionStyleModel",
      "state": {
       "description_width": ""
      }
     },
     "c04ba2dd5969400ebd1927d5ee0279d4": {
      "model_module": "@jupyter-widgets/controls",
      "model_module_version": "1.2.0",
      "model_name": "SliderStyleModel",
      "state": {
       "description_width": ""
      }
     },
     "c07cf578b95d4b52ac94368d957e7a8b": {
      "model_module": "@jupyter-widgets/controls",
      "model_module_version": "1.2.0",
      "model_name": "HBoxModel",
      "state": {
       "children": [
        "IPY_MODEL_e10532de7f34420e8f309eb1dbb15ae3",
        "IPY_MODEL_5de3d5b4029f448bb8db721a1a2afbab",
        "IPY_MODEL_31dabedb29b54745a143073ede3cdf7f"
       ],
       "layout": "IPY_MODEL_2a561c55c30a4697a295c177bd896839"
      }
     },
     "c08019b4295d4d0c8b59e03e606990e5": {
      "model_module": "@jupyter-widgets/controls",
      "model_module_version": "1.2.0",
      "model_name": "DescriptionStyleModel",
      "state": {
       "description_width": ""
      }
     },
     "c0a90fda87b64a49abeea75a1500ebe4": {
      "model_module": "@jupyter-widgets/controls",
      "model_module_version": "1.2.0",
      "model_name": "DropdownModel",
      "state": {
       "_options_labels": [
        "Chicago",
        "Springfield",
        "Urbana-Champaign"
       ],
       "description": "Campus:",
       "index": 2,
       "layout": "IPY_MODEL_49aefe2637fd47388c62a8b5d3384a9c",
       "style": "IPY_MODEL_5095c62b4e44494f975ca05a50f8907f"
      }
     },
     "c0c70fe969364ee0a00f91811805a863": {
      "model_module": "@jupyter-widgets/base",
      "model_module_version": "1.0.0",
      "model_name": "LayoutModel",
      "state": {}
     },
     "c0c9cf328c4a4ad89a457f9786231586": {
      "model_module": "@jupyter-widgets/controls",
      "model_module_version": "1.2.0",
      "model_name": "DescriptionStyleModel",
      "state": {
       "description_width": ""
      }
     },
     "c0e6c4b396d647a7891ce8adf99bb6be": {
      "model_module": "@jupyter-widgets/base",
      "model_module_version": "1.0.0",
      "model_name": "LayoutModel",
      "state": {}
     },
     "c0ec8a2e93cd4926a8eb96cecc86356b": {
      "model_module": "@jupyter-widgets/controls",
      "model_module_version": "1.2.0",
      "model_name": "TabModel",
      "state": {
       "_titles": {
        "0": "Department 1",
        "1": "Department 2"
       },
       "children": [
        "IPY_MODEL_fbe04311ba0248c7bb3764836105790f",
        "IPY_MODEL_9463b724864c42d7be7d7bf0c925ea3e"
       ],
       "layout": "IPY_MODEL_d1f736c6697f4383a242e58419246cf2",
       "selected_index": 1
      }
     },
     "c0fa471810d549f7ae0ad33739401dec": {
      "model_module": "@jupyter-widgets/base",
      "model_module_version": "1.0.0",
      "model_name": "LayoutModel",
      "state": {}
     },
     "c1401547dd6c448385d98e0c8b2e96ba": {
      "model_module": "@jupyter-widgets/controls",
      "model_module_version": "1.2.0",
      "model_name": "TabModel",
      "state": {
       "_titles": {
        "0": "Department 1",
        "1": "Department 2"
       },
       "children": [
        "IPY_MODEL_05d3a92cbd414caab86208ee660be45f",
        "IPY_MODEL_6a93d11abfe548ecb79b6acf688e6b58"
       ],
       "layout": "IPY_MODEL_af3296e7e3254b97bc0235c1429403c5",
       "selected_index": 1
      }
     },
     "c15b95e7b52b42e7b1118b6b8fcf1ac2": {
      "model_module": "@jupyter-widgets/base",
      "model_module_version": "1.0.0",
      "model_name": "LayoutModel",
      "state": {}
     },
     "c16e5ba53043409987eed840d446a32e": {
      "model_module": "@jupyter-widgets/controls",
      "model_module_version": "1.2.0",
      "model_name": "HBoxModel",
      "state": {
       "children": [
        "IPY_MODEL_f8b6559f7c3046489ed94e46aaec4c73",
        "IPY_MODEL_8a0a8dc64f744b00b42acd383557e763",
        "IPY_MODEL_f3df7e4eb06b4eeea958eb5f4362cf53"
       ],
       "layout": "IPY_MODEL_c5e4902d754b4a9f861e9a93727b8e8f"
      }
     },
     "c1edb6bcb2e04c4c93c9c95381184a16": {
      "model_module": "@jupyter-widgets/controls",
      "model_module_version": "1.2.0",
      "model_name": "DropdownModel",
      "state": {
       "_options_labels": [
        "PROF",
        "ASSOC PROF",
        "ASST PROF",
        "LECTURER",
        "ASSOC DIR",
        "CLIN ASST PROF",
        "SR LECTURER",
        "RES SCI",
        "RES ASST PROF",
        "SR RES SCI",
        "POSTDOC RES ASSOC",
        "CLIN PROF",
        "ASSOC PROF UNIV LIBRARY",
        "ASST PROF UNIV LIBRARY",
        "DEAN",
        "JL DOOB RES ASST PROF",
        "CLIN ASSOC PROF",
        "VST ASST PROF",
        "RES ASSOC PROF",
        "ASST DEAN",
        "RES PROF",
        "PROF (RT)"
       ],
       "description": "Job Title:",
       "index": 2,
       "layout": "IPY_MODEL_f632be422a014e4eb0de7fec12af8916",
       "style": "IPY_MODEL_5e900e4c686c407ead22efb8a565c396"
      }
     },
     "c20950b04be844919ae66f247085a692": {
      "model_module": "@jupyter-widgets/controls",
      "model_module_version": "1.2.0",
      "model_name": "DescriptionStyleModel",
      "state": {
       "description_width": ""
      }
     },
     "c2114ff46b17401ea2f9e9305b94beec": {
      "model_module": "@jupyter-widgets/controls",
      "model_module_version": "1.2.0",
      "model_name": "IntTextModel",
      "state": {
       "description": "Top X:",
       "layout": "IPY_MODEL_16e9c74cc62040528250321ea5552aa0",
       "step": 1,
       "style": "IPY_MODEL_f3cbcb2a2097444f8eecc4b55f6d4309",
       "value": 100
      }
     },
     "c2514694ff6b4e20bb4c8a9cad921fa4": {
      "model_module": "@jupyter-widgets/base",
      "model_module_version": "1.0.0",
      "model_name": "DOMWidgetModel",
      "state": {
       "_graph_url": "https://plot.ly/~wangqiwen/20/median-salary-median-salary-median-salary/",
       "_message": "",
       "_model_name": "DOMWidgetModel",
       "_new_url": "",
       "_view_module": "graphWidget",
       "_view_module_version": "",
       "_view_name": "GraphView",
       "layout": "IPY_MODEL_772f6660206d44689073bdb794870f9f"
      }
     },
     "c2722f8e9eab437695ca45b71b2214ca": {
      "model_module": "@jupyter-widgets/controls",
      "model_module_version": "1.2.0",
      "model_name": "SliderStyleModel",
      "state": {
       "description_width": ""
      }
     },
     "c28e11260bc5410c8f905ab4f0260ad9": {
      "model_module": "@jupyter-widgets/base",
      "model_module_version": "1.0.0",
      "model_name": "DOMWidgetModel",
      "state": {
       "_graph_url": "https://plot.ly/~wangqiwen/16",
       "_message": "",
       "_model_name": "DOMWidgetModel",
       "_new_url": "",
       "_view_module": "graphWidget",
       "_view_module_version": "",
       "_view_name": "GraphView",
       "layout": "IPY_MODEL_f1d49921b38f4fb5a8761f788b11b334"
      }
     },
     "c28ea1becd5445339a6435e40fff3b9f": {
      "model_module": "@jupyter-widgets/base",
      "model_module_version": "1.0.0",
      "model_name": "LayoutModel",
      "state": {}
     },
     "c34cf9d4933543109b039dbe6d313ff6": {
      "model_module": "@jupyter-widgets/controls",
      "model_module_version": "1.2.0",
      "model_name": "SliderStyleModel",
      "state": {
       "description_width": ""
      }
     },
     "c379262c70b64d68867616c5d0793cb6": {
      "model_module": "@jupyter-widgets/controls",
      "model_module_version": "1.2.0",
      "model_name": "SliderStyleModel",
      "state": {
       "description_width": ""
      }
     },
     "c3818ad911554164a7483ae27acf26f4": {
      "model_module": "@jupyter-widgets/controls",
      "model_module_version": "1.2.0",
      "model_name": "TabModel",
      "state": {
       "_titles": {
        "0": "Department 1",
        "1": "Department 2"
       },
       "children": [
        "IPY_MODEL_f49c733dbe0745e2898970efe65bde0e",
        "IPY_MODEL_b5990f3ce228443bb84f6d2816540f20"
       ],
       "layout": "IPY_MODEL_4d933d55f9014fda98a517c0e637c74b"
      }
     },
     "c3dda06e868243e5868c77af5d653376": {
      "model_module": "@jupyter-widgets/controls",
      "model_module_version": "1.2.0",
      "model_name": "HBoxModel",
      "state": {
       "children": [
        "IPY_MODEL_de2ae58fca6646f082dfbcce60a70e37",
        "IPY_MODEL_0cc2faf8124b440b9768ed4344857d1b",
        "IPY_MODEL_1b3b9051e85a4838837233a7a9f93b89"
       ],
       "layout": "IPY_MODEL_0ece61e2469a4db19aa5a7363281e76f"
      }
     },
     "c3f5c9f69b66477ea1ef268bf18215c8": {
      "model_module": "@jupyter-widgets/base",
      "model_module_version": "1.0.0",
      "model_name": "LayoutModel",
      "state": {}
     },
     "c442d607eee04ea2b6c1f98702a16f77": {
      "model_module": "@jupyter-widgets/base",
      "model_module_version": "1.0.0",
      "model_name": "LayoutModel",
      "state": {}
     },
     "c46f2f75028342859da631ebba36524c": {
      "model_module": "@jupyter-widgets/base",
      "model_module_version": "1.0.0",
      "model_name": "LayoutModel",
      "state": {}
     },
     "c4851c2da9984152a86f7eedd0eda5aa": {
      "model_module": "@jupyter-widgets/base",
      "model_module_version": "1.0.0",
      "model_name": "DOMWidgetModel",
      "state": {
       "_graph_url": "https://plot.ly/~wangqiwen/20/median-salary-median-salary-median-salary/",
       "_message": "{\"task\": \"relayout\", \"update\": [\"2017 Median Salary of ASST PROF in Urbana-Champaign\", \"2017 Median Salary of ASST PROF in Chicago\", \"2017 Median Salary of ASST PROF in Springfield\"], \"graphId\": \"4761c774-573a-42f7-804c-d4224ce3c9b3\", \"uid\": \"22cf6888-06f6-448a-83e7-a3cb0cb2a34b\"}",
       "_model_name": "DOMWidgetModel",
       "_new_url": "",
       "_view_module": "graphWidget",
       "_view_module_version": "",
       "_view_name": "GraphView",
       "layout": "IPY_MODEL_d26b9351a16949ddb8ce8fd2e89cddcd"
      }
     },
     "c4baf02412844c6ea0bdfca65b512a7a": {
      "model_module": "@jupyter-widgets/base",
      "model_module_version": "1.0.0",
      "model_name": "DOMWidgetModel",
      "state": {
       "_graph_url": "https://plot.ly/~wangqiwen/22/salary-range-of-faculty-in-information-sciences/",
       "_message": "",
       "_model_name": "DOMWidgetModel",
       "_new_url": "",
       "_view_module": "graphWidget",
       "_view_module_version": "",
       "_view_name": "GraphView",
       "layout": "IPY_MODEL_90cb76eb1902442589e02e67d1ab19e7"
      }
     },
     "c50cde14f09341a7b2f5ff9a812f6c62": {
      "model_module": "@jupyter-widgets/controls",
      "model_module_version": "1.2.0",
      "model_name": "DescriptionStyleModel",
      "state": {
       "description_width": ""
      }
     },
     "c51968c191fa414583e1872af81932c4": {
      "model_module": "@jupyter-widgets/base",
      "model_module_version": "1.0.0",
      "model_name": "LayoutModel",
      "state": {}
     },
     "c534379ea2c84b03a14a69bb07570be9": {
      "model_module": "@jupyter-widgets/controls",
      "model_module_version": "1.2.0",
      "model_name": "HBoxModel",
      "state": {
       "children": [
        "IPY_MODEL_738eb1690f2d4498b73fc7e3cd111e21",
        "IPY_MODEL_f2d30db9dd58475a9b22724a22d275d7",
        "IPY_MODEL_8e4de8e32c114140b9c186a0a877118f"
       ],
       "layout": "IPY_MODEL_ac4704dcce2f4d32ac782bcff071531b"
      }
     },
     "c53d820a8cb9482aad1ac14cac0fe61a": {
      "model_module": "@jupyter-widgets/base",
      "model_module_version": "1.0.0",
      "model_name": "DOMWidgetModel",
      "state": {
       "_graph_url": "https://plot.ly/~wangqiwen/22/salary-range-of-faculty-in-information-sciences/",
       "_message": "",
       "_model_name": "DOMWidgetModel",
       "_new_url": "",
       "_view_module": "graphWidget",
       "_view_module_version": "",
       "_view_name": "GraphView",
       "layout": "IPY_MODEL_4bea2c240f9a4a4daf5a337714a78e05"
      }
     },
     "c55d4bc6346042a3a0441eb98012567d": {
      "model_module": "@jupyter-widgets/controls",
      "model_module_version": "1.2.0",
      "model_name": "DescriptionStyleModel",
      "state": {
       "description_width": ""
      }
     },
     "c579036470f7400b93d14560389db3cd": {
      "model_module": "@jupyter-widgets/base",
      "model_module_version": "1.0.0",
      "model_name": "LayoutModel",
      "state": {}
     },
     "c5a35f73d02f462ab7834fdda1d741ce": {
      "model_module": "@jupyter-widgets/base",
      "model_module_version": "1.0.0",
      "model_name": "LayoutModel",
      "state": {}
     },
     "c5e4902d754b4a9f861e9a93727b8e8f": {
      "model_module": "@jupyter-widgets/base",
      "model_module_version": "1.0.0",
      "model_name": "LayoutModel",
      "state": {}
     },
     "c5fc2c3878b84c2e88f9da455f6dd98a": {
      "model_module": "@jupyter-widgets/base",
      "model_module_version": "1.0.0",
      "model_name": "LayoutModel",
      "state": {}
     },
     "c606779dea6c415eba3fda61b2236d41": {
      "model_module": "@jupyter-widgets/base",
      "model_module_version": "1.0.0",
      "model_name": "LayoutModel",
      "state": {}
     },
     "c6068e0916d345b4b256f9b0128d8c2f": {
      "model_module": "@jupyter-widgets/controls",
      "model_module_version": "1.2.0",
      "model_name": "DescriptionStyleModel",
      "state": {
       "description_width": ""
      }
     },
     "c66c44af9f4045af87b245604df47623": {
      "model_module": "@jupyter-widgets/controls",
      "model_module_version": "1.2.0",
      "model_name": "DescriptionStyleModel",
      "state": {
       "description_width": ""
      }
     },
     "c6bf9ba3203a4b0b98786e7109299217": {
      "model_module": "@jupyter-widgets/base",
      "model_module_version": "1.0.0",
      "model_name": "LayoutModel",
      "state": {}
     },
     "c72d433bdb934f029cca64dcfed21cec": {
      "model_module": "@jupyter-widgets/controls",
      "model_module_version": "1.2.0",
      "model_name": "HBoxModel",
      "state": {
       "children": [
        "IPY_MODEL_9419039eb8324cf9bd1ab5bb8d1a9afa",
        "IPY_MODEL_75f5b332cacf4a61af73233d8b0a9cfc",
        "IPY_MODEL_a1a23c33519442c19ac0a769b4aeef46"
       ],
       "layout": "IPY_MODEL_0b056ed317f94623a0768e9cc212a706"
      }
     },
     "c72e5572155a44e088b1a347461073bf": {
      "model_module": "@jupyter-widgets/controls",
      "model_module_version": "1.2.0",
      "model_name": "SliderStyleModel",
      "state": {
       "description_width": ""
      }
     },
     "c7bc1f7d4d114ede973c56d3d7041326": {
      "model_module": "@jupyter-widgets/base",
      "model_module_version": "1.0.0",
      "model_name": "LayoutModel",
      "state": {}
     },
     "c7ecd6a893e24d77b56b6be30facf8ce": {
      "model_module": "@jupyter-widgets/base",
      "model_module_version": "1.0.0",
      "model_name": "LayoutModel",
      "state": {}
     },
     "c7f7b4a50e2b4a58a204cabe1c21e4ad": {
      "model_module": "@jupyter-widgets/base",
      "model_module_version": "1.0.0",
      "model_name": "LayoutModel",
      "state": {}
     },
     "c8029325769146798813d6bc1ad6fe7b": {
      "model_module": "@jupyter-widgets/base",
      "model_module_version": "1.0.0",
      "model_name": "LayoutModel",
      "state": {}
     },
     "c85ce6b8c8b8446b85ff882f8d898bf8": {
      "model_module": "@jupyter-widgets/controls",
      "model_module_version": "1.2.0",
      "model_name": "DescriptionStyleModel",
      "state": {
       "description_width": ""
      }
     },
     "c8bcae41e8fd41978a160321865c169d": {
      "model_module": "@jupyter-widgets/controls",
      "model_module_version": "1.2.0",
      "model_name": "DropdownModel",
      "state": {
       "_options_labels": [
        "Chicago",
        "Springfield",
        "Urbana-Champaign"
       ],
       "description": "Campus:",
       "index": 2,
       "layout": "IPY_MODEL_392288f5428849f09d46f852cee50526",
       "style": "IPY_MODEL_0ae9f2ac6175468ba43b3b0b8eb07293"
      }
     },
     "c8d4adffc0f745278d5b7e1daf6bb095": {
      "model_module": "@jupyter-widgets/base",
      "model_module_version": "1.0.0",
      "model_name": "LayoutModel",
      "state": {}
     },
     "c91ff7489b2947e79748ad42475ecf78": {
      "model_module": "@jupyter-widgets/controls",
      "model_module_version": "1.2.0",
      "model_name": "DescriptionStyleModel",
      "state": {
       "description_width": ""
      }
     },
     "c94ce5cd754b48f4a8db8e64ba3fe5b7": {
      "model_module": "@jupyter-widgets/base",
      "model_module_version": "1.0.0",
      "model_name": "LayoutModel",
      "state": {}
     },
     "c95afb85cde34241b1dd4bb71c84a18a": {
      "model_module": "@jupyter-widgets/base",
      "model_module_version": "1.0.0",
      "model_name": "LayoutModel",
      "state": {}
     },
     "c973c45de66b42378523b8072861ce73": {
      "model_module": "@jupyter-widgets/base",
      "model_module_version": "1.0.0",
      "model_name": "LayoutModel",
      "state": {}
     },
     "c9832f45998b442b9e71fa0fb195a4a6": {
      "model_module": "@jupyter-widgets/controls",
      "model_module_version": "1.2.0",
      "model_name": "HBoxModel",
      "state": {
       "children": [
        "IPY_MODEL_cc5cbe3e6e8c47a4b395f52089339cd1",
        "IPY_MODEL_620dc3240ab84bc1b803e50dbcf011a5",
        "IPY_MODEL_4babc75a860342b29f1b37be2f55ab2e"
       ],
       "layout": "IPY_MODEL_005a3a2031444b3ebead7261098a8352"
      }
     },
     "c9c9d7f9f8b04e539b9607630df0a540": {
      "model_module": "@jupyter-widgets/base",
      "model_module_version": "1.0.0",
      "model_name": "LayoutModel",
      "state": {}
     },
     "ca27ec7dc0de4245a60696252e0d45b2": {
      "model_module": "@jupyter-widgets/base",
      "model_module_version": "1.0.0",
      "model_name": "DOMWidgetModel",
      "state": {
       "_graph_url": "https://plot.ly/~wangqiwen/24",
       "_message": "",
       "_model_name": "DOMWidgetModel",
       "_new_url": "",
       "_view_module": "graphWidget",
       "_view_module_version": "",
       "_view_name": "GraphView",
       "layout": "IPY_MODEL_6096dd10ab1644f6806029d3005532dc"
      }
     },
     "ca60daafc00242ab8f43a7572a2277f8": {
      "model_module": "@jupyter-widgets/base",
      "model_module_version": "1.0.0",
      "model_name": "LayoutModel",
      "state": {}
     },
     "ca668860f1024cbc87a69615f099bbf1": {
      "model_module": "@jupyter-widgets/base",
      "model_module_version": "1.0.0",
      "model_name": "LayoutModel",
      "state": {}
     },
     "caa64bda67ef45e782a8a9305790eb1c": {
      "model_module": "@jupyter-widgets/controls",
      "model_module_version": "1.2.0",
      "model_name": "HBoxModel",
      "state": {
       "children": [
        "IPY_MODEL_ad9b6773bcab44de84ebd21407f222f3",
        "IPY_MODEL_fea4516aa63046eab83512ec5bfb5866",
        "IPY_MODEL_2e051eab32a14197b2f0aff497c70e2c"
       ],
       "layout": "IPY_MODEL_af00ae9e4b76481ea1a14d58662e6561"
      }
     },
     "cac1272d59724452a29e94ff897dd1d3": {
      "model_module": "@jupyter-widgets/controls",
      "model_module_version": "1.2.0",
      "model_name": "IntSliderModel",
      "state": {
       "continuous_update": false,
       "description": "Year:",
       "layout": "IPY_MODEL_def2782af28e4be3be1306d42e400553",
       "max": 2017,
       "min": 2013,
       "style": "IPY_MODEL_14a24f58c753425194b7991da1efbfe7",
       "value": 2017
      }
     },
     "cac6576178264e638b919baabcd466e7": {
      "model_module": "@jupyter-widgets/controls",
      "model_module_version": "1.2.0",
      "model_name": "SliderStyleModel",
      "state": {
       "description_width": ""
      }
     },
     "cacffb098bb4434bac8e7da5bb6cb033": {
      "model_module": "@jupyter-widgets/controls",
      "model_module_version": "1.2.0",
      "model_name": "HBoxModel",
      "state": {
       "children": [
        "IPY_MODEL_2a2c84b4fcb94997bdb36d0c52e4315e",
        "IPY_MODEL_81cb4cab1a7242a3966342cfed1572f5",
        "IPY_MODEL_a11c18e4bda84c40b02bfd5e0b033037"
       ],
       "layout": "IPY_MODEL_a14c6fd8e0474c1fb2a6520a444c64bc"
      }
     },
     "cb0160ca0aa84b4589b13d0df00f0ff7": {
      "model_module": "@jupyter-widgets/controls",
      "model_module_version": "1.2.0",
      "model_name": "IntTextModel",
      "state": {
       "description": "Top X:",
       "layout": "IPY_MODEL_e731df3275d44e1f86f22998e632af6e",
       "step": 1,
       "style": "IPY_MODEL_13ac763379b04630b694a45a7ffdbc2a",
       "value": 25
      }
     },
     "cb48e0fba41b4c1eb3694cfb3c4fc72d": {
      "model_module": "@jupyter-widgets/controls",
      "model_module_version": "1.2.0",
      "model_name": "SliderStyleModel",
      "state": {
       "description_width": ""
      }
     },
     "cb6c0d3eaa2f4446a8e6aabeb64ed72b": {
      "model_module": "@jupyter-widgets/base",
      "model_module_version": "1.0.0",
      "model_name": "DOMWidgetModel",
      "state": {
       "_graph_url": "https://plot.ly/~wangqiwen/8/salary-range-of-faculty-in-mathematics-information-sciences/",
       "_message": "{\"task\": \"relayout\", \"update\": {\"title\": \"Salary Range of Faculty in Mathematics & History\", \"xaxis\": {\"title\": \"Salary\"}, \"yaxis\": {\"title\": \"Percentage of Faculty\"}, \"bargap\": 0.2, \"bargroupgap\": 0.1}, \"graphId\": \"d68759af-e770-4ae4-9c53-b61bc079453b\", \"uid\": \"a5112c99-a06f-41b7-876d-8de6e03a75b8\"}",
       "_model_name": "DOMWidgetModel",
       "_new_url": "",
       "_view_module": "graphWidget",
       "_view_module_version": "",
       "_view_name": "GraphView",
       "layout": "IPY_MODEL_7b239b197b7d44f2a70459ea83e87f77"
      }
     },
     "cb9fa61e4b55412aac3ecf60006e6382": {
      "model_module": "@jupyter-widgets/controls",
      "model_module_version": "1.2.0",
      "model_name": "TextModel",
      "state": {
       "description": "Department:   ",
       "layout": "IPY_MODEL_b43e9fcb8cb74bdea4be2bedca0385ca",
       "style": "IPY_MODEL_428f538523cf4d3bb5e613af62f4ba88"
      }
     },
     "cc0166362c8c4c1c8d4f06268670337c": {
      "model_module": "@jupyter-widgets/base",
      "model_module_version": "1.0.0",
      "model_name": "LayoutModel",
      "state": {}
     },
     "cc018215be7642c0a74187de63562d42": {
      "model_module": "@jupyter-widgets/controls",
      "model_module_version": "1.2.0",
      "model_name": "HBoxModel",
      "state": {
       "children": [
        "IPY_MODEL_2f9a0754d04146ed94f22c955dd9ebcb",
        "IPY_MODEL_3a987bb880624d5db41806c2d70d0f60",
        "IPY_MODEL_e26dc7f51f7c469f9829b2eb44cbda78"
       ],
       "layout": "IPY_MODEL_7030a4f37ea144f98fa10a8964deb5fe"
      }
     },
     "cc5cbe3e6e8c47a4b395f52089339cd1": {
      "model_module": "@jupyter-widgets/controls",
      "model_module_version": "1.2.0",
      "model_name": "DropdownModel",
      "state": {
       "_options_labels": [
        "Chicago",
        "Springfield",
        "Urbana-Champaign"
       ],
       "description": "Campus:",
       "index": 2,
       "layout": "IPY_MODEL_e59283648f1249e19e5a776bf1b6aba6",
       "style": "IPY_MODEL_01c4a423a75b4e92965dfd75079e55d0"
      }
     },
     "ccd1fa35610b4c8c84a462880fa20c24": {
      "model_module": "@jupyter-widgets/controls",
      "model_module_version": "1.2.0",
      "model_name": "IntTextModel",
      "state": {
       "description": "Top X:",
       "layout": "IPY_MODEL_aec586dafa224afc903b299402c7513a",
       "step": 1,
       "style": "IPY_MODEL_9f8fa2ae842f43578849775f3a70bdf2",
       "value": 10
      }
     },
     "cce6b0a0f8b64a479ae3453fa7ebc50a": {
      "model_module": "@jupyter-widgets/base",
      "model_module_version": "1.0.0",
      "model_name": "LayoutModel",
      "state": {}
     },
     "ccefcb7f4ef34a9ab618e6f24ec02649": {
      "model_module": "@jupyter-widgets/controls",
      "model_module_version": "1.2.0",
      "model_name": "DescriptionStyleModel",
      "state": {
       "description_width": ""
      }
     },
     "cd1177cdef9a4b11af6b89f86b7f064d": {
      "model_module": "@jupyter-widgets/controls",
      "model_module_version": "1.2.0",
      "model_name": "SliderStyleModel",
      "state": {
       "description_width": ""
      }
     },
     "cd36b7d819404a73a557189be4b85213": {
      "model_module": "@jupyter-widgets/controls",
      "model_module_version": "1.2.0",
      "model_name": "IntSliderModel",
      "state": {
       "continuous_update": false,
       "description": "Year:",
       "layout": "IPY_MODEL_39db3ae9b9fe447db2016eedbbc8de39",
       "max": 2017,
       "min": 2013,
       "style": "IPY_MODEL_51bbb4a589ce460f8a3cfa17a2ffcef8",
       "value": 2017
      }
     },
     "cd485420980e4d62b461388f9d59a8f3": {
      "model_module": "@jupyter-widgets/base",
      "model_module_version": "1.0.0",
      "model_name": "DOMWidgetModel",
      "state": {
       "_graph_url": "https://plot.ly/~wangqiwen/8/salary-range-of-faculty-in-information-sciences-computer-science/",
       "_message": "",
       "_model_name": "DOMWidgetModel",
       "_new_url": "",
       "_view_module": "graphWidget",
       "_view_module_version": "",
       "_view_name": "GraphView",
       "layout": "IPY_MODEL_4634c9e929e44677b268a1ffc812c9e1"
      }
     },
     "cd5d54b98032478f92d4311c8a500b85": {
      "model_module": "@jupyter-widgets/base",
      "model_module_version": "1.0.0",
      "model_name": "LayoutModel",
      "state": {}
     },
     "cd6c1e5ef0e646239ec5d42aa6c51f55": {
      "model_module": "@jupyter-widgets/base",
      "model_module_version": "1.0.0",
      "model_name": "LayoutModel",
      "state": {}
     },
     "cd93ce18962a492391cc90ff0f0b5bd8": {
      "model_module": "@jupyter-widgets/controls",
      "model_module_version": "1.2.0",
      "model_name": "DropdownModel",
      "state": {
       "_options_labels": [
        "Chicago",
        "Springfield",
        "Urbana-Champaign"
       ],
       "description": "Campus:",
       "index": 2,
       "layout": "IPY_MODEL_3d312af64a854021a7dc99331ec61816",
       "style": "IPY_MODEL_8b0e4075080d41e5a2739c83c5f0ef50"
      }
     },
     "ce8384c12bb6482f99773b2364ad89f3": {
      "model_module": "@jupyter-widgets/base",
      "model_module_version": "1.0.0",
      "model_name": "LayoutModel",
      "state": {}
     },
     "cec7f2454d7c4d5492d9aaf675204638": {
      "model_module": "@jupyter-widgets/base",
      "model_module_version": "1.0.0",
      "model_name": "LayoutModel",
      "state": {}
     },
     "cf2afad82f804310b99b5a5ffd8b01c2": {
      "model_module": "@jupyter-widgets/controls",
      "model_module_version": "1.2.0",
      "model_name": "HBoxModel",
      "state": {
       "children": [
        "IPY_MODEL_64dcc25d2afe4f0d9b3e983b7891218e",
        "IPY_MODEL_ed297428bc2c4351b020d009e05d30f0",
        "IPY_MODEL_57f8098eb742465ea27838b329b232ee"
       ],
       "layout": "IPY_MODEL_7df8dacbad9947039de1b810e3549ae1"
      }
     },
     "cf918e22a1314d3483765fbbd2be90e8": {
      "model_module": "@jupyter-widgets/controls",
      "model_module_version": "1.2.0",
      "model_name": "TabModel",
      "state": {
       "_titles": {
        "0": "Department 1",
        "1": "Department 2",
        "2": "Department 3",
        "3": "Department 4"
       },
       "children": [
        "IPY_MODEL_34c2cb6b0cd44ac4a67d42fec2186d2b",
        "IPY_MODEL_3694f4508e574090bf941d55bef6bb6a",
        "IPY_MODEL_caa64bda67ef45e782a8a9305790eb1c",
        "IPY_MODEL_e4a83de995614c28a1007ff199c66e30"
       ],
       "layout": "IPY_MODEL_36a5252ce758493dade843d654340096",
       "selected_index": 1
      }
     },
     "cfea219d5e184e00a26a13416ea32af0": {
      "model_module": "@jupyter-widgets/base",
      "model_module_version": "1.0.0",
      "model_name": "DOMWidgetModel",
      "state": {
       "_graph_url": "https://plot.ly/~wangqiwen/20/median-salary-median-salary-median-salary/",
       "_message": "{\"task\": \"relayout\", \"update\": [\"2016 Median Salary of PROF in Urbana-Champaign\", \"2016 Median Salary of PROF in Chicago\", \"2016 Median Salary of PROF in Springfield\"], \"graphId\": \"e0e081ef-8e58-43f5-bd3b-37248c1e5bda\", \"uid\": \"dd19975d-dbbb-4607-a1bd-39409acb43af\"}",
       "_model_name": "DOMWidgetModel",
       "_new_url": "",
       "_view_module": "graphWidget",
       "_view_module_version": "",
       "_view_name": "GraphView",
       "layout": "IPY_MODEL_e6bbaacc93b04120926591a0c6da1d73"
      }
     },
     "cffca5728e8f48a29d6403ef3f514988": {
      "model_module": "@jupyter-widgets/base",
      "model_module_version": "1.0.0",
      "model_name": "DOMWidgetModel",
      "state": {
       "_graph_url": "https://plot.ly/~wangqiwen/20/median-salary-median-salary-median-salary/",
       "_message": "{\"task\": \"relayout\", \"update\": [\"2017 Median Salary of ASSOC DIR in Urbana-Champaign\", \"2017 Median Salary of ASSOC DIR in Chicago\", \"2017 Median Salary of ASSOC DIR in Springfield\"], \"graphId\": \"d3cd6918-eb70-46a4-a661-554b032b2068\", \"uid\": \"6e6679b0-d460-415f-afac-c2f8715fc736\"}",
       "_model_name": "DOMWidgetModel",
       "_new_url": "",
       "_view_module": "graphWidget",
       "_view_module_version": "",
       "_view_name": "GraphView",
       "layout": "IPY_MODEL_32158de70b9c4626ba96e4549bc79edc"
      }
     },
     "d02d9aa88e224daa8ab51df54e62a814": {
      "model_module": "@jupyter-widgets/base",
      "model_module_version": "1.0.0",
      "model_name": "LayoutModel",
      "state": {}
     },
     "d0448c47ea9a42aabbe84fa655407115": {
      "model_module": "@jupyter-widgets/base",
      "model_module_version": "1.0.0",
      "model_name": "LayoutModel",
      "state": {}
     },
     "d175cd02c7fe4a3d95ab016309301c9c": {
      "model_module": "@jupyter-widgets/base",
      "model_module_version": "1.0.0",
      "model_name": "DOMWidgetModel",
      "state": {
       "_graph_url": "https://plot.ly/~wangqiwen/20/median-salary-median-salary-median-salary/",
       "_message": "",
       "_model_name": "DOMWidgetModel",
       "_new_url": "",
       "_view_module": "graphWidget",
       "_view_module_version": "",
       "_view_name": "GraphView",
       "layout": "IPY_MODEL_a0db5ac0b4f24a6980a684e0aeee5d7f"
      }
     },
     "d1b11564982c4dbcbb85c25242cf0c88": {
      "model_module": "@jupyter-widgets/controls",
      "model_module_version": "1.2.0",
      "model_name": "DescriptionStyleModel",
      "state": {
       "description_width": ""
      }
     },
     "d1f736c6697f4383a242e58419246cf2": {
      "model_module": "@jupyter-widgets/base",
      "model_module_version": "1.0.0",
      "model_name": "LayoutModel",
      "state": {}
     },
     "d24d76edcee24faf976f301f886cd6ae": {
      "model_module": "@jupyter-widgets/controls",
      "model_module_version": "1.2.0",
      "model_name": "TextModel",
      "state": {
       "description": "Department:   ",
       "layout": "IPY_MODEL_f956c7e2d6074e97b8ed0e26742007a1",
       "style": "IPY_MODEL_e98413af61a045dd9dbcc61d80d3a16c"
      }
     },
     "d26b9351a16949ddb8ce8fd2e89cddcd": {
      "model_module": "@jupyter-widgets/base",
      "model_module_version": "1.0.0",
      "model_name": "LayoutModel",
      "state": {}
     },
     "d2804078a049410f8c7e68804c49edd7": {
      "model_module": "@jupyter-widgets/controls",
      "model_module_version": "1.2.0",
      "model_name": "IntSliderModel",
      "state": {
       "continuous_update": false,
       "description": "Year:",
       "layout": "IPY_MODEL_e6d5cb7125b44525ad1b017c2e0cc62e",
       "max": 2017,
       "min": 2013,
       "style": "IPY_MODEL_1e1487fb0b3a416caf94e03448faf37b",
       "value": 2017
      }
     },
     "d28ed94ce1cf4fa5be593c5e3916944d": {
      "model_module": "@jupyter-widgets/controls",
      "model_module_version": "1.2.0",
      "model_name": "HBoxModel",
      "state": {
       "children": [
        "IPY_MODEL_e10532de7f34420e8f309eb1dbb15ae3",
        "IPY_MODEL_5de3d5b4029f448bb8db721a1a2afbab",
        "IPY_MODEL_31dabedb29b54745a143073ede3cdf7f"
       ],
       "layout": "IPY_MODEL_01a1099ea889496e808f6d2086ad67ab"
      }
     },
     "d29cc4cb8380406bb870c75a8649ed49": {
      "model_module": "@jupyter-widgets/controls",
      "model_module_version": "1.2.0",
      "model_name": "DescriptionStyleModel",
      "state": {
       "description_width": ""
      }
     },
     "d2ff41579cfb40f497affd2c49ac85a1": {
      "model_module": "@jupyter-widgets/controls",
      "model_module_version": "1.2.0",
      "model_name": "DropdownModel",
      "state": {
       "_options_labels": [
        "Chicago",
        "Springfield",
        "Urbana-Champaign"
       ],
       "description": "Campus:",
       "index": 2,
       "layout": "IPY_MODEL_0f148aced83442b0b7ca1817c24040d6",
       "style": "IPY_MODEL_7fde567ad67b49c2a5d5be179553ad11"
      }
     },
     "d34968f0dee04f9597ebbe9cd70dae33": {
      "model_module": "@jupyter-widgets/controls",
      "model_module_version": "1.2.0",
      "model_name": "IntSliderModel",
      "state": {
       "continuous_update": false,
       "description": "Year:",
       "layout": "IPY_MODEL_ca668860f1024cbc87a69615f099bbf1",
       "max": 2017,
       "min": 2013,
       "style": "IPY_MODEL_3780ed5145a3455883957eb194789d02",
       "value": 2016
      }
     },
     "d34e2d13fa5f4af4b480a84b1b10e3fd": {
      "model_module": "@jupyter-widgets/controls",
      "model_module_version": "1.2.0",
      "model_name": "TextModel",
      "state": {
       "description": "Department:   ",
       "layout": "IPY_MODEL_318700fbb1334eff9b002d29a9266d54",
       "style": "IPY_MODEL_a2d8000a8466425bac200f26280eb996",
       "value": "Mathematics"
      }
     },
     "d38723c961634ebe957f1482cf4ad554": {
      "model_module": "@jupyter-widgets/controls",
      "model_module_version": "1.2.0",
      "model_name": "IntSliderModel",
      "state": {
       "continuous_update": false,
       "description": "Year:",
       "layout": "IPY_MODEL_fbc681e349e140f1acd9bb1f5f5715f8",
       "max": 2017,
       "min": 2013,
       "style": "IPY_MODEL_360135faa6884fe785b692483c0eedb0",
       "value": 2017
      }
     },
     "d3aca8bf0b4d4bc694c7c9473eb85d0a": {
      "model_module": "@jupyter-widgets/base",
      "model_module_version": "1.0.0",
      "model_name": "DOMWidgetModel",
      "state": {
       "_graph_url": "https://plot.ly/~wangqiwen/20/median-salary-median-salary-median-salary/",
       "_message": "{\"task\": \"relayout\", \"update\": {\"annotations[0].text\": \"2017 Median Salary of ASSOC PROF in Urbana-Champaign\"}, \"graphId\": \"6493d29b-b2de-4676-8e4f-9caac3315527\", \"uid\": \"9748adee-3912-4aed-8ae1-04e9e58acb44\"}",
       "_model_name": "DOMWidgetModel",
       "_new_url": "",
       "_view_module": "graphWidget",
       "_view_module_version": "",
       "_view_name": "GraphView",
       "layout": "IPY_MODEL_72a105485a74463ba0e511e447bc4024"
      }
     },
     "d44d5c91a62f4dd0a88f5258f80334b7": {
      "model_module": "@jupyter-widgets/controls",
      "model_module_version": "1.2.0",
      "model_name": "SliderStyleModel",
      "state": {
       "description_width": ""
      }
     },
     "d4ca988883214d08b6c06250122bdf19": {
      "model_module": "@jupyter-widgets/controls",
      "model_module_version": "1.2.0",
      "model_name": "DescriptionStyleModel",
      "state": {
       "description_width": ""
      }
     },
     "d4f9585d2cf6468b9c9665fe281233e5": {
      "model_module": "@jupyter-widgets/base",
      "model_module_version": "1.0.0",
      "model_name": "LayoutModel",
      "state": {}
     },
     "d4f9c2ffa90a45d8acb59dd59f1f2e26": {
      "model_module": "@jupyter-widgets/base",
      "model_module_version": "1.0.0",
      "model_name": "LayoutModel",
      "state": {}
     },
     "d50d5f4db2904ca88b3051be94d34a21": {
      "model_module": "@jupyter-widgets/controls",
      "model_module_version": "1.2.0",
      "model_name": "SliderStyleModel",
      "state": {
       "description_width": ""
      }
     },
     "d53cf570373b48fe9371af52a365830e": {
      "model_module": "@jupyter-widgets/base",
      "model_module_version": "1.0.0",
      "model_name": "LayoutModel",
      "state": {}
     },
     "d549fa65ef24469f886729c497d047e4": {
      "model_module": "@jupyter-widgets/controls",
      "model_module_version": "1.2.0",
      "model_name": "DescriptionStyleModel",
      "state": {
       "description_width": ""
      }
     },
     "d54a408b1c9e46bbacbd315f6df322f8": {
      "model_module": "@jupyter-widgets/controls",
      "model_module_version": "1.2.0",
      "model_name": "HBoxModel",
      "state": {
       "children": [
        "IPY_MODEL_5bc049ee031f4c37b2a42a092a2725fc",
        "IPY_MODEL_7f1245a15f0e4df4af283720f692291f",
        "IPY_MODEL_233146ee854d42c6aaeb54e05287de16"
       ],
       "layout": "IPY_MODEL_b749469ce5284eb59b3f161d0b132691"
      }
     },
     "d55b5633036f4c02825cd94331ca6ffd": {
      "model_module": "@jupyter-widgets/controls",
      "model_module_version": "1.2.0",
      "model_name": "IntSliderModel",
      "state": {
       "continuous_update": false,
       "description": "Year:",
       "layout": "IPY_MODEL_c0fa471810d549f7ae0ad33739401dec",
       "max": 2017,
       "min": 2013,
       "style": "IPY_MODEL_c72e5572155a44e088b1a347461073bf",
       "value": 2017
      }
     },
     "d55cfc77fcc245b0aed005e70722fcae": {
      "model_module": "@jupyter-widgets/controls",
      "model_module_version": "1.2.0",
      "model_name": "HBoxModel",
      "state": {
       "children": [
        "IPY_MODEL_83328529116642f492594d5a9d49f345",
        "IPY_MODEL_a1433d13517444c182210ec5c5785b70",
        "IPY_MODEL_cd36b7d819404a73a557189be4b85213"
       ],
       "layout": "IPY_MODEL_e9fd0c36127a4b6da7ba6450c73c4449"
      }
     },
     "d5a6ea650bad4339851336224b98813c": {
      "model_module": "@jupyter-widgets/controls",
      "model_module_version": "1.2.0",
      "model_name": "DropdownModel",
      "state": {
       "_options_labels": [
        "Chicago",
        "Springfield",
        "Urbana-Champaign"
       ],
       "description": "Campus:",
       "index": 2,
       "layout": "IPY_MODEL_7768343e71504b06ae190422d8963e68",
       "style": "IPY_MODEL_a58d4ae427a74b7e9a9827fd21d6c656"
      }
     },
     "d5f0be0bb57d4796a27f3a56a6629ea6": {
      "model_module": "@jupyter-widgets/base",
      "model_module_version": "1.0.0",
      "model_name": "LayoutModel",
      "state": {}
     },
     "d67f682a7e484eb5833ae999e0194be2": {
      "model_module": "@jupyter-widgets/controls",
      "model_module_version": "1.2.0",
      "model_name": "DropdownModel",
      "state": {
       "_options_labels": [
        "PROF",
        "ASSOC PROF",
        "ASST PROF",
        "LECTURER",
        "ASSOC DIR",
        "CLIN ASST PROF",
        "SR LECTURER",
        "RES SCI",
        "RES ASST PROF",
        "SR RES SCI",
        "POSTDOC RES ASSOC",
        "CLIN PROF",
        "ASSOC PROF UNIV LIBRARY",
        "ASST PROF UNIV LIBRARY",
        "DEAN",
        "JL DOOB RES ASST PROF",
        "CLIN ASSOC PROF",
        "VST ASST PROF",
        "RES ASSOC PROF",
        "ASST DEAN",
        "RES PROF",
        "PROF (RT)"
       ],
       "description": "Job Title:",
       "index": 1,
       "layout": "IPY_MODEL_bfea5f1350ab4ac683b2f29443227911",
       "style": "IPY_MODEL_2fac3923d7be44b691f3f88a6f7207d5"
      }
     },
     "d68c0490705c413583ab195daab89011": {
      "model_module": "@jupyter-widgets/controls",
      "model_module_version": "1.2.0",
      "model_name": "IntSliderModel",
      "state": {
       "continuous_update": false,
       "description": "Year:",
       "layout": "IPY_MODEL_086275d6ef8041cf9619e94380febcb0",
       "max": 2017,
       "min": 2013,
       "style": "IPY_MODEL_e7ab2a5e4fb64161b78b03cd9aa5e479",
       "value": 2017
      }
     },
     "d6f868c23b944f3db12ecb2de9c5d54a": {
      "model_module": "@jupyter-widgets/controls",
      "model_module_version": "1.2.0",
      "model_name": "DescriptionStyleModel",
      "state": {
       "description_width": ""
      }
     },
     "d710093169124f509d9cf7027a181272": {
      "model_module": "@jupyter-widgets/controls",
      "model_module_version": "1.2.0",
      "model_name": "SliderStyleModel",
      "state": {
       "description_width": ""
      }
     },
     "d7292c6efa8c4585b5c8c30aa872a740": {
      "model_module": "@jupyter-widgets/base",
      "model_module_version": "1.0.0",
      "model_name": "LayoutModel",
      "state": {}
     },
     "d7391d6bd1da4efea1a7e11614d687ee": {
      "model_module": "@jupyter-widgets/controls",
      "model_module_version": "1.2.0",
      "model_name": "TextModel",
      "state": {
       "description": "Department:   ",
       "layout": "IPY_MODEL_62c6f90b30194d76adf39cbb7f639856",
       "style": "IPY_MODEL_ff1459f086e5428892d2fa81adf1d32c"
      }
     },
     "d73e2f4d562246bb9303d033dffd44af": {
      "model_module": "@jupyter-widgets/controls",
      "model_module_version": "1.2.0",
      "model_name": "IntSliderModel",
      "state": {
       "continuous_update": false,
       "description": "Year:",
       "layout": "IPY_MODEL_8bbd3fcbf6164e91accfce5494ecc12c",
       "max": 2017,
       "min": 2013,
       "style": "IPY_MODEL_450116d98f1a48f8bc231f914f5e08cd",
       "value": 2016
      }
     },
     "d79c56a99ea8458a83d41abda5080e04": {
      "model_module": "@jupyter-widgets/controls",
      "model_module_version": "1.2.0",
      "model_name": "DescriptionStyleModel",
      "state": {
       "description_width": ""
      }
     },
     "d7c72373487b495b993227aaf9e23594": {
      "model_module": "@jupyter-widgets/base",
      "model_module_version": "1.0.0",
      "model_name": "LayoutModel",
      "state": {}
     },
     "d80f0ab4f6dc4c469d7faf3c532879f7": {
      "model_module": "@jupyter-widgets/base",
      "model_module_version": "1.0.0",
      "model_name": "LayoutModel",
      "state": {}
     },
     "d85ffee5c749490f9960d41a3c455589": {
      "model_module": "@jupyter-widgets/base",
      "model_module_version": "1.0.0",
      "model_name": "DOMWidgetModel",
      "state": {
       "_graph_url": "https://plot.ly/~wangqiwen/20/median-salary-median-salary-median-salary/",
       "_message": "{\"task\": \"relayout\", \"update\": {\"subplot_titles\": [\"2017 Median Salary of PROF in Urbana-Champaign\", \"2017 Median Salary of PROF in Chicago\", \"2017 Median Salary of PROF in Springfield\"]}, \"graphId\": \"29afd637-328e-421e-8e20-b67e473a2ca5\", \"uid\": \"e657449e-bc43-4f3a-b81e-b1bccd2f6eb9\"}",
       "_model_name": "DOMWidgetModel",
       "_new_url": "",
       "_view_module": "graphWidget",
       "_view_module_version": "",
       "_view_name": "GraphView",
       "layout": "IPY_MODEL_0182d666593c41d7b9c54aa2e91727e3"
      }
     },
     "d87c0d8f1c9847598e246736d2c25966": {
      "model_module": "@jupyter-widgets/base",
      "model_module_version": "1.0.0",
      "model_name": "DOMWidgetModel",
      "state": {
       "_graph_url": "https://plot.ly/~wangqiwen/18/median-salary-median-salary-median-salary/",
       "_message": "",
       "_model_name": "DOMWidgetModel",
       "_new_url": "",
       "_view_module": "graphWidget",
       "_view_module_version": "",
       "_view_name": "GraphView",
       "layout": "IPY_MODEL_6fc4c2f9420e4452a4066c177a4d7a44"
      }
     },
     "d88182f834bb4c22b30eeaa6f750cf17": {
      "model_module": "@jupyter-widgets/base",
      "model_module_version": "1.0.0",
      "model_name": "LayoutModel",
      "state": {}
     },
     "d8913aa7f75e440484387df5490e4635": {
      "model_module": "@jupyter-widgets/base",
      "model_module_version": "1.0.0",
      "model_name": "LayoutModel",
      "state": {}
     },
     "d8a2cd73a11c423aaf21adf22612a85d": {
      "model_module": "@jupyter-widgets/controls",
      "model_module_version": "1.2.0",
      "model_name": "DropdownModel",
      "state": {
       "_options_labels": [
        "Chicago",
        "Springfield",
        "Urbana-Champaign"
       ],
       "description": "Campus:",
       "index": 2,
       "layout": "IPY_MODEL_009421578f074c3f9f2dce7ecfff3aa1",
       "style": "IPY_MODEL_2dd98de6c4294c5f900bcb5c945863bd"
      }
     },
     "d8b45d201cab4b55a6cceb752e51177d": {
      "model_module": "@jupyter-widgets/base",
      "model_module_version": "1.0.0",
      "model_name": "LayoutModel",
      "state": {}
     },
     "d8f5d12c704b49f6b258838486b5aa51": {
      "model_module": "@jupyter-widgets/controls",
      "model_module_version": "1.2.0",
      "model_name": "DescriptionStyleModel",
      "state": {
       "description_width": ""
      }
     },
     "d920fd68379342e584ab53e2036f007a": {
      "model_module": "@jupyter-widgets/controls",
      "model_module_version": "1.2.0",
      "model_name": "SliderStyleModel",
      "state": {
       "description_width": ""
      }
     },
     "d93b547248e144bb9774d5d0103257d6": {
      "model_module": "@jupyter-widgets/controls",
      "model_module_version": "1.2.0",
      "model_name": "TextModel",
      "state": {
       "description": "Department 2",
       "layout": "IPY_MODEL_a061ff454ab44a7ba0bc7ca9d6ba8934",
       "style": "IPY_MODEL_4ad95858f9e1475f8b34f89a7b216c54"
      }
     },
     "d9723155afcd40c1814063a4a071ad6b": {
      "model_module": "@jupyter-widgets/base",
      "model_module_version": "1.0.0",
      "model_name": "DOMWidgetModel",
      "state": {
       "_graph_url": "https://plot.ly/~wangqiwen/20/median-salary-median-salary-median-salary/",
       "_message": "",
       "_model_name": "DOMWidgetModel",
       "_new_url": "",
       "_view_module": "graphWidget",
       "_view_module_version": "",
       "_view_name": "GraphView",
       "layout": "IPY_MODEL_e153945d71a64493b30e1d6b39af8f2a"
      }
     },
     "d97a634c09dd4e6a954a96a7b7f552e3": {
      "model_module": "@jupyter-widgets/controls",
      "model_module_version": "1.2.0",
      "model_name": "SliderStyleModel",
      "state": {
       "description_width": ""
      }
     },
     "d98c18a0ff9f41fb9d27eb6908015e03": {
      "model_module": "@jupyter-widgets/base",
      "model_module_version": "1.0.0",
      "model_name": "LayoutModel",
      "state": {}
     },
     "d9ceec0b4fdd48dc9d24149867b55dd0": {
      "model_module": "@jupyter-widgets/base",
      "model_module_version": "1.0.0",
      "model_name": "DOMWidgetModel",
      "state": {
       "_graph_url": "https://plot.ly/~wangqiwen/16/number-of-faculty-in-the-dataset/",
       "_message": "",
       "_model_name": "DOMWidgetModel",
       "_new_url": "",
       "_view_module": "graphWidget",
       "_view_module_version": "",
       "_view_name": "GraphView",
       "layout": "IPY_MODEL_da36414238ee4481a8a3fedfc01e3f37"
      }
     },
     "da36414238ee4481a8a3fedfc01e3f37": {
      "model_module": "@jupyter-widgets/base",
      "model_module_version": "1.0.0",
      "model_name": "LayoutModel",
      "state": {}
     },
     "da8c8bd64f36495086d1395de16a39aa": {
      "model_module": "@jupyter-widgets/controls",
      "model_module_version": "1.2.0",
      "model_name": "IntSliderModel",
      "state": {
       "continuous_update": false,
       "description": "Year:",
       "layout": "IPY_MODEL_760b53e014b34d3a8fc2c7bfd66e7a9d",
       "max": 2017,
       "min": 2013,
       "style": "IPY_MODEL_1144cb7660f14009b0ef7c05adf0acd4",
       "value": 2017
      }
     },
     "da92b0b02fca46e4a9585ab9926cfaab": {
      "model_module": "@jupyter-widgets/controls",
      "model_module_version": "1.2.0",
      "model_name": "TabModel",
      "state": {
       "_titles": {
        "0": "Department 1",
        "1": "Department 2",
        "2": "Department 3",
        "3": "Department 4",
        "4": "Department 5"
       },
       "children": [
        "IPY_MODEL_a74535868dca4541925251de6622e0c7",
        "IPY_MODEL_4ab0ef5bccd240809c233cfde997833e",
        "IPY_MODEL_689ce79830194f7ba7f1ec93db29f5cd",
        "IPY_MODEL_de064e254a4643c787381c8f9d9b85b2",
        "IPY_MODEL_e7a1154557d04fa5b3c1dc658f24ff7d"
       ],
       "layout": "IPY_MODEL_19834d247ea344489dc3976848c2d734"
      }
     },
     "da9eb1160c7b4d398e9723341c069298": {
      "model_module": "@jupyter-widgets/base",
      "model_module_version": "1.0.0",
      "model_name": "LayoutModel",
      "state": {}
     },
     "dae201f0cfa34c70a36bd29b38e22be3": {
      "model_module": "@jupyter-widgets/base",
      "model_module_version": "1.0.0",
      "model_name": "DOMWidgetModel",
      "state": {
       "_graph_url": "https://plot.ly/~wangqiwen/8/salary-range-of-faculty-in-information-sciences-computer-science/",
       "_message": "",
       "_model_name": "DOMWidgetModel",
       "_new_url": "",
       "_view_module": "graphWidget",
       "_view_module_version": "",
       "_view_name": "GraphView",
       "layout": "IPY_MODEL_6129e38d84a34e3ea9899e3b2bedc9c5"
      }
     },
     "daeb942159de41088c2f0a4fb069d554": {
      "model_module": "@jupyter-widgets/base",
      "model_module_version": "1.0.0",
      "model_name": "LayoutModel",
      "state": {}
     },
     "daef8aaae4544173af9457c5865346af": {
      "model_module": "@jupyter-widgets/base",
      "model_module_version": "1.0.0",
      "model_name": "LayoutModel",
      "state": {}
     },
     "db049114b4ca44c2ad44c0715d026445": {
      "model_module": "@jupyter-widgets/base",
      "model_module_version": "1.0.0",
      "model_name": "LayoutModel",
      "state": {}
     },
     "db7d4697840a4909a5227c0d225318f5": {
      "model_module": "@jupyter-widgets/controls",
      "model_module_version": "1.2.0",
      "model_name": "DescriptionStyleModel",
      "state": {
       "description_width": ""
      }
     },
     "dbc9cfdf716e4e7780f15019985fe913": {
      "model_module": "@jupyter-widgets/controls",
      "model_module_version": "1.2.0",
      "model_name": "DescriptionStyleModel",
      "state": {
       "description_width": ""
      }
     },
     "dbced9a02e7141939db4203f3bddf6a0": {
      "model_module": "@jupyter-widgets/base",
      "model_module_version": "1.0.0",
      "model_name": "LayoutModel",
      "state": {}
     },
     "dbea1ed8371b49d086ced827beae2a1c": {
      "model_module": "@jupyter-widgets/controls",
      "model_module_version": "1.2.0",
      "model_name": "DescriptionStyleModel",
      "state": {
       "description_width": ""
      }
     },
     "dc911db5020b434ea10a3c094d52461f": {
      "model_module": "@jupyter-widgets/base",
      "model_module_version": "1.0.0",
      "model_name": "LayoutModel",
      "state": {}
     },
     "dca2905845b4419fbb57e108d778d9b9": {
      "model_module": "@jupyter-widgets/base",
      "model_module_version": "1.0.0",
      "model_name": "LayoutModel",
      "state": {}
     },
     "dcc12712dfe848c2bce9d33a1ba648c2": {
      "model_module": "@jupyter-widgets/base",
      "model_module_version": "1.0.0",
      "model_name": "LayoutModel",
      "state": {}
     },
     "dcc2908a9c494b86aed39d746e5dd81d": {
      "model_module": "@jupyter-widgets/controls",
      "model_module_version": "1.2.0",
      "model_name": "SliderStyleModel",
      "state": {
       "description_width": ""
      }
     },
     "dcebb8d9a534458882be29e7b925b1cf": {
      "model_module": "@jupyter-widgets/base",
      "model_module_version": "1.0.0",
      "model_name": "LayoutModel",
      "state": {}
     },
     "dcf5501bd3cd4596a8b213f980cc0e36": {
      "model_module": "@jupyter-widgets/base",
      "model_module_version": "1.0.0",
      "model_name": "LayoutModel",
      "state": {}
     },
     "dd3b5c6b26e6460aa5b26ce2a4ded27c": {
      "model_module": "@jupyter-widgets/base",
      "model_module_version": "1.0.0",
      "model_name": "LayoutModel",
      "state": {}
     },
     "dd733c4025514f2c8e6ef1b2c69ede58": {
      "model_module": "@jupyter-widgets/base",
      "model_module_version": "1.0.0",
      "model_name": "LayoutModel",
      "state": {}
     },
     "dd957695a3fd4b4ebc8ba0a9dd09a9c3": {
      "model_module": "@jupyter-widgets/base",
      "model_module_version": "1.0.0",
      "model_name": "LayoutModel",
      "state": {}
     },
     "dd95b532baa644b7bffcf5497f509c9e": {
      "model_module": "@jupyter-widgets/controls",
      "model_module_version": "1.2.0",
      "model_name": "IntSliderModel",
      "state": {
       "continuous_update": false,
       "description": "Year:",
       "layout": "IPY_MODEL_370b2a535a10443eac328045db3219c0",
       "max": 2017,
       "min": 2013,
       "style": "IPY_MODEL_3b93a4de0fd940dfba578fe4fda0ab87",
       "value": 2017
      }
     },
     "ddd7806e316b4f949720cc9a4727b04a": {
      "model_module": "@jupyter-widgets/controls",
      "model_module_version": "1.2.0",
      "model_name": "DescriptionStyleModel",
      "state": {
       "description_width": ""
      }
     },
     "dddc633c77d940faa4ed801db3c8b032": {
      "model_module": "@jupyter-widgets/base",
      "model_module_version": "1.0.0",
      "model_name": "LayoutModel",
      "state": {}
     },
     "de064e254a4643c787381c8f9d9b85b2": {
      "model_module": "@jupyter-widgets/controls",
      "model_module_version": "1.2.0",
      "model_name": "HBoxModel",
      "state": {
       "children": [
        "IPY_MODEL_c8bcae41e8fd41978a160321865c169d",
        "IPY_MODEL_b424aa51207940d5b3dc6057d9540fff",
        "IPY_MODEL_5ff0396cd0f7434b94a464c87ff4cdd7"
       ],
       "layout": "IPY_MODEL_2044c55237794a628c95d9d3eed59448"
      }
     },
     "de2ae58fca6646f082dfbcce60a70e37": {
      "model_module": "@jupyter-widgets/controls",
      "model_module_version": "1.2.0",
      "model_name": "DropdownModel",
      "state": {
       "_options_labels": [
        "Chicago",
        "Springfield",
        "Urbana-Champaign"
       ],
       "description": "Campus:",
       "index": 2,
       "layout": "IPY_MODEL_3a0a21f15dea4171a672b3206a8b4e8a",
       "style": "IPY_MODEL_d6f868c23b944f3db12ecb2de9c5d54a"
      }
     },
     "de5442a682f14c46be9d164d883e5dbe": {
      "model_module": "@jupyter-widgets/controls",
      "model_module_version": "1.2.0",
      "model_name": "DropdownModel",
      "state": {
       "_options_labels": [
        "Chicago",
        "Springfield",
        "Urbana-Champaign"
       ],
       "description": "Campus:",
       "index": 2,
       "layout": "IPY_MODEL_56bf130e67f74c3890b9a638c26f49a5",
       "style": "IPY_MODEL_900dbde916454e688dab6ef64b6b35eb"
      }
     },
     "deaaf58d42fe4788b74fe790e648c799": {
      "model_module": "@jupyter-widgets/controls",
      "model_module_version": "1.2.0",
      "model_name": "IntSliderModel",
      "state": {
       "continuous_update": false,
       "description": "Year:",
       "layout": "IPY_MODEL_e6030acbec974b79a4b80a9ab874caf0",
       "max": 2017,
       "min": 2013,
       "style": "IPY_MODEL_77b92d95210d43d8b6637bc87398e971",
       "value": 2017
      }
     },
     "deb6d956a29b425ba7c64665ffac7b27": {
      "model_module": "@jupyter-widgets/controls",
      "model_module_version": "1.2.0",
      "model_name": "IntSliderModel",
      "state": {
       "continuous_update": false,
       "description": "Year:",
       "layout": "IPY_MODEL_409e02410812410097692e61dc4f0b46",
       "max": 2017,
       "min": 2013,
       "style": "IPY_MODEL_4af943d99934449092a2e005a3e11f6e",
       "value": 2017
      }
     },
     "def2782af28e4be3be1306d42e400553": {
      "model_module": "@jupyter-widgets/base",
      "model_module_version": "1.0.0",
      "model_name": "LayoutModel",
      "state": {}
     },
     "df00186163cc4ff7b52b315f52be4a36": {
      "model_module": "@jupyter-widgets/base",
      "model_module_version": "1.0.0",
      "model_name": "DOMWidgetModel",
      "state": {
       "_graph_url": "https://plot.ly/~wangqiwen/22/salary-range-of-faculty-in-information-sciences/",
       "_message": "{\"task\": \"relayout\", \"update\": {\"title\": \"Salary Range of Faculty in Mathematics\", \"xaxis\": {\"title\": \"Salary\"}, \"yaxis\": {\"title\": \"Percentage of Faculty\"}, \"bargroupgap\": 0.1}, \"graphId\": \"e5d52983-55fa-40f6-8878-10c70ac5be89\", \"uid\": \"e5c35253-1641-4aba-9001-ac6e53d5c76c\"}",
       "_model_name": "DOMWidgetModel",
       "_new_url": "",
       "_view_module": "graphWidget",
       "_view_module_version": "",
       "_view_name": "GraphView",
       "layout": "IPY_MODEL_e6aa63cfe4d64ee0b90e2aaf8876e7f9"
      }
     },
     "df09544996d1470ba0e477976178063c": {
      "model_module": "@jupyter-widgets/controls",
      "model_module_version": "1.2.0",
      "model_name": "HBoxModel",
      "state": {
       "children": [
        "IPY_MODEL_78201851056449cb84ea5fbda519aba3",
        "IPY_MODEL_e75c945682b746ea8c53702580691921",
        "IPY_MODEL_a7ea595d92dc49e5bd8a5e00dc51f1d4"
       ],
       "layout": "IPY_MODEL_17ab0083adb548ff972935d6c659e496"
      }
     },
     "df3070c9f18244b7a619d90bd75cc876": {
      "model_module": "@jupyter-widgets/base",
      "model_module_version": "1.0.0",
      "model_name": "LayoutModel",
      "state": {}
     },
     "df3b4f6dd7e347318fb80aca4b43242d": {
      "model_module": "@jupyter-widgets/base",
      "model_module_version": "1.0.0",
      "model_name": "LayoutModel",
      "state": {}
     },
     "df4e7fd87d0941a6987c10d1bfd0e74d": {
      "model_module": "@jupyter-widgets/base",
      "model_module_version": "1.0.0",
      "model_name": "LayoutModel",
      "state": {}
     },
     "df624933804e414aa9607d40eb734961": {
      "model_module": "@jupyter-widgets/controls",
      "model_module_version": "1.2.0",
      "model_name": "HBoxModel",
      "state": {
       "children": [
        "IPY_MODEL_74bac8df76ed4a1eaced8eb0a3b9ad8b",
        "IPY_MODEL_06b82ce1e6064c7f994e2d81adbd04d9",
        "IPY_MODEL_016d376314e34c3e90f46884726a96ee"
       ],
       "layout": "IPY_MODEL_6279f10ed9514081a10f6501df00136e"
      }
     },
     "e03c6db7815c48a89821d87dad814466": {
      "model_module": "@jupyter-widgets/base",
      "model_module_version": "1.0.0",
      "model_name": "LayoutModel",
      "state": {}
     },
     "e0c65c67928d4260ad552bba6dcf5229": {
      "model_module": "@jupyter-widgets/base",
      "model_module_version": "1.0.0",
      "model_name": "LayoutModel",
      "state": {}
     },
     "e10532de7f34420e8f309eb1dbb15ae3": {
      "model_module": "@jupyter-widgets/controls",
      "model_module_version": "1.2.0",
      "model_name": "IntSliderModel",
      "state": {
       "continuous_update": false,
       "description": "Year:",
       "layout": "IPY_MODEL_3fe0ec2da8fa4bb49b45f029fcc1a4be",
       "max": 2017,
       "min": 2013,
       "style": "IPY_MODEL_7b13762616904b91a69fc2759c6ebb98",
       "value": 2017
      }
     },
     "e153945d71a64493b30e1d6b39af8f2a": {
      "model_module": "@jupyter-widgets/base",
      "model_module_version": "1.0.0",
      "model_name": "LayoutModel",
      "state": {}
     },
     "e17cc856466a483d95f850b20c7acacb": {
      "model_module": "@jupyter-widgets/controls",
      "model_module_version": "1.2.0",
      "model_name": "DescriptionStyleModel",
      "state": {
       "description_width": ""
      }
     },
     "e17ebff38b634a60b14dd3c2a8ae4209": {
      "model_module": "@jupyter-widgets/base",
      "model_module_version": "1.0.0",
      "model_name": "LayoutModel",
      "state": {}
     },
     "e1dba3d94f1f40a8ab8ccfe0e2c29104": {
      "model_module": "@jupyter-widgets/base",
      "model_module_version": "1.0.0",
      "model_name": "LayoutModel",
      "state": {}
     },
     "e2614b403c4349dd83b07be416f3f392": {
      "model_module": "@jupyter-widgets/controls",
      "model_module_version": "1.2.0",
      "model_name": "DropdownModel",
      "state": {
       "_options_labels": [
        "Chicago",
        "Springfield",
        "Urbana-Champaign"
       ],
       "description": "Campus:",
       "index": 2,
       "layout": "IPY_MODEL_5920573dd3a143e3b1bb09a3e2c8e668",
       "style": "IPY_MODEL_d1b11564982c4dbcbb85c25242cf0c88"
      }
     },
     "e26b85fc68ef4461a103f4a7b6ec58dc": {
      "model_module": "@jupyter-widgets/controls",
      "model_module_version": "1.2.0",
      "model_name": "DescriptionStyleModel",
      "state": {
       "description_width": ""
      }
     },
     "e26dc7f51f7c469f9829b2eb44cbda78": {
      "model_module": "@jupyter-widgets/controls",
      "model_module_version": "1.2.0",
      "model_name": "IntSliderModel",
      "state": {
       "continuous_update": false,
       "description": "Year:",
       "layout": "IPY_MODEL_6022f44e4a774da48f26c03bcb47a3d8",
       "max": 2017,
       "min": 2013,
       "style": "IPY_MODEL_d50d5f4db2904ca88b3051be94d34a21",
       "value": 2017
      }
     },
     "e2acfc78f8df46959aed2ebe377f9cf0": {
      "model_module": "@jupyter-widgets/base",
      "model_module_version": "1.0.0",
      "model_name": "LayoutModel",
      "state": {}
     },
     "e2d72f90b87545eda597a7cf1928d559": {
      "model_module": "@jupyter-widgets/base",
      "model_module_version": "1.0.0",
      "model_name": "DOMWidgetModel",
      "state": {
       "_graph_url": "https://plot.ly/~wangqiwen/8/salary-range-of-faculty-in-information-sciences-computer-science/",
       "_message": "{\"task\": \"relayout\", \"update\": {\"title\": \"Salary Range of Faculty in Mathematics & Computer Science & Computer Science & Computer Science & Computer Science\", \"xaxis\": {\"title\": \"Salary\"}, \"yaxis\": {\"title\": \"Percentage of Faculty\"}, \"bargroupgap\": 0.1}, \"graphId\": \"f0bcace0-515e-42a1-ba7b-a280c91d35a3\", \"uid\": \"a1ea0f3e-ca02-469c-a782-71610defc814\"}",
       "_model_name": "DOMWidgetModel",
       "_new_url": "",
       "_view_module": "graphWidget",
       "_view_module_version": "",
       "_view_name": "GraphView",
       "layout": "IPY_MODEL_b23b343e59d24dc4a7a59f9b86f580fc"
      }
     },
     "e2dfa2a8ed8f4ba494220340a54e5302": {
      "model_module": "@jupyter-widgets/base",
      "model_module_version": "1.0.0",
      "model_name": "LayoutModel",
      "state": {}
     },
     "e317a1b7f6fc4e2093417ebc030258c9": {
      "model_module": "@jupyter-widgets/controls",
      "model_module_version": "1.2.0",
      "model_name": "DescriptionStyleModel",
      "state": {
       "description_width": ""
      }
     },
     "e36b5f0cd85a4fbeb709073a80a875dd": {
      "model_module": "@jupyter-widgets/base",
      "model_module_version": "1.0.0",
      "model_name": "LayoutModel",
      "state": {}
     },
     "e36ce9b9ac2540fd828328763c92a0ce": {
      "model_module": "@jupyter-widgets/base",
      "model_module_version": "1.0.0",
      "model_name": "LayoutModel",
      "state": {}
     },
     "e372c297e9d8424e8d4d6cfa8bf8d9bc": {
      "model_module": "@jupyter-widgets/controls",
      "model_module_version": "1.2.0",
      "model_name": "TabModel",
      "state": {
       "layout": "IPY_MODEL_0218e5757b72421f821acf8889f63615"
      }
     },
     "e3e4fef5c9a94e3eab57a47aa2eb2452": {
      "model_module": "@jupyter-widgets/controls",
      "model_module_version": "1.2.0",
      "model_name": "TextModel",
      "state": {
       "description": "Department:   ",
       "layout": "IPY_MODEL_c0c70fe969364ee0a00f91811805a863",
       "style": "IPY_MODEL_db7d4697840a4909a5227c0d225318f5",
       "value": "Information Sciences"
      }
     },
     "e3fd7415e97a4eb8a9021f633a911b6b": {
      "model_module": "@jupyter-widgets/base",
      "model_module_version": "1.0.0",
      "model_name": "DOMWidgetModel",
      "state": {
       "_graph_url": "https://plot.ly/~wangqiwen/8/salary-range-of-faculty-in-mathematics-information-sciences/",
       "_message": "{\"task\": \"relayout\", \"update\": {\"title\": \"Salary Range of Faculty in Mathematics & Information Sciences\", \"xaxis\": {\"title\": \"Salary\"}, \"yaxis\": {\"title\": \"Percentage of Faculty\"}, \"bargap\": 0.2, \"bargroupgap\": 0.1}, \"graphId\": \"7b5da7e1-432b-4138-9018-b13b750a0003\", \"uid\": \"0b2b1c57-3b48-4c26-9e29-67be9cc1d198\"}",
       "_model_name": "DOMWidgetModel",
       "_new_url": "",
       "_view_module": "graphWidget",
       "_view_module_version": "",
       "_view_name": "GraphView",
       "layout": "IPY_MODEL_ca60daafc00242ab8f43a7572a2277f8"
      }
     },
     "e4401d62de1b462fa29ee48bb94f00a3": {
      "model_module": "@jupyter-widgets/base",
      "model_module_version": "1.0.0",
      "model_name": "LayoutModel",
      "state": {}
     },
     "e44122007ff14c77a377ffd6771d84d0": {
      "model_module": "@jupyter-widgets/base",
      "model_module_version": "1.0.0",
      "model_name": "DOMWidgetModel",
      "state": {
       "_graph_url": "https://plot.ly/~wangqiwen/14",
       "_message": "",
       "_model_name": "DOMWidgetModel",
       "_new_url": "",
       "_view_module": "graphWidget",
       "_view_module_version": "",
       "_view_name": "GraphView",
       "layout": "IPY_MODEL_b994d2e9a9e84728b6beb340dafe3a82"
      }
     },
     "e473e6d39d904bae9a72d5ea83d5f70b": {
      "model_module": "@jupyter-widgets/controls",
      "model_module_version": "1.2.0",
      "model_name": "DescriptionStyleModel",
      "state": {
       "description_width": ""
      }
     },
     "e4a83de995614c28a1007ff199c66e30": {
      "model_module": "@jupyter-widgets/controls",
      "model_module_version": "1.2.0",
      "model_name": "HBoxModel",
      "state": {
       "children": [
        "IPY_MODEL_5b1fc94b95324a529b1bcd1adc9a8f0f",
        "IPY_MODEL_6c5ff98d3be74f4287a2626939288803",
        "IPY_MODEL_96e496846e2c467ebbcb477b19d330f2"
       ],
       "layout": "IPY_MODEL_d7c72373487b495b993227aaf9e23594"
      }
     },
     "e4b67347e3414186870dd62a3b05dd19": {
      "model_module": "@jupyter-widgets/controls",
      "model_module_version": "1.2.0",
      "model_name": "HBoxModel",
      "state": {
       "children": [
        "IPY_MODEL_1f531392e925408491397ca104e5458d",
        "IPY_MODEL_d2804078a049410f8c7e68804c49edd7",
        "IPY_MODEL_8790dcdd18dc4313b08f679af2a049f2"
       ],
       "layout": "IPY_MODEL_a8f3b3e67fda44e68bb13cf6bffc1ffa"
      }
     },
     "e4d2c0d51a014a719cb2ded0b896fffc": {
      "model_module": "@jupyter-widgets/base",
      "model_module_version": "1.0.0",
      "model_name": "LayoutModel",
      "state": {}
     },
     "e50caac05824402e8051036ffd6d70e0": {
      "model_module": "@jupyter-widgets/controls",
      "model_module_version": "1.2.0",
      "model_name": "DescriptionStyleModel",
      "state": {
       "description_width": ""
      }
     },
     "e545a71dc4194c6cb8cf880bddae2af1": {
      "model_module": "@jupyter-widgets/controls",
      "model_module_version": "1.2.0",
      "model_name": "IntSliderModel",
      "state": {
       "continuous_update": false,
       "description": "Year:",
       "layout": "IPY_MODEL_0400b0109af44519ad9a391b4174e308",
       "max": 2017,
       "min": 2013,
       "style": "IPY_MODEL_8e7e93b73029449ea809456f7bb4f77f",
       "value": 2017
      }
     },
     "e54db7f22f5e44eba569ea3fbded966e": {
      "model_module": "@jupyter-widgets/controls",
      "model_module_version": "1.2.0",
      "model_name": "TextModel",
      "state": {
       "description": "Department:   ",
       "layout": "IPY_MODEL_c8029325769146798813d6bc1ad6fe7b",
       "style": "IPY_MODEL_74c559c5392f4c91a61e631b22c9bce1"
      }
     },
     "e59283648f1249e19e5a776bf1b6aba6": {
      "model_module": "@jupyter-widgets/base",
      "model_module_version": "1.0.0",
      "model_name": "LayoutModel",
      "state": {}
     },
     "e5b74c6d3a954ca097b6a12c3568a887": {
      "model_module": "@jupyter-widgets/base",
      "model_module_version": "1.0.0",
      "model_name": "LayoutModel",
      "state": {}
     },
     "e6030acbec974b79a4b80a9ab874caf0": {
      "model_module": "@jupyter-widgets/base",
      "model_module_version": "1.0.0",
      "model_name": "LayoutModel",
      "state": {}
     },
     "e62c17d941604616ab42268cba27f067": {
      "model_module": "@jupyter-widgets/controls",
      "model_module_version": "1.2.0",
      "model_name": "TabModel",
      "state": {
       "_titles": {
        "0": "Department 1",
        "1": "Department 2",
        "2": "Department 3",
        "3": "Department 4"
       },
       "children": [
        "IPY_MODEL_cc018215be7642c0a74187de63562d42",
        "IPY_MODEL_70876c4d01a5483d961c2f5a02ae50ef",
        "IPY_MODEL_1641e660a1ec404eaa2012f1f26b7fd7",
        "IPY_MODEL_2954415653824fd594a6efbb15a17bcc"
       ],
       "layout": "IPY_MODEL_11e2724dcd1e44de8285ce04630ba08a",
       "selected_index": 2
      }
     },
     "e66b3b4ab4fa4dd59c5f9a4daf1afda6": {
      "model_module": "@jupyter-widgets/controls",
      "model_module_version": "1.2.0",
      "model_name": "DropdownModel",
      "state": {
       "_options_labels": [
        "Chicago",
        "Springfield",
        "Urbana-Champaign"
       ],
       "description": "Campus:",
       "index": 2,
       "layout": "IPY_MODEL_59c19f97752a46bdbc0f9f0a753d9d13",
       "style": "IPY_MODEL_a5a3001a842d44cd9c932c7b79424eac"
      }
     },
     "e69efff114aa4041b22ad54ccc23a211": {
      "model_module": "@jupyter-widgets/base",
      "model_module_version": "1.0.0",
      "model_name": "LayoutModel",
      "state": {}
     },
     "e6aa63cfe4d64ee0b90e2aaf8876e7f9": {
      "model_module": "@jupyter-widgets/base",
      "model_module_version": "1.0.0",
      "model_name": "LayoutModel",
      "state": {}
     },
     "e6aebdba89da46b3a60ff079701da696": {
      "model_module": "@jupyter-widgets/base",
      "model_module_version": "1.0.0",
      "model_name": "LayoutModel",
      "state": {}
     },
     "e6bbaacc93b04120926591a0c6da1d73": {
      "model_module": "@jupyter-widgets/base",
      "model_module_version": "1.0.0",
      "model_name": "LayoutModel",
      "state": {}
     },
     "e6bc60149500472bb8981a8b1bf1a20c": {
      "model_module": "@jupyter-widgets/controls",
      "model_module_version": "1.2.0",
      "model_name": "IntSliderModel",
      "state": {
       "continuous_update": false,
       "description": "Year:",
       "layout": "IPY_MODEL_adb6659d63df43ef821c10a4dced4a48",
       "max": 2017,
       "min": 2013,
       "style": "IPY_MODEL_01002ea9ed2d4334836ffa54361f6435",
       "value": 2017
      }
     },
     "e6d5cb7125b44525ad1b017c2e0cc62e": {
      "model_module": "@jupyter-widgets/base",
      "model_module_version": "1.0.0",
      "model_name": "LayoutModel",
      "state": {}
     },
     "e6ef3e602c254948ba9fb9b0de0bba1a": {
      "model_module": "@jupyter-widgets/controls",
      "model_module_version": "1.2.0",
      "model_name": "HBoxModel",
      "state": {
       "children": [
        "IPY_MODEL_e8ad56d9f63c4ce2b844456e636249da",
        "IPY_MODEL_1610a655ee404d108f4c409ed104d6a1",
        "IPY_MODEL_93345304a30341e9ab7426395ea36c63"
       ],
       "layout": "IPY_MODEL_777e8bac612b404dabe6fa6e94cbc267"
      }
     },
     "e71ffbe8dcab4c2f884ec75fa22c298c": {
      "model_module": "@jupyter-widgets/base",
      "model_module_version": "1.0.0",
      "model_name": "LayoutModel",
      "state": {}
     },
     "e727324f77ff4c0bb52ba0b7c1dbeda2": {
      "model_module": "@jupyter-widgets/base",
      "model_module_version": "1.0.0",
      "model_name": "LayoutModel",
      "state": {}
     },
     "e731df3275d44e1f86f22998e632af6e": {
      "model_module": "@jupyter-widgets/base",
      "model_module_version": "1.0.0",
      "model_name": "LayoutModel",
      "state": {}
     },
     "e7513d3c88b648f98f234fcdb0ffedc3": {
      "model_module": "@jupyter-widgets/controls",
      "model_module_version": "1.2.0",
      "model_name": "DescriptionStyleModel",
      "state": {
       "description_width": ""
      }
     },
     "e75c945682b746ea8c53702580691921": {
      "model_module": "@jupyter-widgets/controls",
      "model_module_version": "1.2.0",
      "model_name": "IntSliderModel",
      "state": {
       "continuous_update": false,
       "description": "Year:",
       "layout": "IPY_MODEL_b19fe3f137f14337917ce8bc419873ae",
       "max": 2017,
       "min": 2013,
       "style": "IPY_MODEL_80a9814b4a6343bb803e26095183ab4c",
       "value": 2017
      }
     },
     "e789a84a893a46139a14c1e64c074eab": {
      "model_module": "@jupyter-widgets/base",
      "model_module_version": "1.0.0",
      "model_name": "LayoutModel",
      "state": {}
     },
     "e7a1154557d04fa5b3c1dc658f24ff7d": {
      "model_module": "@jupyter-widgets/controls",
      "model_module_version": "1.2.0",
      "model_name": "HBoxModel",
      "state": {
       "children": [
        "IPY_MODEL_c8bcae41e8fd41978a160321865c169d",
        "IPY_MODEL_b424aa51207940d5b3dc6057d9540fff",
        "IPY_MODEL_5ff0396cd0f7434b94a464c87ff4cdd7"
       ],
       "layout": "IPY_MODEL_9ec8afe075374d4eaddf0a5c4d66b5e2"
      }
     },
     "e7ab2a5e4fb64161b78b03cd9aa5e479": {
      "model_module": "@jupyter-widgets/controls",
      "model_module_version": "1.2.0",
      "model_name": "SliderStyleModel",
      "state": {
       "description_width": ""
      }
     },
     "e7f4477f001043e6af802649ecf777ff": {
      "model_module": "@jupyter-widgets/controls",
      "model_module_version": "1.2.0",
      "model_name": "TabModel",
      "state": {
       "_titles": {
        "0": "0",
        "1": "1",
        "2": "2",
        "3": "3",
        "4": "4"
       },
       "children": [
        "IPY_MODEL_32cb2174b5114fe8bd78a446553755dc",
        "IPY_MODEL_e9d6a8ae4c0e48beb9c186d19469e548",
        "IPY_MODEL_ff2cf1b56a7e420d923f05ef2a949837",
        "IPY_MODEL_0e8cb78f8a824b95a0c0947dcdf3bd6e",
        "IPY_MODEL_ad2a3f8f11bd441da68a293be9158c13"
       ],
       "layout": "IPY_MODEL_989c25c277f741a5879b19bfc91d8513"
      }
     },
     "e81906ba9ef248e99cc15359fcac0456": {
      "model_module": "@jupyter-widgets/controls",
      "model_module_version": "1.2.0",
      "model_name": "DropdownModel",
      "state": {
       "_options_labels": [
        "Chicago",
        "Springfield",
        "Urbana-Champaign"
       ],
       "description": "Campus:",
       "index": 2,
       "layout": "IPY_MODEL_2b0bef4a00e34294927d8176652d3721",
       "style": "IPY_MODEL_9a3445fe50e84582a570b9a16a8eab96"
      }
     },
     "e88b25bce5d54ae59a8776aeb0d55972": {
      "model_module": "@jupyter-widgets/base",
      "model_module_version": "1.0.0",
      "model_name": "LayoutModel",
      "state": {}
     },
     "e8ad56d9f63c4ce2b844456e636249da": {
      "model_module": "@jupyter-widgets/controls",
      "model_module_version": "1.2.0",
      "model_name": "DropdownModel",
      "state": {
       "_options_labels": [
        "Chicago",
        "Springfield",
        "Urbana-Champaign"
       ],
       "description": "Campus:",
       "index": 2,
       "layout": "IPY_MODEL_dddc633c77d940faa4ed801db3c8b032",
       "style": "IPY_MODEL_55dc4e09e7ed4ef3a4c629b7d6463dcb"
      }
     },
     "e90764dd62d34e7a8555711d0a07359e": {
      "model_module": "@jupyter-widgets/controls",
      "model_module_version": "1.2.0",
      "model_name": "DescriptionStyleModel",
      "state": {
       "description_width": ""
      }
     },
     "e94ae613a68447fc90bb629343c13a6a": {
      "model_module": "@jupyter-widgets/controls",
      "model_module_version": "1.2.0",
      "model_name": "HBoxModel",
      "state": {
       "children": [
        "IPY_MODEL_801f5d1c88f64a36aec12351adbb9de5",
        "IPY_MODEL_e54db7f22f5e44eba569ea3fbded966e",
        "IPY_MODEL_7a082015971e46518856403d3232072f"
       ],
       "layout": "IPY_MODEL_991cbb7a43aa4bfcba56ed8e40bc5c32"
      }
     },
     "e95c07fc7a534d969bec75ae56240d18": {
      "model_module": "@jupyter-widgets/controls",
      "model_module_version": "1.2.0",
      "model_name": "IntSliderModel",
      "state": {
       "continuous_update": false,
       "description": "Year:",
       "layout": "IPY_MODEL_dc911db5020b434ea10a3c094d52461f",
       "max": 2017,
       "min": 2013,
       "style": "IPY_MODEL_754db91291c34020bcbb607f143133bf",
       "value": 2017
      }
     },
     "e98413af61a045dd9dbcc61d80d3a16c": {
      "model_module": "@jupyter-widgets/controls",
      "model_module_version": "1.2.0",
      "model_name": "DescriptionStyleModel",
      "state": {
       "description_width": ""
      }
     },
     "e9a5be8add1b402db54417b03db6b079": {
      "model_module": "@jupyter-widgets/controls",
      "model_module_version": "1.2.0",
      "model_name": "TextModel",
      "state": {
       "description": "Department:   ",
       "layout": "IPY_MODEL_c15b95e7b52b42e7b1118b6b8fcf1ac2",
       "style": "IPY_MODEL_015aef1c2a4442ba81b0e6bb068f1214"
      }
     },
     "e9d6a8ae4c0e48beb9c186d19469e548": {
      "model_module": "@jupyter-widgets/controls",
      "model_module_version": "1.2.0",
      "model_name": "TextModel",
      "state": {
       "description": "Department 2",
       "layout": "IPY_MODEL_fb0c7e4f6f1c47568336fef78c7faf13",
       "style": "IPY_MODEL_2531f667d3d04c0d9de4ed10a5af056c"
      }
     },
     "e9f3dedacfb647538cffc6be36b4bc1a": {
      "model_module": "@jupyter-widgets/controls",
      "model_module_version": "1.2.0",
      "model_name": "TabModel",
      "state": {
       "_titles": {
        "0": "Department 1",
        "1": "Department 2",
        "2": "Department 3",
        "3": "Department 4"
       },
       "children": [
        "IPY_MODEL_d54a408b1c9e46bbacbd315f6df322f8",
        "IPY_MODEL_25528a554e414502bef69db623c8eda4",
        "IPY_MODEL_4bfaa7c840b34ee6b5739e4213847f37",
        "IPY_MODEL_a25cc774f6a547ff8187fc1c773bb0c3"
       ],
       "layout": "IPY_MODEL_6092115c40ef480b91e5a5271159b772"
      }
     },
     "e9fd0c36127a4b6da7ba6450c73c4449": {
      "model_module": "@jupyter-widgets/base",
      "model_module_version": "1.0.0",
      "model_name": "LayoutModel",
      "state": {}
     },
     "ea0f8c52a37e4e1ca802ceba7f9e740f": {
      "model_module": "@jupyter-widgets/base",
      "model_module_version": "1.0.0",
      "model_name": "LayoutModel",
      "state": {}
     },
     "ea4b329a51d7480da6184d2877e98c56": {
      "model_module": "@jupyter-widgets/base",
      "model_module_version": "1.0.0",
      "model_name": "LayoutModel",
      "state": {}
     },
     "ea6c55b1a42c4250b7688f7da63a9260": {
      "model_module": "@jupyter-widgets/controls",
      "model_module_version": "1.2.0",
      "model_name": "IntSliderModel",
      "state": {
       "continuous_update": false,
       "description": "Year:",
       "layout": "IPY_MODEL_081ff17bc8df4c9b8612359eaf5cbe05",
       "max": 2017,
       "min": 2013,
       "style": "IPY_MODEL_b00992a2e7bb4a079ca7ffa7e302e230",
       "value": 2015
      }
     },
     "eabaad0a676d4ead9bec71f3edb1c314": {
      "model_module": "@jupyter-widgets/controls",
      "model_module_version": "1.2.0",
      "model_name": "DropdownModel",
      "state": {
       "_options_labels": [
        "Chicago",
        "Springfield",
        "Urbana-Champaign"
       ],
       "description": "Campus:",
       "index": 2,
       "layout": "IPY_MODEL_efc8f062f679478c893f0eb2af7582c9",
       "style": "IPY_MODEL_b155007bec1a4c4c8754ea67d897bc38"
      }
     },
     "eafdca2bae6c45d7a42670d4fdc2e4c1": {
      "model_module": "@jupyter-widgets/controls",
      "model_module_version": "1.2.0",
      "model_name": "HBoxModel",
      "state": {
       "children": [
        "IPY_MODEL_7a151c65a6a445e9b188fc754e146696",
        "IPY_MODEL_241afa420e074680b98986fb49d4348a",
        "IPY_MODEL_135a449f62c9486c819d28f672f77364"
       ],
       "layout": "IPY_MODEL_d8b45d201cab4b55a6cceb752e51177d"
      }
     },
     "eb6c1fa711814461aee8ca048bf3525b": {
      "model_module": "@jupyter-widgets/controls",
      "model_module_version": "1.2.0",
      "model_name": "DropdownModel",
      "state": {
       "_options_labels": [
        "Chicago",
        "Springfield",
        "Urbana-Champaign"
       ],
       "description": "Campus:",
       "index": 2,
       "layout": "IPY_MODEL_bbb54f43631544869731ae6f94b0f50b",
       "style": "IPY_MODEL_8a6f335d300c4c63baab0e61c743af0d"
      }
     },
     "eb9e79a163d44e63945d1ea2b56f8f1d": {
      "model_module": "@jupyter-widgets/controls",
      "model_module_version": "1.2.0",
      "model_name": "TextModel",
      "state": {
       "description": "Department:   ",
       "layout": "IPY_MODEL_a798ff491cdb4dd3bc6a37b7afd40ca4",
       "style": "IPY_MODEL_60af367e1e1548a9bbe975a62d0152dd",
       "value": "Mathematics"
      }
     },
     "eba9ff17f431411f96258caaa711b2da": {
      "model_module": "@jupyter-widgets/controls",
      "model_module_version": "1.2.0",
      "model_name": "DescriptionStyleModel",
      "state": {
       "description_width": ""
      }
     },
     "ebaa8c4801d24d1e9a49841134cd15eb": {
      "model_module": "@jupyter-widgets/base",
      "model_module_version": "1.0.0",
      "model_name": "LayoutModel",
      "state": {}
     },
     "ebc69e1a01014499948b4a1d28c2a205": {
      "model_module": "@jupyter-widgets/controls",
      "model_module_version": "1.2.0",
      "model_name": "DescriptionStyleModel",
      "state": {
       "description_width": ""
      }
     },
     "ebcd2c1cde3040b8bc8c2629c5dcfe2e": {
      "model_module": "@jupyter-widgets/controls",
      "model_module_version": "1.2.0",
      "model_name": "TextModel",
      "state": {
       "description": "Department:   ",
       "layout": "IPY_MODEL_c5a35f73d02f462ab7834fdda1d741ce",
       "style": "IPY_MODEL_fc84676a772d4909b934452a40d795f3",
       "value": "Information Sciences"
      }
     },
     "ebd357ad90c2404282d853baa097b16c": {
      "model_module": "@jupyter-widgets/base",
      "model_module_version": "1.0.0",
      "model_name": "LayoutModel",
      "state": {}
     },
     "ebe7c13eebf94980b9106797d55b2f5a": {
      "model_module": "@jupyter-widgets/controls",
      "model_module_version": "1.2.0",
      "model_name": "IntSliderModel",
      "state": {
       "continuous_update": false,
       "description": "Year:",
       "layout": "IPY_MODEL_e6aebdba89da46b3a60ff079701da696",
       "max": 2017,
       "min": 2013,
       "style": "IPY_MODEL_866ca683479b434f90c18e6c9f1b6fc4",
       "value": 2017
      }
     },
     "ebf275606069495a82f48a3a41002202": {
      "model_module": "@jupyter-widgets/controls",
      "model_module_version": "1.2.0",
      "model_name": "HBoxModel",
      "state": {
       "children": [
        "IPY_MODEL_0fe991003ba34880b963ca232d99006e",
        "IPY_MODEL_6f0b798acf0b46d6a3df13d414db537a",
        "IPY_MODEL_89a5a2fbe4d84fdb90df6559db1c5447"
       ],
       "layout": "IPY_MODEL_80dfed37391a47a48eb9e81ab8447c3e"
      }
     },
     "ec1392d2d9444d989647973c770cf787": {
      "model_module": "@jupyter-widgets/controls",
      "model_module_version": "1.2.0",
      "model_name": "DescriptionStyleModel",
      "state": {
       "description_width": ""
      }
     },
     "ec43f4524e71404e8d9d6b5d879381b7": {
      "model_module": "@jupyter-widgets/base",
      "model_module_version": "1.0.0",
      "model_name": "LayoutModel",
      "state": {}
     },
     "ec997358194d486b995bc8da0c6a70df": {
      "model_module": "@jupyter-widgets/base",
      "model_module_version": "1.0.0",
      "model_name": "LayoutModel",
      "state": {}
     },
     "ec9a0a5e014b48cd858112e3852caab0": {
      "model_module": "@jupyter-widgets/controls",
      "model_module_version": "1.2.0",
      "model_name": "HBoxModel",
      "state": {
       "children": [
        "IPY_MODEL_cd93ce18962a492391cc90ff0f0b5bd8",
        "IPY_MODEL_332a52e1fea94207ba87e7bb0d4d65c0",
        "IPY_MODEL_5fa360a34b4046418fdc4a65df1924be"
       ],
       "layout": "IPY_MODEL_6859c390eff74195a75734638975abe1"
      }
     },
     "ececbb143b3540c99dc7a72167a081b6": {
      "model_module": "@jupyter-widgets/controls",
      "model_module_version": "1.2.0",
      "model_name": "SliderStyleModel",
      "state": {
       "description_width": ""
      }
     },
     "ecee1ae2405f4bb5a3bb31fe9fceecab": {
      "model_module": "@jupyter-widgets/base",
      "model_module_version": "1.0.0",
      "model_name": "LayoutModel",
      "state": {}
     },
     "ed05d0cd9dfa41e5a8cf6e4f29396bcb": {
      "model_module": "@jupyter-widgets/controls",
      "model_module_version": "1.2.0",
      "model_name": "IntSliderModel",
      "state": {
       "continuous_update": false,
       "description": "Year:",
       "layout": "IPY_MODEL_907adbf9e95d4f66a2352425139866e0",
       "max": 2017,
       "min": 2013,
       "style": "IPY_MODEL_43ca36cc953748b8a820bdc868e4d6ba",
       "value": 2017
      }
     },
     "ed297428bc2c4351b020d009e05d30f0": {
      "model_module": "@jupyter-widgets/controls",
      "model_module_version": "1.2.0",
      "model_name": "TextModel",
      "state": {
       "description": "Department:   ",
       "layout": "IPY_MODEL_64c053cc167f492ca3050be14abbe979",
       "style": "IPY_MODEL_39fe1cb4e1094d2f9c5b8988a404a2d3"
      }
     },
     "ed3da006a609452ebd44a532533b1ca8": {
      "model_module": "@jupyter-widgets/base",
      "model_module_version": "1.0.0",
      "model_name": "LayoutModel",
      "state": {}
     },
     "edbec7774a3548dca3259449d3983c3b": {
      "model_module": "@jupyter-widgets/controls",
      "model_module_version": "1.2.0",
      "model_name": "DescriptionStyleModel",
      "state": {
       "description_width": ""
      }
     },
     "edda17575ae14fe5b866dbeddb123406": {
      "model_module": "@jupyter-widgets/controls",
      "model_module_version": "1.2.0",
      "model_name": "DescriptionStyleModel",
      "state": {
       "description_width": ""
      }
     },
     "ee2eb6f7b2ab45e3bb1a1ccb4650e83f": {
      "model_module": "@jupyter-widgets/controls",
      "model_module_version": "1.2.0",
      "model_name": "DescriptionStyleModel",
      "state": {
       "description_width": ""
      }
     },
     "ee504d7cd2e04a55b07566668b0c8ad9": {
      "model_module": "@jupyter-widgets/base",
      "model_module_version": "1.0.0",
      "model_name": "LayoutModel",
      "state": {}
     },
     "ee8c2755bb034c17a0492f1ab4ce5c03": {
      "model_module": "@jupyter-widgets/controls",
      "model_module_version": "1.2.0",
      "model_name": "DescriptionStyleModel",
      "state": {
       "description_width": ""
      }
     },
     "eeabd06cfd9f4d1287a1c41b78b0f24a": {
      "model_module": "@jupyter-widgets/controls",
      "model_module_version": "1.2.0",
      "model_name": "HBoxModel",
      "state": {
       "children": [
        "IPY_MODEL_0bccef6a36944ff1bc4386d65c6ff3e4",
        "IPY_MODEL_1ce3e0a06bfd45afb5fc9f42c786f598",
        "IPY_MODEL_ccd1fa35610b4c8c84a462880fa20c24"
       ],
       "layout": "IPY_MODEL_bf2f87617a3f431bb2f26ce461e0581a"
      }
     },
     "eed34bc9f0e442c4bd026d9e2865c598": {
      "model_module": "@jupyter-widgets/controls",
      "model_module_version": "1.2.0",
      "model_name": "SliderStyleModel",
      "state": {
       "description_width": ""
      }
     },
     "ef52bedabb014d3e8232cb2d327ff88d": {
      "model_module": "@jupyter-widgets/controls",
      "model_module_version": "1.2.0",
      "model_name": "HBoxModel",
      "state": {
       "children": [
        "IPY_MODEL_83328529116642f492594d5a9d49f345",
        "IPY_MODEL_a1433d13517444c182210ec5c5785b70",
        "IPY_MODEL_cd36b7d819404a73a557189be4b85213"
       ],
       "layout": "IPY_MODEL_2422d2563d3243c8ad516110a3e72fdc"
      }
     },
     "ef59977ae6684bb188807ae21e686962": {
      "model_module": "@jupyter-widgets/controls",
      "model_module_version": "1.2.0",
      "model_name": "DescriptionStyleModel",
      "state": {
       "description_width": ""
      }
     },
     "ef8ed41cab1c47f9967e0ae4adec01d8": {
      "model_module": "@jupyter-widgets/base",
      "model_module_version": "1.0.0",
      "model_name": "LayoutModel",
      "state": {}
     },
     "efc8f062f679478c893f0eb2af7582c9": {
      "model_module": "@jupyter-widgets/base",
      "model_module_version": "1.0.0",
      "model_name": "LayoutModel",
      "state": {}
     },
     "efe81e25f837469bb5ec8ea5d1b6af9c": {
      "model_module": "@jupyter-widgets/controls",
      "model_module_version": "1.2.0",
      "model_name": "SliderStyleModel",
      "state": {
       "description_width": ""
      }
     },
     "efec42074a8742b3af6da578ab606531": {
      "model_module": "@jupyter-widgets/base",
      "model_module_version": "1.0.0",
      "model_name": "LayoutModel",
      "state": {}
     },
     "f02053d714214afb933183ad7c09da49": {
      "model_module": "@jupyter-widgets/base",
      "model_module_version": "1.0.0",
      "model_name": "LayoutModel",
      "state": {}
     },
     "f02d94778b294f19b7722320bcb5271c": {
      "model_module": "@jupyter-widgets/controls",
      "model_module_version": "1.2.0",
      "model_name": "DescriptionStyleModel",
      "state": {
       "description_width": ""
      }
     },
     "f076c72a4194411ea6b6acc70fed760c": {
      "model_module": "@jupyter-widgets/base",
      "model_module_version": "1.0.0",
      "model_name": "LayoutModel",
      "state": {}
     },
     "f0aae1cad0eb44269800d4d42f4b8f60": {
      "model_module": "@jupyter-widgets/base",
      "model_module_version": "1.0.0",
      "model_name": "DOMWidgetModel",
      "state": {
       "_graph_url": "https://plot.ly/~wangqiwen/8/salary-range-of-faculty-in-mathematics-information-sciences/",
       "_message": "",
       "_model_name": "DOMWidgetModel",
       "_new_url": "",
       "_view_module": "graphWidget",
       "_view_module_version": "",
       "_view_name": "GraphView",
       "layout": "IPY_MODEL_9b88ac1006f84b24a9d5fdfb8c9dafa3"
      }
     },
     "f105fad75af44388b4af03b341149a05": {
      "model_module": "@jupyter-widgets/controls",
      "model_module_version": "1.2.0",
      "model_name": "SliderStyleModel",
      "state": {
       "description_width": ""
      }
     },
     "f113f8dc71974dadae5c3d1130d069b6": {
      "model_module": "@jupyter-widgets/base",
      "model_module_version": "1.0.0",
      "model_name": "LayoutModel",
      "state": {}
     },
     "f158d416cbb54ce78fcd1e26e24d61b2": {
      "model_module": "@jupyter-widgets/controls",
      "model_module_version": "1.2.0",
      "model_name": "TabModel",
      "state": {
       "_titles": {
        "0": "0",
        "1": "1",
        "2": "2",
        "3": "3",
        "4": "4"
       },
       "children": [
        "IPY_MODEL_aaf5193e98794d50a4953d667872bf5e",
        "IPY_MODEL_07d3f75473ba44c795ecb8f28634f286",
        "IPY_MODEL_ad433d480cec4d5c9d5e8df240c49e06",
        "IPY_MODEL_549334f0f59744a9af0e42941bef17c7",
        "IPY_MODEL_af289a64904944f0977ec02574fa1d78"
       ],
       "layout": "IPY_MODEL_aa343311a1b348afb446ce2956808161"
      }
     },
     "f18c1e3034264f8ea3c9c0edebb23415": {
      "model_module": "@jupyter-widgets/base",
      "model_module_version": "1.0.0",
      "model_name": "LayoutModel",
      "state": {}
     },
     "f1c4d5ff7b494efba9fa0fe1219a14af": {
      "model_module": "@jupyter-widgets/base",
      "model_module_version": "1.0.0",
      "model_name": "LayoutModel",
      "state": {}
     },
     "f1c6d351666d4c9c8dccd5f1f67a52c5": {
      "model_module": "@jupyter-widgets/controls",
      "model_module_version": "1.2.0",
      "model_name": "DropdownModel",
      "state": {
       "_options_labels": [
        "PROF",
        "ASSOC PROF",
        "ASST PROF",
        "LECTURER",
        "ASSOC DIR",
        "CLIN ASST PROF",
        "SR LECTURER",
        "RES SCI",
        "RES ASST PROF",
        "SR RES SCI",
        "POSTDOC RES ASSOC",
        "CLIN PROF",
        "ASSOC PROF UNIV LIBRARY",
        "ASST PROF UNIV LIBRARY",
        "DEAN",
        "JL DOOB RES ASST PROF",
        "CLIN ASSOC PROF",
        "VST ASST PROF",
        "RES ASSOC PROF",
        "ASST DEAN",
        "RES PROF",
        "PROF (RT)"
       ],
       "description": "Job Title:",
       "index": 2,
       "layout": "IPY_MODEL_44147e8614dd4b3192b273341fa5f785",
       "style": "IPY_MODEL_9ae2922d4e444ad0aa08cc09ddcd4a98"
      }
     },
     "f1d05e20acb7415b9fbc3e16c5b6f584": {
      "model_module": "@jupyter-widgets/base",
      "model_module_version": "1.0.0",
      "model_name": "LayoutModel",
      "state": {}
     },
     "f1d49921b38f4fb5a8761f788b11b334": {
      "model_module": "@jupyter-widgets/base",
      "model_module_version": "1.0.0",
      "model_name": "LayoutModel",
      "state": {}
     },
     "f206630c342d49d4b7afdbacca3d615f": {
      "model_module": "@jupyter-widgets/controls",
      "model_module_version": "1.2.0",
      "model_name": "SliderStyleModel",
      "state": {
       "description_width": ""
      }
     },
     "f25a95aa302c45b7b54d5f341bec089d": {
      "model_module": "@jupyter-widgets/base",
      "model_module_version": "1.0.0",
      "model_name": "LayoutModel",
      "state": {}
     },
     "f2a2c378ce1c4420afd6be6fb374940b": {
      "model_module": "@jupyter-widgets/controls",
      "model_module_version": "1.2.0",
      "model_name": "TextModel",
      "state": {
       "description": "Department 4",
       "layout": "IPY_MODEL_8f5c8aba115b468b816197262c0c1b0c",
       "style": "IPY_MODEL_ddd7806e316b4f949720cc9a4727b04a"
      }
     },
     "f2d30db9dd58475a9b22724a22d275d7": {
      "model_module": "@jupyter-widgets/controls",
      "model_module_version": "1.2.0",
      "model_name": "IntSliderModel",
      "state": {
       "continuous_update": false,
       "description": "Year:",
       "layout": "IPY_MODEL_cd6c1e5ef0e646239ec5d42aa6c51f55",
       "max": 2017,
       "min": 2013,
       "style": "IPY_MODEL_75dcb3541155440a81359abbc01fe96f",
       "value": 2015
      }
     },
     "f2d74485021b49d993ddca9ad56f5da7": {
      "model_module": "@jupyter-widgets/base",
      "model_module_version": "1.0.0",
      "model_name": "LayoutModel",
      "state": {}
     },
     "f32cf49c5e514c9b8d94608493878465": {
      "model_module": "@jupyter-widgets/base",
      "model_module_version": "1.0.0",
      "model_name": "LayoutModel",
      "state": {}
     },
     "f362d72a0b9041d491b9466454d461c9": {
      "model_module": "@jupyter-widgets/controls",
      "model_module_version": "1.2.0",
      "model_name": "IntSliderModel",
      "state": {
       "continuous_update": false,
       "description": "Year:",
       "layout": "IPY_MODEL_c579036470f7400b93d14560389db3cd",
       "max": 2017,
       "min": 2013,
       "style": "IPY_MODEL_69f6637f0a744ee89b82d7b5fc7388d7",
       "value": 2017
      }
     },
     "f3884df94aff4e69964877b1c5ede529": {
      "model_module": "@jupyter-widgets/controls",
      "model_module_version": "1.2.0",
      "model_name": "HBoxModel",
      "state": {
       "children": [
        "IPY_MODEL_2258bf79e25946b08b5805aba5d5d95a",
        "IPY_MODEL_e95c07fc7a534d969bec75ae56240d18",
        "IPY_MODEL_069fb2136a344d6191b4a69debfc35bf"
       ],
       "layout": "IPY_MODEL_0492af713e824328bbc2b08b4cc58439"
      }
     },
     "f39ad1697dc84006bf7012637f7c3276": {
      "model_module": "@jupyter-widgets/controls",
      "model_module_version": "1.2.0",
      "model_name": "DescriptionStyleModel",
      "state": {
       "description_width": ""
      }
     },
     "f3b38884c20c48e19c177385ba5b18ea": {
      "model_module": "@jupyter-widgets/base",
      "model_module_version": "1.0.0",
      "model_name": "DOMWidgetModel",
      "state": {
       "_graph_url": "https://plot.ly/~wangqiwen/20/median-salary-median-salary-median-salary/",
       "_message": "",
       "_model_name": "DOMWidgetModel",
       "_new_url": "",
       "_view_module": "graphWidget",
       "_view_module_version": "",
       "_view_name": "GraphView",
       "layout": "IPY_MODEL_6633c3c1834b4e71b49bf41be3aa67e9"
      }
     },
     "f3b670211fb54f55824e6a3fa3e7a501": {
      "model_module": "@jupyter-widgets/controls",
      "model_module_version": "1.2.0",
      "model_name": "TextModel",
      "state": {
       "description": "Department:   ",
       "layout": "IPY_MODEL_1a53a98173264a4e8fb05cc1df37063e",
       "style": "IPY_MODEL_dbc9cfdf716e4e7780f15019985fe913"
      }
     },
     "f3cbcb2a2097444f8eecc4b55f6d4309": {
      "model_module": "@jupyter-widgets/controls",
      "model_module_version": "1.2.0",
      "model_name": "DescriptionStyleModel",
      "state": {
       "description_width": ""
      }
     },
     "f3df7e4eb06b4eeea958eb5f4362cf53": {
      "model_module": "@jupyter-widgets/controls",
      "model_module_version": "1.2.0",
      "model_name": "IntSliderModel",
      "state": {
       "continuous_update": false,
       "description": "Year:",
       "layout": "IPY_MODEL_3a3f58ee47184094be7fdea64dbb53ae",
       "max": 2017,
       "min": 2013,
       "style": "IPY_MODEL_ececbb143b3540c99dc7a72167a081b6",
       "value": 2016
      }
     },
     "f401694dede342caaf0b8cdca697053c": {
      "model_module": "@jupyter-widgets/controls",
      "model_module_version": "1.2.0",
      "model_name": "TextModel",
      "state": {
       "description": "Department:   ",
       "layout": "IPY_MODEL_48892708056849ea819c877cc29047a0",
       "style": "IPY_MODEL_89e86cd377d04af0a066ddc70ef75273",
       "value": "Information Sciences"
      }
     },
     "f499e24db1f04449acd43be013d374b5": {
      "model_module": "@jupyter-widgets/base",
      "model_module_version": "1.0.0",
      "model_name": "LayoutModel",
      "state": {}
     },
     "f49c733dbe0745e2898970efe65bde0e": {
      "model_module": "@jupyter-widgets/controls",
      "model_module_version": "1.2.0",
      "model_name": "HBoxModel",
      "state": {
       "children": [
        "IPY_MODEL_8f37b9f21d024177b71dc2857ee1ae1a",
        "IPY_MODEL_a9c608276fc94b2493596f65eeb427f1",
        "IPY_MODEL_4e6ed4d704ec4d34afbaaa244151a718"
       ],
       "layout": "IPY_MODEL_5a7bf1bc6ccb48548d2c95993ca5b947"
      }
     },
     "f54084a68a4b4f458bb6d08db8b22e77": {
      "model_module": "@jupyter-widgets/controls",
      "model_module_version": "1.2.0",
      "model_name": "TextModel",
      "state": {
       "description": "Department:   ",
       "layout": "IPY_MODEL_44a7682575384cf7ab066374fa4f84fe",
       "style": "IPY_MODEL_82563ef9632c453293a00e05aa74c23b",
       "value": "Mathematics"
      }
     },
     "f547f2c4ccc544128ff3ff4650d4b428": {
      "model_module": "@jupyter-widgets/controls",
      "model_module_version": "1.2.0",
      "model_name": "DescriptionStyleModel",
      "state": {
       "description_width": ""
      }
     },
     "f552992433d3468883146da02c129513": {
      "model_module": "@jupyter-widgets/controls",
      "model_module_version": "1.2.0",
      "model_name": "DropdownModel",
      "state": {
       "_options_labels": [
        "PROF",
        "ASSOC PROF",
        "ASST PROF",
        "LECTURER",
        "ASSOC DIR",
        "CLIN ASST PROF",
        "SR LECTURER",
        "RES SCI",
        "RES ASST PROF",
        "SR RES SCI",
        "POSTDOC RES ASSOC",
        "CLIN PROF",
        "ASSOC PROF UNIV LIBRARY",
        "ASST PROF UNIV LIBRARY",
        "DEAN",
        "JL DOOB RES ASST PROF",
        "CLIN ASSOC PROF",
        "VST ASST PROF",
        "RES ASSOC PROF",
        "ASST DEAN",
        "RES PROF",
        "PROF (RT)"
       ],
       "description": "Job Title:",
       "index": 1,
       "layout": "IPY_MODEL_d4f9585d2cf6468b9c9665fe281233e5",
       "style": "IPY_MODEL_bae7b0e51f374560a3a296118df8ad0d"
      }
     },
     "f55f0579f1274f159d3425d570038ded": {
      "model_module": "@jupyter-widgets/controls",
      "model_module_version": "1.2.0",
      "model_name": "DescriptionStyleModel",
      "state": {
       "description_width": ""
      }
     },
     "f568ef1f287c49f8a1ce6b5423229e6c": {
      "model_module": "@jupyter-widgets/controls",
      "model_module_version": "1.2.0",
      "model_name": "TextModel",
      "state": {
       "description": "Department:   ",
       "layout": "IPY_MODEL_57a5b912817c445497c4b23c8f1cf8ac",
       "style": "IPY_MODEL_febe13b87ebb4b45b6908e30c02e45a6",
       "value": "Information Sciences"
      }
     },
     "f56dd4e5a94f4b279455c2101d5934ab": {
      "model_module": "@jupyter-widgets/base",
      "model_module_version": "1.0.0",
      "model_name": "LayoutModel",
      "state": {}
     },
     "f5838fecca6144e186afe81212760ca7": {
      "model_module": "@jupyter-widgets/controls",
      "model_module_version": "1.2.0",
      "model_name": "TextModel",
      "state": {
       "description": "Department:   ",
       "layout": "IPY_MODEL_041df16093904e1abd1a6d8ef0b25474",
       "style": "IPY_MODEL_64bbeda99c164e42a7ec6532a846875f"
      }
     },
     "f59634cd505a455787da040a7f78238e": {
      "model_module": "@jupyter-widgets/controls",
      "model_module_version": "1.2.0",
      "model_name": "TextModel",
      "state": {
       "description": "Department:   ",
       "layout": "IPY_MODEL_8e35d2c159124c6e8bb385929bf96b85",
       "style": "IPY_MODEL_2cae755b7a72441ab42ea70a686ef3a5",
       "value": "Mathematics"
      }
     },
     "f632be422a014e4eb0de7fec12af8916": {
      "model_module": "@jupyter-widgets/base",
      "model_module_version": "1.0.0",
      "model_name": "LayoutModel",
      "state": {}
     },
     "f6534427b4ff412f8e1187665ecd5eec": {
      "model_module": "@jupyter-widgets/controls",
      "model_module_version": "1.2.0",
      "model_name": "SliderStyleModel",
      "state": {
       "description_width": ""
      }
     },
     "f6631c511f88443783fc2ffe6d03ca09": {
      "model_module": "@jupyter-widgets/base",
      "model_module_version": "1.0.0",
      "model_name": "LayoutModel",
      "state": {}
     },
     "f6830760bda34fd49775f1250ee6b40e": {
      "model_module": "@jupyter-widgets/controls",
      "model_module_version": "1.2.0",
      "model_name": "IntSliderModel",
      "state": {
       "continuous_update": false,
       "description": "Year:",
       "layout": "IPY_MODEL_5e22ebe76993497184ebe1019cf46cd1",
       "max": 2017,
       "min": 2013,
       "style": "IPY_MODEL_fbd2012c572545548f689377e9777b61",
       "value": 2017
      }
     },
     "f698293988e84704bf994813b58a99e9": {
      "model_module": "@jupyter-widgets/controls",
      "model_module_version": "1.2.0",
      "model_name": "SliderStyleModel",
      "state": {
       "description_width": ""
      }
     },
     "f6a962d473ad451eaa5a1275364e4114": {
      "model_module": "@jupyter-widgets/base",
      "model_module_version": "1.0.0",
      "model_name": "LayoutModel",
      "state": {}
     },
     "f6cc5d9f78eb43a8ac7f50e89286273e": {
      "model_module": "@jupyter-widgets/base",
      "model_module_version": "1.0.0",
      "model_name": "DOMWidgetModel",
      "state": {
       "_graph_url": "https://plot.ly/~wangqiwen/8/salary-range-of-faculty-in-mathematics-information-sciences/",
       "_message": "{\"task\": \"relayout\", \"update\": {\"title\": \"Salary Range of Faculty in History & Mathematics\", \"xaxis\": {\"title\": \"Salary\"}, \"yaxis\": {\"title\": \"Percentage of Faculty\"}, \"bargap\": 0.2, \"bargroupgap\": 0.1}, \"graphId\": \"505482fb-9e8f-4878-8e30-b8e05dfd3c0a\", \"uid\": \"e57ad3cf-00e0-463a-8a76-2e9284bfe580\"}",
       "_model_name": "DOMWidgetModel",
       "_new_url": "",
       "_view_module": "graphWidget",
       "_view_module_version": "",
       "_view_name": "GraphView",
       "layout": "IPY_MODEL_8ea86ef8d1604f58806dc471d6de2ad1"
      }
     },
     "f6f1fd5f96b74792976e37c976198059": {
      "model_module": "@jupyter-widgets/controls",
      "model_module_version": "1.2.0",
      "model_name": "IntSliderModel",
      "state": {
       "continuous_update": false,
       "description": "Year:",
       "layout": "IPY_MODEL_dd733c4025514f2c8e6ef1b2c69ede58",
       "max": 2017,
       "min": 2013,
       "style": "IPY_MODEL_c379262c70b64d68867616c5d0793cb6",
       "value": 2016
      }
     },
     "f720a1000dc14d609e5bbeb44bd98a19": {
      "model_module": "@jupyter-widgets/base",
      "model_module_version": "1.0.0",
      "model_name": "DOMWidgetModel",
      "state": {
       "_graph_url": "https://plot.ly/~wangqiwen/20/median-salary-median-salary-median-salary/",
       "_message": "",
       "_model_name": "DOMWidgetModel",
       "_new_url": "",
       "_view_module": "graphWidget",
       "_view_module_version": "",
       "_view_name": "GraphView",
       "layout": "IPY_MODEL_50556c64203045baa5886243cdacbfa4"
      }
     },
     "f72f9ce52c5b471aa913d600b0417e6d": {
      "model_module": "@jupyter-widgets/base",
      "model_module_version": "1.0.0",
      "model_name": "LayoutModel",
      "state": {}
     },
     "f7577a52ff484888a698315953f36846": {
      "model_module": "@jupyter-widgets/base",
      "model_module_version": "1.0.0",
      "model_name": "LayoutModel",
      "state": {}
     },
     "f77e86ef37124994ac9cfccd9fbf0891": {
      "model_module": "@jupyter-widgets/controls",
      "model_module_version": "1.2.0",
      "model_name": "SliderStyleModel",
      "state": {
       "description_width": ""
      }
     },
     "f7999688f5814af7839ff58adbc94b2c": {
      "model_module": "@jupyter-widgets/base",
      "model_module_version": "1.0.0",
      "model_name": "LayoutModel",
      "state": {}
     },
     "f7e98f53ee5a4952a6103cf97cdbba04": {
      "model_module": "@jupyter-widgets/base",
      "model_module_version": "1.0.0",
      "model_name": "LayoutModel",
      "state": {}
     },
     "f8458847db0d47d8ad07f137dabe7e79": {
      "model_module": "@jupyter-widgets/base",
      "model_module_version": "1.0.0",
      "model_name": "LayoutModel",
      "state": {}
     },
     "f85d42ee6e0c452983c73c699737d7b1": {
      "model_module": "@jupyter-widgets/controls",
      "model_module_version": "1.2.0",
      "model_name": "DropdownModel",
      "state": {
       "_options_labels": [
        "Chicago",
        "Springfield",
        "Urbana-Champaign"
       ],
       "description": "Campus:",
       "index": 2,
       "layout": "IPY_MODEL_1636d29db65c40558c7567fe577a59de",
       "style": "IPY_MODEL_30bd0cac5e3047a0ae2873b7f11193a4"
      }
     },
     "f8a7908c31ff4b958585253421a2e908": {
      "model_module": "@jupyter-widgets/controls",
      "model_module_version": "1.2.0",
      "model_name": "DescriptionStyleModel",
      "state": {
       "description_width": ""
      }
     },
     "f8b6559f7c3046489ed94e46aaec4c73": {
      "model_module": "@jupyter-widgets/controls",
      "model_module_version": "1.2.0",
      "model_name": "DropdownModel",
      "state": {
       "_options_labels": [
        "Chicago",
        "Springfield",
        "Urbana-Champaign"
       ],
       "description": "Campus:",
       "index": 2,
       "layout": "IPY_MODEL_fc4ba13b55a84aaeb79d7d473527560c",
       "style": "IPY_MODEL_68700ab005e74c268abf9939a5f79227"
      }
     },
     "f8b7f17505fb46c381ca51caea836c29": {
      "model_module": "@jupyter-widgets/controls",
      "model_module_version": "1.2.0",
      "model_name": "SliderStyleModel",
      "state": {
       "description_width": ""
      }
     },
     "f8c09c4235bb4bda98790f896e693f7d": {
      "model_module": "@jupyter-widgets/base",
      "model_module_version": "1.0.0",
      "model_name": "DOMWidgetModel",
      "state": {
       "_graph_url": "https://plot.ly/~wangqiwen/20/median-salary-median-salary-median-salary/",
       "_message": "",
       "_model_name": "DOMWidgetModel",
       "_new_url": "",
       "_view_module": "graphWidget",
       "_view_module_version": "",
       "_view_name": "GraphView",
       "layout": "IPY_MODEL_21773a2e77fb4385b7f2353c0d9c5513"
      }
     },
     "f956c7e2d6074e97b8ed0e26742007a1": {
      "model_module": "@jupyter-widgets/base",
      "model_module_version": "1.0.0",
      "model_name": "LayoutModel",
      "state": {}
     },
     "f987ff89047e4b2c86aa7d8503387676": {
      "model_module": "@jupyter-widgets/base",
      "model_module_version": "1.0.0",
      "model_name": "LayoutModel",
      "state": {}
     },
     "f9b697ad95a54c8f8d597ee920944056": {
      "model_module": "@jupyter-widgets/controls",
      "model_module_version": "1.2.0",
      "model_name": "TextModel",
      "state": {
       "description": "Department:   ",
       "layout": "IPY_MODEL_bd484caea0be42edaf1e07b4ee5f3e14",
       "style": "IPY_MODEL_aeaaca0492ab47eb98b028c174d87ac9",
       "value": "Mathematics"
      }
     },
     "f9bb0b2fc46d44568a0d77194c37d2d9": {
      "model_module": "@jupyter-widgets/controls",
      "model_module_version": "1.2.0",
      "model_name": "DescriptionStyleModel",
      "state": {
       "description_width": ""
      }
     },
     "f9fc56ca596c4e0daf554e6c3ebc3964": {
      "model_module": "@jupyter-widgets/controls",
      "model_module_version": "1.2.0",
      "model_name": "SliderStyleModel",
      "state": {
       "description_width": ""
      }
     },
     "f9ff668c98034a339eef6d02953c16e8": {
      "model_module": "@jupyter-widgets/base",
      "model_module_version": "1.0.0",
      "model_name": "LayoutModel",
      "state": {}
     },
     "fa41b1b5339e4737b70a267ab6043e26": {
      "model_module": "@jupyter-widgets/base",
      "model_module_version": "1.0.0",
      "model_name": "LayoutModel",
      "state": {}
     },
     "fb024adeedca42ba9228a37e36a5e74f": {
      "model_module": "@jupyter-widgets/base",
      "model_module_version": "1.0.0",
      "model_name": "LayoutModel",
      "state": {}
     },
     "fb0c7e4f6f1c47568336fef78c7faf13": {
      "model_module": "@jupyter-widgets/base",
      "model_module_version": "1.0.0",
      "model_name": "LayoutModel",
      "state": {}
     },
     "fb2abc436796448c997e8b016b6e25d9": {
      "model_module": "@jupyter-widgets/base",
      "model_module_version": "1.0.0",
      "model_name": "DOMWidgetModel",
      "state": {
       "_graph_url": "https://plot.ly/~wangqiwen/20/median-salary-median-salary-median-salary/",
       "_message": "",
       "_model_name": "DOMWidgetModel",
       "_new_url": "",
       "_view_module": "graphWidget",
       "_view_module_version": "",
       "_view_name": "GraphView",
       "layout": "IPY_MODEL_f56dd4e5a94f4b279455c2101d5934ab"
      }
     },
     "fb7dbac6f22e41828f170a16d50c0466": {
      "model_module": "@jupyter-widgets/base",
      "model_module_version": "1.0.0",
      "model_name": "LayoutModel",
      "state": {}
     },
     "fbc681e349e140f1acd9bb1f5f5715f8": {
      "model_module": "@jupyter-widgets/base",
      "model_module_version": "1.0.0",
      "model_name": "LayoutModel",
      "state": {}
     },
     "fbd2012c572545548f689377e9777b61": {
      "model_module": "@jupyter-widgets/controls",
      "model_module_version": "1.2.0",
      "model_name": "SliderStyleModel",
      "state": {
       "description_width": ""
      }
     },
     "fbe04311ba0248c7bb3764836105790f": {
      "model_module": "@jupyter-widgets/controls",
      "model_module_version": "1.2.0",
      "model_name": "HBoxModel",
      "state": {
       "children": [
        "IPY_MODEL_c0a90fda87b64a49abeea75a1500ebe4",
        "IPY_MODEL_f54084a68a4b4f458bb6d08db8b22e77",
        "IPY_MODEL_3cfb3bb570724ff7be11a70ef71ca8ea"
       ],
       "layout": "IPY_MODEL_d80f0ab4f6dc4c469d7faf3c532879f7"
      }
     },
     "fc4ba13b55a84aaeb79d7d473527560c": {
      "model_module": "@jupyter-widgets/base",
      "model_module_version": "1.0.0",
      "model_name": "LayoutModel",
      "state": {}
     },
     "fc5130be9a784cfdb61f8d8ad999427e": {
      "model_module": "@jupyter-widgets/base",
      "model_module_version": "1.0.0",
      "model_name": "LayoutModel",
      "state": {}
     },
     "fc84676a772d4909b934452a40d795f3": {
      "model_module": "@jupyter-widgets/controls",
      "model_module_version": "1.2.0",
      "model_name": "DescriptionStyleModel",
      "state": {
       "description_width": ""
      }
     },
     "fca71ebf6e9644fead003aa83ddef98f": {
      "model_module": "@jupyter-widgets/base",
      "model_module_version": "1.0.0",
      "model_name": "LayoutModel",
      "state": {}
     },
     "fcecad8261b9447bafeac1d72a15814b": {
      "model_module": "@jupyter-widgets/base",
      "model_module_version": "1.0.0",
      "model_name": "LayoutModel",
      "state": {}
     },
     "fd527e321b5d4374a5b34494dcd18711": {
      "model_module": "@jupyter-widgets/controls",
      "model_module_version": "1.2.0",
      "model_name": "DescriptionStyleModel",
      "state": {
       "description_width": ""
      }
     },
     "fde1ebc49c9a4e54a2ba282a3254e462": {
      "model_module": "@jupyter-widgets/base",
      "model_module_version": "1.0.0",
      "model_name": "LayoutModel",
      "state": {}
     },
     "fdf65f16fee74616a47a373631355d31": {
      "model_module": "@jupyter-widgets/base",
      "model_module_version": "1.0.0",
      "model_name": "LayoutModel",
      "state": {}
     },
     "fe012bfd4894400caca178ac5abb694b": {
      "model_module": "@jupyter-widgets/controls",
      "model_module_version": "1.2.0",
      "model_name": "HBoxModel",
      "state": {
       "children": [
        "IPY_MODEL_e10532de7f34420e8f309eb1dbb15ae3",
        "IPY_MODEL_5de3d5b4029f448bb8db721a1a2afbab",
        "IPY_MODEL_31dabedb29b54745a143073ede3cdf7f"
       ],
       "layout": "IPY_MODEL_6bba77c06399467197663823e2cb824b"
      }
     },
     "fe8ab355fb3740339ebe3011d069b57e": {
      "model_module": "@jupyter-widgets/controls",
      "model_module_version": "1.2.0",
      "model_name": "IntSliderModel",
      "state": {
       "continuous_update": false,
       "description": "Year:",
       "layout": "IPY_MODEL_9f58b04ac5994e79ab95211b21e8736a",
       "max": 2017,
       "min": 2013,
       "style": "IPY_MODEL_1e139d49a78d434fbeee55bbb9892e7a",
       "value": 2017
      }
     },
     "fea4516aa63046eab83512ec5bfb5866": {
      "model_module": "@jupyter-widgets/controls",
      "model_module_version": "1.2.0",
      "model_name": "TextModel",
      "state": {
       "description": "Department:   ",
       "layout": "IPY_MODEL_678eab8b6a434efbb20af0a3eb532543",
       "style": "IPY_MODEL_84e1e7e1c8ea4253aa632d8a0620fdc4"
      }
     },
     "febe13b87ebb4b45b6908e30c02e45a6": {
      "model_module": "@jupyter-widgets/controls",
      "model_module_version": "1.2.0",
      "model_name": "DescriptionStyleModel",
      "state": {
       "description_width": ""
      }
     },
     "fee8e87188a845c88184b86216acf213": {
      "model_module": "@jupyter-widgets/controls",
      "model_module_version": "1.2.0",
      "model_name": "HBoxModel",
      "state": {
       "children": [
        "IPY_MODEL_84f1716ee638432ab2be4f0f1376f2c5",
        "IPY_MODEL_ebcd2c1cde3040b8bc8c2629c5dcfe2e",
        "IPY_MODEL_be966926edb84f78bd1ceb370585e83e"
       ],
       "layout": "IPY_MODEL_86992078e3bf461592b59805b57879cf"
      }
     },
     "ff1459f086e5428892d2fa81adf1d32c": {
      "model_module": "@jupyter-widgets/controls",
      "model_module_version": "1.2.0",
      "model_name": "DescriptionStyleModel",
      "state": {
       "description_width": ""
      }
     },
     "ff2cf1b56a7e420d923f05ef2a949837": {
      "model_module": "@jupyter-widgets/controls",
      "model_module_version": "1.2.0",
      "model_name": "TextModel",
      "state": {
       "description": "Department 3",
       "layout": "IPY_MODEL_a3cf71a895ba4a9bb8ffd4cdba515681",
       "style": "IPY_MODEL_ba1d3622f4234ea5b15aa698f1c4c310"
      }
     },
     "ff373f9c2c254fc582176295e30d4846": {
      "model_module": "@jupyter-widgets/base",
      "model_module_version": "1.0.0",
      "model_name": "LayoutModel",
      "state": {}
     },
     "ff660f20ff864d70b7eb9b46eec722af": {
      "model_module": "@jupyter-widgets/controls",
      "model_module_version": "1.2.0",
      "model_name": "DropdownModel",
      "state": {
       "_options_labels": [
        "PROF",
        "ASSOC PROF",
        "ASST PROF",
        "LECTURER",
        "ASSOC DIR",
        "CLIN ASST PROF",
        "SR LECTURER",
        "RES SCI",
        "RES ASST PROF",
        "SR RES SCI",
        "POSTDOC RES ASSOC",
        "CLIN PROF",
        "ASSOC PROF UNIV LIBRARY",
        "ASST PROF UNIV LIBRARY",
        "DEAN",
        "JL DOOB RES ASST PROF",
        "CLIN ASSOC PROF",
        "VST ASST PROF",
        "RES ASSOC PROF",
        "ASST DEAN",
        "RES PROF",
        "PROF (RT)"
       ],
       "description": "Job Title:",
       "index": 1,
       "layout": "IPY_MODEL_e17ebff38b634a60b14dd3c2a8ae4209",
       "style": "IPY_MODEL_f547f2c4ccc544128ff3ff4650d4b428"
      }
     },
     "ff6ad1277afb4a56a60fd5b9c5d7d01c": {
      "model_module": "@jupyter-widgets/controls",
      "model_module_version": "1.2.0",
      "model_name": "DescriptionStyleModel",
      "state": {
       "description_width": ""
      }
     },
     "ff7a080d290f4e9cbc2d60811901c7d2": {
      "model_module": "@jupyter-widgets/controls",
      "model_module_version": "1.2.0",
      "model_name": "TextModel",
      "state": {
       "description": "Department:   ",
       "layout": "IPY_MODEL_688b9458f8574422afe6b50ffb6f5354",
       "style": "IPY_MODEL_63f488adacb545a59d90eb7a96f1d4c3",
       "value": "Mathematics"
      }
     },
     "ff8b9938298943b0be19de9e0d95602b": {
      "model_module": "@jupyter-widgets/controls",
      "model_module_version": "1.2.0",
      "model_name": "SliderStyleModel",
      "state": {
       "description_width": ""
      }
     },
     "ffad35360fda44b58f6dc54f1492a0a3": {
      "model_module": "@jupyter-widgets/controls",
      "model_module_version": "1.2.0",
      "model_name": "DropdownModel",
      "state": {
       "_options_labels": [
        "Chicago",
        "Springfield",
        "Urbana-Champaign"
       ],
       "description": "Campus:",
       "index": 2,
       "layout": "IPY_MODEL_f02053d714214afb933183ad7c09da49",
       "style": "IPY_MODEL_4910a503ce0642f796b4efde18e9de2c"
      }
     },
     "ffc722cff5094832af75f5885dbea34b": {
      "model_module": "@jupyter-widgets/base",
      "model_module_version": "1.0.0",
      "model_name": "LayoutModel",
      "state": {}
     },
     "ffc9623f524047348e332ab3138044a2": {
      "model_module": "@jupyter-widgets/base",
      "model_module_version": "1.0.0",
      "model_name": "LayoutModel",
      "state": {}
     },
     "ffcf1209f8be4f8bb2dabb66618a93a8": {
      "model_module": "@jupyter-widgets/base",
      "model_module_version": "1.0.0",
      "model_name": "LayoutModel",
      "state": {}
     }
    },
    "version_major": 2,
    "version_minor": 0
   }
  }
 },
 "nbformat": 4,
 "nbformat_minor": 2
}

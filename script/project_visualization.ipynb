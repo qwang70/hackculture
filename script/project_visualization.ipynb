{
 "cells": [
  {
   "cell_type": "markdown",
   "metadata": {},
   "source": [
    "## Q1: What is the salary distribution of one department?\n",
    "1. createSalaryCompareHist with one department\n",
    "\n",
    "## Q2: What is the salary distribution across several department?\n",
    "1. createSalaryCompareHist with more than one department\n",
    "\n",
    "## Q3: What is the size of the department across several department?\n",
    "1. createFigDiffDepAndCampus\n",
    "\n",
    "## Q4: List the median salary of all department/all job in a campus\n",
    "1. createFigListAllDepSalary"
   ]
  },
  {
   "cell_type": "code",
   "execution_count": 1,
   "metadata": {},
   "outputs": [],
   "source": [
    "import numpy as np\n",
    "import pandas as pd\n",
    "import plotly\n",
    "import plotly.plotly as py\n",
    "from plotly.graph_objs import *\n",
    "import plotly.tools as tls\n",
    "plotly.tools.set_credentials_file(username='wangqiwen', api_key='8r40jKGvIemGyOP1PEZ1')"
   ]
  },
  {
   "cell_type": "code",
   "execution_count": 2,
   "metadata": {},
   "outputs": [],
   "source": [
    "# tls.get_embed('https://plot.ly/~chris/1638')\n",
    "# import csv data\n",
    "SalaryOverYears = pd.read_csv(\"../csv/SalaryOverYears.csv\")"
   ]
  },
  {
   "cell_type": "code",
   "execution_count": 3,
   "metadata": {},
   "outputs": [],
   "source": [
    "def getSalary(department, campus, year_col):\n",
    "    salary = SalaryOverYears.loc[\\\n",
    "                (SalaryOverYears['Department'] == department) \\\n",
    "                & (SalaryOverYears['Campus'] == campus), year_col].dropna()\n",
    "    return salary\n",
    "\n",
    "\n",
    "def createFigHist(departments, campus=\"Urbana-Champaign\", year = 2017):\n",
    "    # define year column\n",
    "    assert year >= 2013 and year <= 2017\n",
    "    year_col = \"Salary\" + str(year)\n",
    "    # get the salary\n",
    "    data = []\n",
    "    for dep in departments:\n",
    "        salary = getSalary(dep, campus, year_col)\n",
    "        data.append(Histogram(\n",
    "            x=salary,\n",
    "            histnorm='percent',\n",
    "            name=dep,\n",
    "            opacity=0.75\n",
    "        ))\n",
    "\n",
    "\n",
    "    layout = Layout(\n",
    "        title=' VS '.join(departments),\n",
    "        xaxis=dict(\n",
    "            title='Salary'\n",
    "        ),\n",
    "        yaxis=dict(\n",
    "            title='Percentage'\n",
    "        ),\n",
    "        #bargap=0.2,\n",
    "        bargroupgap=0.1\n",
    "    )\n",
    "    fig = Figure(data=data, layout=layout)\n",
    "    return fig\n",
    "\n",
    "def createFigDiffDepAndCampus(departments, campus, year=2017):\n",
    "    assert year >= 2013 and year <= 2017\n",
    "    assert len(departments) == len(campus)\n",
    "    year_col = \"Salary\" + str(year)\n",
    "    # get the salary\n",
    "    salary = []\n",
    "    for idx in range(len(departments)):\n",
    "        salary.append(getSalary(departments[idx], campus[idx], year_col).median())\n",
    "    # parameters used to create graph\n",
    "    labels = []\n",
    "    for idx in range(len(departments)):\n",
    "        labels.append(campus[idx] + \" - \" + departments[idx])\n",
    "    data = Pie(labels=labels, values=salary,\n",
    "           hoverinfo='label+percent', textinfo='value', \n",
    "           textfont=dict(size=20)\n",
    "           )\n",
    "    layout = Layout(\n",
    "        title= \"Median Salary Comparasion Across Department\",\n",
    "    )\n",
    "    fig = Figure(data=[data], layout=layout)\n",
    "    return fig\n",
    "    \n",
    "def createFigListAllDepSalary(campus = \"Urbana-Champaign\", year = 2017, showJob = False, top = None):\n",
    "    assert year >= 2013 and year <= 2017\n",
    "    year_col = \"Salary\" + str(year)\n",
    "    \n",
    "    if showJob:\n",
    "        # get the median salary of each job & department\n",
    "        gb = SalaryOverYears.loc[SalaryOverYears['Campus'] == campus, [\"Department\", \"JobTitle\",year_col]].dropna()\\\n",
    "                .groupby(['Department', 'JobTitle'])\n",
    "        sorted_depMedian = gb.median().sort_values(year_col, ascending = False)\n",
    "        x = sorted_depMedian[year_col].tolist()\n",
    "        y = [dj[1] + \" in \" + dj[0] for dj in sorted_depMedian.index.tolist()]\n",
    "        \n",
    "    else:\n",
    "        # get the median salary of each department\n",
    "        gb = SalaryOverYears.loc[SalaryOverYears['Campus'] == campus, [\"Department\", year_col]].dropna()\\\n",
    "                    .groupby(['Department'])\n",
    "        sorted_depMedian = gb.median().sort_values(year_col, ascending = False)\n",
    "        x = sorted_depMedian[year_col].tolist()\n",
    "        y = sorted_depMedian.index.tolist()\n",
    "        \n",
    "    # select top subset elements\n",
    "    if top:\n",
    "        x = x[:top]\n",
    "        y = y[:top]\n",
    "\n",
    "    x.reverse()\n",
    "    y.reverse()\n",
    "    data = [Bar(\n",
    "        y=y,\n",
    "        x=x,\n",
    "        name='Median Salary',\n",
    "        orientation = 'h',\n",
    "\n",
    "        marker=dict(\n",
    "            color='rgba(50, 171, 96, 0.7)',\n",
    "            line=dict(\n",
    "                color='rgba(50, 171, 96, 1.0)',\n",
    "            )\n",
    "        ),\n",
    "        opacity=0.75\n",
    "    )]\n",
    "    layout = Layout(\n",
    "        title= \"Median Salary of Each Department in {}\".format(campus),\n",
    "        margin=Margin(\n",
    "        l=360,\n",
    "        ),\n",
    "    )\n",
    "    fig = Figure(data=data, layout=layout)\n",
    "    return fig\n",
    "        "
   ]
  },
  {
   "cell_type": "code",
   "execution_count": 4,
   "metadata": {},
   "outputs": [
    {
     "data": {
      "text/html": [
       "<iframe id=\"igraph\" scrolling=\"no\" style=\"border:none;\" seamless=\"seamless\" src=\"https://plot.ly/~wangqiwen/8.embed\" height=\"525px\" width=\"100%\"></iframe>"
      ],
      "text/plain": [
       "<plotly.tools.PlotlyDisplay object>"
      ]
     },
     "execution_count": 4,
     "metadata": {},
     "output_type": "execute_result"
    }
   ],
   "source": [
    "# call the create fig function\n",
    "fig = createFigHist(['Information Sciences', 'History'])\n",
    "py.iplot(fig, filename='salaryHist3')"
   ]
  },
  {
   "cell_type": "code",
   "execution_count": 5,
   "metadata": {},
   "outputs": [
    {
     "data": {
      "text/html": [
       "<iframe id=\"igraph\" scrolling=\"no\" style=\"border:none;\" seamless=\"seamless\" src=\"https://plot.ly/~wangqiwen/10.embed\" height=\"525px\" width=\"100%\"></iframe>"
      ],
      "text/plain": [
       "<plotly.tools.PlotlyDisplay object>"
      ]
     },
     "execution_count": 5,
     "metadata": {},
     "output_type": "execute_result"
    }
   ],
   "source": [
    "fig = createFigHist(['Information Sciences'], year = 2017)\n",
    "py.iplot(fig, filename='salaryHistIS')"
   ]
  },
  {
   "cell_type": "code",
   "execution_count": 6,
   "metadata": {},
   "outputs": [
    {
     "data": {
      "text/html": [
       "<iframe id=\"igraph\" scrolling=\"no\" style=\"border:none;\" seamless=\"seamless\" src=\"https://plot.ly/~wangqiwen/14.embed\" height=\"525px\" width=\"100%\"></iframe>"
      ],
      "text/plain": [
       "<plotly.tools.PlotlyDisplay object>"
      ]
     },
     "execution_count": 6,
     "metadata": {},
     "output_type": "execute_result"
    }
   ],
   "source": [
    "# Q3: What is the size of Computer Science Science department across UIC, UIS, UIUC?\n",
    "fig = createFigDiffDepAndCampus(['Computer Science']*3, \\\n",
    "                          [\"Chicago\", \"Springfield\", \"Urbana-Champaign\"], year=2017)\n",
    "py.iplot(fig, filename='salaryPieCS')"
   ]
  },
  {
   "cell_type": "code",
   "execution_count": 7,
   "metadata": {},
   "outputs": [
    {
     "data": {
      "text/html": [
       "<iframe id=\"igraph\" scrolling=\"no\" style=\"border:none;\" seamless=\"seamless\" src=\"https://plot.ly/~wangqiwen/16.embed\" height=\"525px\" width=\"100%\"></iframe>"
      ],
      "text/plain": [
       "<plotly.tools.PlotlyDisplay object>"
      ]
     },
     "execution_count": 7,
     "metadata": {},
     "output_type": "execute_result"
    }
   ],
   "source": [
    "# Q3: What is the size of Information Science department across UIC, UIS, UIUC?\n",
    "ig = createFigDiffDepAndCampus(\\\n",
    "        [\"Information/Decision Sciences\", \"Management Information Systems\", \"Information Sciences\"], \\\n",
    "        [\"Chicago\", \"Springfield\", \"Urbana-Champaign\"], year=2017)\n",
    "py.iplot(fig, filename='salaryPieIS')"
   ]
  },
  {
   "cell_type": "code",
   "execution_count": 8,
   "metadata": {
    "scrolled": true
   },
   "outputs": [
    {
     "data": {
      "text/html": [
       "<iframe id=\"igraph\" scrolling=\"no\" style=\"border:none;\" seamless=\"seamless\" src=\"https://plot.ly/~wangqiwen/18.embed\" height=\"525px\" width=\"100%\"></iframe>"
      ],
      "text/plain": [
       "<plotly.tools.PlotlyDisplay object>"
      ]
     },
     "execution_count": 8,
     "metadata": {},
     "output_type": "execute_result"
    }
   ],
   "source": [
    "fig = createFigListAllDepSalary(top=25)\n",
    "py.iplot(fig, filename='listSalaryBar')"
   ]
  },
  {
   "cell_type": "code",
   "execution_count": 9,
   "metadata": {},
   "outputs": [
    {
     "data": {
      "text/html": [
       "<iframe id=\"igraph\" scrolling=\"no\" style=\"border:none;\" seamless=\"seamless\" src=\"https://plot.ly/~wangqiwen/20.embed\" height=\"525px\" width=\"100%\"></iframe>"
      ],
      "text/plain": [
       "<plotly.tools.PlotlyDisplay object>"
      ]
     },
     "execution_count": 9,
     "metadata": {},
     "output_type": "execute_result"
    }
   ],
   "source": [
    "fig = createFigListAllDepSalary(showJob=True, top=50)\n",
    "py.iplot(fig, filename='listSalaryBarJob')"
   ]
  },
  {
   "cell_type": "code",
   "execution_count": null,
   "metadata": {},
   "outputs": [],
   "source": []
  }
 ],
 "metadata": {
  "kernelspec": {
   "display_name": "Python 3",
   "language": "python",
   "name": "python3"
  },
  "language_info": {
   "codemirror_mode": {
    "name": "ipython",
    "version": 3
   },
   "file_extension": ".py",
   "mimetype": "text/x-python",
   "name": "python",
   "nbconvert_exporter": "python",
   "pygments_lexer": "ipython3",
   "version": "3.6.4"
  }
 },
 "nbformat": 4,
 "nbformat_minor": 2
}

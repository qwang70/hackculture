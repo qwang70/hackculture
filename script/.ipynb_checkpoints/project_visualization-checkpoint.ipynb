{
 "cells": [
  {
   "cell_type": "markdown",
   "metadata": {},
   "source": [
    "## Q1: What is the salary distribution of one department?\n",
    "1. createSalaryCompareHist with one department\n",
    "\n",
    "## Q2: What is the salary distribution across several department?\n",
    "1. createSalaryCompareHist with more than one department\n",
    "\n",
    "## Q3: What is the size of the department across several department?\n",
    "1. createFigDiffDepAndCampus\n",
    "\n",
    "## Q4: List the median salary of all department/all job in a campus\n",
    "1. createFigListAllDepSalary"
   ]
  },
  {
   "cell_type": "code",
   "execution_count": 1,
   "metadata": {},
   "outputs": [
    {
     "data": {
      "application/javascript": [
       "window.genUID = function() {\n",
       "    return 'xxxxxxxx-xxxx-4xxx-yxxx-xxxxxxxxxxxx'.replace(/[xy]/g, function(c) {\n",
       "        var r = Math.random()*16|0, v = c == 'x' ? r : (r&0x3|0x8);\n",
       "        return v.toString(16);\n",
       "    });\n",
       "};\n",
       "\n",
       "\n",
       "define('graphWidget', [\"@jupyter-widgets/base\"], function (widget) {\n",
       "\n",
       "    var GraphView = widget.DOMWidgetView.extend({\n",
       "        render: function(){\n",
       "            var that = this;\n",
       "\n",
       "            var graphId = window.genUID();\n",
       "            var loadingId = 'loading-'+graphId;\n",
       "\n",
       "\n",
       "            var _graph_url = that.model.get('_graph_url');\n",
       "\n",
       "            // variable plotlyDomain in the case of enterprise\n",
       "            var url_parts = _graph_url.split('/');\n",
       "            var plotlyDomain = url_parts[0] + '//' + url_parts[2];\n",
       "\n",
       "            if(!('plotlyDomains' in window)){\n",
       "                window.plotlyDomains = {};\n",
       "            }\n",
       "            window.plotlyDomains[graphId] = plotlyDomain;\n",
       "\n",
       "            // Place IFrame in output cell div `$el`\n",
       "            that.$el.css('width', '100%');\n",
       "            that.$graph = $(['<iframe id=\"'+graphId+'\"',\n",
       "                             'src=\"'+_graph_url+'.embed\"',\n",
       "                             'seamless',\n",
       "                             'style=\"border: none;\"',\n",
       "                             'width=\"100%\"',\n",
       "                             'height=\"600\">',\n",
       "                             '</iframe>'].join(' '));\n",
       "            that.$graph.appendTo(that.$el);\n",
       "\n",
       "            that.$loading = $('<div id=\"'+loadingId+'\">Initializing...</div>')\n",
       "                            .appendTo(that.$el);\n",
       "\n",
       "            // for some reason the 'width' is being changed in IPython 3.0.0\n",
       "            // for the containing `div` element. There's a flicker here, but\n",
       "            // I was unable to fix it otherwise.\n",
       "            setTimeout(function ()  {\n",
       "                if (IPYTHON_VERSION === '3') {\n",
       "                    $('#' + graphId)[0].parentElement.style.width = '100%';\n",
       "                }\n",
       "            }, 500);\n",
       "\n",
       "            // initialize communication with the iframe\n",
       "            if(!('pingers' in window)){\n",
       "                window.pingers = {};\n",
       "            }\n",
       "\n",
       "            window.pingers[graphId] = setInterval(function() {\n",
       "                that.graphContentWindow = $('#'+graphId)[0].contentWindow;\n",
       "                that.graphContentWindow.postMessage({task: 'ping'}, plotlyDomain);\n",
       "            }, 200);\n",
       "\n",
       "            // Assign a message listener to the 'message' events\n",
       "            // from iframe's postMessage protocol.\n",
       "            // Filter the messages by iframe src so that the right message\n",
       "            // gets passed to the right widget\n",
       "            if(!('messageListeners' in window)){\n",
       "                 window.messageListeners = {};\n",
       "            }\n",
       "\n",
       "            window.messageListeners[graphId] = function(e) {\n",
       "                if(_graph_url.indexOf(e.origin)>-1) {\n",
       "                    var frame = document.getElementById(graphId);\n",
       "\n",
       "                    if(frame === null){\n",
       "                        // frame doesn't exist in the dom anymore, clean up it's old event listener\n",
       "                        window.removeEventListener('message', window.messageListeners[graphId]);\n",
       "                        clearInterval(window.pingers[graphId]);\n",
       "                    } else if(frame.contentWindow === e.source) {\n",
       "                        // TODO: Stop event propagation, so each frame doesn't listen and filter\n",
       "                        var frameContentWindow = $('#'+graphId)[0].contentWindow;\n",
       "                        var message = e.data;\n",
       "\n",
       "                        if('pong' in message && message.pong) {\n",
       "                            $('#loading-'+graphId).hide();\n",
       "                            clearInterval(window.pingers[graphId]);\n",
       "                            that.send({event: 'pong', graphId: graphId});\n",
       "                        } else if (message.type==='hover' ||\n",
       "                                   message.type==='zoom'  ||\n",
       "                                   message.type==='click' ||\n",
       "                                   message.type==='unhover') {\n",
       "\n",
       "                            // click and hover events contain all of the data in the traces,\n",
       "                            // which can be a very large object and may take a ton of time\n",
       "                            // to pass to the python backend. Strip out the data, and require\n",
       "                            // the user to call get_figure if they need trace information\n",
       "                            if(message.type !== 'zoom') {\n",
       "                                for(var i in message.points) {\n",
       "                                    delete message.points[i].data;\n",
       "                                    delete message.points[i].fullData;\n",
       "                                }\n",
       "                            }\n",
       "                            that.send({event: message.type, message: message, graphId: graphId});\n",
       "                        } else if (message.task === 'getAttributes') {\n",
       "                            that.send({event: 'getAttributes', response: message.response});\n",
       "                        }\n",
       "                    }\n",
       "                }\n",
       "            };\n",
       "\n",
       "            window.removeEventListener('message', window.messageListeners[graphId]);\n",
       "            window.addEventListener('message', window.messageListeners[graphId]);\n",
       "\n",
       "        },\n",
       "\n",
       "        update: function() {\n",
       "            // Listen for messages from the graph widget in python\n",
       "            var jmessage = this.model.get('_message');\n",
       "            var message = JSON.parse(jmessage);\n",
       "\n",
       "            // check for duplicate messages\n",
       "            if(!('messageIds' in window)){\n",
       "                window.messageIds = {};\n",
       "            }\n",
       "\n",
       "            if(!(message.uid in window.messageIds)){\n",
       "                // message hasn't been received yet, do stuff\n",
       "                window.messageIds[message.uid] = true;\n",
       "\n",
       "                if (message.fadeTo) {\n",
       "                    this.fadeTo(message);\n",
       "                } else {\n",
       "                    var plot = $('#' + message.graphId)[0].contentWindow;\n",
       "                    plot.postMessage(message, window.plotlyDomains[message.graphId]);\n",
       "                }\n",
       "            }\n",
       "\n",
       "            return GraphView.__super__.update.apply(this);\n",
       "        },\n",
       "\n",
       "        /**\n",
       "         * Wrapper for jquery's `fadeTo` function.\n",
       "         *\n",
       "         * @param message Contains the id we need to find the element.\n",
       "         */\n",
       "        fadeTo: function (message) {\n",
       "            var plot = $('#' + message.graphId);\n",
       "            plot.fadeTo(message.duration, message.opacity);\n",
       "        }\n",
       "    });\n",
       "\n",
       "    // Register the GraphView with the widget manager.\n",
       "    return {\n",
       "        GraphView: GraphView\n",
       "    }\n",
       "\n",
       "});\n",
       "\n",
       "//@ sourceURL=graphWidget.js\n"
      ],
      "text/plain": [
       "<IPython.core.display.Javascript object>"
      ]
     },
     "metadata": {},
     "output_type": "display_data"
    }
   ],
   "source": [
    "import numpy as np\n",
    "import pandas as pd\n",
    "import plotly\n",
    "import plotly.plotly as py\n",
    "from plotly.graph_objs import *\n",
    "import plotly.tools as tls\n",
    "\n",
    "from ipywidgets import widgets \n",
    "from IPython.display import display, clear_output, Image\n",
    "from plotly.widgets import GraphWidget\n",
    "\n",
    "plotly.tools.set_credentials_file(username='wangqiwen', api_key='8r40jKGvIemGyOP1PEZ1')"
   ]
  },
  {
   "cell_type": "code",
   "execution_count": 2,
   "metadata": {},
   "outputs": [],
   "source": [
    "# tls.get_embed('https://plot.ly/~chris/1638')\n",
    "# import csv data\n",
    "SalaryOverYears = pd.read_csv(\"../csv/SalaryOverYears.csv\")"
   ]
  },
  {
   "cell_type": "code",
   "execution_count": 30,
   "metadata": {},
   "outputs": [],
   "source": [
    "def getSalary(department, campus, year_col):\n",
    "    salary = SalaryOverYears.loc[\\\n",
    "                (SalaryOverYears['Department'] == department) \\\n",
    "                & (SalaryOverYears['Campus'] == campus), year_col].dropna()\n",
    "    return salary\n",
    "\n",
    "\n",
    "def createFigHist(departments, campus=\"Urbana-Champaign\", year = 2017):\n",
    "    # define year column\n",
    "    assert year >= 2013 and year <= 2017\n",
    "    year_col = \"Salary\" + str(year)\n",
    "    # get the salary\n",
    "    data = []\n",
    "    for dep in departments:\n",
    "        salary = getSalary(dep, campus, year_col)\n",
    "        data.append(Histogram(\n",
    "            x=salary,\n",
    "            histnorm='percent',\n",
    "            name=dep,\n",
    "            opacity=0.75\n",
    "        ))\n",
    "\n",
    "\n",
    "    layout = Layout(\n",
    "        title='Salary Range of Faculty in {}'.format(' & '.join(departments)),\n",
    "        xaxis=dict(\n",
    "            title='Salary'\n",
    "        ),\n",
    "        yaxis=dict(\n",
    "            title='Percentage of Faculty'\n",
    "        ),\n",
    "        #bargap=0.2,\n",
    "        bargroupgap=0.1\n",
    "    )\n",
    "    fig = Figure(data=data, layout=layout)\n",
    "    return fig\n",
    "\n",
    "def createFigDiffDepAndCampus(departments, campus, year=2017):\n",
    "    assert year >= 2013 and year <= 2017\n",
    "    assert len(departments) == len(campus)\n",
    "    year_col = \"Salary\" + str(year)\n",
    "    # get the salary\n",
    "    populationSize = []\n",
    "    labels = []\n",
    "    for idx in range(len(departments)):\n",
    "        salary = getSalary(departments[idx], campus[idx], year_col)\n",
    "        populationSize.append(len(salary))\n",
    "        median = salary.median()\n",
    "        labels.append('{} - {}<br>Median Salary: {}'.format(campus[idx], departments[idx], int(median)))\n",
    "    # parameters used to create graph\n",
    "        \n",
    "    data = Pie(labels=labels, values=populationSize,\n",
    "           hoverinfo='label+percent', textinfo='value', \n",
    "           textfont=dict(size=20)\n",
    "           )\n",
    "    layout = Layout(\n",
    "        title= \"Department Size Comparasion Across Different Campus\",\n",
    "    )\n",
    "    fig = Figure(data=[data], layout=layout)\n",
    "    return fig\n",
    "    \n",
    "def createFigListAllDepSalary(campus = \"Urbana-Champaign\", year = 2017, showJob = False, top = None):\n",
    "    assert year >= 2013 and year <= 2017\n",
    "    year_col = \"Salary\" + str(year)\n",
    "    \n",
    "    if showJob:\n",
    "        # get the median salary of each job & department\n",
    "        gb = SalaryOverYears.loc[SalaryOverYears['Campus'] == campus, [\"Department\", \"JobTitle\",year_col]].dropna()\\\n",
    "                .groupby(['Department', 'JobTitle'])\n",
    "        sorted_depMedian = gb.median().sort_values(year_col, ascending = False)\n",
    "        x = sorted_depMedian[year_col].tolist()\n",
    "        y = [dj[1] + \" in \" + dj[0] for dj in sorted_depMedian.index.tolist()]\n",
    "        \n",
    "    else:\n",
    "        # get the median salary of each department\n",
    "        gb = SalaryOverYears.loc[SalaryOverYears['Campus'] == campus, [\"Department\", year_col]].dropna()\\\n",
    "                    .groupby(['Department'])\n",
    "        sorted_depMedian = gb.median().sort_values(year_col, ascending = False)\n",
    "        x = sorted_depMedian[year_col].tolist()\n",
    "        y = sorted_depMedian.index.tolist()\n",
    "        \n",
    "    # select top subset elements\n",
    "    if top:\n",
    "        x = x[:top]\n",
    "        y = y[:top]\n",
    "\n",
    "    x.reverse()\n",
    "    y.reverse()\n",
    "    data = [Bar(\n",
    "        y=y,\n",
    "        x=x,\n",
    "        name='Median Salary',\n",
    "        orientation = 'h',\n",
    "\n",
    "        marker=dict(\n",
    "            color='rgba(50, 171, 96, 0.7)',\n",
    "            line=dict(\n",
    "                color='rgba(50, 171, 96, 1.0)',\n",
    "            )\n",
    "        ),\n",
    "        opacity=0.75\n",
    "    )]\n",
    "    layout = Layout(\n",
    "        title= \"Median Salary of Each Department in {}\".format(campus),\n",
    "        margin=Margin(\n",
    "        l=360,\n",
    "        ),\n",
    "    )\n",
    "    fig = Figure(data=data, layout=layout)\n",
    "    return fig\n",
    "        "
   ]
  },
  {
   "cell_type": "code",
   "execution_count": 70,
   "metadata": {},
   "outputs": [],
   "source": []
  },
  {
   "cell_type": "code",
   "execution_count": 73,
   "metadata": {},
   "outputs": [
    {
     "data": {
      "application/vnd.jupyter.widget-view+json": {
       "model_id": "1bc00b2886fa4331aca888b8fe96cec8",
       "version_major": 2,
       "version_minor": 0
      },
      "text/plain": [
       "HBox(children=(Dropdown(description='Campus:', index=2, options=('Chicago', 'Springfield', 'Urbana-Champaign')…"
      ]
     },
     "metadata": {},
     "output_type": "display_data"
    },
    {
     "data": {
      "application/vnd.jupyter.widget-view+json": {
       "model_id": "de695b9c61524b9aa0f6c0aee258c22b",
       "version_major": 2,
       "version_minor": 0
      },
      "text/plain": [
       "GraphWidget()"
      ]
     },
     "metadata": {},
     "output_type": "display_data"
    }
   ],
   "source": [
    "# Assign an emptry graph widget with two traces\n",
    "g_salary_dist = GraphWidget(salaryHist_url)\n",
    "\n",
    "# the widget for the distribution of the salary\n",
    "salary_dist_year_container = widgets.IntSlider(\n",
    "    value=2017,\n",
    "    min=2013,\n",
    "    max=2017,\n",
    "    step=1,\n",
    "    description='Year:',\n",
    "    continuous_update = False\n",
    ")\n",
    "\n",
    "salary_dist_department_one_textbox = widgets.Text(\n",
    "    description='Department:   ',\n",
    "    value='Mathematics',\n",
    ")\n",
    "\n",
    "salary_dist_campus_dropdown = widgets.Dropdown(\n",
    "    options=[\"Chicago\", \"Springfield\", \"Urbana-Champaign\"],\n",
    "    value='Urbana-Champaign',\n",
    "    description='Campus:',\n",
    ")\n",
    "\n",
    "\n",
    "def response_salary_dist(change):\n",
    "    year = salary_dist_year_container.value\n",
    "    department = [salary_dist_department_one_textbox.value]\n",
    "    campus = salary_dist_campus_dropdown.value\n",
    "    fig = createFigHist(department, campus=campus, year=year)\n",
    "    if len(fig.data[0].x) > 0:\n",
    "        g_salary_dist.restyle({'x': [list(fig.data[0].x)], \"name\": fig.data[0].name})\n",
    "        g_salary_dist.relayout(fig.layout)\n",
    "\n",
    "# invoke changes\n",
    "salary_dist_year_container.observe(response_salary_dist, names=\"value\")\n",
    "salary_dist_department_one_textbox.observe(response_salary_dist, names=\"value\")\n",
    "salary_dist_campus_dropdown.observe(response_salary_dist, names=\"value\")\n",
    "\n",
    "# define layout container\n",
    "salary_dist_container = widgets.HBox([salary_dist_campus_dropdown, salary_dist_department_one_textbox, salary_dist_year_container])\n",
    "display(salary_dist_container)\n",
    "display(g_salary_dist)"
   ]
  },
  {
   "cell_type": "code",
   "execution_count": 72,
   "metadata": {},
   "outputs": [
    {
     "data": {
      "application/vnd.jupyter.widget-view+json": {
       "model_id": "7d6ab773db5d4a10a572781edbff24a2",
       "version_major": 2,
       "version_minor": 0
      },
      "text/plain": [
       "HBox(children=(Dropdown(description='Campus:', index=2, options=('Chicago', 'Springfield', 'Urbana-Champaign')…"
      ]
     },
     "metadata": {},
     "output_type": "display_data"
    },
    {
     "data": {
      "application/vnd.jupyter.widget-view+json": {
       "model_id": "17ba6659373f4d2a82442523493943fc",
       "version_major": 2,
       "version_minor": 0
      },
      "text/plain": [
       "GraphWidget()"
      ]
     },
     "metadata": {},
     "output_type": "display_data"
    },
    {
     "name": "stdout",
     "output_type": "stream",
     "text": [
      "{'name': 'value', 'old': 'Urbana-Champaign', 'new': 'Springfield', 'owner': Dropdown(description='Campus:', index=1, options=('Chicago', 'Springfield', 'Urbana-Champaign'), value='Springfield'), 'type': 'change'}\n",
      "fig.data[0] {'type': 'histogram', 'x': Series([], Name: Salary2017, dtype: float64), 'histnorm': 'percent', 'name': 'Mathematics', 'opacity': 0.75}\n",
      "{'name': 'value', 'old': 'Springfield', 'new': 'Urbana-Champaign', 'owner': Dropdown(description='Campus:', index=2, options=('Chicago', 'Springfield', 'Urbana-Champaign'), value='Urbana-Champaign'), 'type': 'change'}\n",
      "fig.data[0] {'type': 'histogram', 'x': 4350    122879.00\n",
      "4351    102002.00\n",
      "4352     90675.00\n",
      "4353    134234.00\n",
      "4354     45900.00\n",
      "4357    125001.96\n",
      "4359     87849.00\n",
      "4360    151853.04\n",
      "4361     52200.00\n",
      "4362    100921.00\n",
      "4363     91000.00\n",
      "4364    119213.04\n",
      "4365    121751.00\n",
      "4368     52000.00\n",
      "4369     52000.00\n",
      "4370     52200.00\n",
      "4371    143118.00\n",
      "4372    110739.00\n",
      "4373     91360.96\n",
      "4374    161571.00\n",
      "4375     88000.00\n",
      "4376    139821.00\n",
      "4377    103819.04\n",
      "4378    102329.04\n",
      "4379     52200.00\n",
      "4380    121545.00\n",
      "4381    106460.00\n",
      "4382    130317.00\n",
      "4387     53000.00\n",
      "4388     87911.95\n",
      "          ...    \n",
      "4416     53523.00\n",
      "4417     52200.00\n",
      "4418    129218.00\n",
      "4420    101482.07\n",
      "4422     92093.00\n",
      "4423    115585.00\n",
      "4424     94292.04\n",
      "4425     64612.00\n",
      "4426     87013.03\n",
      "4427     90424.00\n",
      "4428    102330.00\n",
      "4429    116616.04\n",
      "4430    126937.00\n",
      "4432    140328.04\n",
      "4438    116891.00\n",
      "4439     90675.00\n",
      "4441    122351.04\n",
      "4442     52000.00\n",
      "4443     90909.00\n",
      "4444    103211.00\n",
      "4445    117641.00\n",
      "4446     99626.00\n",
      "4448    156646.00\n",
      "4449     52200.00\n",
      "4450    127278.08\n",
      "4452     52200.00\n",
      "4453    115535.00\n",
      "4454    117328.04\n",
      "4455     52200.00\n",
      "4456    101096.04\n",
      "Name: Salary2017, Length: 83, dtype: float64, 'histnorm': 'percent', 'name': 'Mathematics', 'opacity': 0.75}\n",
      "{'name': 'value', 'old': 2017, 'new': 2016, 'owner': IntSlider(value=2016, continuous_update=False, description='Year:', max=2017, min=2013), 'type': 'change'}\n",
      "fig.data[0] {'type': 'histogram', 'x': 4350    121060.00\n",
      "4351     88803.00\n",
      "4352     90000.00\n",
      "4353    125310.00\n",
      "4357    116400.00\n",
      "4359     86080.00\n",
      "4360    150877.04\n",
      "4361     52000.00\n",
      "4362    100224.00\n",
      "4363     91000.00\n",
      "4364    118191.04\n",
      "4365    120569.00\n",
      "4370     52000.00\n",
      "4371    142025.00\n",
      "4372     99975.00\n",
      "4373     84999.96\n",
      "4374    160363.00\n",
      "4376    135522.00\n",
      "4377    103440.04\n",
      "4378    101685.04\n",
      "4379     52000.00\n",
      "4380    120201.00\n",
      "4381     93403.00\n",
      "4382    129247.00\n",
      "4387     50000.00\n",
      "4388     87733.95\n",
      "4389     90000.00\n",
      "4390     88418.00\n",
      "4391    135027.00\n",
      "4392     97983.00\n",
      "          ...    \n",
      "4423     97730.00\n",
      "4424     93948.04\n",
      "4425     63345.00\n",
      "4426     87013.03\n",
      "4427     87000.00\n",
      "4428     97000.00\n",
      "4429    107606.04\n",
      "4430    126142.00\n",
      "4432    139323.04\n",
      "4433     52000.00\n",
      "4434     52000.00\n",
      "4436    129701.00\n",
      "4437    131187.00\n",
      "4438    115818.00\n",
      "4439     90000.00\n",
      "4441    120836.04\n",
      "4442     52000.00\n",
      "4443     90000.00\n",
      "4444    102776.00\n",
      "4445    110915.00\n",
      "4446     94525.00\n",
      "4448    155834.00\n",
      "4449     52000.00\n",
      "4450    126851.08\n",
      "4451     52557.00\n",
      "4452     52000.00\n",
      "4453     98911.00\n",
      "4454    116447.04\n",
      "4455     52000.00\n",
      "4456    100341.04\n",
      "Name: Salary2016, Length: 84, dtype: float64, 'histnorm': 'percent', 'name': 'Mathematics', 'opacity': 0.75}\n"
     ]
    }
   ],
   "source": []
  },
  {
   "cell_type": "code",
   "execution_count": 4,
   "metadata": {},
   "outputs": [
    {
     "data": {
      "text/html": [
       "<iframe id=\"igraph\" scrolling=\"no\" style=\"border:none;\" seamless=\"seamless\" src=\"https://plot.ly/~wangqiwen/8.embed\" height=\"525px\" width=\"100%\"></iframe>"
      ],
      "text/plain": [
       "<plotly.tools.PlotlyDisplay object>"
      ]
     },
     "execution_count": 4,
     "metadata": {},
     "output_type": "execute_result"
    }
   ],
   "source": [
    "# call the create fig function\n",
    "fig = createFigHist(['Information Sciences', 'History'])\n",
    "py.iplot(fig, filename='salaryHist3')"
   ]
  },
  {
   "cell_type": "code",
   "execution_count": 75,
   "metadata": {},
   "outputs": [
    {
     "data": {
      "application/vnd.jupyter.widget-view+json": {
       "model_id": "50fbe6ac4b404c0eb82ca10ebab92a71",
       "version_major": 2,
       "version_minor": 0
      },
      "text/plain": [
       "HBox(children=(Dropdown(description='Campus:', index=2, options=('Chicago', 'Springfield', 'Urbana-Champaign')…"
      ]
     },
     "metadata": {},
     "output_type": "display_data"
    },
    {
     "data": {
      "application/vnd.jupyter.widget-view+json": {
       "model_id": "38fdc45ecc9148b0b3351b449388851f",
       "version_major": 2,
       "version_minor": 0
      },
      "text/plain": [
       "GraphWidget()"
      ]
     },
     "metadata": {},
     "output_type": "display_data"
    }
   ],
   "source": [
    "fig = createFigHist(['Information Sciences'], year = 2017)\n",
    "salaryHist = py.iplot(fig, filename='salaryHist')\n",
    "salaryHist_url = salaryHist.resource\n",
    "\n",
    "# Assign an emptry graph widget with two traces\n",
    "g_salary_dist = GraphWidget(salaryHist_url)\n",
    "\n",
    "# the widget for the distribution of the salary\n",
    "salary_dist_year_container = widgets.IntSlider(\n",
    "    value=2017,\n",
    "    min=2013,\n",
    "    max=2017,\n",
    "    step=1,\n",
    "    description='Year:',\n",
    "    continuous_update = False\n",
    ")\n",
    "\n",
    "salary_dist_department_one_textbox = widgets.Text(\n",
    "    description='Department:   ',\n",
    "    value='Mathematics',\n",
    ")\n",
    "\n",
    "salary_dist_campus_dropdown = widgets.Dropdown(\n",
    "    options=[\"Chicago\", \"Springfield\", \"Urbana-Champaign\"],\n",
    "    value='Urbana-Champaign',\n",
    "    description='Campus:',\n",
    ")\n",
    "\n",
    "\n",
    "def response_salary_dist(change):\n",
    "    year = salary_dist_year_container.value\n",
    "    department = [salary_dist_department_one_textbox.value]\n",
    "    campus = salary_dist_campus_dropdown.value\n",
    "    fig = createFigHist(department, campus=campus, year=year)\n",
    "    if len(fig.data[0].x) > 0:\n",
    "        g_salary_dist.restyle({'x': [list(fig.data[0].x)], \"name\": fig.data[0].name})\n",
    "        g_salary_dist.relayout(fig.layout)\n",
    "\n",
    "# invoke changes\n",
    "salary_dist_year_container.observe(response_salary_dist, names=\"value\")\n",
    "salary_dist_department_one_textbox.observe(response_salary_dist, names=\"value\")\n",
    "salary_dist_campus_dropdown.observe(response_salary_dist, names=\"value\")\n",
    "\n",
    "# define layout container\n",
    "salary_dist_container = widgets.HBox([salary_dist_campus_dropdown, salary_dist_department_one_textbox, salary_dist_year_container])\n",
    "display(salary_dist_container)\n",
    "display(g_salary_dist)"
   ]
  },
  {
   "cell_type": "code",
   "execution_count": 6,
   "metadata": {},
   "outputs": [
    {
     "data": {
      "text/html": [
       "<iframe id=\"igraph\" scrolling=\"no\" style=\"border:none;\" seamless=\"seamless\" src=\"https://plot.ly/~wangqiwen/14.embed\" height=\"525px\" width=\"100%\"></iframe>"
      ],
      "text/plain": [
       "<plotly.tools.PlotlyDisplay object>"
      ]
     },
     "execution_count": 6,
     "metadata": {},
     "output_type": "execute_result"
    }
   ],
   "source": [
    "# Q3: What is the size of Computer Science Science department across UIC, UIS, UIUC?\n",
    "fig = createFigDiffDepAndCampus(['Computer Science']*3, \\\n",
    "                          [\"Chicago\", \"Springfield\", \"Urbana-Champaign\"], year=2017)\n",
    "py.iplot(fig, filename='salaryPieCS')"
   ]
  },
  {
   "cell_type": "code",
   "execution_count": 7,
   "metadata": {},
   "outputs": [
    {
     "data": {
      "text/html": [
       "<iframe id=\"igraph\" scrolling=\"no\" style=\"border:none;\" seamless=\"seamless\" src=\"https://plot.ly/~wangqiwen/16.embed\" height=\"525px\" width=\"100%\"></iframe>"
      ],
      "text/plain": [
       "<plotly.tools.PlotlyDisplay object>"
      ]
     },
     "execution_count": 7,
     "metadata": {},
     "output_type": "execute_result"
    }
   ],
   "source": [
    "# Q3: What is the size of Information Science department across UIC, UIS, UIUC?\n",
    "fig = createFigDiffDepAndCampus(\\\n",
    "        [\"Information/Decision Sciences\", \"Management Information Systems\", \"Information Sciences\"], \\\n",
    "        [\"Chicago\", \"Springfield\", \"Urbana-Champaign\"], year=2017)\n",
    "py.iplot(fig, filename='salaryPieIS')"
   ]
  },
  {
   "cell_type": "code",
   "execution_count": 10,
   "metadata": {
    "scrolled": true
   },
   "outputs": [
    {
     "data": {
      "text/html": [
       "<iframe id=\"igraph\" scrolling=\"no\" style=\"border:none;\" seamless=\"seamless\" src=\"https://plot.ly/~wangqiwen/18.embed\" height=\"525px\" width=\"100%\"></iframe>"
      ],
      "text/plain": [
       "<plotly.tools.PlotlyDisplay object>"
      ]
     },
     "execution_count": 10,
     "metadata": {},
     "output_type": "execute_result"
    }
   ],
   "source": [
    "fig = createFigListAllDepSalary(top=50)\n",
    "py.iplot(fig, filename='listSalaryBar')"
   ]
  },
  {
   "cell_type": "code",
   "execution_count": 4,
   "metadata": {},
   "outputs": [
    {
     "data": {
      "text/html": [
       "<iframe id=\"igraph\" scrolling=\"no\" style=\"border:none;\" seamless=\"seamless\" src=\"https://plot.ly/~wangqiwen/20.embed\" height=\"525px\" width=\"100%\"></iframe>"
      ],
      "text/plain": [
       "<plotly.tools.PlotlyDisplay object>"
      ]
     },
     "execution_count": 4,
     "metadata": {},
     "output_type": "execute_result"
    }
   ],
   "source": [
    "fig = createFigListAllDepSalary(showJob=True, top=10)\n",
    "py.iplot(fig, filename='listSalaryBarJob')"
   ]
  },
  {
   "cell_type": "code",
   "execution_count": null,
   "metadata": {},
   "outputs": [],
   "source": []
  }
 ],
 "metadata": {
  "kernelspec": {
   "display_name": "Python 3",
   "language": "python",
   "name": "python3"
  },
  "language_info": {
   "codemirror_mode": {
    "name": "ipython",
    "version": 3
   },
   "file_extension": ".py",
   "mimetype": "text/x-python",
   "name": "python",
   "nbconvert_exporter": "python",
   "pygments_lexer": "ipython3",
   "version": "3.6.4"
  }
 },
 "nbformat": 4,
 "nbformat_minor": 2
}
